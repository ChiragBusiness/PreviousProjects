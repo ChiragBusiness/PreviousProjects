{
 "cells": [
  {
   "cell_type": "code",
   "execution_count": 194,
   "metadata": {},
   "outputs": [],
   "source": [
    "#import Pool\n",
    "from multiprocessing import Pool\n"
   ]
  },
  {
   "cell_type": "code",
   "execution_count": 195,
   "metadata": {},
   "outputs": [],
   "source": [
    "import numpy as np"
   ]
  },
  {
   "cell_type": "code",
   "execution_count": 196,
   "metadata": {},
   "outputs": [],
   "source": [
    "import importlib"
   ]
  },
  {
   "cell_type": "code",
   "execution_count": 197,
   "metadata": {},
   "outputs": [],
   "source": [
    "import functions"
   ]
  },
  {
   "cell_type": "code",
   "execution_count": 198,
   "metadata": {},
   "outputs": [],
   "source": [
    "import time"
   ]
  },
  {
   "cell_type": "code",
   "execution_count": 206,
   "metadata": {},
   "outputs": [],
   "source": [
    "try:\n",
    "    importlib.reload(functions)\n",
    "except:\n",
    "    import functions"
   ]
  },
  {
   "cell_type": "code",
   "execution_count": 208,
   "metadata": {},
   "outputs": [],
   "source": [
    "y = 3"
   ]
  },
  {
   "cell_type": "code",
   "execution_count": 209,
   "metadata": {},
   "outputs": [
    {
     "ename": "NameError",
     "evalue": "name 'y' is not defined",
     "output_type": "error",
     "traceback": [
      "\u001b[1;31m---------------------------------------------------------------------------\u001b[0m",
      "\u001b[1;31mNameError\u001b[0m                                 Traceback (most recent call last)",
      "\u001b[1;32m<ipython-input-209-c4b23c7bb198>\u001b[0m in \u001b[0;36m<module>\u001b[1;34m\u001b[0m\n\u001b[1;32m----> 1\u001b[1;33m \u001b[0mfunctions\u001b[0m\u001b[1;33m.\u001b[0m\u001b[0mworker\u001b[0m\u001b[1;33m(\u001b[0m\u001b[0ma\u001b[0m\u001b[1;33m)\u001b[0m\u001b[1;33m\u001b[0m\u001b[1;33m\u001b[0m\u001b[0m\n\u001b[0m",
      "\u001b[1;32m~\\Machine learning\\Version1(oct2021)\\functions.py\u001b[0m in \u001b[0;36mworker\u001b[1;34m(x)\u001b[0m\n\u001b[0;32m      8\u001b[0m \u001b[1;33m\u001b[0m\u001b[0m\n\u001b[0;32m      9\u001b[0m         \u001b[0mcontainer\u001b[0m \u001b[1;33m=\u001b[0m \u001b[0mnp\u001b[0m\u001b[1;33m.\u001b[0m\u001b[0mappend\u001b[0m\u001b[1;33m(\u001b[0m\u001b[0mcontainer\u001b[0m\u001b[1;33m,\u001b[0m \u001b[0mi\u001b[0m\u001b[1;33m*\u001b[0m\u001b[0mi\u001b[0m\u001b[1;33m)\u001b[0m\u001b[1;33m\u001b[0m\u001b[1;33m\u001b[0m\u001b[0m\n\u001b[1;32m---> 10\u001b[1;33m         \u001b[0mcontainer\u001b[0m \u001b[1;33m=\u001b[0m \u001b[0mnp\u001b[0m\u001b[1;33m.\u001b[0m\u001b[0mappend\u001b[0m\u001b[1;33m(\u001b[0m\u001b[0mcontainer\u001b[0m\u001b[1;33m,\u001b[0m \u001b[0my\u001b[0m\u001b[1;33m)\u001b[0m\u001b[1;33m\u001b[0m\u001b[1;33m\u001b[0m\u001b[0m\n\u001b[0m\u001b[0;32m     11\u001b[0m \u001b[1;33m\u001b[0m\u001b[0m\n\u001b[0;32m     12\u001b[0m     \u001b[1;32mreturn\u001b[0m \u001b[0mcontainer\u001b[0m\u001b[1;33m\u001b[0m\u001b[1;33m\u001b[0m\u001b[0m\n",
      "\u001b[1;31mNameError\u001b[0m: name 'y' is not defined"
     ]
    }
   ],
   "source": [
    "functions.worker(a)"
   ]
  },
  {
   "cell_type": "code",
   "execution_count": 177,
   "metadata": {},
   "outputs": [],
   "source": [
    "#Assuming you want to use 3 processors\n",
    "num_processors = 12\n"
   ]
  },
  {
   "cell_type": "code",
   "execution_count": 178,
   "metadata": {},
   "outputs": [],
   "source": [
    "#Create a pool of processors\n",
    "p=Pool(processes = num_processors)\n"
   ]
  },
  {
   "cell_type": "code",
   "execution_count": 202,
   "metadata": {},
   "outputs": [],
   "source": [
    "a = np.arange(1000)\n"
   ]
  },
  {
   "cell_type": "code",
   "execution_count": 182,
   "metadata": {},
   "outputs": [
    {
     "name": "stderr",
     "output_type": "stream",
     "text": [
      "C:\\Users\\Chirag\\Machine learning\\Version1(oct2021)\\functions.py:8: RuntimeWarning: overflow encountered in long_scalars\n",
      "  return container\n"
     ]
    },
    {
     "name": "stdout",
     "output_type": "stream",
     "text": [
      "20.748656034469604\n"
     ]
    }
   ],
   "source": [
    "start_time = time.time()\n",
    "\n",
    "q = np.array([])\n",
    "for i in [a]:\n",
    "    q = np.append(q, functions.worker(3,i))\n",
    "    \n",
    "print(time.time() - start_time)"
   ]
  },
  {
   "cell_type": "code",
   "execution_count": null,
   "metadata": {},
   "outputs": [],
   "source": []
  },
  {
   "cell_type": "code",
   "execution_count": 183,
   "metadata": {},
   "outputs": [],
   "source": [
    "tasks = np.array_split(a,12)"
   ]
  },
  {
   "cell_type": "code",
   "execution_count": 184,
   "metadata": {},
   "outputs": [],
   "source": [
    "qz = np.ones(len(tasks))[:] \n",
    "qz[:] = 3"
   ]
  },
  {
   "cell_type": "code",
   "execution_count": 185,
   "metadata": {},
   "outputs": [
    {
     "data": {
      "text/plain": [
       "array([3., 3., 3., 3., 3., 3., 3., 3., 3., 3., 3., 3.])"
      ]
     },
     "execution_count": 185,
     "metadata": {},
     "output_type": "execute_result"
    }
   ],
   "source": [
    "qz"
   ]
  },
  {
   "cell_type": "code",
   "execution_count": 186,
   "metadata": {},
   "outputs": [],
   "source": [
    "obj = zip(qz, tasks)"
   ]
  },
  {
   "cell_type": "code",
   "execution_count": 187,
   "metadata": {},
   "outputs": [
    {
     "data": {
      "text/plain": [
       "<zip at 0x28963aac580>"
      ]
     },
     "execution_count": 187,
     "metadata": {},
     "output_type": "execute_result"
    }
   ],
   "source": [
    "obj"
   ]
  },
  {
   "cell_type": "code",
   "execution_count": 188,
   "metadata": {},
   "outputs": [
    {
     "name": "stdout",
     "output_type": "stream",
     "text": [
      "0.7371652126312256\n"
     ]
    }
   ],
   "source": [
    "#get them to work in parallel\n",
    "start_time = time.time()\n",
    "output = p.starmap(functions.worker,obj)\n",
    "\n",
    "print(time.time() - start_time)"
   ]
  },
  {
   "cell_type": "code",
   "execution_count": 189,
   "metadata": {},
   "outputs": [
    {
     "data": {
      "text/plain": [
       "[array([0.0000000e+00, 3.0000000e+00, 1.0000000e+00, ..., 3.0000000e+00,\n",
       "        6.9438889e+07, 3.0000000e+00]),\n",
       " array([6.94555560e+07, 3.00000000e+00, 6.94722250e+07, ...,\n",
       "        3.00000000e+00, 2.77788889e+08, 3.00000000e+00]),\n",
       " array([2.77822224e+08, 3.00000000e+00, 2.77855561e+08, ...,\n",
       "        3.00000000e+00, 6.25050001e+08, 3.00000000e+00]),\n",
       " array([6.25100004e+08, 3.00000000e+00, 6.25150009e+08, ...,\n",
       "        3.00000000e+00, 1.11122222e+09, 3.00000000e+00]),\n",
       " array([1.11128890e+09, 3.00000000e+00, 1.11135557e+09, ...,\n",
       "        3.00000000e+00, 1.73622222e+09, 3.00000000e+00]),\n",
       " array([ 1.73630556e+09,  3.00000000e+00,  1.73638890e+09, ...,\n",
       "         3.00000000e+00, -1.79486730e+09,  3.00000000e+00]),\n",
       " array([-1.79476729e+09,  3.00000000e+00, -1.79466729e+09, ...,\n",
       "         3.00000000e+00, -8.92111740e+08,  3.00000000e+00]),\n",
       " array([-8.91995071e+08,  3.00000000e+00, -8.91878400e+08, ...,\n",
       "         3.00000000e+00,  1.49521593e+08,  3.00000000e+00]),\n",
       " array([1.49654928e+08, 3.00000000e+00, 1.49788265e+08, ...,\n",
       "        3.00000000e+00, 1.33003270e+09, 3.00000000e+00]),\n",
       " array([ 1.33018270e+09,  3.00000000e+00,  1.33033271e+09, ...,\n",
       "         3.00000000e+00, -1.64554570e+09,  3.00000000e+00]),\n",
       " array([-1.64537904e+09,  3.00000000e+00, -1.64521237e+09, ...,\n",
       "         3.00000000e+00, -1.87279036e+08,  3.00000000e+00]),\n",
       " array([-1.87095703e+08,  3.00000000e+00, -1.86912368e+08, ...,\n",
       "         3.00000000e+00,  1.40986541e+09,  3.00000000e+00])]"
      ]
     },
     "execution_count": 189,
     "metadata": {},
     "output_type": "execute_result"
    }
   ],
   "source": [
    "for i in output:\n",
    "    np"
   ]
  },
  {
   "cell_type": "code",
   "execution_count": 161,
   "metadata": {},
   "outputs": [
    {
     "data": {
      "text/plain": [
       "[]"
      ]
     },
     "execution_count": 161,
     "metadata": {},
     "output_type": "execute_result"
    }
   ],
   "source": [
    "output"
   ]
  },
  {
   "cell_type": "code",
   "execution_count": 113,
   "metadata": {},
   "outputs": [
    {
     "data": {
      "text/plain": [
       "[]"
      ]
     },
     "execution_count": 113,
     "metadata": {},
     "output_type": "execute_result"
    }
   ],
   "source": [
    "output"
   ]
  },
  {
   "cell_type": "code",
   "execution_count": 40,
   "metadata": {},
   "outputs": [
    {
     "name": "stdout",
     "output_type": "stream",
     "text": [
      "0.0\n"
     ]
    },
    {
     "name": "stderr",
     "output_type": "stream",
     "text": [
      "<ipython-input-40-0fb5d7bf2227>:3: VisibleDeprecationWarning: Creating an ndarray from ragged nested sequences (which is a list-or-tuple of lists-or-tuples-or ndarrays with different lengths or shapes) is deprecated. If you meant to do this, you must specify 'dtype=object' when creating the ndarray\n",
      "  result = np.array(output)\n"
     ]
    }
   ],
   "source": [
    "start_time = time.time()\n",
    "\n",
    "result = np.array(output)\n",
    "\n",
    "print(time.time() - start_time)"
   ]
  },
  {
   "cell_type": "code",
   "execution_count": 72,
   "metadata": {},
   "outputs": [
    {
     "data": {
      "text/plain": [
       "[array([0.0000000e+00, 1.0000000e+00, 4.0000000e+00, ..., 6.9405561e+07,\n",
       "        6.9422224e+07, 6.9438889e+07]),\n",
       " array([6.94555560e+07, 6.94722250e+07, 6.94888960e+07, ...,\n",
       "        2.77722225e+08, 2.77755556e+08, 2.77788889e+08]),\n",
       " array([2.77822224e+08, 2.77855561e+08, 2.77888900e+08, ...,\n",
       "        6.24950001e+08, 6.25000000e+08, 6.25050001e+08]),\n",
       " array([6.25100004e+08, 6.25150009e+08, 6.25200016e+08, ...,\n",
       "        1.11108889e+09, 1.11115556e+09, 1.11122222e+09]),\n",
       " array([1.11128890e+09, 1.11135557e+09, 1.11142224e+09, ...,\n",
       "        1.73605556e+09, 1.73613889e+09, 1.73622222e+09]),\n",
       " array([ 1.73630556e+09,  1.73638890e+09,  1.73647224e+09, ...,\n",
       "        -1.79506730e+09, -1.79496730e+09, -1.79486730e+09]),\n",
       " array([-1.79476729e+09, -1.79466729e+09, -1.79456728e+09, ...,\n",
       "        -8.92345072e+08, -8.92228407e+08, -8.92111740e+08]),\n",
       " array([-8.91995071e+08, -8.91878400e+08, -8.91761727e+08, ...,\n",
       "         1.49254929e+08,  1.49388260e+08,  1.49521593e+08]),\n",
       " array([1.49654928e+08, 1.49788265e+08, 1.49921604e+08, ...,\n",
       "        1.32973271e+09, 1.32988270e+09, 1.33003270e+09]),\n",
       " array([ 1.33018270e+09,  1.33033271e+09,  1.33048271e+09, ...,\n",
       "        -1.64587903e+09, -1.64571237e+09, -1.64554570e+09]),\n",
       " array([-1.64537904e+09, -1.64521237e+09, -1.64504570e+09, ...,\n",
       "        -1.87645696e+08, -1.87462367e+08, -1.87279036e+08]),\n",
       " array([-1.87095703e+08, -1.86912368e+08, -1.86729031e+08, ...,\n",
       "         1.40946542e+09,  1.40966541e+09,  1.40986541e+09])]"
      ]
     },
     "execution_count": 72,
     "metadata": {},
     "output_type": "execute_result"
    }
   ],
   "source": [
    "output"
   ]
  },
  {
   "cell_type": "code",
   "execution_count": 190,
   "metadata": {},
   "outputs": [
    {
     "name": "stdout",
     "output_type": "stream",
     "text": [
      "0.0030007362365722656\n"
     ]
    },
    {
     "data": {
      "text/plain": [
       "'\\n;lsdfl;sd;lf,\\n\\n;ls'"
      ]
     },
     "execution_count": 190,
     "metadata": {},
     "output_type": "execute_result"
    }
   ],
   "source": [
    "z = np.array([])\n",
    "start_time = time.time()\n",
    "for i in output:\n",
    "    z = np.append(z, i)\n",
    "print(time.time() - start_time)\n",
    "\"\"\"\n",
    ";lsdfl;sd;lf,\n",
    "\n",
    ";ls\"\"\""
   ]
  },
  {
   "cell_type": "code",
   "execution_count": 193,
   "metadata": {},
   "outputs": [
    {
     "data": {
      "text/plain": [
       "0"
      ]
     },
     "execution_count": 193,
     "metadata": {},
     "output_type": "execute_result"
    }
   ],
   "source": [
    "np.sum(z != q)"
   ]
  },
  {
   "cell_type": "code",
   "execution_count": null,
   "metadata": {},
   "outputs": [],
   "source": []
  }
 ],
 "metadata": {
  "kernelspec": {
   "display_name": "Python 3",
   "language": "python",
   "name": "python3"
  },
  "language_info": {
   "codemirror_mode": {
    "name": "ipython",
    "version": 3
   },
   "file_extension": ".py",
   "mimetype": "text/x-python",
   "name": "python",
   "nbconvert_exporter": "python",
   "pygments_lexer": "ipython3",
   "version": "3.8.5"
  }
 },
 "nbformat": 4,
 "nbformat_minor": 4
}
