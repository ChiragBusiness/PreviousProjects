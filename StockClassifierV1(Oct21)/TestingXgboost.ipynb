{
 "cells": [
  {
   "cell_type": "code",
   "execution_count": 1,
   "metadata": {},
   "outputs": [],
   "source": [
    "import pandas as pd\n",
    "import numpy as np\n",
    "import xgboost"
   ]
  },
  {
   "cell_type": "code",
   "execution_count": 16,
   "metadata": {},
   "outputs": [],
   "source": [
    "import time"
   ]
  },
  {
   "cell_type": "code",
   "execution_count": 22,
   "metadata": {},
   "outputs": [],
   "source": [
    "import functions"
   ]
  },
  {
   "cell_type": "code",
   "execution_count": null,
   "metadata": {},
   "outputs": [],
   "source": []
  },
  {
   "cell_type": "code",
   "execution_count": 23,
   "metadata": {},
   "outputs": [
    {
     "data": {
      "text/plain": [
       "<module 'functions' from 'C:\\\\Users\\\\Chirag\\\\Machine learning\\\\Version1(oct2021)\\\\functions.py'>"
      ]
     },
     "execution_count": 23,
     "metadata": {},
     "output_type": "execute_result"
    }
   ],
   "source": [
    "import importlib\n",
    "importlib.reload(functions)\n"
   ]
  },
  {
   "cell_type": "code",
   "execution_count": null,
   "metadata": {},
   "outputs": [],
   "source": []
  },
  {
   "cell_type": "code",
   "execution_count": 2,
   "metadata": {},
   "outputs": [],
   "source": [
    "X_train = pd.read_pickle(\"test_df/X_train\")"
   ]
  },
  {
   "cell_type": "code",
   "execution_count": 4,
   "metadata": {},
   "outputs": [],
   "source": [
    "Y_train = pd.read_pickle(\"test_df/Y_train\")"
   ]
  },
  {
   "cell_type": "code",
   "execution_count": 5,
   "metadata": {},
   "outputs": [],
   "source": [
    "X_test = pd.read_pickle(\"test_df/X_test\")"
   ]
  },
  {
   "cell_type": "code",
   "execution_count": 6,
   "metadata": {},
   "outputs": [],
   "source": [
    "Y_test = pd.read_pickle(\"test_df/Y_test\")"
   ]
  },
  {
   "cell_type": "code",
   "execution_count": null,
   "metadata": {},
   "outputs": [],
   "source": []
  },
  {
   "cell_type": "code",
   "execution_count": 8,
   "metadata": {},
   "outputs": [],
   "source": [
    "features1 = pd.read_pickle(\"training_sets/features1\")"
   ]
  },
  {
   "cell_type": "code",
   "execution_count": 10,
   "metadata": {},
   "outputs": [],
   "source": [
    "Date1 = np.load(\"training_sets/Date1.npy\", allow_pickle = True)"
   ]
  },
  {
   "cell_type": "code",
   "execution_count": 11,
   "metadata": {},
   "outputs": [],
   "source": [
    "Tickers1 = np.load(\"training_sets/Tickers1.npy\", allow_pickle = True)"
   ]
  },
  {
   "cell_type": "code",
   "execution_count": null,
   "metadata": {},
   "outputs": [],
   "source": []
  },
  {
   "cell_type": "code",
   "execution_count": 12,
   "metadata": {},
   "outputs": [],
   "source": [
    "cols_trials = []\n",
    "for i in range(33):\n",
    "    \n",
    "    cols_trials.append(np.random.choice(features1.columns[:-2], np.random.randint(5, 31), replace = False))"
   ]
  },
  {
   "cell_type": "code",
   "execution_count": 13,
   "metadata": {},
   "outputs": [
    {
     "data": {
      "text/plain": [
       "array(['close_160/Close_320', 'close_0/Close_160', 'EV/Sales_QC',\n",
       "       'Price to Sales Ratio (quarterly)_QC', 'close_20/Close_240',\n",
       "       'volstd_320',\n",
       "       'Net Cash from Operating Activities/Cash & Cash Equivalents',\n",
       "       'Free Cash Flow/Revenue_YC', 'Total Assets/Total Liabilities_QC',\n",
       "       'close_0/Close_10', 'AROON_40'], dtype=object)"
      ]
     },
     "execution_count": 13,
     "metadata": {},
     "output_type": "execute_result"
    }
   ],
   "source": [
    "cols_trials[0]"
   ]
  },
  {
   "cell_type": "code",
   "execution_count": 25,
   "metadata": {},
   "outputs": [],
   "source": [
    "def make_portfolio(portfolio_length, prob_predictions_0, X_test):\n",
    "    \n",
    "    \n",
    "    \n",
    "    indexes_of_0 = np.argsort(prob_predictions_0)[::-1][:portfolio_length]\n",
    "    \n",
    "    portfolio = list(X_test.iloc[indexes_of_0].index)\n",
    "\n",
    "    return portfolio"
   ]
  },
  {
   "cell_type": "code",
   "execution_count": null,
   "metadata": {},
   "outputs": [],
   "source": []
  },
  {
   "cell_type": "code",
   "execution_count": 37,
   "metadata": {},
   "outputs": [],
   "source": [
    "params1 = {\n",
    "  'colsample_bynode': 0.6,\n",
    "    'colsample_bytree' : 0.6,\n",
    "    'colsample_bylevel' : 0.5,\n",
    "  'learning_rate': 1,\n",
    "  'max_depth': 3,\n",
    "  'num_parallel_tree': 60,\n",
    "  'objective': 'multi:softprob',\n",
    "  'subsample': 0.9,\n",
    "'num_class' : 2,\n",
    "  'tree_method': 'gpu_hist',\n",
    "    \"verbosity\" : 0,\n",
    "    \"lambda\" : 1,\n",
    "    \"alpha\" : 0\n",
    "}"
   ]
  },
  {
   "cell_type": "code",
   "execution_count": 123,
   "metadata": {},
   "outputs": [],
   "source": [
    "start_time = time.perf_counter()"
   ]
  },
  {
   "cell_type": "code",
   "execution_count": 38,
   "metadata": {},
   "outputs": [
    {
     "name": "stdout",
     "output_type": "stream",
     "text": [
      "0.6067325000001347\n"
     ]
    }
   ],
   "source": [
    "\n",
    "start_time = time.perf_counter()\n",
    "\n",
    "X_train, X_test, Y_train, Y_test = make_dataset(features1, 200, 40, 600, Date1, cols_trials[0], \"Class_binary_40_20\")\n",
    "\n",
    "\n",
    "xgtrain = xgboost.DMatrix(X_train.values, Y_train.values, feature_names = cols_trials[0])\n",
    "xgtest = xgboost.DMatrix(X_test.values, feature_names = cols_trials[0])\n",
    "\n",
    "\n",
    "bst = xgboost.train(params1, xgtrain, num_boost_round = 1 )\n",
    "\n",
    "portfolio = make_portfolio(8, bst.predict(xgtest)[:,0],  X_test)\n",
    "\n",
    "actual_return = [features1.loc[Date1[400], j][\"return_40\"] for j in portfolio]\n",
    "\n",
    "print(time.perf_counter() - start_time)\n",
    "        \n"
   ]
  },
  {
   "cell_type": "code",
   "execution_count": null,
   "metadata": {},
   "outputs": [],
   "source": [
    "\"\"\"\n",
    "gpu hist: 0.574\n",
    "exact: 3.935\n",
    "hist: 0.82\n",
    "approx: 3.428\n",
    "\n",
    "\n",
    "\n",
    "\"\"\"\n",
    "\n"
   ]
  },
  {
   "cell_type": "code",
   "execution_count": 40,
   "metadata": {},
   "outputs": [
    {
     "data": {
      "text/plain": [
       "7.649568262211877"
      ]
     },
     "execution_count": 40,
     "metadata": {},
     "output_type": "execute_result"
    }
   ],
   "source": [
    "np.mean(actual_return)"
   ]
  },
  {
   "cell_type": "code",
   "execution_count": null,
   "metadata": {},
   "outputs": [],
   "source": []
  }
 ],
 "metadata": {
  "kernelspec": {
   "display_name": "Python 3",
   "language": "python",
   "name": "python3"
  },
  "language_info": {
   "codemirror_mode": {
    "name": "ipython",
    "version": 3
   },
   "file_extension": ".py",
   "mimetype": "text/x-python",
   "name": "python",
   "nbconvert_exporter": "python",
   "pygments_lexer": "ipython3",
   "version": "3.8.5"
  }
 },
 "nbformat": 4,
 "nbformat_minor": 4
}
