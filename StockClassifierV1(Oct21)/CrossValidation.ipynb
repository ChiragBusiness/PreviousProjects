{
 "cells": [
  {
   "cell_type": "code",
   "execution_count": 1,
   "metadata": {},
   "outputs": [],
   "source": [
    "import pandas as pd\n",
    "import numpy as np\n",
    "\n",
    "import matplotlib.pyplot as plt\n",
    "\n",
    "import xgboost\n",
    "\n",
    "from functions import make_dataset\n",
    "\n",
    "from functions import make_portfolio\n",
    "\n",
    "from sklearn.utils import shuffle\n",
    "\n",
    "import time\n",
    "\n",
    "import pickle"
   ]
  },
  {
   "cell_type": "code",
   "execution_count": 2,
   "metadata": {},
   "outputs": [],
   "source": [
    "features2 = pd.read_pickle(\"training_sets/features2\")"
   ]
  },
  {
   "cell_type": "code",
   "execution_count": 3,
   "metadata": {},
   "outputs": [],
   "source": [
    "Date2 = np.load(\"training_sets/Date2.npy\", allow_pickle = True)"
   ]
  },
  {
   "cell_type": "code",
   "execution_count": 4,
   "metadata": {},
   "outputs": [],
   "source": [
    "Tickers2 = np.load(\"training_sets/Tickers2.npy\", allow_pickle = True)"
   ]
  },
  {
   "cell_type": "code",
   "execution_count": null,
   "metadata": {},
   "outputs": [],
   "source": []
  },
  {
   "cell_type": "code",
   "execution_count": 5,
   "metadata": {},
   "outputs": [],
   "source": [
    "with open('Training_window_test/top_50.pkl', 'rb') as f:\n",
    "    top_50 = pickle.load(f)"
   ]
  },
  {
   "cell_type": "code",
   "execution_count": 6,
   "metadata": {},
   "outputs": [],
   "source": [
    "cols = np.random.choice(top_50, 25, replace = False)"
   ]
  },
  {
   "cell_type": "code",
   "execution_count": null,
   "metadata": {},
   "outputs": [],
   "source": []
  },
  {
   "cell_type": "code",
   "execution_count": 7,
   "metadata": {},
   "outputs": [],
   "source": [
    "params1 = {\n",
    "  'colsample_bynode': 0.6,\n",
    "    'colsample_bytree' : 0.6,\n",
    "    'colsample_bylevel' : 0.5,\n",
    "  'learning_rate': 0.3,\n",
    "  'max_depth': 3,\n",
    "  'num_parallel_tree': 100,\n",
    "  'objective': 'multi:softprob',\n",
    "  'subsample': 0.9,\n",
    "'num_class' : 2,\n",
    "  'tree_method': 'gpu_hist',\n",
    "    \"verbosity\" : 0,\n",
    "    \"lambda\" : 1,\n",
    "    \"alpha\" : 0\n",
    "}"
   ]
  },
  {
   "cell_type": "code",
   "execution_count": 8,
   "metadata": {},
   "outputs": [],
   "source": [
    "def make_dataset_eval(df, training_window, prediction_window, eval_size, prediction_date_number, Date_array, cols, pred_col):\n",
    "    \n",
    "    training_period = Date_array[prediction_date_number - training_window - prediction_window + 1: prediction_date_number - prediction_window +1]\n",
    "\n",
    "    prediction_period = Date_array[prediction_date_number :prediction_date_number + eval_size + 1]\n",
    "    \n",
    "    X_train = shuffle(df.loc[training_period, np.append(cols, pred_col)])\n",
    "    X_train = X_train.replace([np.inf, -np.inf], np.NaN)\n",
    "    X_train = X_train.dropna(axis = 0)\n",
    "\n",
    "    Y_train = X_train.pop(pred_col)\n",
    "    \n",
    "    X_test = shuffle(df.loc[prediction_period, np.append(cols, pred_col)])\n",
    "    X_test = X_test.replace([np.inf, -np.inf], np.NaN)\n",
    "    X_test = X_test.dropna(axis = 0)\n",
    "    \n",
    "    Y_test = X_test.pop(pred_col)\n",
    "    \n",
    "    return X_train, X_test, Y_train, Y_test"
   ]
  },
  {
   "cell_type": "code",
   "execution_count": 9,
   "metadata": {},
   "outputs": [],
   "source": [
    "X_train, X_test, Y_train, Y_test = make_dataset_eval(features2, 200, 40, 35, 430, Date2, cols, \"Class_binary_40_20\")"
   ]
  },
  {
   "cell_type": "code",
   "execution_count": 10,
   "metadata": {},
   "outputs": [],
   "source": [
    "weights = Y_train.map({0:19, 1:1})"
   ]
  },
  {
   "cell_type": "code",
   "execution_count": 13,
   "metadata": {},
   "outputs": [],
   "source": [
    "xgtrain = xgboost.DMatrix(X_train.values, Y_train.values, feature_names = cols, weight = weights)\n",
    "\n",
    "xgeval = xgboost.DMatrix(X_test.values, Y_test.values, feature_names = cols)"
   ]
  },
  {
   "cell_type": "code",
   "execution_count": 32,
   "metadata": {},
   "outputs": [
    {
     "name": "stdout",
     "output_type": "stream",
     "text": [
      "[0]\ttrain-mlogloss:0.64311+0.00014\ttest-mlogloss:0.64349+0.00063\n",
      "[1]\ttrain-mlogloss:0.60923+0.00038\ttest-mlogloss:0.60999+0.00104\n",
      "[2]\ttrain-mlogloss:0.58512+0.00055\ttest-mlogloss:0.58620+0.00138\n",
      "[3]\ttrain-mlogloss:0.56703+0.00062\ttest-mlogloss:0.56841+0.00175\n",
      "[4]\ttrain-mlogloss:0.55278+0.00072\ttest-mlogloss:0.55444+0.00202\n",
      "[5]\ttrain-mlogloss:0.54165+0.00076\ttest-mlogloss:0.54356+0.00228\n",
      "[6]\ttrain-mlogloss:0.53262+0.00075\ttest-mlogloss:0.53476+0.00247\n",
      "[7]\ttrain-mlogloss:0.52513+0.00076\ttest-mlogloss:0.52748+0.00262\n",
      "[8]\ttrain-mlogloss:0.51876+0.00081\ttest-mlogloss:0.52135+0.00272\n",
      "[9]\ttrain-mlogloss:0.51328+0.00082\ttest-mlogloss:0.51609+0.00283\n"
     ]
    }
   ],
   "source": [
    "cvbst = xgboost.cv(params = params1, dtrain = xgtrain, num_boost_round = 10, nfold = 5, metrics = \"mlogloss\", verbose_eval=True, shuffle = False)"
   ]
  },
  {
   "cell_type": "code",
   "execution_count": 23,
   "metadata": {},
   "outputs": [
    {
     "data": {
      "text/plain": [
       "array([1., 1., 1., ..., 1., 1., 1.], dtype=float32)"
      ]
     },
     "execution_count": 23,
     "metadata": {},
     "output_type": "execute_result"
    }
   ],
   "source": [
    "xgtrain.get_label()"
   ]
  },
  {
   "cell_type": "code",
   "execution_count": 30,
   "metadata": {},
   "outputs": [
    {
     "data": {
      "text/plain": [
       "array([], dtype=uint32)"
      ]
     },
     "execution_count": 30,
     "metadata": {},
     "output_type": "execute_result"
    }
   ],
   "source": [
    "xgtrain.get_uint_info('group_ptr')"
   ]
  },
  {
   "cell_type": "code",
   "execution_count": 31,
   "metadata": {},
   "outputs": [
    {
     "data": {
      "text/plain": [
       "254456"
      ]
     },
     "execution_count": 31,
     "metadata": {},
     "output_type": "execute_result"
    }
   ],
   "source": [
    "xgtrain.num_row()"
   ]
  },
  {
   "cell_type": "code",
   "execution_count": 25,
   "metadata": {},
   "outputs": [
    {
     "ename": "AttributeError",
     "evalue": "'DataFrame' object has no attribute 'predict'",
     "output_type": "error",
     "traceback": [
      "\u001b[1;31m---------------------------------------------------------------------------\u001b[0m",
      "\u001b[1;31mAttributeError\u001b[0m                            Traceback (most recent call last)",
      "\u001b[1;32m<ipython-input-25-88ad1e6add10>\u001b[0m in \u001b[0;36m<module>\u001b[1;34m\u001b[0m\n\u001b[1;32m----> 1\u001b[1;33m \u001b[0mpredt\u001b[0m \u001b[1;33m=\u001b[0m \u001b[0mcvbst\u001b[0m\u001b[1;33m.\u001b[0m\u001b[0mpredict\u001b[0m\u001b[1;33m(\u001b[0m\u001b[0mxgeval\u001b[0m\u001b[1;33m)\u001b[0m\u001b[1;33m\u001b[0m\u001b[1;33m\u001b[0m\u001b[0m\n\u001b[0m",
      "\u001b[1;32m~\\anaconda3\\lib\\site-packages\\pandas\\core\\generic.py\u001b[0m in \u001b[0;36m__getattr__\u001b[1;34m(self, name)\u001b[0m\n\u001b[0;32m   5137\u001b[0m             \u001b[1;32mif\u001b[0m \u001b[0mself\u001b[0m\u001b[1;33m.\u001b[0m\u001b[0m_info_axis\u001b[0m\u001b[1;33m.\u001b[0m\u001b[0m_can_hold_identifiers_and_holds_name\u001b[0m\u001b[1;33m(\u001b[0m\u001b[0mname\u001b[0m\u001b[1;33m)\u001b[0m\u001b[1;33m:\u001b[0m\u001b[1;33m\u001b[0m\u001b[1;33m\u001b[0m\u001b[0m\n\u001b[0;32m   5138\u001b[0m                 \u001b[1;32mreturn\u001b[0m \u001b[0mself\u001b[0m\u001b[1;33m[\u001b[0m\u001b[0mname\u001b[0m\u001b[1;33m]\u001b[0m\u001b[1;33m\u001b[0m\u001b[1;33m\u001b[0m\u001b[0m\n\u001b[1;32m-> 5139\u001b[1;33m             \u001b[1;32mreturn\u001b[0m \u001b[0mobject\u001b[0m\u001b[1;33m.\u001b[0m\u001b[0m__getattribute__\u001b[0m\u001b[1;33m(\u001b[0m\u001b[0mself\u001b[0m\u001b[1;33m,\u001b[0m \u001b[0mname\u001b[0m\u001b[1;33m)\u001b[0m\u001b[1;33m\u001b[0m\u001b[1;33m\u001b[0m\u001b[0m\n\u001b[0m\u001b[0;32m   5140\u001b[0m \u001b[1;33m\u001b[0m\u001b[0m\n\u001b[0;32m   5141\u001b[0m     \u001b[1;32mdef\u001b[0m \u001b[0m__setattr__\u001b[0m\u001b[1;33m(\u001b[0m\u001b[0mself\u001b[0m\u001b[1;33m,\u001b[0m \u001b[0mname\u001b[0m\u001b[1;33m:\u001b[0m \u001b[0mstr\u001b[0m\u001b[1;33m,\u001b[0m \u001b[0mvalue\u001b[0m\u001b[1;33m)\u001b[0m \u001b[1;33m->\u001b[0m \u001b[1;32mNone\u001b[0m\u001b[1;33m:\u001b[0m\u001b[1;33m\u001b[0m\u001b[1;33m\u001b[0m\u001b[0m\n",
      "\u001b[1;31mAttributeError\u001b[0m: 'DataFrame' object has no attribute 'predict'"
     ]
    }
   ],
   "source": [
    "predt = cvbst.predict(xgeval)"
   ]
  },
  {
   "cell_type": "code",
   "execution_count": 18,
   "metadata": {},
   "outputs": [],
   "source": [
    "def return_metric(predt: np.ndarray, dtrain: xgboost.DMatrix):\n",
    "    \n",
    "    try:\n",
    "        \n",
    "        labels = dtrain.get_label()\n",
    "        np.argsort(predt[:,0])[::-1][:100]\n",
    "\n",
    "        c = np.mean[np.argsort(predt[:,0])[::-1][:100]])\n",
    "\n",
    "        return 'avg_return', float(c)\n",
    "    \n",
    "    except:\n",
    "        \n",
    "        return \"avg_return\", float(np.nan)"
   ]
  },
  {
   "cell_type": "code",
   "execution_count": null,
   "metadata": {},
   "outputs": [],
   "source": [
    "class my_callback(xgboost.callback.TrainingCallback):\n",
    "    \n",
    "    def __init__(self, name):\n",
    "        self.name = name\n",
    "        \n",
    "    def after_iteration(self, model, epoch, evals_log):\n",
    "        \n",
    "        print()\n",
    "        \n",
    "            \n",
    "        return False"
   ]
  }
 ],
 "metadata": {
  "kernelspec": {
   "display_name": "Python 3",
   "language": "python",
   "name": "python3"
  },
  "language_info": {
   "codemirror_mode": {
    "name": "ipython",
    "version": 3
   },
   "file_extension": ".py",
   "mimetype": "text/x-python",
   "name": "python",
   "nbconvert_exporter": "python",
   "pygments_lexer": "ipython3",
   "version": "3.8.5"
  }
 },
 "nbformat": 4,
 "nbformat_minor": 4
}
