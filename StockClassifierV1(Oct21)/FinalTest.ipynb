{
 "cells": [
  {
   "cell_type": "code",
   "execution_count": 1,
   "id": "30472926-cb3c-45c2-a671-4d9c6b5102a8",
   "metadata": {},
   "outputs": [],
   "source": [
    "import pandas as pd\n",
    "import numpy as np\n",
    "\n",
    "import matplotlib.pyplot as plt\n",
    "\n",
    "import xgboost\n",
    "\n",
    "from functions import make_dataset\n",
    "\n",
    "from functions import make_portfolio\n",
    "\n",
    "from sklearn.utils import shuffle\n",
    "\n",
    "import time\n",
    "\n",
    "import pickle"
   ]
  },
  {
   "cell_type": "code",
   "execution_count": null,
   "id": "7f3c4e1b-966f-4192-842d-6496e78c8d17",
   "metadata": {},
   "outputs": [],
   "source": [
    "\"\"\"\n",
    "this should be the final test\n",
    "we train on the pred days unsen during the making of the secondary df\n",
    "we should also take this data to complete the secondary df\n",
    "we should approximate actual predictions as closely as possibe which means predicting only on one day\n",
    "\n",
    "we ultimately want a portfolio of around 20, we know that the percent of of 0's is 0.16, so we need to pass atleast 125 stocks to the secondary classifier\n",
    "we know that when removing identical labels, around half was removed, so we need 250 stocks picked for each pred day\n",
    "we should keep the original tickers aswell for analysis\n",
    "\n",
    "\n",
    "\"\"\""
   ]
  },
  {
   "cell_type": "code",
   "execution_count": null,
   "id": "3056fb98-0346-4bee-b9f1-f2fb70aa509e",
   "metadata": {},
   "outputs": [],
   "source": []
  },
  {
   "cell_type": "code",
   "execution_count": 2,
   "id": "7ad2b346-7323-47e7-9560-9dcb2d199b47",
   "metadata": {},
   "outputs": [],
   "source": [
    "Date1 = np.load(\"training_sets/Date1.npy\", allow_pickle = True)\n",
    "Date2 = np.load(\"training_sets/Date2.npy\", allow_pickle = True)\n",
    "Date3 = np.load(\"training_sets/Date3.npy\", allow_pickle = True)"
   ]
  },
  {
   "cell_type": "code",
   "execution_count": 3,
   "id": "d588d636-02d0-4173-8279-5872bb2875c1",
   "metadata": {},
   "outputs": [],
   "source": [
    "Dates = np.append(Date1, np.append(Date2, Date3))"
   ]
  },
  {
   "cell_type": "code",
   "execution_count": null,
   "id": "329a1ede-952a-4e5f-a162-60c43cbc4bf4",
   "metadata": {},
   "outputs": [],
   "source": []
  },
  {
   "cell_type": "code",
   "execution_count": 4,
   "id": "bd329c41-6eb7-40d1-82a1-b38e4e3948f2",
   "metadata": {},
   "outputs": [],
   "source": [
    "df = pd.read_pickle(\"CreatingSecondDataset/train_df\")"
   ]
  },
  {
   "cell_type": "code",
   "execution_count": 5,
   "id": "715bc24f-60dc-4887-a3fb-ec7885519c12",
   "metadata": {},
   "outputs": [],
   "source": [
    "Dates_secondary = np.sort(np.unique(df.reset_index().set_index([\"Date\"]).index))"
   ]
  },
  {
   "cell_type": "code",
   "execution_count": 6,
   "id": "107d74ce-a3d6-4727-af19-253aacae4cff",
   "metadata": {},
   "outputs": [],
   "source": [
    "df = df.loc[Dates_secondary]"
   ]
  },
  {
   "cell_type": "code",
   "execution_count": 7,
   "id": "864bd604-f5ab-4f24-b75b-1cf059139d56",
   "metadata": {},
   "outputs": [],
   "source": [
    "df2 = pd.read_pickle(\"CreatingSecondDataset/train_df_2\")"
   ]
  },
  {
   "cell_type": "code",
   "execution_count": 8,
   "id": "1694ddd4-7eac-4ef0-b193-fe9a75d683a2",
   "metadata": {},
   "outputs": [],
   "source": [
    "df3 = pd.read_pickle(\"CreatingSecondDataset/train_df_3\")"
   ]
  },
  {
   "cell_type": "code",
   "execution_count": 9,
   "id": "57399ff8-75b3-4f98-ba4d-c25bc44ab53e",
   "metadata": {},
   "outputs": [],
   "source": [
    "df4 = pd.read_pickle(\"CreatingSecondDataset/train_df_4\")"
   ]
  },
  {
   "cell_type": "code",
   "execution_count": null,
   "id": "4435b13d-c84c-47dc-899d-1de5d89df6f3",
   "metadata": {},
   "outputs": [],
   "source": []
  },
  {
   "cell_type": "code",
   "execution_count": 10,
   "id": "bdb5fdb4-9530-47fd-9262-93ef7432c75f",
   "metadata": {},
   "outputs": [],
   "source": [
    "df = df.append(df2)"
   ]
  },
  {
   "cell_type": "code",
   "execution_count": 11,
   "id": "89539eb0-e6fb-433f-8668-ec6a010cc837",
   "metadata": {},
   "outputs": [],
   "source": [
    "df = df.append(df3)"
   ]
  },
  {
   "cell_type": "code",
   "execution_count": 12,
   "id": "dd1b91c5-abcf-4d4d-9078-c7a2444f29ef",
   "metadata": {},
   "outputs": [],
   "source": [
    "df = df.append(df4)"
   ]
  },
  {
   "cell_type": "code",
   "execution_count": 13,
   "id": "05699e7e-1eb6-44f8-9500-03d8d6e5892a",
   "metadata": {},
   "outputs": [],
   "source": [
    "Dates_secondary = np.sort(np.unique(df.reset_index().set_index([\"Date\"]).index))"
   ]
  },
  {
   "cell_type": "code",
   "execution_count": 14,
   "id": "3aaa6894-0930-4ee0-9270-8a996a7274fa",
   "metadata": {},
   "outputs": [
    {
     "data": {
      "text/plain": [
       "array(['2013-10-18', '2013-10-21', '2013-10-22', ..., '2021-06-22',\n",
       "       '2021-06-23', '2021-06-24'], dtype=object)"
      ]
     },
     "execution_count": 14,
     "metadata": {},
     "output_type": "execute_result"
    }
   ],
   "source": [
    "Dates_secondary"
   ]
  },
  {
   "cell_type": "code",
   "execution_count": 15,
   "id": "e345cb3f-5ad6-4332-a0e8-49bc8927a04f",
   "metadata": {},
   "outputs": [],
   "source": [
    "Dates_secondary = np.unique(Dates_secondary)"
   ]
  },
  {
   "cell_type": "code",
   "execution_count": 16,
   "id": "3f29866c-86f2-4634-905a-e1beaed4768a",
   "metadata": {},
   "outputs": [],
   "source": [
    "df = df.loc[Dates_secondary]"
   ]
  },
  {
   "cell_type": "code",
   "execution_count": 17,
   "id": "c683f88a-c06c-4da2-8e62-3a2ae8d7a78b",
   "metadata": {},
   "outputs": [
    {
     "data": {
      "text/plain": [
       "186692"
      ]
     },
     "execution_count": 17,
     "metadata": {},
     "output_type": "execute_result"
    }
   ],
   "source": [
    "len(df)"
   ]
  },
  {
   "cell_type": "code",
   "execution_count": 18,
   "id": "b7d83dc8-11cc-4113-bc9d-8c2568e511ec",
   "metadata": {},
   "outputs": [],
   "source": [
    "df = df.drop_duplicates()"
   ]
  },
  {
   "cell_type": "code",
   "execution_count": 19,
   "id": "2d8afe81-a2a2-4887-8174-49a87988c52f",
   "metadata": {},
   "outputs": [
    {
     "data": {
      "text/plain": [
       "186608"
      ]
     },
     "execution_count": 19,
     "metadata": {},
     "output_type": "execute_result"
    }
   ],
   "source": [
    "len(df)"
   ]
  },
  {
   "cell_type": "code",
   "execution_count": 20,
   "id": "6a4dedbd-7ef8-4c00-bfe3-1bc98e215967",
   "metadata": {},
   "outputs": [],
   "source": [
    "del df2, df3, df4"
   ]
  },
  {
   "cell_type": "code",
   "execution_count": 21,
   "id": "07b418ed-3153-4ac7-b33f-df82e32e4a46",
   "metadata": {},
   "outputs": [
    {
     "data": {
      "text/plain": [
       "1747"
      ]
     },
     "execution_count": 21,
     "metadata": {},
     "output_type": "execute_result"
    }
   ],
   "source": [
    "len(Dates_secondary)"
   ]
  },
  {
   "cell_type": "code",
   "execution_count": null,
   "id": "d8f5515d-6d44-438d-b309-69811a8d3f1e",
   "metadata": {},
   "outputs": [],
   "source": []
  },
  {
   "cell_type": "code",
   "execution_count": 42,
   "id": "8a8f053e-7327-43e7-ba23-b5b5945eaa8c",
   "metadata": {},
   "outputs": [],
   "source": [
    "features2 = pd.read_pickle(\"training_sets/features2\")"
   ]
  },
  {
   "cell_type": "code",
   "execution_count": 50,
   "id": "2af1168b-5194-40cf-846b-19fd50a3752a",
   "metadata": {},
   "outputs": [],
   "source": [
    "features1 = pd.read_pickle(\"training_sets/features1\")"
   ]
  },
  {
   "cell_type": "code",
   "execution_count": 52,
   "id": "940f80c2-40f7-4302-9644-3fbfa5075bfe",
   "metadata": {},
   "outputs": [],
   "source": [
    "del features1"
   ]
  },
  {
   "cell_type": "code",
   "execution_count": 55,
   "id": "4e616e06-9636-422e-a3c3-0c817dcf7e04",
   "metadata": {},
   "outputs": [],
   "source": [
    "Date1 = np.load(\"training_sets/Date1.npy\", allow_pickle = True)"
   ]
  },
  {
   "cell_type": "code",
   "execution_count": 56,
   "id": "4b9b3b7b-5292-44c4-a4b7-402b336d9199",
   "metadata": {},
   "outputs": [
    {
     "data": {
      "text/plain": [
       "773"
      ]
     },
     "execution_count": 56,
     "metadata": {},
     "output_type": "execute_result"
    }
   ],
   "source": [
    "len(Date1)"
   ]
  },
  {
   "cell_type": "code",
   "execution_count": 51,
   "id": "25c172ac-208b-4ecf-9140-98b695457eb8",
   "metadata": {},
   "outputs": [
    {
     "data": {
      "text/plain": [
       "(1431493, 1196965)"
      ]
     },
     "execution_count": 51,
     "metadata": {},
     "output_type": "execute_result"
    }
   ],
   "source": [
    "len(features2), len(features1)"
   ]
  },
  {
   "cell_type": "code",
   "execution_count": 22,
   "id": "d3b3a3f9-8939-40d1-b35e-34666de00da6",
   "metadata": {},
   "outputs": [],
   "source": [
    "def make_dataset_eval_with_extra_return_40_term_from_periods(df, training_period, prediction_period, cols, pred_col):\n",
    "    \n",
    "    \n",
    "    X_train = shuffle(df.loc[training_period, np.append(cols, pred_col)])\n",
    "    X_train = X_train.replace([np.inf, -np.inf], np.NaN)\n",
    "    X_train = X_train.dropna(axis = 0)\n",
    "\n",
    "    Y_train = X_train.pop(pred_col)\n",
    "    \n",
    "    \n",
    "    \n",
    "    X_test = shuffle(df.loc[prediction_period, cols])\n",
    "    X_test = X_test.replace([np.inf, -np.inf], np.NaN)\n",
    "    X_test = X_test.dropna(axis = 0)\n",
    "    \n",
    "    return X_train, X_test, Y_train"
   ]
  },
  {
   "cell_type": "code",
   "execution_count": 57,
   "id": "e6063fc0-8323-4fb7-8f44-dfc131d3f092",
   "metadata": {},
   "outputs": [],
   "source": [
    "def make_dataset_eval_with_extra_return_40_term_from_periods_for_df(df, training_period, cols, pred_col):\n",
    "    \n",
    "    \n",
    "    X_train = shuffle(df.loc[training_period, np.append(cols, pred_col)])\n",
    "    X_train = X_train.replace([np.inf, -np.inf], np.NaN)\n",
    "    X_train = X_train.dropna(axis = 0)\n",
    "\n",
    "    Y_train = X_train.pop(pred_col)\n",
    "        \n",
    "    return X_train, Y_train"
   ]
  },
  {
   "cell_type": "code",
   "execution_count": null,
   "id": "27036f96-b2cf-44fa-986e-41f85633590c",
   "metadata": {},
   "outputs": [],
   "source": [
    "X_train, Y_train = make_dataset_eval_with_extra_return_40_term_from_periods_for_df(df, training_period, cols, pred_col)"
   ]
  },
  {
   "cell_type": "code",
   "execution_count": 23,
   "id": "b2a9af39-7d90-48f4-a2bb-47a828c54b02",
   "metadata": {},
   "outputs": [],
   "source": [
    "def return_40_metric(pred, labels):\n",
    "    \n",
    "\n",
    "    return labels.iloc[np.argsort(pred)[:25]].index"
   ]
  },
  {
   "cell_type": "code",
   "execution_count": 24,
   "id": "c72f15fa-364d-431e-818f-08d438f4ca79",
   "metadata": {},
   "outputs": [],
   "source": [
    "class my_callback(xgboost.callback.TrainingCallback):\n",
    "    \n",
    "    def __init__(self, xgeval, Y_eval_return_40, results_eval):\n",
    "        self.eval_mine = xgeval\n",
    "        self.eval_return_40 = Y_eval_return_40\n",
    "        self.results_eval_mine = results_eval\n",
    "        \n",
    "        \n",
    "    def after_iteration(self, model, epoch, evals_log):\n",
    "        \n",
    "        \n",
    "        if epoch % 10 == 0 or epoch == 99:\n",
    "            \n",
    "\n",
    "            self.results_eval_mine.append(return_40_metric(model.predict(self.eval_mine), self.eval_return_40))    \n",
    "        \n",
    "\n",
    "            \n",
    "        return False"
   ]
  },
  {
   "cell_type": "code",
   "execution_count": 25,
   "id": "c3b5fa7a-6a1a-430f-8624-db0346c7bba2",
   "metadata": {},
   "outputs": [],
   "source": [
    "def return_40_metric_secondary(pred, labels, scale):\n",
    "\n",
    "    return labels.iloc[np.argsort(pred)[:int(len(pred) * (1 / (scale + 1)))]].index"
   ]
  },
  {
   "cell_type": "code",
   "execution_count": 26,
   "id": "b1db310a-72de-4791-b50e-42e6d63aa476",
   "metadata": {},
   "outputs": [],
   "source": [
    "class my_callback_secondary(xgboost.callback.TrainingCallback):\n",
    "    \n",
    "    def __init__(self, xgeval, Y_eval_return_40, results_eval, scale):\n",
    "        self.eval_mine = xgeval\n",
    "        self.eval_return_40 = Y_eval_return_40\n",
    "        self.results_eval_mine = results_eval\n",
    "        self.scale = scale\n",
    "        \n",
    "    def after_iteration(self, model, epoch, evals_log):\n",
    "        \n",
    "        \n",
    "        if epoch % 5 == 0 or epoch == 59:\n",
    "            \n",
    "\n",
    "            self.results_eval_mine.append(return_40_metric_secondary(model.predict(self.eval_mine), self.eval_return_40, self.scale))    \n",
    "        \n",
    "\n",
    "            \n",
    "        return False"
   ]
  },
  {
   "cell_type": "code",
   "execution_count": null,
   "id": "bf34624c-e868-4d58-b594-38535fa6d042",
   "metadata": {},
   "outputs": [],
   "source": []
  },
  {
   "cell_type": "code",
   "execution_count": 27,
   "id": "13579e8b-004a-4b58-9879-01ea801f5792",
   "metadata": {},
   "outputs": [],
   "source": [
    "params1 = {\n",
    "  'colsample_bynode': 0.6,\n",
    "    'colsample_bytree' : 0.6,\n",
    "    'colsample_bylevel' : 0.5,\n",
    "  'learning_rate': 0.3,\n",
    "  'max_depth': 3,\n",
    "  'num_parallel_tree': 100,\n",
    "  'objective': 'binary:logistic',\n",
    "  'subsample': 0.9,\n",
    "  'tree_method': 'gpu_hist',\n",
    "    \"verbosity\" : 0,\n",
    "    \"lambda\" : 1,\n",
    "    \"alpha\" : 0\n",
    "}"
   ]
  },
  {
   "cell_type": "code",
   "execution_count": null,
   "id": "b3f22f3f-f73c-42df-85a4-6543b1ca181c",
   "metadata": {},
   "outputs": [],
   "source": []
  },
  {
   "cell_type": "code",
   "execution_count": 28,
   "id": "161cbd28-4e9a-4fe8-a23a-0de39055eae4",
   "metadata": {},
   "outputs": [],
   "source": [
    "with open(\"ColSearch2/where_highest_return_binary_cols_20\", \"rb\") as f:\n",
    "    highest_return_binary_20 = pickle.load(f)"
   ]
  },
  {
   "cell_type": "code",
   "execution_count": 29,
   "id": "705f2db9-24ee-408a-8620-e54eb4b86d55",
   "metadata": {},
   "outputs": [],
   "source": [
    "with open(\"Training_second_dataset_col_search/chosen_cols\", \"rb\") as f:\n",
    "    chosen_cols = pickle.load(f)"
   ]
  },
  {
   "cell_type": "code",
   "execution_count": null,
   "id": "09d549f5-fd2c-4368-bf5b-b8dc0dc3857c",
   "metadata": {},
   "outputs": [],
   "source": []
  },
  {
   "cell_type": "code",
   "execution_count": null,
   "id": "65e7ed14-7795-4515-ac46-0a5b7c621eb9",
   "metadata": {},
   "outputs": [],
   "source": []
  },
  {
   "cell_type": "code",
   "execution_count": 16,
   "id": "e2008f93-c0a9-4774-9afa-722b986de40c",
   "metadata": {},
   "outputs": [],
   "source": [
    "prediction_dates = np.linspace(650, len(Dates) - 80, 20).astype(int)"
   ]
  },
  {
   "cell_type": "code",
   "execution_count": 112,
   "id": "ac1597fb-5c50-426d-95cb-80b6478931b3",
   "metadata": {},
   "outputs": [],
   "source": [
    "\n",
    "used_prediction_dates = np.append(prediction_dates, (prediction_dates + 21)[:-1])\n",
    "used_prediction_dates = np.append(used_prediction_dates, (prediction_dates + 42)[:-1])\n"
   ]
  },
  {
   "cell_type": "code",
   "execution_count": 113,
   "id": "9b505497-008d-4e9e-8367-27108965c84f",
   "metadata": {},
   "outputs": [],
   "source": [
    "used_prediction_dates = np.sort(used_prediction_dates)"
   ]
  },
  {
   "cell_type": "code",
   "execution_count": 114,
   "id": "602e0616-497d-4029-9549-b3001c9bd17d",
   "metadata": {},
   "outputs": [
    {
     "data": {
      "text/plain": [
       "array([ 650,  671,  692,  734,  755,  776,  819,  840,  861,  903,  924,\n",
       "        945,  988, 1009, 1030, 1072, 1093, 1114, 1157, 1178, 1199, 1242,\n",
       "       1263, 1284, 1326, 1347, 1368, 1411, 1432, 1453, 1495, 1516, 1537,\n",
       "       1580, 1601, 1622, 1664, 1685, 1706, 1749, 1770, 1791, 1834, 1855,\n",
       "       1876, 1918, 1939, 1960, 2003, 2024, 2045, 2087, 2108, 2129, 2172,\n",
       "       2193, 2214, 2257])"
      ]
     },
     "execution_count": 114,
     "metadata": {},
     "output_type": "execute_result"
    }
   ],
   "source": [
    "used_prediction_dates"
   ]
  },
  {
   "cell_type": "code",
   "execution_count": 17,
   "id": "a3e3a080-0e9e-47f5-91f9-2be3e579037d",
   "metadata": {},
   "outputs": [],
   "source": [
    "prediction_dates = (prediction_dates + 63)[:-1]"
   ]
  },
  {
   "cell_type": "code",
   "execution_count": 18,
   "id": "f475e02e-0259-44aa-8f5d-18fc2eaab258",
   "metadata": {},
   "outputs": [],
   "source": [
    "prediction_dates = np.append(prediction_dates, prediction_dates + 10)"
   ]
  },
  {
   "cell_type": "code",
   "execution_count": 19,
   "id": "10f21990-0ce4-46ed-b487-abb9a2b9b2e0",
   "metadata": {},
   "outputs": [],
   "source": [
    "prediction_dates = np.sort(prediction_dates)"
   ]
  },
  {
   "cell_type": "code",
   "execution_count": 20,
   "id": "baa6dc57-4586-471f-9bf2-cdfe44612221",
   "metadata": {},
   "outputs": [
    {
     "data": {
      "text/plain": [
       "array([ 713,  723,  797,  807,  882,  892,  966,  976, 1051, 1061, 1135,\n",
       "       1145, 1220, 1230, 1305, 1315, 1389, 1399, 1474, 1484, 1558, 1568,\n",
       "       1643, 1653, 1727, 1737, 1812, 1822, 1897, 1907, 1981, 1991, 2066,\n",
       "       2076, 2150, 2160, 2235, 2245])"
      ]
     },
     "execution_count": 20,
     "metadata": {},
     "output_type": "execute_result"
    }
   ],
   "source": [
    "prediction_dates"
   ]
  },
  {
   "cell_type": "code",
   "execution_count": null,
   "id": "7b470ce5-55ff-40d8-8570-aac1e9844b65",
   "metadata": {},
   "outputs": [],
   "source": []
  },
  {
   "cell_type": "code",
   "execution_count": 158,
   "id": "da929cc3-d2b6-4d48-b1dd-14b4557fd06f",
   "metadata": {},
   "outputs": [
    {
     "name": "stdout",
     "output_type": "stream",
     "text": [
      "1\n",
      "df_create_time: 0.3022272999996858\n",
      "time: 45.06199890000062\n",
      "df_create_time: 0.3019040999997742\n",
      "time: 45.21532849999949\n",
      "imported features2\n",
      "df_create_time: 3.248723999999129\n",
      "time: 45.7261299999991\n",
      "df_create_time: 0.6748371999983647\n",
      "time: 45.57458290000068\n",
      "df_create_time: 0.6714948999997432\n",
      "time: 45.823720800000956\n",
      "df_create_time: 0.6745608999990509\n",
      "time: 46.06359789999988\n",
      "df_create_time: 0.6932608000006439\n",
      "time: 46.65239570000085\n",
      "df_create_time: 0.6780146000000968\n",
      "time: 46.58692780000092\n",
      "deleted features1\n",
      "df_create_time: 0.5688969000002544\n",
      "time: 46.82896679999976\n",
      "df_create_time: 0.3510543000011239\n",
      "time: 46.65341980000085\n",
      "df_create_time: 0.3382132000006095\n",
      "time: 47.04019300000073\n",
      "df_create_time: 0.3449763000007806\n",
      "time: 47.160353600000235\n",
      "df_create_time: 0.3447677999993175\n",
      "time: 47.586564199998975\n",
      "df_create_time: 0.3512253000008059\n",
      "time: 47.682579199999964\n",
      "df_create_time: 0.34639120000065304\n",
      "time: 48.16202140000132\n",
      "df_create_time: 0.3447105000013835\n",
      "time: 48.12725850000061\n",
      "df_create_time: 0.3490290999998251\n",
      "time: 48.33247610000035\n",
      "df_create_time: 0.3436117999990529\n",
      "time: 48.39542639999854\n",
      "df_create_time: 0.3520836000006966\n",
      "time: 48.647851400000945\n",
      "df_create_time: 0.3591732000004413\n",
      "time: 48.56082459999925\n",
      "df_create_time: 0.3655669999989186\n",
      "time: 48.61913249999998\n",
      "imported features3\n",
      "df_create_time: 3.3642772999992303\n",
      "time: 49.1023925999998\n",
      "df_create_time: 0.7246680000007473\n",
      "time: 48.84717699999965\n",
      "df_create_time: 0.7483437999999296\n",
      "time: 48.689828900000066\n",
      "df_create_time: 0.728557999998884\n",
      "time: 48.90660249999928\n",
      "df_create_time: 0.7240397999994457\n",
      "time: 48.79689839999992\n",
      "deleted features2\n",
      "df_create_time: 0.5928852999986702\n",
      "time: 48.64493399999992\n",
      "df_create_time: 0.3371159999987867\n",
      "time: 48.73624679999921\n",
      "df_create_time: 0.32524999999986903\n",
      "time: 48.783651500001724\n",
      "df_create_time: 0.3389216999985365\n",
      "time: 48.82577230000061\n",
      "df_create_time: 0.3275752999998076\n",
      "time: 48.80262080000102\n",
      "df_create_time: 0.32923870000013267\n",
      "time: 48.79279979999956\n",
      "df_create_time: 0.3323947999997472\n",
      "time: 48.93397489999916\n",
      "df_create_time: 0.3295543000003818\n",
      "time: 48.832675100000415\n",
      "df_create_time: 0.3296184999999241\n",
      "time: 49.07107499999984\n",
      "df_create_time: 0.329292100001112\n",
      "time: 49.216696199999205\n",
      "df_create_time: 0.33859080000001995\n",
      "time: 49.28432410000096\n",
      "df_create_time: 0.35433239999838406\n",
      "time: 49.28184990000045\n"
     ]
    }
   ],
   "source": [
    "count = 0\n",
    "\n",
    "results = []\n",
    "\n",
    "start_time = time.perf_counter()\n",
    "\n",
    "#while True:\n",
    "    \n",
    "#for cols_trials in [highest_corr_binary_20, highest_corr_binary_100, lowest_corr_binary_20, lowest_corr_binary_100, not_corr_binary_20, not_corr_binary_100, highest_return_binary_20, highest_return_binary_100]:\n",
    "for cols_trials in [highest_return_binary_20]:  \n",
    "    count +=1\n",
    "    print(str(count))\n",
    "\n",
    "    if time.perf_counter() - start_time > 3600:\n",
    "        print(\"sleeping\")\n",
    "        time.sleep(600)\n",
    "        start_time = time.perf_counter()\n",
    "\n",
    "        \n",
    "        \n",
    "    unique_cols = np.array([])\n",
    "    for i in cols_trials:\n",
    "        unique_cols = np.append(unique_cols, i)\n",
    "        \n",
    "    for i in chosen_cols:\n",
    "        unique_cols = np.append(unique_cols, i)\n",
    "    \n",
    "\n",
    "    unique_cols = np.unique(unique_cols)\n",
    "    \n",
    "    unique_cols = np.append(unique_cols, [\"Class_binary_40_20\", \"return_40\"])\n",
    "\n",
    "    \n",
    "    \n",
    "    for prediction_date in prediction_dates:\n",
    "        \n",
    "\n",
    "        results1 = []\n",
    "                    \n",
    "        \n",
    "        start_time_df_create = time.perf_counter()\n",
    "        \n",
    "        \n",
    "        training_period = Dates[prediction_date - 200 - 40 + 1: prediction_date - 40 +1]\n",
    "\n",
    "        prediction_period = Dates[prediction_date]\n",
    "        \n",
    "        \n",
    "         \n",
    "        if len(np.intersect1d(np.append(training_period, prediction_period), Date1)):\n",
    "        \n",
    "            if \"features1\" not in locals():\n",
    "\n",
    "                features1 = pd.read_pickle(\"training_sets/features1\")   \n",
    "                \n",
    "                print(\"imported features1\")\n",
    "\n",
    "            Date1_intersect = np.intersect1d(np.append(training_period, prediction_period), Date1)\n",
    "\n",
    "            X_train_master = features1.loc[Date1_intersect, unique_cols]\n",
    "            \n",
    "\n",
    "        else:\n",
    "\n",
    "            if \"features1\" in locals():\n",
    "                del features1\n",
    "                \n",
    "                print(\"deleted features1\")\n",
    "\n",
    "\n",
    "        if len(np.intersect1d(np.append(training_period, prediction_period), Date2)):\n",
    "            \n",
    "            if \"features2\" not in locals():\n",
    "\n",
    "                features2 = pd.read_pickle(\"training_sets/features2\")\n",
    "                \n",
    "                print(\"imported features2\")\n",
    "                \n",
    "            Date2_intersect = np.intersect1d(np.append(training_period, prediction_period), Date2)\n",
    "                \n",
    "            if \"X_train_master\" in locals():\n",
    "                \n",
    "                X_train_master = X_train_master.append(features2.loc[Date2_intersect, unique_cols])\n",
    "                \n",
    "            else:\n",
    "                \n",
    "                X_train_master = features2.loc[Date2_intersect, unique_cols]\n",
    "                \n",
    "        else:\n",
    "\n",
    "            if \"features2\" in locals():\n",
    "                del features2\n",
    "                \n",
    "                print(\"deleted features2\")\n",
    "\n",
    "\n",
    "        if len(np.intersect1d(np.append(training_period, prediction_period), Date3)):\n",
    "\n",
    "            if \"features3\" not in locals():\n",
    "\n",
    "                features3 = pd.read_pickle(\"training_sets/features3\")\n",
    "                \n",
    "                print(\"imported features3\")\n",
    "                \n",
    "                \n",
    "            Date3_intersect = np.intersect1d(np.append(training_period, prediction_period), Date3)\n",
    "                \n",
    "            if \"X_train_master\" in locals():\n",
    "                \n",
    "                X_train_master = X_train_master.append(features3.loc[Date3_intersect, unique_cols])\n",
    "                \n",
    "            else:\n",
    "                \n",
    "                X_train_master = features3.loc[Date3_intersect, unique_cols]\n",
    "\n",
    "        else:\n",
    "\n",
    "            if \"features3\" in locals():\n",
    "                del features3\n",
    "                \n",
    "                print(\"deleted features3\")\n",
    "                \n",
    "                \n",
    "        print(\"df_create_time: \"+ str(time.perf_counter() - start_time_df_create))\n",
    "        \n",
    "        start_time_cols = time.perf_counter()\n",
    "        \n",
    "        \n",
    "        \n",
    "        \n",
    "        tickers_basket = np.array([])\n",
    "        tickers_basket2 = np.array([])\n",
    "        \n",
    "        \n",
    "        for col_indx, cols in enumerate(cols_trials):\n",
    "        \n",
    "\n",
    "            X_train, X_test, Y_train = make_dataset_eval_with_extra_return_40_term_from_periods(X_train_master, training_period, prediction_period, cols, \"Class_binary_40_20\")\n",
    "\n",
    "            train_weights = Y_train.map({0:19, 1:1})\n",
    "\n",
    "            xgtrain = xgboost.DMatrix(X_train.values, Y_train.values, feature_names = cols, weight = train_weights)\n",
    "\n",
    "            xgtest = xgboost.DMatrix(X_test.values, feature_names = cols)\n",
    "\n",
    "            bst = xgboost.train(params1, xgtrain, num_boost_round = 20, verbose_eval = False)\n",
    "            \n",
    "            preds = bst.predict(xgtest)\n",
    "\n",
    "            tickers = return_40_metric(preds, X_test)\n",
    "            \n",
    "            tickers_basket = np.append(tickers_basket, tickers)\n",
    "            \n",
    "                            \n",
    "        for i in np.unique(tickers_basket):\n",
    "\n",
    "            tickers_basket2 = np.append(tickers_basket2, np.sum(tickers_basket == i))\n",
    "            \n",
    "        tickers_basket2 = np.unique(tickers_basket)[np.argsort(tickers_basket2)[::-1]]\n",
    "        \n",
    "        results1.append(prediction_period)\n",
    "        \n",
    "        results1.append(tickers_basket2)\n",
    "        \n",
    "        \n",
    "        \n",
    "        \n",
    "        tickers_basket3 = np.array([])\n",
    "        tickers_basket4 = np.array([])\n",
    "            \n",
    "            \n",
    "            \n",
    "        training_period_secondary = Dates_secondary[Dates_secondary <= training_period[-1]]\n",
    "            \n",
    "            \n",
    "        for col_indx2, cols in enumerate(chosen_cols):\n",
    "            \n",
    "            \n",
    "            X_train, X_test, Y_train = make_dataset_eval_with_extra_return_40_term_from_periods(df, training_period_secondary, prediction_period, cols, \"Class_binary_40_20\")\n",
    "            \n",
    "\n",
    "            X_test = shuffle(X_train_master.loc[prediction_period, cols].loc[tickers_basket2])\n",
    "            X_test = X_test.replace([np.inf, -np.inf], np.NaN)\n",
    "            X_test = X_test.dropna(axis = 0)\n",
    "            \n",
    "\n",
    "            scale = int(np.sum(Y_train == 1) / np.sum(Y_train == 0))\n",
    "\n",
    "            train_weights = Y_train.map({0:scale, 1:1})\n",
    "\n",
    "\n",
    "            xgtrain = xgboost.DMatrix(X_train.values, Y_train.values, feature_names = cols, weight = train_weights)\n",
    "\n",
    "            xgtest = xgboost.DMatrix(X_test.values, feature_names = cols)\n",
    "\n",
    "            bst = xgboost.train(params1, xgtrain, num_boost_round = 1, verbose_eval = False)\n",
    "            \n",
    "            preds = bst.predict(xgtest)\n",
    "            \n",
    "            \n",
    "            tickers = return_40_metric_secondary(preds, X_test, scale)\n",
    "            \n",
    "            tickers_basket3 = np.append(tickers_basket3, tickers)\n",
    "            \n",
    "            \n",
    "        for i in np.unique(tickers_basket3):\n",
    "\n",
    "            tickers_basket4 = np.append(tickers_basket4, np.sum(tickers_basket3 == i))\n",
    "            \n",
    "        tickers_basket4 = np.unique(tickers_basket3)[np.argsort(tickers_basket4)[::-1]]\n",
    "        \n",
    "    \n",
    "        returns = X_train_master.loc[prediction_period, \"return_40\"].loc[tickers_basket4].values\n",
    "        \n",
    "        results1.append(tickers_basket4)\n",
    "        results1.append(returns)\n",
    "\n",
    "\n",
    "        \n",
    "        print(\"time: \" + str(time.perf_counter() - start_time_cols))\n",
    "            \n",
    "            \n",
    "        del X_train_master\n",
    "\n",
    "        results.append(results1)\n",
    "\n",
    "        with open(\"FinalTest/results\", \"wb\") as f:\n",
    "            pickle.dump(results, f)\n",
    "        \n"
   ]
  },
  {
   "cell_type": "code",
   "execution_count": 5,
   "id": "6803450e-893b-46b3-9262-97e2a013c94f",
   "metadata": {},
   "outputs": [],
   "source": [
    "with open(\"FinalTest/results\", \"rb\") as f:\n",
    "    results = pickle.load(f)"
   ]
  },
  {
   "cell_type": "raw",
   "id": "87ba3e6b-a64e-40be-ba61-b575fe2ab4e2",
   "metadata": {},
   "source": [
    "results[0]"
   ]
  },
  {
   "cell_type": "code",
   "execution_count": 164,
   "id": "c3c3ef17-cdc9-48e8-9444-ccb222f90e3d",
   "metadata": {},
   "outputs": [
    {
     "data": {
      "text/plain": [
       "-0.8865131289399303"
      ]
     },
     "execution_count": 164,
     "metadata": {},
     "output_type": "execute_result"
    }
   ],
   "source": [
    "np.mean(results[0][3])"
   ]
  },
  {
   "cell_type": "code",
   "execution_count": 62,
   "id": "df07f96b-8d03-40c3-ace9-78747fd22bd4",
   "metadata": {},
   "outputs": [],
   "source": [
    "sp500 = pd.read_pickle(\"External_data/sp500\")"
   ]
  },
  {
   "cell_type": "code",
   "execution_count": 21,
   "id": "eef8e702-2575-4228-9c1c-4e3f8ea5be81",
   "metadata": {},
   "outputs": [
    {
     "data": {
      "text/plain": [
       "array(['2014-07-28', '2014-08-11', '2015-04-02', '2015-04-17',\n",
       "       '2015-08-04', '2015-08-18', '2015-12-02', '2015-12-16',\n",
       "       '2016-04-06', '2016-04-20', '2016-08-04', '2016-08-18',\n",
       "       '2016-12-05', '2016-12-19', '2017-04-07', '2017-04-24',\n",
       "       '2017-08-08', '2017-08-22', '2017-12-07', '2017-12-21',\n",
       "       '2018-04-11', '2018-04-25', '2018-08-10', '2018-08-24',\n",
       "       '2018-12-11', '2018-12-26', '2019-04-15', '2019-04-30',\n",
       "       '2019-08-15', '2019-08-29', '2020-04-22', '2020-05-06',\n",
       "       '2020-08-21', '2020-09-04', '2020-12-21', '2021-01-06',\n",
       "       '2021-04-26', '2021-05-10'], dtype=object)"
      ]
     },
     "execution_count": 21,
     "metadata": {},
     "output_type": "execute_result"
    }
   ],
   "source": [
    "Dates[prediction_dates]"
   ]
  },
  {
   "cell_type": "code",
   "execution_count": 22,
   "id": "4e5aab3f-3539-460a-95bc-8f22e605cbef",
   "metadata": {},
   "outputs": [
    {
     "data": {
      "text/plain": [
       "array([  0.77719553,   1.4404312 ,   2.60430778,   0.62128216,\n",
       "        -9.99512736,  -4.44604468,  -6.69725079, -10.0474176 ,\n",
       "         1.86774796,  -1.16105403,   0.18574564,  -2.4709422 ,\n",
       "         3.45351543,   3.74315479,   3.13261503,   2.64852684,\n",
       "         2.53826386,   4.43423268,   2.20555332,   0.62430855,\n",
       "         4.85127867,   4.18125332,   1.8053281 ,  -4.13296738,\n",
       "         2.6964707 ,  13.3083438 ,  -0.88588165,  -1.0879786 ,\n",
       "         4.30783818,   3.34988272,  11.28956779,   9.88583144,\n",
       "         0.87602586,  -3.40593412,   5.73192383,   2.50257461,\n",
       "         1.40461646,   4.05163749])"
      ]
     },
     "execution_count": 22,
     "metadata": {},
     "output_type": "execute_result"
    }
   ],
   "source": [
    "sp500.loc[Dates[prediction_dates], \"return_40\"].values"
   ]
  },
  {
   "cell_type": "code",
   "execution_count": 8,
   "id": "63ccc1f2-1c41-419c-9286-9778fbf3f721",
   "metadata": {},
   "outputs": [
    {
     "data": {
      "text/plain": [
       "['2017-12-07',\n",
       " array(['ENPH', 'TSSI', 'SMSI', 'RIOT', 'EGAN', 'IO', 'CDNA', 'AKER',\n",
       "        'TTOO', 'ASTC', 'NKTR', 'CRR', 'SDPI', 'MARA', 'OTLK', 'PTN',\n",
       "        'CRDF', 'RGLS', 'MGNI', 'ADMA', 'VYGR', 'PACB', 'NURO', 'IBRX',\n",
       "        'VKTX', 'CTLP', 'QNST', 'CASI', 'RKDA', 'SPPI', 'DESTQ', 'KODK',\n",
       "        'ZAGG', 'MCF', 'LEDS', 'KURA', 'CORT', 'ARNA', 'GBT', 'ARWR',\n",
       "        'BLFS', 'ENG', 'CNXR', 'MTBC', 'ZDGE', 'MARK', 'ABUS', 'NLST',\n",
       "        'STML', 'RGNX', 'OSTK', 'NWY', 'NVCR', 'NVAX', 'ONCT', 'ALNY',\n",
       "        'VTVT', 'SNCR', 'STAA', 'CHKE', 'CFMS', 'ACAN', 'ACLS', 'TESS',\n",
       "        'BOOT', 'BONT', 'BLUE', 'TNDM', 'AVEO', 'ATOM', 'ASYS', 'WLB',\n",
       "        'TSRI', 'CRIS', 'ASPU', 'VIVE', 'ADXS', 'AGLE', 'VNCE', 'APPS',\n",
       "        'SIOX', 'NC', 'SINT', 'SHOS', 'NCMI', 'MRTX', 'MRAM', 'MNKD',\n",
       "        'MICT', 'NGVC', 'NSPR', 'LUNA', 'LUMO', 'OMED', 'IPDN', 'IIN',\n",
       "        'GCO', 'PTE', 'FSLR', 'FGEN', 'FCEL', 'EXPR', 'EXPI', 'REED',\n",
       "        'SCVL', 'ECYT', 'DVAX', 'MTEM', 'SGMO', 'DHX'], dtype=object),\n",
       " array(['WLB', 'KODK', 'MGNI', 'MCF', 'VNCE', 'CFMS', 'DESTQ', 'BONT',\n",
       "        'CNXR', 'DHX', 'TNDM', 'SMSI', 'SNCR', 'NLST', 'NSPR', 'RGLS',\n",
       "        'SHOS', 'IBRX', 'AKER', 'MICT', 'MNKD', 'GCO', 'ENPH', 'OMED',\n",
       "        'CHKE', 'RKDA'], dtype=object),\n",
       " array([-16.12903226,  73.13432836,   0.        ,  49.80842912,\n",
       "         38.4       , -49.60629921,  -8.40336134,          nan,\n",
       "        142.85714286,   2.94117647,  12.08333333,   0.44444444,\n",
       "        -25.98930481,  -6.66666667,  44.917135  ,  27.08528585,\n",
       "         53.33333333, -18.5483871 , -19.25465839,  -6.73076923,\n",
       "        -16.82847896,  18.60869565, -17.5       , -59.35613682,\n",
       "        -35.55555556,  19.13265306])]"
      ]
     },
     "execution_count": 8,
     "metadata": {},
     "output_type": "execute_result"
    }
   ],
   "source": [
    "results[18]"
   ]
  },
  {
   "cell_type": "code",
   "execution_count": 23,
   "id": "d7c29f04-0dbf-44bc-a688-cbb09e6a6518",
   "metadata": {},
   "outputs": [
    {
     "name": "stdout",
     "output_type": "stream",
     "text": [
      "28\n",
      "30\n",
      "53\n",
      "56\n",
      "41\n",
      "34\n",
      "46\n",
      "40\n",
      "36\n",
      "40\n",
      "36\n",
      "30\n",
      "27\n",
      "34\n",
      "28\n",
      "26\n",
      "26\n",
      "25\n",
      "26\n",
      "26\n",
      "31\n",
      "23\n",
      "30\n",
      "33\n",
      "35\n",
      "32\n",
      "27\n",
      "26\n",
      "26\n",
      "26\n",
      "53\n",
      "47\n",
      "28\n",
      "31\n",
      "25\n",
      "25\n",
      "30\n",
      "27\n"
     ]
    }
   ],
   "source": [
    "for i in results:\n",
    "    print(len(i[3]))"
   ]
  },
  {
   "cell_type": "code",
   "execution_count": null,
   "id": "ce235668-eb7e-4213-ba18-2544363c84ca",
   "metadata": {},
   "outputs": [],
   "source": [
    "plt.figure(figsize = (20, 10))\n",
    "\n",
    "plt.plot([np.nanmean(results[i][3][:12]) for i in range(len(results))], \"blue\")\n",
    "\n",
    "plt.plot([np.nanmean(results[i][3][:]) for i in range(len(results))], \"green\")\n",
    "plt.plot(sp500.loc[Dates[prediction_dates], \"return_40\"].values, \"black\")"
   ]
  },
  {
   "cell_type": "code",
   "execution_count": 46,
   "id": "bb98bc2d-b424-4d70-ba29-7482c3eb57fe",
   "metadata": {},
   "outputs": [],
   "source": [
    "returns = [np.nanmean(results[i][3][:12]) for i in range(len(results))]"
   ]
  },
  {
   "cell_type": "code",
   "execution_count": 47,
   "id": "04d749f3-5928-46b7-86c3-9df20eae028e",
   "metadata": {},
   "outputs": [
    {
     "data": {
      "text/plain": [
       "array([[1.        , 0.67205598],\n",
       "       [0.67205598, 1.        ]])"
      ]
     },
     "execution_count": 47,
     "metadata": {},
     "output_type": "execute_result"
    }
   ],
   "source": [
    "np.corrcoef(sp500.loc[Dates[prediction_dates], \"return_40\"].values, returns)"
   ]
  },
  {
   "cell_type": "code",
   "execution_count": 48,
   "id": "826017ac-aa7c-46e9-bf1b-9490cf26a5f7",
   "metadata": {},
   "outputs": [],
   "source": [
    "sp500_returns = sp500.loc[Dates[prediction_dates], \"return_40\"].values"
   ]
  },
  {
   "cell_type": "code",
   "execution_count": null,
   "id": "dc3fd8fd-b75f-46e6-87c1-8fab43ef82ac",
   "metadata": {},
   "outputs": [],
   "source": [
    "sharpe = []\n",
    "for i in range(len(returns)):\n",
    "    \n",
    "    (returns[i] - sp500_returns[i]) / np.std(returns[:i+1])\n",
    "    \n",
    "    sharpe.append()\n",
    "    \n",
    "    "
   ]
  },
  {
   "cell_type": "code",
   "execution_count": null,
   "id": "a5c68a5a-a2d6-411e-aa4f-3fd00fc1b5a6",
   "metadata": {},
   "outputs": [],
   "source": [
    "\"\"\"\n",
    "sharpe\n",
    "\"\"\"\n",
    "np.mean(returns - sp500_returns) / np.std((returns - sp500_returns))"
   ]
  },
  {
   "cell_type": "code",
   "execution_count": null,
   "id": "291a389b-a8d4-4be9-b41a-3fbf9719bac7",
   "metadata": {},
   "outputs": [],
   "source": [
    "\"\"\"\n",
    "sortino\n",
    "\"\"\"\n",
    "np.mean(returns - sp500_returns) / np.std((returns - sp500_returns)[(returns - sp500_returns < 0)])"
   ]
  },
  {
   "cell_type": "code",
   "execution_count": 26,
   "id": "7c799b7d-2a86-4888-8e03-1c28a87814a7",
   "metadata": {},
   "outputs": [
    {
     "data": {
      "text/plain": [
       "68.42105263157895"
      ]
     },
     "execution_count": 26,
     "metadata": {},
     "output_type": "execute_result"
    }
   ],
   "source": [
    "(np.array([np.nanmean(results[i][3][:12]) for i in range(len(results))]) > 0).sum() / 38 * 100"
   ]
  },
  {
   "cell_type": "code",
   "execution_count": null,
   "id": "f6dcfb06-8881-4c2b-b099-27b370fa4881",
   "metadata": {},
   "outputs": [],
   "source": []
  },
  {
   "cell_type": "code",
   "execution_count": 43,
   "id": "b1da3423-e657-4402-b9e9-8b7f776d5564",
   "metadata": {},
   "outputs": [],
   "source": [
    "cash = 1000\n",
    "\n",
    "for i in [np.nanmean(results[i][3][:12]) for i in range(len(results))][::2]:\n",
    "    cash = cash * (1 + i / 100)\n",
    "    \n",
    "    \n",
    "    "
   ]
  },
  {
   "cell_type": "code",
   "execution_count": 44,
   "id": "a97ce29f-c36f-4fb8-9f94-303949a78314",
   "metadata": {},
   "outputs": [
    {
     "data": {
      "text/plain": [
       "27926.26205146727"
      ]
     },
     "execution_count": 44,
     "metadata": {},
     "output_type": "execute_result"
    }
   ],
   "source": [
    "cash"
   ]
  },
  {
   "cell_type": "code",
   "execution_count": 42,
   "id": "6787f2ff-ce51-4ac2-b179-41674df3922f",
   "metadata": {},
   "outputs": [
    {
     "data": {
      "text/plain": [
       "11477.964149870306"
      ]
     },
     "execution_count": 42,
     "metadata": {},
     "output_type": "execute_result"
    }
   ],
   "source": [
    "cash"
   ]
  },
  {
   "cell_type": "code",
   "execution_count": 40,
   "id": "78fd7a73-b5a5-4123-a42b-a11b0f9dccfa",
   "metadata": {},
   "outputs": [
    {
     "data": {
      "text/plain": [
       "5738.982074935153"
      ]
     },
     "execution_count": 40,
     "metadata": {},
     "output_type": "execute_result"
    }
   ],
   "source": [
    "cash"
   ]
  },
  {
   "cell_type": "code",
   "execution_count": 37,
   "id": "d0a8a8bf-2156-4b8a-9c35-096748673ea4",
   "metadata": {},
   "outputs": [
    {
     "data": {
      "text/plain": [
       "13963.131025733635"
      ]
     },
     "execution_count": 37,
     "metadata": {},
     "output_type": "execute_result"
    }
   ],
   "source": [
    "cash"
   ]
  },
  {
   "cell_type": "code",
   "execution_count": null,
   "id": "8ed78c93-de52-43b3-bbbb-3d4d8d6aa0fb",
   "metadata": {},
   "outputs": [],
   "source": [
    "\"\"\"\n",
    "now we should test on the val sets\n",
    "\"\"\""
   ]
  },
  {
   "cell_type": "code",
   "execution_count": 30,
   "id": "0e855c52-f968-489a-b245-7917eada8997",
   "metadata": {},
   "outputs": [],
   "source": [
    "val1 = pd.read_pickle(\"validation_sets/val1\")"
   ]
  },
  {
   "cell_type": "code",
   "execution_count": 31,
   "id": "9205d8b3-d207-4f4d-8245-8abd1e7be318",
   "metadata": {},
   "outputs": [],
   "source": [
    "val2 = pd.read_pickle(\"validation_sets/val2\")\n",
    "\n",
    "val3 = pd.read_pickle(\"validation_sets/val3\")"
   ]
  },
  {
   "cell_type": "code",
   "execution_count": 32,
   "id": "e23897b2-271e-45a6-a1e6-83983031d166",
   "metadata": {},
   "outputs": [],
   "source": [
    "Date1_val = np.load(\"validation_sets/Date1.npy\", allow_pickle = True)"
   ]
  },
  {
   "cell_type": "code",
   "execution_count": 33,
   "id": "5ceaaaf0-1433-435d-b593-1bab1fe98f7a",
   "metadata": {},
   "outputs": [],
   "source": [
    "Date2_val = np.load(\"validation_sets/Date2.npy\", allow_pickle = True)"
   ]
  },
  {
   "cell_type": "code",
   "execution_count": 34,
   "id": "f3670a37-8f4e-4973-892b-969a0eba0dff",
   "metadata": {},
   "outputs": [],
   "source": [
    "Date3_val = np.load(\"validation_sets/Date3.npy\", allow_pickle = True)"
   ]
  },
  {
   "cell_type": "code",
   "execution_count": 28,
   "id": "eb568606-3441-4042-87f2-83db246dd3bf",
   "metadata": {},
   "outputs": [
    {
     "data": {
      "text/plain": [
       "array(['2011-05-20', '2011-05-23', '2011-05-24', ..., '2021-09-15',\n",
       "       '2021-09-16', '2021-09-17'], dtype=object)"
      ]
     },
     "execution_count": 28,
     "metadata": {},
     "output_type": "execute_result"
    }
   ],
   "source": [
    "Dates"
   ]
  },
  {
   "cell_type": "code",
   "execution_count": 29,
   "id": "6c67cb38-7753-4dcf-b26b-e8fda4d8c152",
   "metadata": {},
   "outputs": [
    {
     "data": {
      "text/plain": [
       "array(['2013-10-18', '2013-10-21', '2013-10-22', ..., '2021-06-22',\n",
       "       '2021-06-23', '2021-06-24'], dtype=object)"
      ]
     },
     "execution_count": 29,
     "metadata": {},
     "output_type": "execute_result"
    }
   ],
   "source": [
    "Dates_secondary"
   ]
  },
  {
   "cell_type": "code",
   "execution_count": 59,
   "id": "6e2a6b2f-eab1-4b5c-9e56-0f901d2c59fc",
   "metadata": {},
   "outputs": [],
   "source": [
    "features1 = pd.read_pickle(\"training_sets/features1\")"
   ]
  },
  {
   "cell_type": "code",
   "execution_count": null,
   "id": "ef518a74-d26d-42de-9b17-4cbdeb17d5a2",
   "metadata": {},
   "outputs": [],
   "source": [
    "\"\"\"\n",
    "pred dates with step of 10 in val set\n",
    "\"\"\"\n",
    "\n"
   ]
  },
  {
   "cell_type": "code",
   "execution_count": 37,
   "id": "b6da044e-8b1f-4789-9ab0-32981a210f58",
   "metadata": {},
   "outputs": [
    {
     "data": {
      "text/plain": [
       "2337"
      ]
     },
     "execution_count": 37,
     "metadata": {},
     "output_type": "execute_result"
    }
   ],
   "source": [
    "len(Dates)"
   ]
  },
  {
   "cell_type": "code",
   "execution_count": 47,
   "id": "6e6aa13b-aac5-44f8-b131-35154e93210b",
   "metadata": {},
   "outputs": [],
   "source": [
    "\n",
    "for i in Date3:\n",
    "    if i in Dates:\n",
    "        print(\"fuuuuck\")"
   ]
  },
  {
   "cell_type": "code",
   "execution_count": 39,
   "id": "b408e14f-04a0-427a-a201-b5c86fa59232",
   "metadata": {},
   "outputs": [],
   "source": [
    "Dates_train_and_val  = Dates.copy()\n",
    "for i in [Date2_val, Date3_val]:\n",
    "    Dates_train_and_val = np.append(Dates_train_and_val, i)"
   ]
  },
  {
   "cell_type": "code",
   "execution_count": null,
   "id": "42ef5513-5b19-413e-b328-6891017fbc6b",
   "metadata": {},
   "outputs": [],
   "source": []
  },
  {
   "cell_type": "code",
   "execution_count": 40,
   "id": "4b973f19-932f-4e07-a3d7-b74b795b1470",
   "metadata": {},
   "outputs": [
    {
     "data": {
      "text/plain": [
       "176"
      ]
     },
     "execution_count": 40,
     "metadata": {},
     "output_type": "execute_result"
    }
   ],
   "source": [
    "len(Dates_train_and_val) - len(Dates)"
   ]
  },
  {
   "cell_type": "code",
   "execution_count": 44,
   "id": "076007a8-e20b-4374-a7db-f38f850ceb39",
   "metadata": {},
   "outputs": [],
   "source": [
    "Dates_train_and_val = np.sort(Dates_train_and_val)"
   ]
  },
  {
   "cell_type": "code",
   "execution_count": 45,
   "id": "04c289c7-99d9-4d15-b2a0-96b5369fdfed",
   "metadata": {},
   "outputs": [
    {
     "data": {
      "text/plain": [
       "2513"
      ]
     },
     "execution_count": 45,
     "metadata": {},
     "output_type": "execute_result"
    }
   ],
   "source": [
    "len(Dates_train_and_val)"
   ]
  },
  {
   "cell_type": "code",
   "execution_count": 48,
   "id": "7fd2bed6-0432-429d-8eb6-ae34af88a88f",
   "metadata": {},
   "outputs": [],
   "source": [
    "prediction_dates = [np.where(Dates_train_and_val == i)[0][0] for i in np.append(Date2_val[40::5], Date3_val[40::5])]"
   ]
  },
  {
   "cell_type": "code",
   "execution_count": 49,
   "id": "75974422-a737-4cb1-bf32-e6c46930266f",
   "metadata": {},
   "outputs": [
    {
     "data": {
      "text/plain": [
       "[813,\n",
       " 818,\n",
       " 823,\n",
       " 828,\n",
       " 833,\n",
       " 838,\n",
       " 843,\n",
       " 848,\n",
       " 853,\n",
       " 858,\n",
       " 2037,\n",
       " 2042,\n",
       " 2047,\n",
       " 2052,\n",
       " 2057,\n",
       " 2062,\n",
       " 2067,\n",
       " 2072,\n",
       " 2077,\n",
       " 2082]"
      ]
     },
     "execution_count": 49,
     "metadata": {},
     "output_type": "execute_result"
    }
   ],
   "source": [
    "prediction_dates"
   ]
  },
  {
   "cell_type": "code",
   "execution_count": 77,
   "id": "53662ef6-9cbd-4f68-8087-0c747a5064a5",
   "metadata": {},
   "outputs": [],
   "source": [
    "unique_cols = np.array([])\n",
    "for i in highest_return_binary_20:\n",
    "    unique_cols = np.append(unique_cols, i)\n",
    "\n",
    "for i in chosen_cols:\n",
    "    unique_cols = np.append(unique_cols, i)"
   ]
  },
  {
   "cell_type": "code",
   "execution_count": null,
   "id": "d49db19e-b01b-4502-80b9-efbe2193035a",
   "metadata": {},
   "outputs": [],
   "source": []
  },
  {
   "cell_type": "code",
   "execution_count": 60,
   "id": "007c32ab-202e-40b6-bd25-8603fb052683",
   "metadata": {},
   "outputs": [
    {
     "name": "stdout",
     "output_type": "stream",
     "text": [
      "1\n",
      "df_create_time: 0.48971449999999095\n",
      "time: 45.285557100000005\n",
      "df_create_time: 0.4163264999999683\n",
      "time: 45.52599269999996\n",
      "df_create_time: 0.4179330999999138\n",
      "time: 45.651370399999905\n",
      "df_create_time: 0.4022817000000032\n",
      "time: 45.987663999999995\n",
      "df_create_time: 0.40225789999999506\n",
      "time: 45.926865200000066\n",
      "df_create_time: 0.39408430000003136\n",
      "time: 45.79271339999991\n",
      "df_create_time: 0.398927699999831\n",
      "time: 45.92406529999994\n",
      "df_create_time: 0.3883527000000413\n",
      "time: 45.9375077000002\n",
      "df_create_time: 0.3872639999999592\n",
      "time: 45.976544399999966\n",
      "df_create_time: 0.4009832000001552\n",
      "time: 46.11791050000011\n",
      "deleted features1\n",
      "imported features3\n",
      "df_create_time: 3.2981099999999515\n",
      "time: 50.3785891\n",
      "df_create_time: 0.5447681000000557\n",
      "time: 50.0601571000002\n",
      "df_create_time: 0.5504922000000079\n",
      "time: 50.12749680000002\n",
      "df_create_time: 0.5650858999999855\n",
      "time: 49.98511270000017\n",
      "df_create_time: 0.5367122999998628\n",
      "time: 49.927523199999996\n",
      "df_create_time: 0.526057499999979\n",
      "time: 50.041947500000106\n",
      "df_create_time: 0.5207871000000068\n",
      "time: 50.14362790000018\n",
      "df_create_time: 0.5048390999997991\n",
      "time: 49.61760509999999\n",
      "df_create_time: 0.5037138000000141\n",
      "time: 49.646431299999904\n",
      "df_create_time: 0.5361215000000357\n",
      "time: 49.649315000000115\n"
     ]
    }
   ],
   "source": [
    "count = 0\n",
    "\n",
    "results = []\n",
    "\n",
    "start_time = time.perf_counter()\n",
    "\n",
    "#while True:\n",
    "    \n",
    "#for cols_trials in [highest_corr_binary_20, highest_corr_binary_100, lowest_corr_binary_20, lowest_corr_binary_100, not_corr_binary_20, not_corr_binary_100, highest_return_binary_20, highest_return_binary_100]:\n",
    "for cols_trials in [highest_return_binary_20]:  \n",
    "    count +=1\n",
    "    print(str(count))\n",
    "\n",
    "    if time.perf_counter() - start_time > 3600:\n",
    "        print(\"sleeping\")\n",
    "        time.sleep(600)\n",
    "        start_time = time.perf_counter()\n",
    "\n",
    "        \n",
    "        \n",
    "    unique_cols = np.array([])\n",
    "    for i in cols_trials:\n",
    "        unique_cols = np.append(unique_cols, i)\n",
    "        \n",
    "    for i in chosen_cols:\n",
    "        unique_cols = np.append(unique_cols, i)\n",
    "    \n",
    "\n",
    "    unique_cols = np.unique(unique_cols)\n",
    "    \n",
    "    unique_cols = np.append(unique_cols, [\"Class_binary_40_20\", \"return_40\"])\n",
    "\n",
    "    \n",
    "    \n",
    "    for prediction_date in prediction_dates:\n",
    "        \n",
    "\n",
    "        results1 = []\n",
    "                    \n",
    "        \n",
    "        start_time_df_create = time.perf_counter()\n",
    "        \n",
    "        \n",
    "        training_period = Dates_train_and_val[prediction_date - 200 - 40 + 1: prediction_date - 40 +1]\n",
    "\n",
    "        prediction_period = Dates_train_and_val[prediction_date]\n",
    "        \n",
    "        \n",
    "         \n",
    "        if len(np.intersect1d(np.append(training_period, prediction_period), Date1)):\n",
    "        \n",
    "            if \"features1\" not in locals():\n",
    "\n",
    "                features1 = pd.read_pickle(\"training_sets/features1\")   \n",
    "                \n",
    "                print(\"imported features1\")\n",
    "\n",
    "            Date1_intersect = np.intersect1d(np.append(training_period, prediction_period), Date1)\n",
    "\n",
    "            X_train_master = features1.loc[Date1_intersect, unique_cols]\n",
    "            \n",
    "\n",
    "        else:\n",
    "\n",
    "            if \"features1\" in locals():\n",
    "                del features1\n",
    "                \n",
    "                print(\"deleted features1\")\n",
    "\n",
    "\n",
    "        if len(np.intersect1d(np.append(training_period, prediction_period), Date2)):\n",
    "            \n",
    "            if \"features2\" not in locals():\n",
    "\n",
    "                features2 = pd.read_pickle(\"training_sets/features2\")\n",
    "                \n",
    "                print(\"imported features2\")\n",
    "                \n",
    "            Date2_intersect = np.intersect1d(np.append(training_period, prediction_period), Date2)\n",
    "                \n",
    "            if \"X_train_master\" in locals():\n",
    "                \n",
    "                X_train_master = X_train_master.append(features2.loc[Date2_intersect, unique_cols])\n",
    "                \n",
    "            else:\n",
    "                \n",
    "                X_train_master = features2.loc[Date2_intersect, unique_cols]\n",
    "                \n",
    "        else:\n",
    "\n",
    "            if \"features2\" in locals():\n",
    "                del features2\n",
    "                \n",
    "                print(\"deleted features2\")\n",
    "\n",
    "\n",
    "        if len(np.intersect1d(np.append(training_period, prediction_period), Date3)):\n",
    "\n",
    "            if \"features3\" not in locals():\n",
    "\n",
    "                features3 = pd.read_pickle(\"training_sets/features3\")\n",
    "                \n",
    "                print(\"imported features3\")\n",
    "                \n",
    "                \n",
    "            Date3_intersect = np.intersect1d(np.append(training_period, prediction_period), Date3)\n",
    "                \n",
    "            if \"X_train_master\" in locals():\n",
    "                \n",
    "                X_train_master = X_train_master.append(features3.loc[Date3_intersect, unique_cols])\n",
    "                \n",
    "            else:\n",
    "                \n",
    "                X_train_master = features3.loc[Date3_intersect, unique_cols]\n",
    "\n",
    "        else:\n",
    "\n",
    "            if \"features3\" in locals():\n",
    "                del features3\n",
    "                \n",
    "                print(\"deleted features3\")\n",
    "                \n",
    "                \n",
    "                \n",
    "        if prediction_date < 2000:\n",
    "            X_train_master = X_train_master.append(val2[unique_cols])\n",
    "            \n",
    "        else:\n",
    "            X_train_master = X_train_master.append(val3[unique_cols])\n",
    "                \n",
    "                \n",
    "        print(\"df_create_time: \"+ str(time.perf_counter() - start_time_df_create))\n",
    "        \n",
    "        start_time_cols = time.perf_counter()\n",
    "        \n",
    "\n",
    "   \n",
    "        \n",
    "        \n",
    "        tickers_basket = np.array([])\n",
    "        tickers_basket2 = np.array([])\n",
    "        \n",
    "        \n",
    "        for col_indx, cols in enumerate(cols_trials):\n",
    "        \n",
    "\n",
    "            X_train, X_test, Y_train = make_dataset_eval_with_extra_return_40_term_from_periods(X_train_master, training_period, prediction_period, cols, \"Class_binary_40_20\")\n",
    "\n",
    "            train_weights = Y_train.map({0:19, 1:1})\n",
    "\n",
    "            xgtrain = xgboost.DMatrix(X_train.values, Y_train.values, feature_names = cols, weight = train_weights)\n",
    "\n",
    "            xgtest = xgboost.DMatrix(X_test.values, feature_names = cols)\n",
    "\n",
    "            bst = xgboost.train(params1, xgtrain, num_boost_round = 20, verbose_eval = False)\n",
    "            \n",
    "            preds = bst.predict(xgtest)\n",
    "\n",
    "            tickers = return_40_metric(preds, X_test)\n",
    "            \n",
    "            tickers_basket = np.append(tickers_basket, tickers)\n",
    "            \n",
    "                            \n",
    "        for i in np.unique(tickers_basket):\n",
    "\n",
    "            tickers_basket2 = np.append(tickers_basket2, np.sum(tickers_basket == i))\n",
    "            \n",
    "        tickers_basket2 = np.unique(tickers_basket)[np.argsort(tickers_basket2)[::-1]]\n",
    "        \n",
    "        results1.append(prediction_period)\n",
    "        \n",
    "        results1.append(tickers_basket2)\n",
    "        \n",
    "        \n",
    "        \n",
    "        \n",
    "        tickers_basket3 = np.array([])\n",
    "        tickers_basket4 = np.array([])\n",
    "            \n",
    "            \n",
    "            \n",
    "        training_period_secondary = Dates_secondary[Dates_secondary <= training_period[-1]]\n",
    "            \n",
    "            \n",
    "        for col_indx2, cols in enumerate(chosen_cols):\n",
    "            \n",
    "\n",
    "            X_train, Y_train = make_dataset_eval_with_extra_return_40_term_from_periods_for_df(df, training_period_secondary, cols, \"Class_binary_40_20\")\n",
    "            \n",
    "            \n",
    "            X_test = shuffle(X_train_master.loc[prediction_period, cols].loc[tickers_basket2])\n",
    "            X_test = X_test.replace([np.inf, -np.inf], np.NaN)\n",
    "            X_test = X_test.dropna(axis = 0)\n",
    "            \n",
    "\n",
    "            scale = int(np.sum(Y_train == 1) / np.sum(Y_train == 0))\n",
    "\n",
    "            train_weights = Y_train.map({0:scale, 1:1})\n",
    "\n",
    "\n",
    "            xgtrain = xgboost.DMatrix(X_train.values, Y_train.values, feature_names = cols, weight = train_weights)\n",
    "\n",
    "            xgtest = xgboost.DMatrix(X_test.values, feature_names = cols)\n",
    "\n",
    "            bst = xgboost.train(params1, xgtrain, num_boost_round = 1, verbose_eval = False)\n",
    "            \n",
    "            preds = bst.predict(xgtest)\n",
    "            \n",
    "            \n",
    "            tickers = return_40_metric_secondary(preds, X_test, scale)\n",
    "            \n",
    "            tickers_basket3 = np.append(tickers_basket3, tickers)\n",
    "            \n",
    "            \n",
    "        for i in np.unique(tickers_basket3):\n",
    "\n",
    "            tickers_basket4 = np.append(tickers_basket4, np.sum(tickers_basket3 == i))\n",
    "            \n",
    "        tickers_basket4 = np.unique(tickers_basket3)[np.argsort(tickers_basket4)[::-1]]\n",
    "        \n",
    "    \n",
    "        returns = X_train_master.loc[prediction_period, \"return_40\"].loc[tickers_basket4].values\n",
    "        \n",
    "        results1.append(tickers_basket4)\n",
    "        results1.append(returns)\n",
    "\n",
    "\n",
    "        \n",
    "        print(\"time: \" + str(time.perf_counter() - start_time_cols))\n",
    "            \n",
    "            \n",
    "        del X_train_master\n",
    "\n",
    "        results.append(results1)\n",
    "\n",
    "        with open(\"FinalTest/results_validation\", \"wb\") as f:\n",
    "            pickle.dump(results, f)\n"
   ]
  },
  {
   "cell_type": "code",
   "execution_count": 66,
   "id": "8d6f0431-86b2-47f6-832e-f7e3d0518dbc",
   "metadata": {},
   "outputs": [
    {
     "data": {
      "text/plain": [
       "[<matplotlib.lines.Line2D at 0x19393c58a00>]"
      ]
     },
     "execution_count": 66,
     "metadata": {},
     "output_type": "execute_result"
    },
    {
     "data": {
      "image/png": "[encoded data removed]",
      "text/plain": [
       "<Figure size 1440x720 with 1 Axes>"
      ]
     },
     "metadata": {
      "needs_background": "light"
     },
     "output_type": "display_data"
    }
   ],
   "source": [
    "plt.figure(figsize = (20, 10))\n",
    "\n",
    "plt.plot([np.nanmean(results[i][3][:12]) for i in range(len(results))], \"blue\")\n",
    "\n",
    "plt.plot([np.nanmean(results[i][3][:]) for i in range(len(results))], \"green\")\n",
    "\n",
    "plt.plot(sp500.loc[Dates_train_and_val[prediction_dates], \"return_40\"].values, \"black\")"
   ]
  },
  {
   "cell_type": "code",
   "execution_count": null,
   "id": "3a0c61e3-6544-470f-906b-fdd1d81c3387",
   "metadata": {},
   "outputs": [],
   "source": []
  }
 ],
 "metadata": {
  "kernelspec": {
   "display_name": "Python 3 (ipykernel)",
   "language": "python",
   "name": "python3"
  },
  "language_info": {
   "codemirror_mode": {
    "name": "ipython",
    "version": 3
   },
   "file_extension": ".py",
   "mimetype": "text/x-python",
   "name": "python",
   "nbconvert_exporter": "python",
   "pygments_lexer": "ipython3",
   "version": "3.8.12"
  }
 },
 "nbformat": 4,
 "nbformat_minor": 5
}
