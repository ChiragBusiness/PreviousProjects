{
 "cells": [
  {
   "cell_type": "code",
   "execution_count": 1,
   "metadata": {},
   "outputs": [],
   "source": [
    "import pandas as pd\n",
    "import numpy as np\n",
    "\n",
    "import matplotlib.pyplot as plt\n",
    "\n",
    "import xgboost\n",
    "\n",
    "from functions import make_dataset\n",
    "\n",
    "from functions import make_portfolio\n",
    "\n",
    "from sklearn.utils import shuffle\n",
    "\n",
    "import time\n",
    "\n",
    "import pickle"
   ]
  },
  {
   "cell_type": "code",
   "execution_count": 17,
   "metadata": {},
   "outputs": [],
   "source": [
    "from pympler import asizeof"
   ]
  },
  {
   "cell_type": "code",
   "execution_count": null,
   "metadata": {},
   "outputs": [],
   "source": []
  },
  {
   "cell_type": "code",
   "execution_count": 2,
   "metadata": {},
   "outputs": [
    {
     "name": "stdout",
     "output_type": "stream",
     "text": [
      "2.2035158000000004\n"
     ]
    }
   ],
   "source": [
    "start = time.perf_counter()\n",
    "features2 = pd.read_pickle(\"training_sets/features2\")\n",
    "print(time.perf_counter() - start)"
   ]
  },
  {
   "cell_type": "code",
   "execution_count": 3,
   "metadata": {},
   "outputs": [],
   "source": [
    "Date1 = np.load(\"training_sets/Date1.npy\", allow_pickle = True)\n",
    "Date2 = np.load(\"training_sets/Date2.npy\", allow_pickle = True)\n",
    "Date3 = np.load(\"training_sets/Date3.npy\", allow_pickle = True)"
   ]
  },
  {
   "cell_type": "code",
   "execution_count": 4,
   "metadata": {},
   "outputs": [],
   "source": [
    "Dates = np.append(Date1, np.append(Date2, Date3))"
   ]
  },
  {
   "cell_type": "code",
   "execution_count": 4,
   "metadata": {},
   "outputs": [],
   "source": [
    "def make_dataset_eval_with_extra_return_40_term_from_periods(df, training_period, prediction_period, cols, pred_col, return_col):\n",
    "    \n",
    "    \n",
    "    X_train = shuffle(df.loc[training_period, np.append(cols, pred_col)])\n",
    "    X_train = X_train.replace([np.inf, -np.inf], np.NaN)\n",
    "    X_train = X_train.dropna(axis = 0)\n",
    "\n",
    "    Y_train = X_train.pop(pred_col)\n",
    "    \n",
    "    \n",
    "    \n",
    "    X_test = shuffle(df.loc[prediction_period, np.append(cols, return_col)])\n",
    "    X_test = X_test.replace([np.inf, -np.inf], np.NaN)\n",
    "    X_test = X_test.dropna(axis = 0)\n",
    "    \n",
    "    Y_return_40 = X_test.pop(return_col)\n",
    "    \n",
    "    return X_train, X_test, Y_train, Y_return_40"
   ]
  },
  {
   "cell_type": "code",
   "execution_count": 5,
   "metadata": {},
   "outputs": [],
   "source": [
    "def make_dataset_eval_with_extra_return_40_term_from_periods_for_regression(df, training_period, prediction_period, cols, return_col):\n",
    "    \n",
    "    \n",
    "    X_train = shuffle(df.loc[training_period, np.append(cols, return_col)])\n",
    "    X_train = X_train.replace([np.inf, -np.inf], np.NaN)\n",
    "    X_train = X_train.dropna(axis = 0)\n",
    "\n",
    "    Y_train_return_40 = X_train.pop(return_col)\n",
    "    \n",
    "    \n",
    "    \n",
    "    X_test = shuffle(df.loc[prediction_period, np.append(cols, return_col)])\n",
    "    X_test = X_test.replace([np.inf, -np.inf], np.NaN)\n",
    "    X_test = X_test.dropna(axis = 0)\n",
    "    \n",
    "    Y_test_return_40 = X_test.pop(return_col)\n",
    "    \n",
    "    return X_train, X_test, Y_train_return_40, Y_test_return_40"
   ]
  },
  {
   "cell_type": "code",
   "execution_count": null,
   "metadata": {},
   "outputs": [],
   "source": []
  },
  {
   "cell_type": "code",
   "execution_count": 5,
   "metadata": {},
   "outputs": [],
   "source": [
    "def return_40_metric(pred, labels):\n",
    "\n",
    "\n",
    "    return np.mean(labels[np.argsort(pred)[:500]]), (1-np.sort(pred)[499]), np.mean(labels[np.argsort(pred)[:100]]), (1-np.sort(pred)[99]), np.mean(labels[np.argsort(pred)[:20]]), (1-np.sort(pred)[19])"
   ]
  },
  {
   "cell_type": "code",
   "execution_count": 6,
   "metadata": {},
   "outputs": [],
   "source": [
    "class my_callback(xgboost.callback.TrainingCallback):\n",
    "    \n",
    "    def __init__(self, xgeval, Y_eval_return_40, results_eval):\n",
    "        self.eval_mine = xgeval\n",
    "        self.eval_return_40 = Y_eval_return_40\n",
    "        self.results_eval_mine = results_eval\n",
    "        \n",
    "        \n",
    "    def after_iteration(self, model, epoch, evals_log):\n",
    "            \n",
    "\n",
    "        predictions_eval = model.predict(self.eval_mine)\n",
    "\n",
    "        self.results_eval_mine.append(return_40_metric(model.predict(self.eval_mine), self.eval_return_40))    \n",
    "        \n",
    "                 \n",
    "            \n",
    "        return False"
   ]
  },
  {
   "cell_type": "code",
   "execution_count": null,
   "metadata": {},
   "outputs": [],
   "source": []
  },
  {
   "cell_type": "code",
   "execution_count": 79,
   "metadata": {},
   "outputs": [],
   "source": [
    "def return_40_metric_for_regression(pred, labels):\n",
    "\n",
    "\n",
    "    return np.mean(labels[np.argsort(pred)[-500:]]), np.sort(pred)[-500], np.mean(labels[np.argsort(pred)[-100:]]), np.sort(pred)[-100], np.mean(labels[np.argsort(pred)[-20:]]), np.sort(pred)[-20]"
   ]
  },
  {
   "cell_type": "code",
   "execution_count": 6,
   "metadata": {},
   "outputs": [],
   "source": [
    "def return_40_metric_for_regression_full(pred, labels):\n",
    "\n",
    "\n",
    "    return labels[np.argsort(pred)[-500:]].values.astype(\"float16\"), np.sort(pred)[-500:].astype(\"float32\"), labels[np.argsort(pred)[-100:]].values.astype(\"float16\"), np.sort(pred)[-100:].astype(\"float32\"), labels[np.argsort(pred)[-20:]].values.astype(\"float16\"), np.sort(pred)[-20:].astype(\"float32\")"
   ]
  },
  {
   "cell_type": "code",
   "execution_count": 81,
   "metadata": {},
   "outputs": [],
   "source": [
    "class my_callback_regression(xgboost.callback.TrainingCallback):\n",
    "    \n",
    "    def __init__(self, xgeval, Y_eval_return_40, results_eval):\n",
    "        self.eval_mine = xgeval\n",
    "        self.eval_return_40 = Y_eval_return_40\n",
    "        self.results_eval_mine = results_eval\n",
    "        \n",
    "        \n",
    "    def after_iteration(self, model, epoch, evals_log):\n",
    "            \n",
    "\n",
    "        predictions_eval = model.predict(self.eval_mine)\n",
    "\n",
    "        self.results_eval_mine.append(return_40_metric_for_regression(model.predict(self.eval_mine), self.eval_return_40))    \n",
    "        \n",
    "                   \n",
    "        return False"
   ]
  },
  {
   "cell_type": "code",
   "execution_count": 136,
   "metadata": {},
   "outputs": [
    {
     "data": {
      "text/plain": [
       "array([ -5.97609562,   6.85483871,   2.18978102, ...,   9.35910478,\n",
       "       -15.17857143, -18.89153754])"
      ]
     },
     "execution_count": 136,
     "metadata": {},
     "output_type": "execute_result"
    }
   ],
   "source": [
    "Y_train_return_40.values"
   ]
  },
  {
   "cell_type": "code",
   "execution_count": 7,
   "metadata": {},
   "outputs": [],
   "source": [
    "class my_callback_regression2(xgboost.callback.TrainingCallback):\n",
    "    \n",
    "    def __init__(self, xgeval, Y_eval_return_40, results_eval):\n",
    "        self.eval_mine = xgeval\n",
    "        self.eval_return_40 = Y_eval_return_40\n",
    "        self.results_eval_mine = results_eval\n",
    "        \n",
    "        \n",
    "    def after_iteration(self, model, epoch, evals_log):\n",
    "        \n",
    "        if not epoch %3:\n",
    "            \n",
    "\n",
    "            predictions_eval = model.predict(self.eval_mine)\n",
    "\n",
    "            self.results_eval_mine.append(return_40_metric_for_regression_full(model.predict(self.eval_mine), self.eval_return_40))    \n",
    "        \n",
    "                   \n",
    "        return False"
   ]
  },
  {
   "cell_type": "code",
   "execution_count": null,
   "metadata": {},
   "outputs": [],
   "source": []
  },
  {
   "cell_type": "code",
   "execution_count": 7,
   "metadata": {},
   "outputs": [],
   "source": [
    "params1 = {\n",
    "  'colsample_bynode': 0.6,\n",
    "    'colsample_bytree' : 0.6,\n",
    "    'colsample_bylevel' : 0.5,\n",
    "  'learning_rate': 0.3,\n",
    "  'max_depth': 3,\n",
    "  'num_parallel_tree': 100,\n",
    "  'objective': 'binary:logistic',\n",
    "  'subsample': 0.9,\n",
    "  'tree_method': 'gpu_hist',\n",
    "    \"verbosity\" : 0,\n",
    "    \"lambda\" : 1,\n",
    "    \"alpha\" : 0\n",
    "}"
   ]
  },
  {
   "cell_type": "code",
   "execution_count": 105,
   "metadata": {},
   "outputs": [],
   "source": [
    "params2 = {\n",
    "  'colsample_bynode': 0.6,\n",
    "    'colsample_bytree' : 0.6,\n",
    "    'colsample_bylevel' : 0.5,\n",
    "  'learning_rate': 0.3,\n",
    "  'max_depth': 3,\n",
    "  'num_parallel_tree': 100,\n",
    "  'objective': 'reg:squarederror',\n",
    "  'subsample': 0.9,\n",
    "  'tree_method': 'gpu_hist',\n",
    "    \"verbosity\" : 0,\n",
    "    \"lambda\" : 1,\n",
    "    \"alpha\" : 0\n",
    "}"
   ]
  },
  {
   "cell_type": "code",
   "execution_count": 8,
   "metadata": {},
   "outputs": [],
   "source": [
    "params3 = {\n",
    "  'colsample_bynode': 0.6,\n",
    "    'colsample_bytree' : 0.6,\n",
    "    'colsample_bylevel' : 0.5,\n",
    "  'learning_rate': 0.3,\n",
    "  'max_depth': 3,\n",
    "  'num_parallel_tree': 100,\n",
    "  'objective': 'reg:squarederror',\n",
    "  'subsample': 0.9,\n",
    "  'tree_method': 'gpu_hist',\n",
    "    \"verbosity\" : 0,\n",
    "    \"lambda\" : 1,\n",
    "    \"alpha\" : 0,\n",
    "    \"gamma\" : 100000\n",
    "}"
   ]
  },
  {
   "cell_type": "code",
   "execution_count": null,
   "metadata": {},
   "outputs": [],
   "source": [
    "\"where_highest_corr_binary_highest_return_cols_100\""
   ]
  },
  {
   "cell_type": "code",
   "execution_count": 8,
   "metadata": {},
   "outputs": [],
   "source": [
    "with open(\"ColSearch2/where_highest_corr_binary_highest_return_cols_20\", \"rb\") as f:\n",
    "    highest_corr_binary_20 = pickle.load(f)"
   ]
  },
  {
   "cell_type": "code",
   "execution_count": 9,
   "metadata": {},
   "outputs": [],
   "source": [
    "with open(\"ColSearch2/where_highest_corr_binary_highest_return_cols_100\", \"rb\") as f:\n",
    "    highest_corr_binary_100 = pickle.load(f)"
   ]
  },
  {
   "cell_type": "code",
   "execution_count": 9,
   "metadata": {},
   "outputs": [],
   "source": [
    "with open(\"ColSearch2/where_highest_corr_reg_highest_return_cols_20\", \"rb\") as f:\n",
    "    highest_corr_binary_20 = pickle.load(f)"
   ]
  },
  {
   "cell_type": "code",
   "execution_count": 10,
   "metadata": {},
   "outputs": [],
   "source": [
    "with open(\"ColSearch2/where_highest_corr_reg_highest_return_cols_100\", \"rb\") as f:\n",
    "    highest_corr_binary_100 = pickle.load(f)"
   ]
  },
  {
   "cell_type": "code",
   "execution_count": 11,
   "metadata": {},
   "outputs": [
    {
     "name": "stdout",
     "output_type": "stream",
     "text": [
      "['Current Ratio' 'Operating Income (Loss)_QC' 'APO_10_40'\n",
      " 'close_10/Close_40' 'BOL_indicator_80'\n",
      " 'Property, Plant & Equipment, Net_QC' 'close_240/Close_320'\n",
      " 'Operating Income (Loss)/Interest Expense, Net_YC' 'close_20/Close_120'\n",
      " 'close_0/Close_160' 'Price to Sales Ratio (quarterly)' 'Total Assets_QC'\n",
      " 'ATR_80' 'ATR_160' 'close_0/Close_240' 'ADX_4_11' 'volatility_80'\n",
      " 'close_0/Close_40' 'volatility_40' 'CMO_120']\n"
     ]
    }
   ],
   "source": [
    "to_remove_indx = []\n",
    "for i in highest_corr_binary_20:\n",
    "    for indx, j in enumerate(highest_corr_binary_100):\n",
    "        \n",
    "        try:\n",
    "            if np.sum(i != j) == 0:\n",
    "                to_remove_indx.append(indx)\n",
    "                \n",
    "                print(i)\n",
    "            \n",
    "        except:\n",
    "            continue\n",
    "            \n",
    "for i in np.sort(to_remove_indx)[::-1]:\n",
    "    del highest_corr_binary_100[i]\n"
   ]
  },
  {
   "cell_type": "code",
   "execution_count": 11,
   "metadata": {},
   "outputs": [],
   "source": [
    "with open(\"ColSearch2/where_lowest_corr_binary_highest_return_cols_20\", \"rb\") as f:\n",
    "    lowest_corr_binary_20 = pickle.load(f)"
   ]
  },
  {
   "cell_type": "code",
   "execution_count": 12,
   "metadata": {},
   "outputs": [],
   "source": [
    "with open(\"ColSearch2/where_lowest_corr_binary_highest_return_cols_100\", \"rb\") as f:\n",
    "    lowest_corr_binary_100 = pickle.load(f)"
   ]
  },
  {
   "cell_type": "code",
   "execution_count": 12,
   "metadata": {},
   "outputs": [],
   "source": [
    "with open(\"ColSearch2/where_lowest_corr_reg_highest_return_cols_20\", \"rb\") as f:\n",
    "    lowest_corr_binary_20 = pickle.load(f)"
   ]
  },
  {
   "cell_type": "code",
   "execution_count": 13,
   "metadata": {},
   "outputs": [],
   "source": [
    "with open(\"ColSearch2/where_lowest_corr_reg_highest_return_cols_100\", \"rb\") as f:\n",
    "    lowest_corr_binary_100 = pickle.load(f)"
   ]
  },
  {
   "cell_type": "code",
   "execution_count": 14,
   "metadata": {},
   "outputs": [
    {
     "name": "stdout",
     "output_type": "stream",
     "text": [
      "['volatility_360' 'ATR_20' 'Current Ratio' 'close_80/Close_160'\n",
      " 'volatility_40' 'Total Assets_YC' 'close_20/Close_120' 'volstd_160']\n"
     ]
    }
   ],
   "source": [
    "to_remove_indx = []\n",
    "for i in lowest_corr_binary_20:\n",
    "    for indx, j in enumerate(lowest_corr_binary_100):\n",
    "        \n",
    "        try:\n",
    "            if np.sum(i != j) == 0:\n",
    "                to_remove_indx.append(indx)\n",
    "                \n",
    "                print(i)\n",
    "            \n",
    "        except:\n",
    "            continue\n",
    "            \n",
    "for i in np.sort(to_remove_indx)[::-1]:\n",
    "    del lowest_corr_binary_100[i]\n"
   ]
  },
  {
   "cell_type": "code",
   "execution_count": null,
   "metadata": {},
   "outputs": [],
   "source": []
  },
  {
   "cell_type": "code",
   "execution_count": 14,
   "metadata": {},
   "outputs": [],
   "source": [
    "with open(\"ColSearch2/where_not_corr_binary_highest_return_cols_20\", \"rb\") as f:\n",
    "    not_corr_binary_20 = pickle.load(f)"
   ]
  },
  {
   "cell_type": "code",
   "execution_count": 15,
   "metadata": {},
   "outputs": [],
   "source": [
    "with open(\"ColSearch2/where_not_corr_binary_highest_return_cols_100\", \"rb\") as f:\n",
    "    not_corr_binary_100 = pickle.load(f)"
   ]
  },
  {
   "cell_type": "code",
   "execution_count": 15,
   "metadata": {},
   "outputs": [],
   "source": [
    "with open(\"ColSearch2/where_not_corr_reg_highest_return_cols_20\", \"rb\") as f:\n",
    "    not_corr_binary_20 = pickle.load(f)"
   ]
  },
  {
   "cell_type": "code",
   "execution_count": 16,
   "metadata": {},
   "outputs": [],
   "source": [
    "with open(\"ColSearch2/where_not_corr_reg_highest_return_cols_100\", \"rb\") as f:\n",
    "    not_corr_binary_100 = pickle.load(f)"
   ]
  },
  {
   "cell_type": "code",
   "execution_count": 17,
   "metadata": {},
   "outputs": [
    {
     "data": {
      "text/plain": [
       "(10, 1)"
      ]
     },
     "execution_count": 17,
     "metadata": {},
     "output_type": "execute_result"
    }
   ],
   "source": [
    "len(not_corr_binary_20), len(not_corr_binary_100)"
   ]
  },
  {
   "cell_type": "code",
   "execution_count": 18,
   "metadata": {},
   "outputs": [],
   "source": [
    "to_remove_indx = []\n",
    "for i in not_corr_binary_20:\n",
    "    for indx, j in enumerate(not_corr_binary_100):\n",
    "        \n",
    "        try:\n",
    "            if np.sum(i != j) == 0:\n",
    "                to_remove_indx.append(indx)\n",
    "                \n",
    "                print(i)\n",
    "            \n",
    "        except:\n",
    "            continue\n",
    "            \n",
    "for i in np.sort(to_remove_indx)[::-1]:\n",
    "    del not_corr_binary_100[i]"
   ]
  },
  {
   "cell_type": "code",
   "execution_count": null,
   "metadata": {},
   "outputs": [],
   "source": []
  },
  {
   "cell_type": "code",
   "execution_count": 17,
   "metadata": {},
   "outputs": [],
   "source": [
    "with open(\"ColSearch2/where_highest_return_binary_cols_20\", \"rb\") as f:\n",
    "    highest_return_binary_20 = pickle.load(f)"
   ]
  },
  {
   "cell_type": "code",
   "execution_count": 18,
   "metadata": {},
   "outputs": [],
   "source": [
    "with open(\"ColSearch2/where_highest_return_binary_cols_100\", \"rb\") as f:\n",
    "    highest_return_binary_100 = pickle.load(f)"
   ]
  },
  {
   "cell_type": "code",
   "execution_count": 9,
   "metadata": {},
   "outputs": [],
   "source": [
    "with open(\"ColSearch2/where_highest_return_reg_cols_20\", \"rb\") as f:\n",
    "    highest_return_binary_20 = pickle.load(f)"
   ]
  },
  {
   "cell_type": "code",
   "execution_count": 10,
   "metadata": {},
   "outputs": [],
   "source": [
    "with open(\"ColSearch2/where_highest_return_reg_cols_100\", \"rb\") as f:\n",
    "    highest_return_binary_100 = pickle.load(f)"
   ]
  },
  {
   "cell_type": "code",
   "execution_count": 11,
   "metadata": {},
   "outputs": [
    {
     "name": "stdout",
     "output_type": "stream",
     "text": [
      "['Operating Income (Loss)_QC' 'ATR_20' 'volatility_360'\n",
      " 'close_80/Close_160' 'Property, Plant & Equipment, Net_YC'\n",
      " 'close_0/Close_160' 'Share Capital & Additional Paid-In Capital'\n",
      " 'volatility_40' 'close_0/Close_100' 'close_0/Close_40'\n",
      " 'Price to Sales Ratio (quarterly)' 'volatility_20' 'volstd_40'\n",
      " 'BOL_indicator_80' 'Net Income_YC' 'Close' 'close_0/Close_130'\n",
      " 'close_10/Close_320' 'AROON_20' 'DEMA_120'\n",
      " 'Equity Before Minority Interest/Total Equity_YC' 'close_120/Close_240']\n",
      "['volatility_20' 'Close' 'Equity Before Minority Interest/Total Equity_YC'\n",
      " 'close_10/Close_160' 'Property, Plant & Equipment, Net_YC' 'CMO_40'\n",
      " 'volatility_40' 'DEMA_160' 'Revenue_YC' 'volstd_160'\n",
      " 'Total Current Liabilities/Total Liabilities_QC' 'close_0/Close_40'\n",
      " 'close_20/Close_120' 'Price to Book Value_QC' 'close_120/Close_360'\n",
      " 'ATR_80' 'MFI_80' 'close_240/Close_320' 'volstd_40']\n",
      "['Total Assets_YC' 'APO_10_20' 'ATR_20' 'volstd_40' 'close_120/Close_360'\n",
      " 'close_120/Close_240' 'Close' 'volatility_20']\n",
      "['close_80/Close_160' 'Property, Plant & Equipment, Net_QC' 'ULTOSC_56'\n",
      " 'ATR_40' 'close_0/Close_130' 'ABAND_signal_20'\n",
      " 'Total Current Assets/Total Assets' 'BOL_indicator_80'\n",
      " 'BOL_indicator_120' 'Property, Plant & Equipment, Net_YC'\n",
      " 'Equity Before Minority Interest/Total Equity_YC' 'close_0/Close_40'\n",
      " 'Book to Market Value' 'Revenue_YC' 'APO_10_20' 'Total Assets_QC'\n",
      " 'volatility_20' 'Operating Income (Loss)_QC' 'Current Ratio']\n",
      "['APO_10_20' 'ADX_4_11' 'volatility_360' 'ULTOSC_56' 'close_80/Close_160'\n",
      " 'close_10/Close_120' 'volatility_120' 'close_240/Close_320'\n",
      " 'volatility_80' 'ABAND_signal_20' 'Close' 'Total Assets_QC'\n",
      " 'close_120/Close_360' 'close_0/Close_160'\n",
      " 'Price to Sales Ratio (quarterly)' 'Total Assets_YC' 'volstd_160']\n",
      "['BOL_indicator_120' 'close_0/Close_70' 'close_0/Close_240'\n",
      " 'close_120/Close_360' 'Close' 'close_0/Close_40' 'close_10/Close_160'\n",
      " 'ATR_160']\n"
     ]
    }
   ],
   "source": [
    "to_remove_indx = []\n",
    "for i in highest_return_binary_20:\n",
    "    for indx, j in enumerate(highest_return_binary_100):\n",
    "        \n",
    "        try:\n",
    "            if np.sum(i != j) == 0:\n",
    "                to_remove_indx.append(indx)\n",
    "                \n",
    "                print(i)\n",
    "            \n",
    "        except:\n",
    "            continue\n",
    "            \n",
    "for i in np.sort(to_remove_indx)[::-1]:\n",
    "    del highest_return_binary_100[i]"
   ]
  },
  {
   "cell_type": "code",
   "execution_count": 20,
   "metadata": {},
   "outputs": [
    {
     "data": {
      "text/plain": [
       "[]"
      ]
     },
     "execution_count": 20,
     "metadata": {},
     "output_type": "execute_result"
    }
   ],
   "source": [
    "highest_return_binary_100"
   ]
  },
  {
   "cell_type": "code",
   "execution_count": 12,
   "metadata": {},
   "outputs": [],
   "source": [
    "prediction_dates = np.linspace(650, len(Dates) - 80, 20).astype(int)"
   ]
  },
  {
   "cell_type": "code",
   "execution_count": 13,
   "metadata": {},
   "outputs": [],
   "source": [
    "prediction_dates = (prediction_dates + 40)[:-1]"
   ]
  },
  {
   "cell_type": "code",
   "execution_count": 14,
   "metadata": {},
   "outputs": [],
   "source": [
    "prediction_dates = (prediction_dates -20)"
   ]
  },
  {
   "cell_type": "code",
   "execution_count": 15,
   "metadata": {},
   "outputs": [
    {
     "data": {
      "text/plain": [
       "array([ 670,  754,  839,  923, 1008, 1092, 1177, 1262, 1346, 1431, 1515,\n",
       "       1600, 1684, 1769, 1854, 1938, 2023, 2107, 2192])"
      ]
     },
     "execution_count": 15,
     "metadata": {},
     "output_type": "execute_result"
    }
   ],
   "source": [
    "prediction_dates"
   ]
  },
  {
   "cell_type": "code",
   "execution_count": 15,
   "metadata": {},
   "outputs": [
    {
     "name": "stdout",
     "output_type": "stream",
     "text": [
      "1\n",
      "imported features1\n",
      "deleted features2\n",
      "df_create_time: 3.9776847999999987\n",
      "10 cols time: 137.9439748\n",
      "imported features2\n",
      "df_create_time: 4.6152153999999825\n",
      "10 cols time: 135.78599200000002\n",
      "df_create_time: 0.49386190000001307\n",
      "10 cols time: 134.47227070000002\n",
      "df_create_time: 0.5160558999999694\n",
      "10 cols time: 137.54995739999998\n",
      "df_create_time: 0.5069138000000066\n",
      "10 cols time: 141.12992380000003\n",
      "deleted features1\n",
      "df_create_time: 0.607921200000078\n",
      "10 cols time: 146.87609010000006\n",
      "df_create_time: 0.4012936000000309\n",
      "10 cols time: 148.46112859999994\n",
      "df_create_time: 0.40795989999992344\n",
      "10 cols time: 147.2785801\n",
      "df_create_time: 0.42616720000000896\n",
      "10 cols time: 144.69565999999986\n",
      "df_create_time: 0.411350400000174\n",
      "10 cols time: 160.45981669999992\n",
      "df_create_time: 0.42602160000001277\n",
      "10 cols time: 162.06858039999997\n",
      "imported features3\n",
      "df_create_time: 7.064660999999887\n",
      "10 cols time: 148.6428201000001\n",
      "df_create_time: 0.6363589000000047\n",
      "10 cols time: 147.93679250000014\n",
      "df_create_time: 0.5509440999999242\n",
      "10 cols time: 148.4925584\n",
      "deleted features2\n",
      "df_create_time: 0.7513416000001598\n",
      "10 cols time: 152.31529690000025\n",
      "df_create_time: 0.41069729999981064\n",
      "10 cols time: 153.8381890999999\n",
      "df_create_time: 0.42520329999979367\n",
      "10 cols time: 170.98246430000017\n",
      "df_create_time: 0.41151110000009794\n",
      "10 cols time: 178.71988310000006\n",
      "df_create_time: 0.44717320000017935\n",
      "10 cols time: 181.87281660000008\n",
      "2\n",
      "imported features1\n",
      "deleted features3\n",
      "df_create_time: 3.7767156999998406\n",
      "10 cols time: 55.69556130000001\n",
      "imported features2\n",
      "df_create_time: 7.225242999999864\n",
      "10 cols time: 56.25585099999989\n",
      "df_create_time: 0.5238266999999723\n",
      "10 cols time: 54.90999479999982\n",
      "df_create_time: 0.4973144999999022\n",
      "10 cols time: 55.813729700000295\n",
      "df_create_time: 0.47774299999991854\n",
      "10 cols time: 57.629188500000055\n",
      "deleted features1\n",
      "df_create_time: 0.6740209999998115\n",
      "10 cols time: 60.48002849999966\n",
      "df_create_time: 0.4086802000001626\n",
      "10 cols time: 60.50281920000043\n",
      "df_create_time: 0.4109912999997505\n",
      "10 cols time: 60.594795700000304\n",
      "df_create_time: 0.4055402000003596\n",
      "10 cols time: 60.20372440000028\n",
      "df_create_time: 0.4189803999997821\n",
      "10 cols time: 70.28097030000026\n",
      "df_create_time: 0.4132601000001159\n",
      "10 cols time: 70.28950280000026\n",
      "imported features3\n",
      "df_create_time: 10.129108000000087\n",
      "10 cols time: 61.5952913000001\n",
      "df_create_time: 0.5500176000000465\n",
      "10 cols time: 61.159841199999846\n",
      "df_create_time: 0.5007807000001776\n",
      "10 cols time: 60.76977010000019\n",
      "deleted features2\n",
      "df_create_time: 0.6680452999999034\n",
      "10 cols time: 62.765733100000034\n",
      "df_create_time: 0.4191688000000795\n",
      "10 cols time: 63.3673302000002\n",
      "df_create_time: 0.39999919999991107\n",
      "10 cols time: 71.37366969999994\n",
      "df_create_time: 0.39802920000011\n",
      "10 cols time: 74.6041567000002\n",
      "df_create_time: 0.39623570000003383\n",
      "10 cols time: 75.38025209999978\n"
     ]
    }
   ],
   "source": [
    "count = 0\n",
    "#results_reg = []\n",
    "results_reg_pruned = []\n",
    "start_time = time.perf_counter()\n",
    "\n",
    "#while True:\n",
    "    \n",
    "#for cols_trials in [highest_corr_binary_20, highest_corr_binary_100, lowest_corr_binary_20, lowest_corr_binary_100, not_corr_binary_20, not_corr_binary_100, highest_return_binary_20, highest_return_binary_100]:\n",
    "for cols_trials in [highest_return_binary_20, highest_return_binary_100]:  \n",
    "    count +=1\n",
    "    print(str(count))\n",
    "\n",
    "    if time.perf_counter() - start_time > 3600:\n",
    "        print(\"sleeping\")\n",
    "        time.sleep(600)\n",
    "        start_time = time.perf_counter()\n",
    "\n",
    "        \n",
    "        \n",
    "    unique_cols = np.array([])\n",
    "    for i in cols_trials:\n",
    "        unique_cols = np.append(unique_cols, i)\n",
    "\n",
    "    unique_cols = np.unique(unique_cols)\n",
    "    \n",
    "    #unique_cols = np.append(unique_cols, [\"Class_binary_40_20\", \"return_40\"])\n",
    "    unique_cols = np.append(unique_cols, [\"return_40\"])\n",
    "    \n",
    "    #results1_reg = []\n",
    "    results1_pruned = []\n",
    "    \n",
    "    \n",
    "    for prediction_date in prediction_dates:\n",
    "        \n",
    "        \n",
    "        #results2_reg = []\n",
    "        results2_pruned = []\n",
    "        \n",
    "        start_time_df_create = time.perf_counter()\n",
    "        \n",
    "        \n",
    "        training_period = Dates[prediction_date - 200 - 40 + 1: prediction_date - 40 +1]\n",
    "\n",
    "        prediction_period = Dates[prediction_date :prediction_date + 20 + 1]\n",
    "        \n",
    "         \n",
    "        if len(np.intersect1d(np.append(training_period, prediction_period), Date1)):\n",
    "        \n",
    "            if \"features1\" not in locals():\n",
    "\n",
    "                features1 = pd.read_pickle(\"training_sets/features1\")   \n",
    "                \n",
    "                print(\"imported features1\")\n",
    "\n",
    "            Date1_intersect = np.intersect1d(np.append(training_period, prediction_period), Date1)\n",
    "\n",
    "            X_train_master = features1.loc[Date1_intersect, unique_cols]\n",
    "            \n",
    "\n",
    "        else:\n",
    "\n",
    "            if \"features1\" in locals():\n",
    "                del features1\n",
    "                \n",
    "                print(\"deleted features1\")\n",
    "\n",
    "\n",
    "        if len(np.intersect1d(np.append(training_period, prediction_period), Date2)):\n",
    "            \n",
    "            if \"features2\" not in locals():\n",
    "\n",
    "                features2 = pd.read_pickle(\"training_sets/features2\")\n",
    "                \n",
    "                print(\"imported features2\")\n",
    "                \n",
    "            Date2_intersect = np.intersect1d(np.append(training_period, prediction_period), Date2)\n",
    "                \n",
    "            if \"X_train_master\" in locals():\n",
    "                \n",
    "                X_train_master = X_train_master.append(features2.loc[Date2_intersect, unique_cols])\n",
    "                \n",
    "            else:\n",
    "                \n",
    "                X_train_master = features2.loc[Date2_intersect, unique_cols]\n",
    "                \n",
    "        else:\n",
    "\n",
    "            if \"features2\" in locals():\n",
    "                del features2\n",
    "                \n",
    "                print(\"deleted features2\")\n",
    "\n",
    "\n",
    "        if len(np.intersect1d(np.append(training_period, prediction_period), Date3)):\n",
    "\n",
    "            if \"features3\" not in locals():\n",
    "\n",
    "                features3 = pd.read_pickle(\"training_sets/features3\")\n",
    "                \n",
    "                print(\"imported features3\")\n",
    "                \n",
    "                \n",
    "            Date3_intersect = np.intersect1d(np.append(training_period, prediction_period), Date3)\n",
    "                \n",
    "            if \"X_train_master\" in locals():\n",
    "                \n",
    "                X_train_master = X_train_master.append(features3.loc[Date3_intersect, unique_cols])\n",
    "                \n",
    "            else:\n",
    "                \n",
    "                X_train_master = features3.loc[Date3_intersect, unique_cols]\n",
    "\n",
    "        else:\n",
    "\n",
    "            if \"features3\" in locals():\n",
    "                del features3\n",
    "                \n",
    "                print(\"deleted features3\")\n",
    "                \n",
    "                \n",
    "        print(\"df_create_time: \"+ str(time.perf_counter() - start_time_df_create))\n",
    "        \n",
    "        start_time_cols = time.perf_counter()\n",
    "        \n",
    "        for col_indx, cols in enumerate(cols_trials):\n",
    "\n",
    "        \n",
    "            #results3_reg = []\n",
    "            results3_pruned = []\n",
    "\n",
    "            #X_train, X_test, Y_train, Y_return_40 = make_dataset_eval_with_extra_return_40_term_from_periods(X_train_master, training_period, prediction_period, cols, \"Class_binary_40_20\", \"return_40\")\n",
    "\n",
    "            #train_weights = Y_train.map({0:19, 1:1})\n",
    "\n",
    "            #xgtrain = xgboost.DMatrix(X_train.values, Y_train.values, feature_names = cols, weight = train_weights)\n",
    "\n",
    "            #xgtest = xgboost.DMatrix(X_test.values, feature_names = cols)\n",
    "\n",
    "            #data = []\n",
    "\n",
    "            #mycallback = my_callback(xgtest, Y_return_40, data)\n",
    "\n",
    "            #bst = xgboost.train(params1, xgtrain, num_boost_round = 120, verbose_eval = False, callbacks = [mycallback])\n",
    "            \n",
    "            \n",
    "            \n",
    "            X_train, X_test, Y_train_return_40, Y_test_return_40 = make_dataset_eval_with_extra_return_40_term_from_periods_for_regression(X_train_master, training_period, prediction_period, cols, \"return_40\")\n",
    "\n",
    "            xgtrain = xgboost.DMatrix(X_train.values, Y_train_return_40.values, feature_names = cols)\n",
    "\n",
    "            xgtest = xgboost.DMatrix(X_test.values, feature_names = cols)\n",
    "            \n",
    "            \n",
    "\n",
    "            #data = []\n",
    "\n",
    "            #mycallback = my_callback_regression2(xgtest, Y_test_return_40, data)\n",
    "\n",
    "            #bst = xgboost.train(params2, xgtrain, num_boost_round = 6, verbose_eval = False, callbacks = [mycallback])\n",
    "            \n",
    "\n",
    "            \n",
    "            #results3_reg.append(str(count) + str(col_indx))\n",
    "            #results3_reg.append(prediction_date)\n",
    "            #results3_reg.append(cols)\n",
    "            #results3_reg.append(data)\n",
    "            #results3_reg.append(bst.get_score(importance_type='weight'))\n",
    "            #results3_reg.append(bst.get_score(importance_type='gain'))\n",
    "            #results3_reg.append(bst.get_score(importance_type='cover'))\n",
    "\n",
    "            #results2_reg.append(results3_reg)\n",
    "            \n",
    "\n",
    "\n",
    "            data = []\n",
    "\n",
    "            mycallback = my_callback_regression2(xgtest, Y_test_return_40, data)\n",
    "\n",
    "            bst = xgboost.train(params3, xgtrain, num_boost_round = 120, verbose_eval = False, callbacks = [mycallback])\n",
    "            \n",
    "\n",
    "            \n",
    "            results3_pruned.append(str(count) + str(col_indx))\n",
    "            results3_pruned.append(prediction_date)\n",
    "            results3_pruned.append(cols)\n",
    "            results3_pruned.append(data)\n",
    "            results3_pruned.append(bst.get_score(importance_type='weight'))\n",
    "            results3_pruned.append(bst.get_score(importance_type='gain'))\n",
    "            results3_pruned.append(bst.get_score(importance_type='cover'))\n",
    "\n",
    "            results2_pruned.append(results3_pruned)\n",
    "            \n",
    "\n",
    "            \n",
    "        #results1_reg.append(results2_reg)\n",
    "        results1_pruned.append(results2_pruned)\n",
    "        \n",
    "        print(\"10 cols time: \" + str(time.perf_counter() - start_time_cols))\n",
    "            \n",
    "            \n",
    "        del X_train_master\n",
    "        \n",
    "    #results_reg.append(results1_reg)\n",
    "    results_reg_pruned.append(results1_pruned)\n",
    "    \n",
    "    #with open(\"ColSearch3/results_regVsPruned_reg.pkl\", \"wb\") as f:\n",
    "    #    pickle.dump(results_reg, f)\n",
    "        \n",
    "    with open(\"ColSearch3/results_regVsPruned_pruned.pkl\", \"wb\") as f:\n",
    "        pickle.dump(results_reg_pruned, f)\n",
    "        \n",
    "    \n"
   ]
  },
  {
   "cell_type": "code",
   "execution_count": 20,
   "metadata": {},
   "outputs": [],
   "source": [
    "with open(\"ColSearch3/results_regVsPruned_reg.pkl\", \"rb\") as f:\n",
    "    results_reg = pickle.load(f)\n",
    "\n",
    "with open(\"ColSearch3/results_regVsPruned_pruned.pkl\", \"rb\") as f:\n",
    "    results_reg_pruned = pickle.load(f)"
   ]
  },
  {
   "cell_type": "code",
   "execution_count": null,
   "metadata": {},
   "outputs": [],
   "source": [
    "\"\"\"[highest_corr_binary_20, highest_corr_binary_100, lowest_corr_binary_20, lowest_corr_binary_100, not_corr_binary_20, not_corr_binary_100, highest_return_binary_20]:\"\"\"\n"
   ]
  },
  {
   "cell_type": "code",
   "execution_count": 7,
   "metadata": {},
   "outputs": [],
   "source": [
    "with open(\"ColSearch3/results_reg.pkl\", \"rb\") as f:\n",
    "        results = pickle.load(f)"
   ]
  },
  {
   "cell_type": "code",
   "execution_count": 8,
   "metadata": {},
   "outputs": [],
   "source": [
    "sp500= pd.read_pickle(\"External_data/sp500\")"
   ]
  },
  {
   "cell_type": "code",
   "execution_count": 9,
   "metadata": {},
   "outputs": [
    {
     "data": {
      "text/plain": [
       "array([ 690,  774,  859,  943, 1028, 1112, 1197, 1282, 1366, 1451, 1535,\n",
       "       1620, 1704, 1789, 1874, 1958, 2043, 2127, 2212])"
      ]
     },
     "execution_count": 9,
     "metadata": {},
     "output_type": "execute_result"
    }
   ],
   "source": [
    "prediction_dates"
   ]
  },
  {
   "cell_type": "code",
   "execution_count": 10,
   "metadata": {},
   "outputs": [],
   "source": [
    "sp500_return = []\n",
    "for i in prediction_dates:\n",
    "    sp500_return.append(np.mean(sp500.loc[Dates[i : i+20], \"return_40\"]))\n",
    "    \n",
    "    "
   ]
  },
  {
   "cell_type": "code",
   "execution_count": 25,
   "metadata": {},
   "outputs": [],
   "source": [
    "results_reg_parsed = []\n",
    "\n",
    "for i in results_reg:\n",
    "    thing = []\n",
    "    thing2 = []\n",
    "    \n",
    "    \n",
    "    for j in i:\n",
    "        length = len(j)\n",
    "        \n",
    "        for q in j:\n",
    "            \n",
    "            thing.append(q)\n",
    "            \n",
    "            \n",
    "    for v in range(length):\n",
    "        thing2.append(thing[v::length])\n",
    "        \n",
    "    results_reg_parsed.append(thing2)\n"
   ]
  },
  {
   "cell_type": "code",
   "execution_count": 17,
   "metadata": {},
   "outputs": [
    {
     "data": {
      "text/plain": [
       "19"
      ]
     },
     "execution_count": 17,
     "metadata": {},
     "output_type": "execute_result"
    }
   ],
   "source": [
    "len(results_reg_parsed[1][0])"
   ]
  },
  {
   "cell_type": "code",
   "execution_count": 26,
   "metadata": {},
   "outputs": [],
   "source": [
    "results_reg = results_reg_parsed\n"
   ]
  },
  {
   "cell_type": "code",
   "execution_count": 24,
   "metadata": {},
   "outputs": [],
   "source": [
    "results_pruned = results_reg_pruned_parsed"
   ]
  },
  {
   "cell_type": "code",
   "execution_count": 20,
   "metadata": {},
   "outputs": [
    {
     "name": "stderr",
     "output_type": "stream",
     "text": [
      "<ipython-input-20-ffc94d4237b0>:8: VisibleDeprecationWarning: Creating an ndarray from ragged nested sequences (which is a list-or-tuple of lists-or-tuples-or ndarrays with different lengths or shapes) is deprecated. If you meant to do this, you must specify 'dtype=object' when creating the ndarray\n",
      "  thing = np.append(thing, np.array(j[3])[:,4])\n"
     ]
    }
   ],
   "source": [
    "thing = np.array([])\n",
    "dataset = results_reg\n",
    "\n",
    "\n",
    "for q in range(len(dataset)):\n",
    "    for i in dataset[q]:\n",
    "        for j in i:\n",
    "            thing = np.append(thing, np.array(j[3])[:,4])\n",
    "                    "
   ]
  },
  {
   "cell_type": "code",
   "execution_count": 205,
   "metadata": {},
   "outputs": [],
   "source": [
    "thing = np.array([])\n",
    "\n",
    "\n",
    "\n",
    "for q in range(len(results_parsed)):\n",
    "    if q == 6:\n",
    "        \n",
    "        for i in results_parsed[q]:\n",
    "            for indx, j in enumerate(i):\n",
    "                if indx == 17 or indx == 15 or indx == 6 or indx == 5:\n",
    "                    continue\n",
    "                thing = np.append(thing, np.array(j[3])[:,4])"
   ]
  },
  {
   "cell_type": "code",
   "execution_count": null,
   "metadata": {},
   "outputs": [],
   "source": []
  },
  {
   "cell_type": "code",
   "execution_count": 34,
   "metadata": {},
   "outputs": [
    {
     "name": "stderr",
     "output_type": "stream",
     "text": [
      "<ipython-input-34-41b73a411cb7>:9: VisibleDeprecationWarning: Creating an ndarray from ragged nested sequences (which is a list-or-tuple of lists-or-tuples-or ndarrays with different lengths or shapes) is deprecated. If you meant to do this, you must specify 'dtype=object' when creating the ndarray\n",
      "  thing = np.append(thing, [np.mean(np.array(j[3])[:,4][v]) for v in range(40)])\n"
     ]
    }
   ],
   "source": [
    "thing = np.array([])\n",
    "\n",
    "#dataset = results_reg\n",
    "dataset = results_pruned\n",
    "for q in range(len(dataset)):\n",
    "    for i in dataset[q]:\n",
    "        for j in i:\n",
    "            \n",
    "            thing = np.append(thing, [np.mean(np.array(j[3])[:,4][v]) for v in range(40)])"
   ]
  },
  {
   "cell_type": "code",
   "execution_count": 35,
   "metadata": {},
   "outputs": [],
   "source": [
    "pruned = np.mean(np.reshape(thing, (-1, 40)), axis = 0)"
   ]
  },
  {
   "cell_type": "code",
   "execution_count": 33,
   "metadata": {},
   "outputs": [],
   "source": [
    "reg = np.mean(np.reshape(thing, (-1, 40)), axis = 0)"
   ]
  },
  {
   "cell_type": "code",
   "execution_count": 36,
   "metadata": {},
   "outputs": [
    {
     "data": {
      "text/plain": [
       "[<matplotlib.lines.Line2D at 0x22febf87250>]"
      ]
     },
     "execution_count": 36,
     "metadata": {},
     "output_type": "execute_result"
    },
    {
     "data": {
      "image/png": "[encoded data removed]",
      "text/plain": [
       "<Figure size 1440x720 with 1 Axes>"
      ]
     },
     "metadata": {
      "needs_background": "light"
     },
     "output_type": "display_data"
    }
   ],
   "source": [
    "\"\"\"\n",
    "returns vs boosting rounds as a whole\n",
    "\n",
    "\"\"\"\n",
    "plt.figure(figsize = (20, 10))\n",
    "\n",
    "#plt.plot(np.mean(np.reshape(thing, (-1, 120)), axis = 0))\n",
    "plt.plot(np.arange(0, 120)[::3], reg)\n",
    "plt.plot(np.arange(0, 120)[::3], pruned)"
   ]
  },
  {
   "cell_type": "code",
   "execution_count": 43,
   "metadata": {},
   "outputs": [
    {
     "data": {
      "text/plain": [
       "40"
      ]
     },
     "execution_count": 43,
     "metadata": {},
     "output_type": "execute_result"
    }
   ],
   "source": [
    "np.arange(0, 120)[::3]"
   ]
  },
  {
   "cell_type": "code",
   "execution_count": 40,
   "metadata": {},
   "outputs": [
    {
     "data": {
      "text/plain": [
       "4.504"
      ]
     },
     "execution_count": 40,
     "metadata": {},
     "output_type": "execute_result"
    }
   ],
   "source": [
    "q = results_reg[0][0][0]\n",
    "np.mean([np.mean(q[3][v][0]) for v in range(15, 25)])"
   ]
  },
  {
   "cell_type": "code",
   "execution_count": 43,
   "metadata": {},
   "outputs": [
    {
     "data": {
      "text/plain": [
       "0"
      ]
     },
     "execution_count": 43,
     "metadata": {},
     "output_type": "execute_result"
    }
   ],
   "source": [
    "indx"
   ]
  },
  {
   "cell_type": "code",
   "execution_count": 48,
   "metadata": {},
   "outputs": [
    {
     "name": "stderr",
     "output_type": "stream",
     "text": [
      "C:\\Users\\Chirag\\anaconda3\\lib\\site-packages\\numpy\\core\\_asarray.py:83: VisibleDeprecationWarning: Creating an ndarray from ragged nested sequences (which is a list-or-tuple of lists-or-tuples-or ndarrays with different lengths or shapes) is deprecated. If you meant to do this, you must specify 'dtype=object' when creating the ndarray\n",
      "  return array(a, dtype, copy=False, order=order)\n"
     ]
    },
    {
     "data": {
      "text/plain": [
       "(10, 19, 7)"
      ]
     },
     "execution_count": 48,
     "metadata": {},
     "output_type": "execute_result"
    }
   ],
   "source": [
    "np.shape(q)"
   ]
  },
  {
   "cell_type": "code",
   "execution_count": null,
   "metadata": {},
   "outputs": [],
   "source": [
    "plt.figure(figsize = (20, 10))\n",
    "plt.ion()\n",
    "\n",
    "for dataset in [results_pruned, results_reg]:\n",
    "\n",
    "    for indx, q in enumerate(dataset):\n",
    "        thing = []\n",
    "\n",
    "        for _ in range(19):\n",
    "            thing.append([])\n",
    "\n",
    "        for i in q:\n",
    "            for indx2, j in enumerate(i):\n",
    "\n",
    "\n",
    "\n",
    "                thing_to_append = np.mean([np.mean(j[3][v][2]) for v in range(15, 25)])\n",
    "                thing[indx2].append(thing_to_append)\n",
    "\n",
    "        plt.plot(np.mean(thing, axis = 1))\n",
    "    "
   ]
  },
  {
   "cell_type": "code",
   "execution_count": 52,
   "metadata": {},
   "outputs": [
    {
     "data": {
      "text/plain": [
       "[[0.5737, 8.66, 4.39, 3.785],\n",
       " [1.1455, 4.26, 11.83, 11.95],\n",
       " [-5.11, -0.515, -14.75, -3.979],\n",
       " [0.5327, 1.175, 0.591, 0.716],\n",
       " [21.28, 29.2, 30.03, 27.2],\n",
       " [14.66, 21.5, 23.5, 21.33],\n",
       " [15.43, 10.39, 30.39, 26.92],\n",
       " [-3.783, 6.31, 7.664, 4.17],\n",
       " [1.085, 14.64, 14.82, 4.945],\n",
       " [17.23, 1.515, 13.4, 12.445],\n",
       " [7.19, -0.01103, 5.89, 1.263],\n",
       " [-10.18, 2.518, -3.555, -3.438],\n",
       " [-14.2, -28.34, -26.72, -23.25],\n",
       " [1.407, 9.75, 10.09, 10.484],\n",
       " [-18.52, -20.94, -14.18, -19.05],\n",
       " [59.0, 59.4, 58.4, 62.38],\n",
       " [14.28, 15.95, 1.929, 2.566],\n",
       " [60.38, 62.7, 89.75, 69.56],\n",
       " [-8.02, -6.695, -9.97, -11.586]]"
      ]
     },
     "execution_count": 52,
     "metadata": {},
     "output_type": "execute_result"
    }
   ],
   "source": [
    "thing"
   ]
  },
  {
   "cell_type": "code",
   "execution_count": null,
   "metadata": {},
   "outputs": [],
   "source": [
    "plt.figure(figsize = (20, 10))\n",
    "plt.ion()\n",
    "color_list = [\"red\", \"orange\", \"blue\", \"pink\", \"cyan\", \"green\", \"purple\", \"yellow\"]\n",
    "    \n",
    "for indx_1, i in enumerate(results_parsed):\n",
    "    thing = []\n",
    "    for _ in range(19):\n",
    "        thing.append([])\n",
    "    \n",
    "    \n",
    "    for j in i:\n",
    "        for indx, q in enumerate(j):\n",
    "            thing[indx].append(np.mean(np.array(q[3])[35:45,2]))\n",
    "            \n",
    "    plt.plot(np.mean(thing, axis = 1), color_list[indx_1])\n",
    "    \n",
    "plt.plot(sp500_return, \"black\")"
   ]
  },
  {
   "cell_type": "code",
   "execution_count": null,
   "metadata": {},
   "outputs": [],
   "source": []
  },
  {
   "cell_type": "code",
   "execution_count": null,
   "metadata": {},
   "outputs": [],
   "source": [
    "plt.figure(figsize = (20, 10))\n",
    "plt.ion()\n",
    "    \n",
    "for i in results_parsed:\n",
    "    thing = []\n",
    "    for _ in range(19):\n",
    "        thing.append([])\n",
    "    \n",
    "    \n",
    "    for j in i:\n",
    "        for indx, q in enumerate(j):\n",
    "            thing[indx].append(np.mean(np.array(q[3])[35:45,4]))\n",
    "            \n",
    "    plt.plot(np.mean(thing, axis = 1))\n",
    "    \n",
    "plt.plot(sp500_return, \"black\")"
   ]
  },
  {
   "cell_type": "code",
   "execution_count": 76,
   "metadata": {},
   "outputs": [],
   "source": [
    "thing = np.array([])\n",
    "for i in results_parsed[1]:\n",
    "    for j in i:\n",
    "        thing = np.append(thing, np.mean(np.array(j[3])[40:60,4]))\n",
    "        \n",
    "        "
   ]
  },
  {
   "cell_type": "code",
   "execution_count": 72,
   "metadata": {},
   "outputs": [
    {
     "data": {
      "text/plain": [
       "array([[1.        , 0.57777733],\n",
       "       [0.57777733, 1.        ]])"
      ]
     },
     "execution_count": 72,
     "metadata": {},
     "output_type": "execute_result"
    }
   ],
   "source": [
    "\"\"\"\n",
    "high_corr_20\n",
    "\"\"\"\n",
    "np.corrcoef(np.mean(np.reshape(thing, (-1, 19)),axis = 0), sp500_return)"
   ]
  },
  {
   "cell_type": "code",
   "execution_count": null,
   "metadata": {},
   "outputs": [],
   "source": []
  },
  {
   "cell_type": "code",
   "execution_count": null,
   "metadata": {},
   "outputs": [],
   "source": [
    "plt.figure(figsize = (20, 10))\n",
    "plt.plot(np.mean(np.reshape(thing, (-1, 19)),axis = 0))\n",
    "plt.plot(sp500_return)"
   ]
  },
  {
   "cell_type": "code",
   "execution_count": 64,
   "metadata": {},
   "outputs": [],
   "source": [
    "      \n",
    "all_returns = np.array([])\n",
    "all_returns_thresh = np.array([])\n",
    "\n",
    "for group in results_parsed[-2:]:\n",
    "    for col in group:\n",
    "        for pred_date in col:\n",
    "            \n",
    "            all_returns = np.append(all_returns, np.array(pred_date[3])[35:45,0])\n",
    "            all_returns_thresh = np.append(all_returns_thresh, np.array(pred_date[3])[35:45,1])\n",
    "        \n",
    "        \n",
    "        \n",
    "        "
   ]
  },
  {
   "cell_type": "code",
   "execution_count": 65,
   "metadata": {},
   "outputs": [
    {
     "name": "stdout",
     "output_type": "stream",
     "text": [
      "70\n"
     ]
    }
   ],
   "source": [
    "for num in range(50, 500):\n",
    "    try:\n",
    "        splitted_binary = np.split(np.argsort(all_returns_thresh), num)\n",
    "        #splitted_reg = np.split(np.argsort(all_returns_reg_thresh), num)\n",
    "        print(num)\n",
    "        break\n",
    "        \n",
    "    except:\n",
    "        continue"
   ]
  },
  {
   "cell_type": "code",
   "execution_count": 66,
   "metadata": {},
   "outputs": [
    {
     "ename": "SyntaxError",
     "evalue": "unexpected EOF while parsing (<ipython-input-66-171ea956b981>, line 1)",
     "output_type": "error",
     "traceback": [
      "\u001b[1;36m  File \u001b[1;32m\"<ipython-input-66-171ea956b981>\"\u001b[1;36m, line \u001b[1;32m1\u001b[0m\n\u001b[1;33m    np.where(all_returns_thresh\u001b[0m\n\u001b[1;37m                                ^\u001b[0m\n\u001b[1;31mSyntaxError\u001b[0m\u001b[1;31m:\u001b[0m unexpected EOF while parsing\n"
     ]
    }
   ],
   "source": [
    "np.where(all_returns_thresh "
   ]
  },
  {
   "cell_type": "code",
   "execution_count": null,
   "metadata": {},
   "outputs": [],
   "source": []
  },
  {
   "cell_type": "code",
   "execution_count": null,
   "metadata": {},
   "outputs": [],
   "source": [
    "plt.figure(figsize = (20, 10))\n",
    "plt.plot([np.mean(all_returns_thresh[splitted_binary[i]]) for i in range(num)], [np.mean(all_returns[splitted_binary[i]]) for i in range(num)])\n",
    "#plt.plot([np.mean(all_returns_reg_thresh[splitted_reg[i]]) for i in range(num)], [np.mean(all_returns_reg[splitted_reg[i]]) for i in range(num)])\n"
   ]
  },
  {
   "cell_type": "code",
   "execution_count": 104,
   "metadata": {},
   "outputs": [],
   "source": [
    "thing_mean = np.array([])\n",
    "thing_std = np.array([])\n",
    "all_return = np.array([])\n",
    "for group in results_parsed[:]:\n",
    "    for col in group:\n",
    "        for indx, pred_date in enumerate(col):\n",
    "            if indx == 17 or indx == 15 or indx == 6 or indx == 5:\n",
    "                continue\n",
    "            a = list(pred_date[5].values())\n",
    "   \n",
    "            \n",
    "            thing_mean = np.append(thing_mean, np.mean(a))\n",
    "            all_return = np.append(all_return, np.mean(np.array(pred_date[3])[35:45,4]))\n",
    "            thing_std = np.append(thing_std, np.std(a))\n",
    "            \n",
    "            "
   ]
  },
  {
   "cell_type": "code",
   "execution_count": null,
   "metadata": {},
   "outputs": [],
   "source": []
  },
  {
   "cell_type": "code",
   "execution_count": 106,
   "metadata": {},
   "outputs": [
    {
     "data": {
      "text/plain": [
       "(4.83899752206467, -4.196806941168825)"
      ]
     },
     "execution_count": 106,
     "metadata": {},
     "output_type": "execute_result"
    }
   ],
   "source": [
    "np.mean(all_return[np.where(thing_mean > 0.2e7)[0]]), np.mean(all_return[np.where(thing_mean <= 0.2e7)[0]])"
   ]
  },
  {
   "cell_type": "code",
   "execution_count": null,
   "metadata": {},
   "outputs": [],
   "source": []
  },
  {
   "cell_type": "code",
   "execution_count": 94,
   "metadata": {},
   "outputs": [
    {
     "data": {
      "text/plain": [
       "1365648.9185271454"
      ]
     },
     "execution_count": 94,
     "metadata": {},
     "output_type": "execute_result"
    }
   ],
   "source": [
    "np.std(thing_mean)"
   ]
  },
  {
   "cell_type": "code",
   "execution_count": 105,
   "metadata": {},
   "outputs": [
    {
     "data": {
      "text/plain": [
       "(array([577.,  56.,  21.,  48.,  70.,  41.,  14.,   0.,   6.,   6.,   7.,\n",
       "         11.,  15.,   7.,   2.,   0.,   2.,   0.,   0.,   0.,   1.,   0.,\n",
       "          0.,   1.,   0.,   0.,   0.,   0.,   0.,   0.,   0.,   0.,   0.,\n",
       "          0.,   0.,   0.,   0.,   0.,   0.,   0.,   0.,   0.,   0.,   0.,\n",
       "          0.,   0.,   0.,   0.,   0.,   0.,   0.,   0.,   0.,   0.,   0.,\n",
       "          0.,   0.,   0.,   0.,   0.,   3.,   0.,   0.,   1.,   2.,   2.,\n",
       "          5.,   2.,   0.,   4.,   3.,   2.,   0.,   0.,   0.,   0.,   0.,\n",
       "          1.,   0.,   0.,   0.,   0.,   0.,   0.,   0.,   0.,   0.,   0.,\n",
       "          0.,   0.,   0.,   0.,   0.,   0.,   0.,   0.,   0.,   0.,   0.,\n",
       "          0.,   0.,   0.,   0.,   0.,   0.,   0.,   0.,   1.,   1.,   0.,\n",
       "          0.,   0.,   0.,   0.,   0.,   0.,   0.,   0.,   0.,   0.,   0.,\n",
       "          0.,   0.,   3.,   0.,   2.,   0.,   0.,   0.,   3.,   5.,   1.,\n",
       "          2.,   3.,   0.,   3.,   1.,   0.,   0.,   0.,   0.,   3.,   0.,\n",
       "          1.,   0.,   0.,   0.,   0.,   0.,   0.,   1.,   0.,   0.,   0.,\n",
       "          0.,   0.,   0.,   0.,   0.,   0.,   0.,   0.,   0.,   0.,   0.,\n",
       "          0.,   0.,   0.,   0.,   0.,   1.,   0.,   0.,   0.,   0.,   0.,\n",
       "          0.,   0.,   0.,   0.,   0.,   0.,   0.,   0.,   0.,   0.,   1.,\n",
       "          0.,   0.,   0.,   0.,   0.,   1.,   0.,   0.,   1.,   0.,   0.,\n",
       "          0.,   1.]),\n",
       " array([8.78494515e+03, 6.29568948e+04, 1.17128844e+05, 1.71300794e+05,\n",
       "        2.25472744e+05, 2.79644693e+05, 3.33816643e+05, 3.87988592e+05,\n",
       "        4.42160542e+05, 4.96332492e+05, 5.50504441e+05, 6.04676391e+05,\n",
       "        6.58848341e+05, 7.13020290e+05, 7.67192240e+05, 8.21364189e+05,\n",
       "        8.75536139e+05, 9.29708089e+05, 9.83880038e+05, 1.03805199e+06,\n",
       "        1.09222394e+06, 1.14639589e+06, 1.20056784e+06, 1.25473979e+06,\n",
       "        1.30891174e+06, 1.36308369e+06, 1.41725564e+06, 1.47142758e+06,\n",
       "        1.52559953e+06, 1.57977148e+06, 1.63394343e+06, 1.68811538e+06,\n",
       "        1.74228733e+06, 1.79645928e+06, 1.85063123e+06, 1.90480318e+06,\n",
       "        1.95897513e+06, 2.01314708e+06, 2.06731903e+06, 2.12149098e+06,\n",
       "        2.17566293e+06, 2.22983488e+06, 2.28400683e+06, 2.33817878e+06,\n",
       "        2.39235073e+06, 2.44652268e+06, 2.50069463e+06, 2.55486658e+06,\n",
       "        2.60903853e+06, 2.66321048e+06, 2.71738243e+06, 2.77155438e+06,\n",
       "        2.82572633e+06, 2.87989827e+06, 2.93407022e+06, 2.98824217e+06,\n",
       "        3.04241412e+06, 3.09658607e+06, 3.15075802e+06, 3.20492997e+06,\n",
       "        3.25910192e+06, 3.31327387e+06, 3.36744582e+06, 3.42161777e+06,\n",
       "        3.47578972e+06, 3.52996167e+06, 3.58413362e+06, 3.63830557e+06,\n",
       "        3.69247752e+06, 3.74664947e+06, 3.80082142e+06, 3.85499337e+06,\n",
       "        3.90916532e+06, 3.96333727e+06, 4.01750922e+06, 4.07168117e+06,\n",
       "        4.12585312e+06, 4.18002507e+06, 4.23419702e+06, 4.28836896e+06,\n",
       "        4.34254091e+06, 4.39671286e+06, 4.45088481e+06, 4.50505676e+06,\n",
       "        4.55922871e+06, 4.61340066e+06, 4.66757261e+06, 4.72174456e+06,\n",
       "        4.77591651e+06, 4.83008846e+06, 4.88426041e+06, 4.93843236e+06,\n",
       "        4.99260431e+06, 5.04677626e+06, 5.10094821e+06, 5.15512016e+06,\n",
       "        5.20929211e+06, 5.26346406e+06, 5.31763601e+06, 5.37180796e+06,\n",
       "        5.42597991e+06, 5.48015186e+06, 5.53432381e+06, 5.58849576e+06,\n",
       "        5.64266771e+06, 5.69683965e+06, 5.75101160e+06, 5.80518355e+06,\n",
       "        5.85935550e+06, 5.91352745e+06, 5.96769940e+06, 6.02187135e+06,\n",
       "        6.07604330e+06, 6.13021525e+06, 6.18438720e+06, 6.23855915e+06,\n",
       "        6.29273110e+06, 6.34690305e+06, 6.40107500e+06, 6.45524695e+06,\n",
       "        6.50941890e+06, 6.56359085e+06, 6.61776280e+06, 6.67193475e+06,\n",
       "        6.72610670e+06, 6.78027865e+06, 6.83445060e+06, 6.88862255e+06,\n",
       "        6.94279450e+06, 6.99696645e+06, 7.05113840e+06, 7.10531034e+06,\n",
       "        7.15948229e+06, 7.21365424e+06, 7.26782619e+06, 7.32199814e+06,\n",
       "        7.37617009e+06, 7.43034204e+06, 7.48451399e+06, 7.53868594e+06,\n",
       "        7.59285789e+06, 7.64702984e+06, 7.70120179e+06, 7.75537374e+06,\n",
       "        7.80954569e+06, 7.86371764e+06, 7.91788959e+06, 7.97206154e+06,\n",
       "        8.02623349e+06, 8.08040544e+06, 8.13457739e+06, 8.18874934e+06,\n",
       "        8.24292129e+06, 8.29709324e+06, 8.35126519e+06, 8.40543714e+06,\n",
       "        8.45960909e+06, 8.51378103e+06, 8.56795298e+06, 8.62212493e+06,\n",
       "        8.67629688e+06, 8.73046883e+06, 8.78464078e+06, 8.83881273e+06,\n",
       "        8.89298468e+06, 8.94715663e+06, 9.00132858e+06, 9.05550053e+06,\n",
       "        9.10967248e+06, 9.16384443e+06, 9.21801638e+06, 9.27218833e+06,\n",
       "        9.32636028e+06, 9.38053223e+06, 9.43470418e+06, 9.48887613e+06,\n",
       "        9.54304808e+06, 9.59722003e+06, 9.65139198e+06, 9.70556393e+06,\n",
       "        9.75973588e+06, 9.81390783e+06, 9.86807978e+06, 9.92225172e+06,\n",
       "        9.97642367e+06, 1.00305956e+07, 1.00847676e+07, 1.01389395e+07,\n",
       "        1.01931115e+07, 1.02472834e+07, 1.03014554e+07, 1.03556273e+07,\n",
       "        1.04097993e+07, 1.04639712e+07, 1.05181432e+07, 1.05723151e+07,\n",
       "        1.06264871e+07, 1.06806590e+07, 1.07348310e+07, 1.07890029e+07,\n",
       "        1.08431749e+07]),\n",
       " <BarContainer object of 200 artists>)"
      ]
     },
     "execution_count": 105,
     "metadata": {},
     "output_type": "execute_result"
    },
    {
     "data": {
      "image/png": "[encoded data removed]",
      "text/plain": [
       "<Figure size 1440x720 with 1 Axes>"
      ]
     },
     "metadata": {
      "needs_background": "light"
     },
     "output_type": "display_data"
    }
   ],
   "source": [
    "plt.figure(figsize = (20, 10))\n",
    "plt.hist(thing_mean, bins = 200)"
   ]
  },
  {
   "cell_type": "code",
   "execution_count": 90,
   "metadata": {},
   "outputs": [
    {
     "data": {
      "text/plain": [
       "376482.18731337396"
      ]
     },
     "execution_count": 90,
     "metadata": {},
     "output_type": "execute_result"
    }
   ],
   "source": [
    "np.mean(thing_mean)"
   ]
  },
  {
   "cell_type": "code",
   "execution_count": 89,
   "metadata": {},
   "outputs": [
    {
     "data": {
      "text/plain": [
       "266"
      ]
     },
     "execution_count": 89,
     "metadata": {},
     "output_type": "execute_result"
    }
   ],
   "source": [
    "len(thing_mean)"
   ]
  },
  {
   "cell_type": "code",
   "execution_count": 78,
   "metadata": {},
   "outputs": [
    {
     "data": {
      "text/plain": [
       "array([-7.51136210e+00, -1.38746716e+01, -1.41352502e+01, ...,\n",
       "        2.68146439e+01,  2.68146439e+01,  2.07316993e+05])"
      ]
     },
     "execution_count": 78,
     "metadata": {},
     "output_type": "execute_result"
    }
   ],
   "source": [
    "thing_mean"
   ]
  },
  {
   "cell_type": "code",
   "execution_count": 75,
   "metadata": {},
   "outputs": [
    {
     "data": {
      "text/plain": [
       "16.955493023952332"
      ]
     },
     "execution_count": 75,
     "metadata": {},
     "output_type": "execute_result"
    }
   ],
   "source": [
    "np.mean(thing_mean)"
   ]
  },
  {
   "cell_type": "code",
   "execution_count": 68,
   "metadata": {},
   "outputs": [
    {
     "data": {
      "text/plain": [
       "{'Price to Book Value_QC': 32349.236328125,\n",
       " 'CMO_120': 23822.326171875,\n",
       " 'volatility_160': 39939.52734375,\n",
       " 'CMO_40': 27905.619140625,\n",
       " 'close_0/Close_100': 28486.015625,\n",
       " 'close_120/Close_360': 75984.3671875,\n",
       " 'Total Assets_YC': 34056.32421875,\n",
       " 'BOL_indicator_80': 19234.80859375,\n",
       " 'APO_10_20': 29439.248046875,\n",
       " 'BOL_indicator_120': 25552.419921875,\n",
       " 'Cash from (Repurchase of) Equity/Market-Cap': 37406.03515625,\n",
       " 'volatility_40': 33239.5625,\n",
       " 'Total Assets_QC': 56235.67578125,\n",
       " 'Close': 54098.18359375,\n",
       " 'Share Capital & Additional Paid-In Capital': 55072.98828125,\n",
       " 'close_0/Close_160': 30518.494140625,\n",
       " 'Revenue_YC': 30607.138671875,\n",
       " 'Total Current Assets/Total Assets': 42101.43359375,\n",
       " 'DEMA_120': 32094.505859375,\n",
       " 'DEMA_160': 30321.869140625,\n",
       " 'Property, Plant & Equipment, Net_YC': 32227.994140625,\n",
       " 'MFI_80': 36832.53125,\n",
       " 'Property, Plant & Equipment, Net_QC': 46846.44140625,\n",
       " 'Total Assets/Share Capital & Additional Paid-In Capital': 46208.16796875,\n",
       " 'ABAND_signal_20': 11389.8896484375}"
      ]
     },
     "execution_count": 68,
     "metadata": {},
     "output_type": "execute_result"
    }
   ],
   "source": [
    "results_parsed[-1][0][0][5]"
   ]
  },
  {
   "cell_type": "code",
   "execution_count": null,
   "metadata": {},
   "outputs": [],
   "source": []
  }
 ],
 "metadata": {
  "kernelspec": {
   "display_name": "Python 3 (ipykernel)",
   "language": "python",
   "name": "python3"
  },
  "language_info": {
   "codemirror_mode": {
    "name": "ipython",
    "version": 3
   },
   "file_extension": ".py",
   "mimetype": "text/x-python",
   "name": "python",
   "nbconvert_exporter": "python",
   "pygments_lexer": "ipython3",
   "version": "3.8.12"
  }
 },
 "nbformat": 4,
 "nbformat_minor": 4
}
