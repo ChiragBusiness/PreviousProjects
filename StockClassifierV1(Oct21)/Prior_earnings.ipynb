{
 "cells": [
  {
   "cell_type": "code",
   "execution_count": 1,
   "metadata": {},
   "outputs": [],
   "source": [
    "import numpy as np"
   ]
  },
  {
   "cell_type": "code",
   "execution_count": null,
   "metadata": {},
   "outputs": [],
   "source": [
    "\"\"\"\n",
    "finding out what our return would be if we held from aug 23 to oct 23\n",
    "\n",
    "\"\"\""
   ]
  },
  {
   "cell_type": "code",
   "execution_count": null,
   "metadata": {},
   "outputs": [],
   "source": [
    "\"\"\"\n",
    "vxrt: 8.81$ --> 8.36, 18 shares = -37.3\n",
    "veru: 7.62 --> 8.09, 20 shares = 9.4\n",
    "ryam 6.4 --> 7.43 20 shares= 20.6\n",
    "NPTN:8.5 --> 9.5 18 shares = 18\n",
    "LPTH: 1.92 --> 1.95  42 shares= 1.26\n",
    "LLNW 2.54 --> 2.81 63 shares = 17.01\n",
    "KOPN 5.22 --> 5.24  25 shares = 0.5\n",
    "FTK 1.4 -- > 1.09  114 shares = -35.4\n",
    "ENDP 2.6 --> 4.56 45 shares = 88.2\n",
    "CFMS 1.36 --> 1.27 100 shares = -9\n",
    "BBGI 2.58 --> 2.52 62 shares = -3.72\n",
    "AGS: 7.57 --> 7.77 20 shares = 4\n",
    "\n",
    "=73.55 profit\n",
    "on 1687\n",
    "= 4.36% profit\n",
    "\n",
    "\n",
    "sp500: 4479 --> 4544 = 1.45% profit\n",
    "\n",
    "\n",
    "\"\"\""
   ]
  },
  {
   "cell_type": "code",
   "execution_count": 23,
   "metadata": {},
   "outputs": [
    {
     "data": {
      "text/plain": [
       "1.4512167894619334"
      ]
     },
     "execution_count": 23,
     "metadata": {},
     "output_type": "execute_result"
    }
   ],
   "source": [
    "(4544 - 4479)/ 4479 * 100"
   ]
  },
  {
   "cell_type": "code",
   "execution_count": 4,
   "metadata": {},
   "outputs": [
    {
     "data": {
      "text/plain": [
       "-8.100000000000023"
      ]
     },
     "execution_count": 4,
     "metadata": {},
     "output_type": "execute_result"
    }
   ],
   "source": [
    "150.48 - 158.58"
   ]
  },
  {
   "cell_type": "code",
   "execution_count": 18,
   "metadata": {},
   "outputs": [
    {
     "data": {
      "text/plain": [
       "3.999999999999986"
      ]
     },
     "execution_count": 18,
     "metadata": {},
     "output_type": "execute_result"
    }
   ],
   "source": [
    "(7.77 - 7.57) * 20"
   ]
  },
  {
   "cell_type": "code",
   "execution_count": 19,
   "metadata": {},
   "outputs": [
    {
     "data": {
      "text/plain": [
       "1687.1000000000001"
      ]
     },
     "execution_count": 19,
     "metadata": {},
     "output_type": "execute_result"
    }
   ],
   "source": [
    "8.81* 18 + 7.62 * 20 + 6.4 * 20 + 8.5 * 18 + 1.92 * 42 + 2.54 * 63 + 5.22 * 25 + 1.4* 114 + 2.6 * 45 + 1.36 * 100 + 2.58 * 62 + 7.57 * 20"
   ]
  },
  {
   "cell_type": "code",
   "execution_count": 21,
   "metadata": {},
   "outputs": [
    {
     "data": {
      "text/plain": [
       "4.35981031416716"
      ]
     },
     "execution_count": 21,
     "metadata": {},
     "output_type": "execute_result"
    }
   ],
   "source": [
    "(73.55 / 1687 )* 100"
   ]
  },
  {
   "cell_type": "code",
   "execution_count": null,
   "metadata": {},
   "outputs": [],
   "source": []
  }
 ],
 "metadata": {
  "kernelspec": {
   "display_name": "Python 3",
   "language": "python",
   "name": "python3"
  },
  "language_info": {
   "codemirror_mode": {
    "name": "ipython",
    "version": 3
   },
   "file_extension": ".py",
   "mimetype": "text/x-python",
   "name": "python",
   "nbconvert_exporter": "python",
   "pygments_lexer": "ipython3",
   "version": "3.8.5"
  }
 },
 "nbformat": 4,
 "nbformat_minor": 4
}
