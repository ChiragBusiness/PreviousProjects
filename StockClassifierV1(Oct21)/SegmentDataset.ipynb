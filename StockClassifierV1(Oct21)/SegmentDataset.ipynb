{
 "cells": [
  {
   "cell_type": "code",
   "execution_count": 1,
   "metadata": {},
   "outputs": [],
   "source": [
    "import numpy as np"
   ]
  },
  {
   "cell_type": "code",
   "execution_count": 2,
   "metadata": {},
   "outputs": [],
   "source": [
    "import pandas as pd"
   ]
  },
  {
   "cell_type": "code",
   "execution_count": 3,
   "metadata": {},
   "outputs": [],
   "source": [
    "prices = pd.read_pickle(\"parsed_data/prices\")"
   ]
  },
  {
   "cell_type": "code",
   "execution_count": 4,
   "metadata": {},
   "outputs": [],
   "source": [
    "Date = prices.loc[\"A\"][\"Date\"]"
   ]
  },
  {
   "cell_type": "code",
   "execution_count": 69,
   "metadata": {},
   "outputs": [],
   "source": [
    "features1 = pd.read_pickle(\"parsed_data/fundamental_features1\")"
   ]
  },
  {
   "cell_type": "code",
   "execution_count": 70,
   "metadata": {},
   "outputs": [],
   "source": [
    "features2 = pd.read_pickle(\"parsed_data/fundamental_features2\")"
   ]
  },
  {
   "cell_type": "code",
   "execution_count": 53,
   "metadata": {},
   "outputs": [],
   "source": [
    "features3 = pd.read_pickle(\"parsed_data/fundamental_features3\")"
   ]
  },
  {
   "cell_type": "code",
   "execution_count": 52,
   "metadata": {},
   "outputs": [],
   "source": [
    "technical_features = pd.read_pickle(\"parsed_data/technical_features\")"
   ]
  },
  {
   "cell_type": "code",
   "execution_count": null,
   "metadata": {},
   "outputs": [],
   "source": []
  },
  {
   "cell_type": "code",
   "execution_count": 8,
   "metadata": {},
   "outputs": [],
   "source": [
    "features1.loc[\"A\"].to_csv(\"test.csv\")"
   ]
  },
  {
   "cell_type": "code",
   "execution_count": null,
   "metadata": {},
   "outputs": [],
   "source": [
    "\"\"\"\n",
    "pretty much all fundamental features exist for index 252 which is 2012-5-21(if fundamental data exists before index 0 of price)\n",
    "\n",
    "\n",
    "\"\"\""
   ]
  },
  {
   "cell_type": "code",
   "execution_count": 37,
   "metadata": {},
   "outputs": [],
   "source": [
    "\"\"\"\n",
    "want 3 validation sets that cover different market conditions\n",
    "1st val set: huge dip\n",
    "14 feb 2020 - 20 march 2020 huge dip, march 1st is around the middle, use feb 25 to march 5 as prediction period, then our training set should be t-120 : t-40\n",
    "\n",
    "\"\"\"\n",
    "Date1 = Date[np.where(Date == \"2020-02-25\")[0][0] - 120: np.where(Date == \"2020-03-05\")[0][0] - 40 + 1]"
   ]
  },
  {
   "cell_type": "code",
   "execution_count": 39,
   "metadata": {},
   "outputs": [],
   "source": [
    "\"\"\"\n",
    "2nd val set: not much movement\n",
    "march 9th to june first 2015\n",
    "middle is april 20th\n",
    "april 15 - april 24 prediciton period\n",
    "\n",
    "\"\"\"\n",
    "\n",
    "Date2 = Date[np.where(Date == \"2015-04-15\")[0][0] - 120: np.where(Date == \"2015-04-24\")[0][0] - 40 + 1]"
   ]
  },
  {
   "cell_type": "code",
   "execution_count": 45,
   "metadata": {},
   "outputs": [],
   "source": [
    "\"\"\"\n",
    "center around july 1st 2013 = june 26th -  july  5 2013: some increase\n",
    "\n",
    "\n",
    "\"\"\"\n",
    "Date3 = Date[np.where(Date == \"2013-06-26\")[0][0] - 120 : np.where(Date == \"2013-07-05\")[0][0] - 40 +1]"
   ]
  },
  {
   "cell_type": "code",
   "execution_count": 48,
   "metadata": {},
   "outputs": [
    {
     "data": {
      "text/plain": [
       "Ticker\n",
       "A    2019-09-03\n",
       "A    2019-09-04\n",
       "A    2019-09-05\n",
       "A    2019-09-06\n",
       "A    2019-09-09\n",
       "        ...    \n",
       "A    2019-12-31\n",
       "A    2020-01-02\n",
       "A    2020-01-03\n",
       "A    2020-01-06\n",
       "A    2020-01-07\n",
       "Name: Date, Length: 88, dtype: object"
      ]
     },
     "execution_count": 48,
     "metadata": {},
     "output_type": "execute_result"
    }
   ],
   "source": [
    "Date1"
   ]
  },
  {
   "cell_type": "code",
   "execution_count": 49,
   "metadata": {},
   "outputs": [
    {
     "data": {
      "text/plain": [
       "Ticker\n",
       "A    2014-10-21\n",
       "A    2014-10-22\n",
       "A    2014-10-23\n",
       "A    2014-10-24\n",
       "A    2014-10-27\n",
       "        ...    \n",
       "A    2015-02-20\n",
       "A    2015-02-23\n",
       "A    2015-02-24\n",
       "A    2015-02-25\n",
       "A    2015-02-26\n",
       "Name: Date, Length: 88, dtype: object"
      ]
     },
     "execution_count": 49,
     "metadata": {},
     "output_type": "execute_result"
    }
   ],
   "source": [
    "Date2"
   ]
  },
  {
   "cell_type": "code",
   "execution_count": 50,
   "metadata": {},
   "outputs": [
    {
     "data": {
      "text/plain": [
       "Ticker\n",
       "A    2013-01-03\n",
       "A    2013-01-04\n",
       "A    2013-01-07\n",
       "A    2013-01-08\n",
       "A    2013-01-09\n",
       "        ...    \n",
       "A    2013-05-02\n",
       "A    2013-05-03\n",
       "A    2013-05-06\n",
       "A    2013-05-07\n",
       "A    2013-05-08\n",
       "Name: Date, Length: 87, dtype: object"
      ]
     },
     "execution_count": 50,
     "metadata": {},
     "output_type": "execute_result"
    }
   ],
   "source": [
    "Date3"
   ]
  },
  {
   "cell_type": "code",
   "execution_count": 60,
   "metadata": {},
   "outputs": [
    {
     "data": {
      "text/plain": [
       "Index(['2011-05-20', '2011-05-23', '2011-05-24', '2011-05-25', '2011-05-26',\n",
       "       '2011-05-27', '2011-05-31', '2011-06-01', '2011-06-02', '2011-06-03',\n",
       "       ...\n",
       "       '2014-10-16', '2014-10-17', '2014-10-20', '2014-10-21', '2014-10-22',\n",
       "       '2014-10-23', '2014-10-24', '2014-10-27', '2014-10-28', '2014-10-29'],\n",
       "      dtype='object', name='Date', length=867)"
      ]
     },
     "execution_count": 60,
     "metadata": {},
     "output_type": "execute_result"
    }
   ],
   "source": [
    "features1.loc[\"A\"].index"
   ]
  },
  {
   "cell_type": "code",
   "execution_count": 59,
   "metadata": {},
   "outputs": [
    {
     "data": {
      "text/plain": [
       "Index(['2014-10-30', '2014-10-31', '2014-11-03', '2014-11-04', '2014-11-05',\n",
       "       '2014-11-06', '2014-11-07', '2014-11-10', '2014-11-11', '2014-11-12',\n",
       "       ...\n",
       "       '2018-03-28', '2018-03-29', '2018-04-02', '2018-04-03', '2018-04-04',\n",
       "       '2018-04-05', '2018-04-06', '2018-04-09', '2018-04-10', '2018-04-11'],\n",
       "      dtype='object', name='Date', length=867)"
      ]
     },
     "execution_count": 59,
     "metadata": {},
     "output_type": "execute_result"
    }
   ],
   "source": [
    "features2.loc[\"A\"].index"
   ]
  },
  {
   "cell_type": "code",
   "execution_count": 61,
   "metadata": {},
   "outputs": [
    {
     "data": {
      "text/plain": [
       "Index(['2018-04-12', '2018-04-13', '2018-04-16', '2018-04-17', '2018-04-18',\n",
       "       '2018-04-19', '2018-04-20', '2018-04-23', '2018-04-24', '2018-04-25',\n",
       "       ...\n",
       "       '2021-09-03', '2021-09-07', '2021-09-08', '2021-09-09', '2021-09-10',\n",
       "       '2021-09-13', '2021-09-14', '2021-09-15', '2021-09-16', '2021-09-17'],\n",
       "      dtype='object', name='Date', length=866)"
      ]
     },
     "execution_count": 61,
     "metadata": {},
     "output_type": "execute_result"
    }
   ],
   "source": [
    "features3.loc[\"A\"].index"
   ]
  },
  {
   "cell_type": "code",
   "execution_count": null,
   "metadata": {},
   "outputs": [],
   "source": []
  },
  {
   "cell_type": "code",
   "execution_count": 86,
   "metadata": {},
   "outputs": [],
   "source": [
    "val1 = pd.concat([technical_features.reset_index().set_index([\"Date\"]).loc[Date3],  features1.reset_index().set_index([\"Date\"]).loc[Date3].drop([\"Ticker\"], axis = 1)], axis = 1)"
   ]
  },
  {
   "cell_type": "code",
   "execution_count": 91,
   "metadata": {},
   "outputs": [
    {
     "data": {
      "text/plain": [
       "(292, 292)"
      ]
     },
     "execution_count": 91,
     "metadata": {},
     "output_type": "execute_result"
    }
   ],
   "source": [
    "len(np.unique(val1.columns)), len(val1.columns)"
   ]
  },
  {
   "cell_type": "code",
   "execution_count": 100,
   "metadata": {},
   "outputs": [],
   "source": [
    "val1 = val1.reset_index().set_index([\"Date\", 'Ticker'])"
   ]
  },
  {
   "cell_type": "code",
   "execution_count": 102,
   "metadata": {},
   "outputs": [],
   "source": [
    "val1.to_pickle(\"validation_sets/val1\")"
   ]
  },
  {
   "cell_type": "code",
   "execution_count": null,
   "metadata": {},
   "outputs": [],
   "source": []
  },
  {
   "cell_type": "code",
   "execution_count": 107,
   "metadata": {},
   "outputs": [],
   "source": [
    "val2_first = features1.reset_index().set_index([\"Date\"]).loc[Date2[:7]]"
   ]
  },
  {
   "cell_type": "code",
   "execution_count": 109,
   "metadata": {},
   "outputs": [],
   "source": [
    "del features1"
   ]
  },
  {
   "cell_type": "code",
   "execution_count": 110,
   "metadata": {},
   "outputs": [],
   "source": [
    "features2 = pd.read_pickle(\"parsed_data/fundamental_features2\")"
   ]
  },
  {
   "cell_type": "code",
   "execution_count": 112,
   "metadata": {},
   "outputs": [],
   "source": [
    "val2_second = features2.reset_index().set_index([\"Date\"]).loc[Date2[7:]]"
   ]
  },
  {
   "cell_type": "code",
   "execution_count": 113,
   "metadata": {},
   "outputs": [],
   "source": [
    "val2 = pd.concat([val2_first, val2_second], axis = 0)"
   ]
  },
  {
   "cell_type": "code",
   "execution_count": 116,
   "metadata": {},
   "outputs": [],
   "source": [
    "val2 = val2.loc[Date2]"
   ]
  },
  {
   "cell_type": "code",
   "execution_count": 119,
   "metadata": {},
   "outputs": [],
   "source": [
    "val2 = pd.concat([technical_features.reset_index().set_index([\"Date\"]).loc[Date2],  val2.drop([\"Ticker\"], axis =1 )], axis = 1)"
   ]
  },
  {
   "cell_type": "code",
   "execution_count": 120,
   "metadata": {},
   "outputs": [
    {
     "data": {
      "text/plain": [
       "(292, 292)"
      ]
     },
     "execution_count": 120,
     "metadata": {},
     "output_type": "execute_result"
    }
   ],
   "source": [
    "len(np.unique(val2.columns)), len(val2.columns)"
   ]
  },
  {
   "cell_type": "code",
   "execution_count": 121,
   "metadata": {},
   "outputs": [],
   "source": [
    "val2 = val2.reset_index().set_index([\"Date\", 'Ticker'])"
   ]
  },
  {
   "cell_type": "code",
   "execution_count": 128,
   "metadata": {},
   "outputs": [],
   "source": [
    "del val2"
   ]
  },
  {
   "cell_type": "code",
   "execution_count": 123,
   "metadata": {},
   "outputs": [],
   "source": [
    "val2.to_pickle(\"validation_sets/val2\")"
   ]
  },
  {
   "cell_type": "code",
   "execution_count": 146,
   "metadata": {},
   "outputs": [],
   "source": [
    "del features3"
   ]
  },
  {
   "cell_type": "code",
   "execution_count": 138,
   "metadata": {},
   "outputs": [],
   "source": [
    "val3 = pd.concat([technical_features.reset_index().set_index([\"Date\"]).loc[Date1],  features3.reset_index().set_index([\"Date\"]).loc[Date1].drop([\"Ticker\"], axis = 1)], axis = 1)"
   ]
  },
  {
   "cell_type": "code",
   "execution_count": 139,
   "metadata": {},
   "outputs": [
    {
     "data": {
      "text/plain": [
       "(292, 292)"
      ]
     },
     "execution_count": 139,
     "metadata": {},
     "output_type": "execute_result"
    }
   ],
   "source": [
    "len(np.unique(val3.columns)), len(val3.columns)"
   ]
  },
  {
   "cell_type": "code",
   "execution_count": 143,
   "metadata": {},
   "outputs": [],
   "source": [
    "val3 = val3.reset_index().set_index([\"Date\", 'Ticker'])"
   ]
  },
  {
   "cell_type": "code",
   "execution_count": 144,
   "metadata": {},
   "outputs": [],
   "source": [
    "val3.to_pickle(\"validation_sets/val3\")"
   ]
  },
  {
   "cell_type": "code",
   "execution_count": 171,
   "metadata": {},
   "outputs": [
    {
     "data": {
      "text/plain": [
       "Ticker\n",
       "A    2013-01-03\n",
       "A    2013-01-04\n",
       "A    2013-01-07\n",
       "A    2013-01-08\n",
       "A    2013-01-09\n",
       "        ...    \n",
       "A    2013-05-02\n",
       "A    2013-05-03\n",
       "A    2013-05-06\n",
       "A    2013-05-07\n",
       "A    2013-05-08\n",
       "Name: Date, Length: 87, dtype: object"
      ]
     },
     "execution_count": 171,
     "metadata": {},
     "output_type": "execute_result"
    }
   ],
   "source": [
    "Date3"
   ]
  },
  {
   "cell_type": "code",
   "execution_count": 178,
   "metadata": {},
   "outputs": [],
   "source": [
    "features1_withoutDate3 = features1.reset_index().set_index([\"Date\"]).drop(Date3, axis = 0)"
   ]
  },
  {
   "cell_type": "code",
   "execution_count": 179,
   "metadata": {},
   "outputs": [],
   "source": [
    "features1_withoutDate3 = features1_withoutDate3.drop(Date2[:7], axis = 0)"
   ]
  },
  {
   "cell_type": "code",
   "execution_count": 182,
   "metadata": {},
   "outputs": [],
   "source": [
    "features1_withoutDate3 = features1_withoutDate3.reset_index().set_index([\"Ticker\", \"Date\"])"
   ]
  },
  {
   "cell_type": "code",
   "execution_count": 203,
   "metadata": {},
   "outputs": [],
   "source": [
    "tech_and_fund1 = pd.concat([technical_features.reset_index().set_index([\"Ticker\", \"Date\"]).loc[features1_withoutDate3.index], features1_withoutDate3], axis = 1)"
   ]
  },
  {
   "cell_type": "code",
   "execution_count": 208,
   "metadata": {},
   "outputs": [],
   "source": [
    "tech_and_fund1.to_pickle(\"training_sets/features1\")"
   ]
  },
  {
   "cell_type": "code",
   "execution_count": 206,
   "metadata": {},
   "outputs": [
    {
     "data": {
      "text/plain": [
       "(291, 291)"
      ]
     },
     "execution_count": 206,
     "metadata": {},
     "output_type": "execute_result"
    }
   ],
   "source": [
    "len(np.unique(tech_and_fund1.columns)), len(tech_and_fund1.columns) "
   ]
  },
  {
   "cell_type": "code",
   "execution_count": 217,
   "metadata": {},
   "outputs": [],
   "source": [
    "features2_dropped = features2.reset_index().set_index([\"Date\"]).drop(Date2[7:], axis = 0)"
   ]
  },
  {
   "cell_type": "code",
   "execution_count": 218,
   "metadata": {},
   "outputs": [],
   "source": [
    "features2_dropped = features2_dropped.reset_index().set_index([\"Ticker\", \"Date\"])"
   ]
  },
  {
   "cell_type": "code",
   "execution_count": 219,
   "metadata": {},
   "outputs": [],
   "source": [
    "technical_features = technical_features.reset_index().set_index([\"Ticker\", \"Date\"])"
   ]
  },
  {
   "cell_type": "code",
   "execution_count": 220,
   "metadata": {},
   "outputs": [],
   "source": [
    "tech_and_fund2 = pd.concat([technical_features.loc[features2_dropped.index], features2_dropped], axis = 1)"
   ]
  },
  {
   "cell_type": "code",
   "execution_count": 222,
   "metadata": {},
   "outputs": [],
   "source": [
    "tech_and_fund2.to_pickle(\"training_sets/features2\")"
   ]
  },
  {
   "cell_type": "code",
   "execution_count": 234,
   "metadata": {},
   "outputs": [],
   "source": [
    "del technical_features"
   ]
  },
  {
   "cell_type": "code",
   "execution_count": 223,
   "metadata": {},
   "outputs": [],
   "source": [
    "del features2, tech_and_fund2"
   ]
  },
  {
   "cell_type": "code",
   "execution_count": 225,
   "metadata": {},
   "outputs": [],
   "source": [
    "features3_dropped = features3.reset_index().set_index([\"Date\"]).drop(Date1, axis = 0)"
   ]
  },
  {
   "cell_type": "code",
   "execution_count": 226,
   "metadata": {},
   "outputs": [],
   "source": [
    "features3_dropped = features3_dropped.reset_index().set_index([\"Ticker\", \"Date\"])"
   ]
  },
  {
   "cell_type": "code",
   "execution_count": 227,
   "metadata": {},
   "outputs": [],
   "source": [
    "tech_and_fund3 = pd.concat([technical_features.loc[features3_dropped.index], features3_dropped], axis = 1)"
   ]
  },
  {
   "cell_type": "code",
   "execution_count": 239,
   "metadata": {},
   "outputs": [],
   "source": [
    "tech_and_fund3.to_csv(\"training_sets/features3.csv\")"
   ]
  },
  {
   "cell_type": "code",
   "execution_count": null,
   "metadata": {},
   "outputs": [],
   "source": []
  },
  {
   "cell_type": "code",
   "execution_count": 3,
   "metadata": {},
   "outputs": [],
   "source": [
    "features3 = pd.read_csv(\"training_sets/features3.csv\", index_col = [\"Date\"])"
   ]
  },
  {
   "cell_type": "code",
   "execution_count": 9,
   "metadata": {},
   "outputs": [],
   "source": [
    "features3 = features3.reset_index().set_index([\"Date\", \"Ticker\"])"
   ]
  },
  {
   "cell_type": "code",
   "execution_count": 10,
   "metadata": {},
   "outputs": [],
   "source": [
    "features3.to_pickle(\"training_sets/features3\")"
   ]
  },
  {
   "cell_type": "code",
   "execution_count": null,
   "metadata": {},
   "outputs": [],
   "source": []
  },
  {
   "cell_type": "code",
   "execution_count": 3,
   "metadata": {},
   "outputs": [],
   "source": [
    "features1 = pd.read_pickle(\"training_sets/features1\")\n",
    "\n",
    "Date1 = np.unique(features1.reset_index()[\"Date\"])\n",
    "\n",
    "Tickers1 = np.unique(features1.reset_index()[\"Ticker\"])\n",
    "\n",
    "np.save(\"training_sets/Date1\", Date1)\n",
    "\n",
    "np.save(\"training_sets/Tickers1\", Tickers1)"
   ]
  },
  {
   "cell_type": "code",
   "execution_count": null,
   "metadata": {},
   "outputs": [],
   "source": [
    "del Tickers1"
   ]
  },
  {
   "cell_type": "code",
   "execution_count": 18,
   "metadata": {},
   "outputs": [],
   "source": [
    "features2 = pd.read_pickle(\"training_sets/features2\")\n",
    "\n",
    "Date2 = np.unique(features2.reset_index()[\"Date\"])\n",
    "\n",
    "Tickers2 = np.unique(features2.reset_index()[\"Ticker\"])\n",
    "\n",
    "np.save(\"training_sets/Date2\", Date2)\n",
    "\n",
    "np.save(\"training_sets/Tickers2\", Tickers2)"
   ]
  },
  {
   "cell_type": "code",
   "execution_count": 19,
   "metadata": {},
   "outputs": [],
   "source": [
    "del features2"
   ]
  },
  {
   "cell_type": "code",
   "execution_count": 20,
   "metadata": {},
   "outputs": [],
   "source": [
    "features3 = pd.read_pickle(\"training_sets/features3\")\n",
    "\n",
    "Date3 = np.unique(features3.reset_index()[\"Date\"])\n",
    "\n",
    "Tickers3 = np.unique(features3.reset_index()[\"Ticker\"])\n",
    "\n",
    "np.save(\"training_sets/Date3\", Date3)\n",
    "\n",
    "np.save(\"training_sets/Tickers3\", Tickers3)"
   ]
  },
  {
   "cell_type": "code",
   "execution_count": 21,
   "metadata": {},
   "outputs": [],
   "source": [
    "del features3"
   ]
  },
  {
   "cell_type": "code",
   "execution_count": 22,
   "metadata": {},
   "outputs": [],
   "source": [
    "val1 = pd.read_pickle(\"validation_sets/val1\")\n",
    "\n",
    "Date1 = np.unique(val1.reset_index()[\"Date\"])\n",
    "\n",
    "Tickers = np.unique(val1.reset_index()[\"Ticker\"])\n",
    "\n",
    "np.save(\"validation_sets/Date1\", Date1)\n",
    "\n",
    "np.save(\"validation_sets/Tickers1\", Tickers1)"
   ]
  },
  {
   "cell_type": "code",
   "execution_count": 23,
   "metadata": {},
   "outputs": [],
   "source": [
    "val2 = pd.read_pickle(\"validation_sets/val2\")\n",
    "\n",
    "Date2 = np.unique(val2.reset_index()[\"Date\"])\n",
    "\n",
    "Tickers2 = np.unique(val2.reset_index()[\"Ticker\"])\n",
    "\n",
    "np.save(\"validation_sets/Date2\", Date2)\n",
    "\n",
    "np.save(\"validation_sets/Tickers2\", Tickers2)"
   ]
  },
  {
   "cell_type": "code",
   "execution_count": 24,
   "metadata": {},
   "outputs": [],
   "source": [
    "val3 = pd.read_pickle(\"validation_sets/val3\")\n",
    "\n",
    "Date3 = np.unique(val3.reset_index()[\"Date\"])\n",
    "\n",
    "Tickers3 = np.unique(val3.reset_index()[\"Ticker\"])\n",
    "\n",
    "np.save(\"validation_sets/Date3\", Date3)\n",
    "\n",
    "np.save(\"validation_sets/Tickers3\", Tickers3)"
   ]
  },
  {
   "cell_type": "code",
   "execution_count": 13,
   "metadata": {},
   "outputs": [],
   "source": [
    "Tickers_test = np.load(\"training_sets/Tickers1.npy\", allow_pickle = True)"
   ]
  },
  {
   "cell_type": "code",
   "execution_count": null,
   "metadata": {},
   "outputs": [],
   "source": []
  }
 ],
 "metadata": {
  "kernelspec": {
   "display_name": "Python 3",
   "language": "python",
   "name": "python3"
  },
  "language_info": {
   "codemirror_mode": {
    "name": "ipython",
    "version": 3
   },
   "file_extension": ".py",
   "mimetype": "text/x-python",
   "name": "python",
   "nbconvert_exporter": "python",
   "pygments_lexer": "ipython3",
   "version": "3.8.5"
  }
 },
 "nbformat": 4,
 "nbformat_minor": 4
}
