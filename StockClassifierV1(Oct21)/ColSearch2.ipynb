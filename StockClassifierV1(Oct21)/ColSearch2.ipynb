{
 "cells": [
  {
   "cell_type": "code",
   "execution_count": 1,
   "metadata": {},
   "outputs": [],
   "source": [
    "import pandas as pd\n",
    "import numpy as np\n",
    "\n",
    "import matplotlib.pyplot as plt\n",
    "\n",
    "import xgboost\n",
    "\n",
    "from functions import make_dataset\n",
    "\n",
    "from functions import make_portfolio\n",
    "\n",
    "from sklearn.utils import shuffle\n",
    "\n",
    "import time\n",
    "\n",
    "import pickle"
   ]
  },
  {
   "cell_type": "code",
   "execution_count": 2,
   "metadata": {},
   "outputs": [],
   "source": [
    "import pyautogui"
   ]
  },
  {
   "cell_type": "code",
   "execution_count": 2,
   "metadata": {},
   "outputs": [
    {
     "name": "stdout",
     "output_type": "stream",
     "text": [
      "2.031272099999999\n"
     ]
    }
   ],
   "source": [
    "start = time.perf_counter()\n",
    "features2 = pd.read_pickle(\"training_sets/features2\")\n",
    "print(time.perf_counter() - start)"
   ]
  },
  {
   "cell_type": "code",
   "execution_count": 2,
   "metadata": {},
   "outputs": [],
   "source": [
    "Date1 = np.load(\"training_sets/Date1.npy\", allow_pickle = True)\n",
    "Date2 = np.load(\"training_sets/Date2.npy\", allow_pickle = True)\n",
    "Date3 = np.load(\"training_sets/Date3.npy\", allow_pickle = True)"
   ]
  },
  {
   "cell_type": "code",
   "execution_count": 3,
   "metadata": {},
   "outputs": [],
   "source": [
    "Dates = np.append(Date1, np.append(Date2, Date3))"
   ]
  },
  {
   "cell_type": "code",
   "execution_count": 275,
   "metadata": {},
   "outputs": [],
   "source": [
    "def make_dataset_eval_with_extra_return_40_term_from_periods(df, training_period, prediction_period, cols, pred_col, return_col):\n",
    "    \n",
    "    \n",
    "    X_train = shuffle(df.loc[training_period, np.append(cols, pred_col)])\n",
    "    X_train = X_train.replace([np.inf, -np.inf], np.NaN)\n",
    "    X_train = X_train.dropna(axis = 0)\n",
    "\n",
    "    Y_train = X_train.pop(pred_col)\n",
    "    \n",
    "    \n",
    "    \n",
    "    X_test = shuffle(df.loc[prediction_period, np.append(cols, return_col)])\n",
    "    X_test = X_test.replace([np.inf, -np.inf], np.NaN)\n",
    "    X_test = X_test.dropna(axis = 0)\n",
    "    \n",
    "    Y_return_40 = X_test.pop(return_col)\n",
    "    \n",
    "    return X_train, X_test, Y_train, Y_return_40"
   ]
  },
  {
   "cell_type": "code",
   "execution_count": null,
   "metadata": {},
   "outputs": [],
   "source": []
  },
  {
   "cell_type": "code",
   "execution_count": 273,
   "metadata": {},
   "outputs": [],
   "source": [
    "def return_40_metric(pred, labels):\n",
    "\n",
    "\n",
    "    return np.mean(labels[np.argsort(pred)[:500]]), (1-np.sort(pred)[499]), np.mean(labels[np.argsort(pred)[:100]]), (1-np.sort(pred)[99]), np.mean(labels[np.argsort(pred)[:20]]), (1-np.sort(pred)[19])"
   ]
  },
  {
   "cell_type": "code",
   "execution_count": 274,
   "metadata": {},
   "outputs": [],
   "source": [
    "class my_callback(xgboost.callback.TrainingCallback):\n",
    "    \n",
    "    def __init__(self, xgeval, Y_eval_return_40, results_eval):\n",
    "        self.eval_mine = xgeval\n",
    "        self.eval_return_40 = Y_eval_return_40\n",
    "        self.results_eval_mine = results_eval\n",
    "        \n",
    "        \n",
    "    def after_iteration(self, model, epoch, evals_log):\n",
    "            \n",
    "\n",
    "        predictions_eval = model.predict(self.eval_mine)\n",
    "\n",
    "        self.results_eval_mine.append(return_40_metric(model.predict(self.eval_mine), self.eval_return_40))    \n",
    "        \n",
    "                 \n",
    "            \n",
    "        return False"
   ]
  },
  {
   "cell_type": "code",
   "execution_count": 269,
   "metadata": {},
   "outputs": [],
   "source": [
    "params1 = {\n",
    "  'colsample_bynode': 0.6,\n",
    "    'colsample_bytree' : 0.6,\n",
    "    'colsample_bylevel' : 0.5,\n",
    "  'learning_rate': 0.3,\n",
    "  'max_depth': 3,\n",
    "  'num_parallel_tree': 100,\n",
    "  'objective': 'binary:logistic',\n",
    "  'subsample': 0.9,\n",
    "  'tree_method': 'gpu_hist',\n",
    "    \"verbosity\" : 0,\n",
    "    \"lambda\" : 1,\n",
    "    \"alpha\" : 0\n",
    "}"
   ]
  },
  {
   "cell_type": "code",
   "execution_count": null,
   "metadata": {},
   "outputs": [],
   "source": []
  },
  {
   "cell_type": "code",
   "execution_count": 9,
   "metadata": {},
   "outputs": [],
   "source": [
    "with open(\"ColSearch/cols_metrics_binary.pkl\", \"rb\") as f:\n",
    "    metrics_binary = pickle.load(f)"
   ]
  },
  {
   "cell_type": "code",
   "execution_count": 10,
   "metadata": {},
   "outputs": [],
   "source": [
    "with open(\"ColSearch/cols_return_20_binary.pkl\", \"rb\") as f:\n",
    "    return_20_binary = pickle.load(f)"
   ]
  },
  {
   "cell_type": "code",
   "execution_count": 11,
   "metadata": {},
   "outputs": [],
   "source": [
    "with open(\"ColSearch/cols_return_500_binary.pkl\", \"rb\") as f:\n",
    "    return_500_binary = pickle.load(f)"
   ]
  },
  {
   "cell_type": "code",
   "execution_count": 12,
   "metadata": {},
   "outputs": [],
   "source": [
    "columns_to_choose_from = np.unique(np.array([metrics_binary[:30], return_20_binary[:30], return_500_binary[:30]]))"
   ]
  },
  {
   "cell_type": "code",
   "execution_count": 270,
   "metadata": {},
   "outputs": [],
   "source": [
    "prediction_dates = np.linspace(650, len(Dates) - 80, 20).astype(int)"
   ]
  },
  {
   "cell_type": "code",
   "execution_count": 15,
   "metadata": {},
   "outputs": [],
   "source": [
    "with open(\"ColSearch2/results_binary.pkl\", \"rb\") as f:\n",
    "    results = pickle.load(f)"
   ]
  },
  {
   "cell_type": "code",
   "execution_count": 16,
   "metadata": {},
   "outputs": [
    {
     "data": {
      "text/plain": [
       "9"
      ]
     },
     "execution_count": 16,
     "metadata": {},
     "output_type": "execute_result"
    }
   ],
   "source": [
    "len(results)"
   ]
  },
  {
   "cell_type": "code",
   "execution_count": 271,
   "metadata": {},
   "outputs": [
    {
     "data": {
      "text/plain": [
       "array(['ABAND_indicator_160', 'ABAND_signal_160', 'ADX_4_23', 'APO_10_20',\n",
       "       'APO_10_40', 'ATR_160', 'BOL_indicator_10', 'CMO_10',\n",
       "       'Cash & Cash Equivalents',\n",
       "       'Cash & Cash Equivalents/Total Liabilities_QC',\n",
       "       'Cash & Cash Equivalents_YC',\n",
       "       'Cash from (Repayment of) Debt/Total Liabilities',\n",
       "       'Cash from (Repayment of) Debt/Total Liabilities_QC', 'Close',\n",
       "       'DEMA_20', 'Enterprise Value', 'MFI_160', 'Market-Cap',\n",
       "       'Net Cash from Operating Activities/Cash & Cash Equivalents_YC',\n",
       "       'Net Income', 'Net Income/Enterprise Value', 'Net Profit Margin',\n",
       "       'Net Profit Margin_YC', 'OBV_40',\n",
       "       'Payables & Accruals/Cost of Revenue_QC',\n",
       "       'Price to Earnings Ratio (quarterly)',\n",
       "       'Price to Earnings Ratio (quarterly)_YC',\n",
       "       'Price to Sales Ratio (quarterly)',\n",
       "       'Price to Sales Ratio (quarterly)_QC',\n",
       "       'Property, Plant & Equipment, Net', 'RSI_28', 'RSI_7',\n",
       "       'Retained Earnings/Total Liabilities',\n",
       "       'Retained Earnings/Total Liabilities_QC', 'Revenue',\n",
       "       'Revenue/Market-Cap_YC',\n",
       "       'Share Capital & Additional Paid-In Capital',\n",
       "       'Shares (Diluted)/Shares (Basic)_QC', 'Total Assets',\n",
       "       'Total Assets/Share Capital & Additional Paid-In Capital',\n",
       "       'Total Assets/Share Capital & Additional Paid-In Capital_QC',\n",
       "       'Total Equity', 'Total Equity_QC', 'Total Liabilities',\n",
       "       'Total Liabilities_QC', 'WillR_80', 'Working Capital',\n",
       "       'close_0/Close_20', 'close_0/Close_200', 'close_0/Close_240',\n",
       "       'close_0/Close_360', 'close_0/Close_40', 'close_0/Close_70',\n",
       "       'close_10/Close_240', 'close_120/Close_240', 'close_160/Close_320',\n",
       "       'close_20/Close_120', 'close_20/Close_360', 'close_320/Close_360',\n",
       "       'close_80/Close_160', 'close_80/Close_320', 'volatility_10',\n",
       "       'volatility_120', 'volatility_160', 'volatility_240',\n",
       "       'volatility_320', 'volatility_360', 'volatility_40',\n",
       "       'volatility_80'], dtype='<U62')"
      ]
     },
     "execution_count": 271,
     "metadata": {},
     "output_type": "execute_result"
    }
   ],
   "source": [
    "unique_cols"
   ]
  },
  {
   "cell_type": "code",
   "execution_count": 272,
   "metadata": {},
   "outputs": [],
   "source": [
    "params3 = {\n",
    "  'colsample_bynode': 0.4,\n",
    "    'colsample_bytree' : 0.4,\n",
    "    'colsample_bylevel' : 0.3,\n",
    "  'learning_rate': 0.3,\n",
    "  'max_depth': 3,\n",
    "  'num_parallel_tree': 100,\n",
    "  'objective': 'binary:logistic',\n",
    "  'subsample': 0.9,\n",
    "  'tree_method': 'gpu_hist',\n",
    "    \"verbosity\" : 0,\n",
    "    \"lambda\" : 1,\n",
    "    \"alpha\" : 0\n",
    "}"
   ]
  },
  {
   "cell_type": "code",
   "execution_count": 279,
   "metadata": {},
   "outputs": [
    {
     "data": {
      "text/html": [
       "<div>\n",
       "<style scoped>\n",
       "    .dataframe tbody tr th:only-of-type {\n",
       "        vertical-align: middle;\n",
       "    }\n",
       "\n",
       "    .dataframe tbody tr th {\n",
       "        vertical-align: top;\n",
       "    }\n",
       "\n",
       "    .dataframe thead th {\n",
       "        text-align: right;\n",
       "    }\n",
       "</style>\n",
       "<table border=\"1\" class=\"dataframe\">\n",
       "  <thead>\n",
       "    <tr style=\"text-align: right;\">\n",
       "      <th></th>\n",
       "      <th></th>\n",
       "      <th>ABAND_indicator_160</th>\n",
       "      <th>ABAND_signal_160</th>\n",
       "      <th>ADX_4_23</th>\n",
       "      <th>APO_10_20</th>\n",
       "      <th>APO_10_40</th>\n",
       "      <th>ATR_160</th>\n",
       "      <th>BOL_indicator_10</th>\n",
       "      <th>CMO_10</th>\n",
       "      <th>Cash &amp; Cash Equivalents</th>\n",
       "      <th>Cash &amp; Cash Equivalents/Total Liabilities_QC</th>\n",
       "      <th>...</th>\n",
       "      <th>volatility_160</th>\n",
       "      <th>volatility_240</th>\n",
       "      <th>volatility_320</th>\n",
       "      <th>volatility_360</th>\n",
       "      <th>volatility_40</th>\n",
       "      <th>volatility_80</th>\n",
       "      <th>Class_binary_40_20</th>\n",
       "      <th>return_40</th>\n",
       "      <th>Class_binary_40_20</th>\n",
       "      <th>return_40</th>\n",
       "    </tr>\n",
       "    <tr>\n",
       "      <th>Date</th>\n",
       "      <th>Ticker</th>\n",
       "      <th></th>\n",
       "      <th></th>\n",
       "      <th></th>\n",
       "      <th></th>\n",
       "      <th></th>\n",
       "      <th></th>\n",
       "      <th></th>\n",
       "      <th></th>\n",
       "      <th></th>\n",
       "      <th></th>\n",
       "      <th></th>\n",
       "      <th></th>\n",
       "      <th></th>\n",
       "      <th></th>\n",
       "      <th></th>\n",
       "      <th></th>\n",
       "      <th></th>\n",
       "      <th></th>\n",
       "      <th></th>\n",
       "      <th></th>\n",
       "      <th></th>\n",
       "    </tr>\n",
       "  </thead>\n",
       "  <tbody>\n",
       "    <tr>\n",
       "      <th rowspan=\"5\" valign=\"top\">2013-05-15</th>\n",
       "      <th>A</th>\n",
       "      <td>1.228663</td>\n",
       "      <td>1.0</td>\n",
       "      <td>31.227815</td>\n",
       "      <td>0.012445</td>\n",
       "      <td>0.019094</td>\n",
       "      <td>0.556172</td>\n",
       "      <td>0.455366</td>\n",
       "      <td>78.738739</td>\n",
       "      <td>2.450000e+09</td>\n",
       "      <td>0.022733</td>\n",
       "      <td>...</td>\n",
       "      <td>1.528887</td>\n",
       "      <td>1.709644</td>\n",
       "      <td>1.707080</td>\n",
       "      <td>1.807491</td>\n",
       "      <td>1.675491</td>\n",
       "      <td>1.516048</td>\n",
       "      <td>1.0</td>\n",
       "      <td>0.153240</td>\n",
       "      <td>1.0</td>\n",
       "      <td>0.153240</td>\n",
       "    </tr>\n",
       "    <tr>\n",
       "      <th>AAL</th>\n",
       "      <td>1.808426</td>\n",
       "      <td>1.0</td>\n",
       "      <td>44.685737</td>\n",
       "      <td>0.028169</td>\n",
       "      <td>0.064040</td>\n",
       "      <td>36.424432</td>\n",
       "      <td>0.485370</td>\n",
       "      <td>93.248945</td>\n",
       "      <td>4.800000e+08</td>\n",
       "      <td>-0.000989</td>\n",
       "      <td>...</td>\n",
       "      <td>2.343384</td>\n",
       "      <td>2.901444</td>\n",
       "      <td>3.189619</td>\n",
       "      <td>3.397146</td>\n",
       "      <td>2.176341</td>\n",
       "      <td>2.323445</td>\n",
       "      <td>1.0</td>\n",
       "      <td>-6.645401</td>\n",
       "      <td>1.0</td>\n",
       "      <td>-6.645401</td>\n",
       "    </tr>\n",
       "    <tr>\n",
       "      <th>AAMC</th>\n",
       "      <td>NaN</td>\n",
       "      <td>0.0</td>\n",
       "      <td>78.486115</td>\n",
       "      <td>0.139961</td>\n",
       "      <td>0.334195</td>\n",
       "      <td>NaN</td>\n",
       "      <td>0.285151</td>\n",
       "      <td>79.117383</td>\n",
       "      <td>2.589400e+07</td>\n",
       "      <td>NaN</td>\n",
       "      <td>...</td>\n",
       "      <td>NaN</td>\n",
       "      <td>NaN</td>\n",
       "      <td>NaN</td>\n",
       "      <td>NaN</td>\n",
       "      <td>6.175104</td>\n",
       "      <td>5.102802</td>\n",
       "      <td>1.0</td>\n",
       "      <td>-5.344828</td>\n",
       "      <td>1.0</td>\n",
       "      <td>-5.344828</td>\n",
       "    </tr>\n",
       "    <tr>\n",
       "      <th>AAON</th>\n",
       "      <td>2.541011</td>\n",
       "      <td>1.0</td>\n",
       "      <td>63.675136</td>\n",
       "      <td>0.023334</td>\n",
       "      <td>0.058205</td>\n",
       "      <td>19.933934</td>\n",
       "      <td>0.291560</td>\n",
       "      <td>70.370370</td>\n",
       "      <td>9.717000e+06</td>\n",
       "      <td>0.139408</td>\n",
       "      <td>...</td>\n",
       "      <td>1.527344</td>\n",
       "      <td>1.764839</td>\n",
       "      <td>1.873006</td>\n",
       "      <td>1.929141</td>\n",
       "      <td>1.766661</td>\n",
       "      <td>1.524581</td>\n",
       "      <td>1.0</td>\n",
       "      <td>25.201465</td>\n",
       "      <td>1.0</td>\n",
       "      <td>25.201465</td>\n",
       "    </tr>\n",
       "    <tr>\n",
       "      <th>AAP</th>\n",
       "      <td>1.372023</td>\n",
       "      <td>1.0</td>\n",
       "      <td>43.245738</td>\n",
       "      <td>0.013097</td>\n",
       "      <td>0.032677</td>\n",
       "      <td>-2.283879</td>\n",
       "      <td>0.512806</td>\n",
       "      <td>43.829787</td>\n",
       "      <td>5.981110e+08</td>\n",
       "      <td>0.026401</td>\n",
       "      <td>...</td>\n",
       "      <td>1.693351</td>\n",
       "      <td>1.668539</td>\n",
       "      <td>1.925100</td>\n",
       "      <td>1.853027</td>\n",
       "      <td>1.161013</td>\n",
       "      <td>1.300263</td>\n",
       "      <td>1.0</td>\n",
       "      <td>-4.317130</td>\n",
       "      <td>1.0</td>\n",
       "      <td>-4.317130</td>\n",
       "    </tr>\n",
       "    <tr>\n",
       "      <th>...</th>\n",
       "      <th>...</th>\n",
       "      <td>...</td>\n",
       "      <td>...</td>\n",
       "      <td>...</td>\n",
       "      <td>...</td>\n",
       "      <td>...</td>\n",
       "      <td>...</td>\n",
       "      <td>...</td>\n",
       "      <td>...</td>\n",
       "      <td>...</td>\n",
       "      <td>...</td>\n",
       "      <td>...</td>\n",
       "      <td>...</td>\n",
       "      <td>...</td>\n",
       "      <td>...</td>\n",
       "      <td>...</td>\n",
       "      <td>...</td>\n",
       "      <td>...</td>\n",
       "      <td>...</td>\n",
       "      <td>...</td>\n",
       "      <td>...</td>\n",
       "      <td>...</td>\n",
       "    </tr>\n",
       "    <tr>\n",
       "      <th rowspan=\"5\" valign=\"top\">2014-05-27</th>\n",
       "      <th>ZIOP</th>\n",
       "      <td>-0.467863</td>\n",
       "      <td>-1.0</td>\n",
       "      <td>55.423866</td>\n",
       "      <td>-0.020369</td>\n",
       "      <td>-0.082617</td>\n",
       "      <td>41.618818</td>\n",
       "      <td>0.355434</td>\n",
       "      <td>-2.000000</td>\n",
       "      <td>6.038500e+07</td>\n",
       "      <td>-0.252260</td>\n",
       "      <td>...</td>\n",
       "      <td>4.685776</td>\n",
       "      <td>4.701648</td>\n",
       "      <td>6.137491</td>\n",
       "      <td>5.920068</td>\n",
       "      <td>4.474476</td>\n",
       "      <td>4.442228</td>\n",
       "      <td>1.0</td>\n",
       "      <td>-2.639296</td>\n",
       "      <td>1.0</td>\n",
       "      <td>-2.639296</td>\n",
       "    </tr>\n",
       "    <tr>\n",
       "      <th>ZNGA</th>\n",
       "      <td>-0.770121</td>\n",
       "      <td>-1.0</td>\n",
       "      <td>64.404891</td>\n",
       "      <td>-0.045643</td>\n",
       "      <td>-0.115039</td>\n",
       "      <td>28.997807</td>\n",
       "      <td>-0.033393</td>\n",
       "      <td>-18.750000</td>\n",
       "      <td>1.224530e+08</td>\n",
       "      <td>-0.883395</td>\n",
       "      <td>...</td>\n",
       "      <td>3.458026</td>\n",
       "      <td>3.441284</td>\n",
       "      <td>3.569673</td>\n",
       "      <td>3.750698</td>\n",
       "      <td>3.026751</td>\n",
       "      <td>3.969094</td>\n",
       "      <td>1.0</td>\n",
       "      <td>-10.263930</td>\n",
       "      <td>1.0</td>\n",
       "      <td>-10.263930</td>\n",
       "    </tr>\n",
       "    <tr>\n",
       "      <th>ZTS</th>\n",
       "      <td>-0.077525</td>\n",
       "      <td>0.0</td>\n",
       "      <td>59.134975</td>\n",
       "      <td>0.004146</td>\n",
       "      <td>0.010750</td>\n",
       "      <td>-2.976395</td>\n",
       "      <td>0.322463</td>\n",
       "      <td>-7.801418</td>\n",
       "      <td>5.060000e+08</td>\n",
       "      <td>-0.013607</td>\n",
       "      <td>...</td>\n",
       "      <td>1.120729</td>\n",
       "      <td>1.199976</td>\n",
       "      <td>1.347138</td>\n",
       "      <td>NaN</td>\n",
       "      <td>0.954097</td>\n",
       "      <td>1.285077</td>\n",
       "      <td>1.0</td>\n",
       "      <td>6.970684</td>\n",
       "      <td>1.0</td>\n",
       "      <td>6.970684</td>\n",
       "    </tr>\n",
       "    <tr>\n",
       "      <th>ZUMZ</th>\n",
       "      <td>0.490053</td>\n",
       "      <td>1.0</td>\n",
       "      <td>64.219281</td>\n",
       "      <td>0.022454</td>\n",
       "      <td>0.055110</td>\n",
       "      <td>-7.035231</td>\n",
       "      <td>0.127338</td>\n",
       "      <td>-15.742129</td>\n",
       "      <td>1.466100e+07</td>\n",
       "      <td>-0.039678</td>\n",
       "      <td>...</td>\n",
       "      <td>2.235008</td>\n",
       "      <td>2.280473</td>\n",
       "      <td>2.425245</td>\n",
       "      <td>2.456637</td>\n",
       "      <td>3.009085</td>\n",
       "      <td>2.424421</td>\n",
       "      <td>1.0</td>\n",
       "      <td>-1.685796</td>\n",
       "      <td>1.0</td>\n",
       "      <td>-1.685796</td>\n",
       "    </tr>\n",
       "    <tr>\n",
       "      <th>ZVO</th>\n",
       "      <td>-1.249725</td>\n",
       "      <td>-1.0</td>\n",
       "      <td>41.319797</td>\n",
       "      <td>-0.021549</td>\n",
       "      <td>-0.048905</td>\n",
       "      <td>27.830871</td>\n",
       "      <td>-0.571639</td>\n",
       "      <td>-40.000000</td>\n",
       "      <td>2.125260e+08</td>\n",
       "      <td>-0.843558</td>\n",
       "      <td>...</td>\n",
       "      <td>2.587797</td>\n",
       "      <td>2.837970</td>\n",
       "      <td>2.652469</td>\n",
       "      <td>2.584522</td>\n",
       "      <td>2.630091</td>\n",
       "      <td>2.894762</td>\n",
       "      <td>1.0</td>\n",
       "      <td>-7.877462</td>\n",
       "      <td>1.0</td>\n",
       "      <td>-7.877462</td>\n",
       "    </tr>\n",
       "  </tbody>\n",
       "</table>\n",
       "<p>355312 rows × 73 columns</p>\n",
       "</div>"
      ],
      "text/plain": [
       "                   ABAND_indicator_160  ABAND_signal_160   ADX_4_23  \\\n",
       "Date       Ticker                                                     \n",
       "2013-05-15 A                  1.228663               1.0  31.227815   \n",
       "           AAL                1.808426               1.0  44.685737   \n",
       "           AAMC                    NaN               0.0  78.486115   \n",
       "           AAON               2.541011               1.0  63.675136   \n",
       "           AAP                1.372023               1.0  43.245738   \n",
       "...                                ...               ...        ...   \n",
       "2014-05-27 ZIOP              -0.467863              -1.0  55.423866   \n",
       "           ZNGA              -0.770121              -1.0  64.404891   \n",
       "           ZTS               -0.077525               0.0  59.134975   \n",
       "           ZUMZ               0.490053               1.0  64.219281   \n",
       "           ZVO               -1.249725              -1.0  41.319797   \n",
       "\n",
       "                   APO_10_20  APO_10_40    ATR_160  BOL_indicator_10  \\\n",
       "Date       Ticker                                                      \n",
       "2013-05-15 A        0.012445   0.019094   0.556172          0.455366   \n",
       "           AAL      0.028169   0.064040  36.424432          0.485370   \n",
       "           AAMC     0.139961   0.334195        NaN          0.285151   \n",
       "           AAON     0.023334   0.058205  19.933934          0.291560   \n",
       "           AAP      0.013097   0.032677  -2.283879          0.512806   \n",
       "...                      ...        ...        ...               ...   \n",
       "2014-05-27 ZIOP    -0.020369  -0.082617  41.618818          0.355434   \n",
       "           ZNGA    -0.045643  -0.115039  28.997807         -0.033393   \n",
       "           ZTS      0.004146   0.010750  -2.976395          0.322463   \n",
       "           ZUMZ     0.022454   0.055110  -7.035231          0.127338   \n",
       "           ZVO     -0.021549  -0.048905  27.830871         -0.571639   \n",
       "\n",
       "                      CMO_10  Cash & Cash Equivalents  \\\n",
       "Date       Ticker                                       \n",
       "2013-05-15 A       78.738739             2.450000e+09   \n",
       "           AAL     93.248945             4.800000e+08   \n",
       "           AAMC    79.117383             2.589400e+07   \n",
       "           AAON    70.370370             9.717000e+06   \n",
       "           AAP     43.829787             5.981110e+08   \n",
       "...                      ...                      ...   \n",
       "2014-05-27 ZIOP    -2.000000             6.038500e+07   \n",
       "           ZNGA   -18.750000             1.224530e+08   \n",
       "           ZTS     -7.801418             5.060000e+08   \n",
       "           ZUMZ   -15.742129             1.466100e+07   \n",
       "           ZVO    -40.000000             2.125260e+08   \n",
       "\n",
       "                   Cash & Cash Equivalents/Total Liabilities_QC  ...  \\\n",
       "Date       Ticker                                                ...   \n",
       "2013-05-15 A                                           0.022733  ...   \n",
       "           AAL                                        -0.000989  ...   \n",
       "           AAMC                                             NaN  ...   \n",
       "           AAON                                        0.139408  ...   \n",
       "           AAP                                         0.026401  ...   \n",
       "...                                                         ...  ...   \n",
       "2014-05-27 ZIOP                                       -0.252260  ...   \n",
       "           ZNGA                                       -0.883395  ...   \n",
       "           ZTS                                        -0.013607  ...   \n",
       "           ZUMZ                                       -0.039678  ...   \n",
       "           ZVO                                        -0.843558  ...   \n",
       "\n",
       "                   volatility_160  volatility_240  volatility_320  \\\n",
       "Date       Ticker                                                   \n",
       "2013-05-15 A             1.528887        1.709644        1.707080   \n",
       "           AAL           2.343384        2.901444        3.189619   \n",
       "           AAMC               NaN             NaN             NaN   \n",
       "           AAON          1.527344        1.764839        1.873006   \n",
       "           AAP           1.693351        1.668539        1.925100   \n",
       "...                           ...             ...             ...   \n",
       "2014-05-27 ZIOP          4.685776        4.701648        6.137491   \n",
       "           ZNGA          3.458026        3.441284        3.569673   \n",
       "           ZTS           1.120729        1.199976        1.347138   \n",
       "           ZUMZ          2.235008        2.280473        2.425245   \n",
       "           ZVO           2.587797        2.837970        2.652469   \n",
       "\n",
       "                   volatility_360  volatility_40  volatility_80  \\\n",
       "Date       Ticker                                                 \n",
       "2013-05-15 A             1.807491       1.675491       1.516048   \n",
       "           AAL           3.397146       2.176341       2.323445   \n",
       "           AAMC               NaN       6.175104       5.102802   \n",
       "           AAON          1.929141       1.766661       1.524581   \n",
       "           AAP           1.853027       1.161013       1.300263   \n",
       "...                           ...            ...            ...   \n",
       "2014-05-27 ZIOP          5.920068       4.474476       4.442228   \n",
       "           ZNGA          3.750698       3.026751       3.969094   \n",
       "           ZTS                NaN       0.954097       1.285077   \n",
       "           ZUMZ          2.456637       3.009085       2.424421   \n",
       "           ZVO           2.584522       2.630091       2.894762   \n",
       "\n",
       "                   Class_binary_40_20  return_40  Class_binary_40_20  \\\n",
       "Date       Ticker                                                      \n",
       "2013-05-15 A                      1.0   0.153240                 1.0   \n",
       "           AAL                    1.0  -6.645401                 1.0   \n",
       "           AAMC                   1.0  -5.344828                 1.0   \n",
       "           AAON                   1.0  25.201465                 1.0   \n",
       "           AAP                    1.0  -4.317130                 1.0   \n",
       "...                               ...        ...                 ...   \n",
       "2014-05-27 ZIOP                   1.0  -2.639296                 1.0   \n",
       "           ZNGA                   1.0 -10.263930                 1.0   \n",
       "           ZTS                    1.0   6.970684                 1.0   \n",
       "           ZUMZ                   1.0  -1.685796                 1.0   \n",
       "           ZVO                    1.0  -7.877462                 1.0   \n",
       "\n",
       "                   return_40  \n",
       "Date       Ticker             \n",
       "2013-05-15 A        0.153240  \n",
       "           AAL     -6.645401  \n",
       "           AAMC    -5.344828  \n",
       "           AAON    25.201465  \n",
       "           AAP     -4.317130  \n",
       "...                      ...  \n",
       "2014-05-27 ZIOP    -2.639296  \n",
       "           ZNGA   -10.263930  \n",
       "           ZTS      6.970684  \n",
       "           ZUMZ    -1.685796  \n",
       "           ZVO     -7.877462  \n",
       "\n",
       "[355312 rows x 73 columns]"
      ]
     },
     "execution_count": 279,
     "metadata": {},
     "output_type": "execute_result"
    }
   ],
   "source": [
    "X_train_master"
   ]
  },
  {
   "cell_type": "code",
   "execution_count": 285,
   "metadata": {},
   "outputs": [],
   "source": [
    "cols1 = unique_cols.copy()"
   ]
  },
  {
   "cell_type": "code",
   "execution_count": 289,
   "metadata": {},
   "outputs": [
    {
     "name": "stdout",
     "output_type": "stream",
     "text": [
      "imported features1\n",
      "deleted features2\n",
      "df_create_time: 4.191953999999896\n",
      "10 cols time: 57.01198859999931\n",
      "df_create_time: 0.35568749999947613\n",
      "10 cols time: 59.83512259999952\n",
      "imported features2\n",
      "df_create_time: 8.170820800000001\n",
      "10 cols time: 60.501103200000216\n",
      "df_create_time: 0.6012711000003037\n",
      "10 cols time: 60.04097460000048\n",
      "df_create_time: 0.5354642999991484\n",
      "10 cols time: 60.847629900001266\n",
      "deleted features1\n",
      "df_create_time: 0.6978345999996236\n",
      "10 cols time: 62.456179200000406\n",
      "df_create_time: 0.42362599999978556\n",
      "10 cols time: 65.5266044\n",
      "df_create_time: 0.4350312999995367\n",
      "10 cols time: 65.97579299999961\n",
      "df_create_time: 0.41771719999997003\n",
      "10 cols time: 65.49287999999979\n",
      "df_create_time: 0.43149669999911566\n",
      "10 cols time: 65.41090509999958\n",
      "df_create_time: 0.42899510000097507\n",
      "10 cols time: 66.82737840000118\n",
      "imported features3\n",
      "df_create_time: 9.47814550000112\n",
      "10 cols time: 66.11070889999974\n",
      "df_create_time: 0.6488363000007666\n",
      "10 cols time: 73.17975800000022\n",
      "df_create_time: 0.5831355999998777\n",
      "10 cols time: 69.47248860000036\n",
      "deleted features2\n",
      "df_create_time: 0.7859987000010733\n",
      "10 cols time: 67.25981460000003\n",
      "df_create_time: 0.4225507999999536\n",
      "10 cols time: 66.09322460000112\n",
      "df_create_time: 0.44143219999932626\n",
      "10 cols time: 64.26688540000032\n",
      "df_create_time: 0.4397750999996788\n",
      "10 cols time: 64.23359720000008\n",
      "df_create_time: 0.41824999999880674\n",
      "10 cols time: 64.94006400000035\n",
      "df_create_time: 0.411481700000877\n",
      "10 cols time: 65.18009970000094\n"
     ]
    }
   ],
   "source": [
    "count = 0\n",
    "results = []\n",
    "start_time = time.perf_counter()\n",
    "\n",
    "#while True:\n",
    "    \n",
    "while count ==0:\n",
    "    \n",
    "    count +=1\n",
    "    \n",
    "    \"\"\"\n",
    "    \n",
    "    if time.perf_counter() - start_time > 3600:\n",
    "        print(\"sleeping\")\n",
    "        time.sleep(600)\n",
    "        start_time = time.perf_counter()\n",
    "        \n",
    "    count+=1\n",
    "    print(str(count))\n",
    "\n",
    "    \n",
    "    cols_trials = []\n",
    "    for i in range(10):\n",
    "        cols_trials.append(np.random.choice(columns_to_choose_from, np.random.randint(6, 30), replace = False))\n",
    "        \n",
    "        \n",
    "    unique_cols = np.array([])\n",
    "    for i in cols_trials:\n",
    "        unique_cols = np.append(unique_cols, i)\n",
    "\n",
    "    unique_cols = np.unique(unique_cols)\n",
    "    \n",
    "    unique_cols = np.append(unique_cols, [\"Class_binary_40_20\", \"return_40\"])\n",
    "    \n",
    "    \"\"\"\n",
    "    \n",
    "    results1 = []\n",
    "    \n",
    "    \n",
    "    cols_trials = [cols1]\n",
    "    unique_cols = np.append(cols1, [\"Class_binary_40_20\", \"return_40\"])\n",
    "    \n",
    "    \n",
    "    for prediction_date in prediction_dates:\n",
    "        \n",
    "        \n",
    "        results2 = []\n",
    "        \n",
    "        start_time_df_create = time.perf_counter()\n",
    "        \n",
    "        \n",
    "        training_period = Dates[prediction_date - 200 - 40 + 1: prediction_date - 40 +1]\n",
    "\n",
    "        prediction_period = Dates[prediction_date :prediction_date + 20 + 1]\n",
    "        \n",
    "         \n",
    "        if len(np.intersect1d(np.append(training_period, prediction_period), Date1)):\n",
    "        \n",
    "            if \"features1\" not in locals():\n",
    "\n",
    "                features1 = pd.read_pickle(\"training_sets/features1\")   \n",
    "                \n",
    "                print(\"imported features1\")\n",
    "\n",
    "            Date1_intersect = np.intersect1d(np.append(training_period, prediction_period), Date1)\n",
    "\n",
    "            X_train_master = features1.loc[Date1_intersect, unique_cols]\n",
    "            \n",
    "\n",
    "        else:\n",
    "\n",
    "            if \"features1\" in locals():\n",
    "                del features1\n",
    "                \n",
    "                print(\"deleted features1\")\n",
    "\n",
    "\n",
    "        if len(np.intersect1d(np.append(training_period, prediction_period), Date2)):\n",
    "            \n",
    "            if \"features2\" not in locals():\n",
    "\n",
    "                features2 = pd.read_pickle(\"training_sets/features2\")\n",
    "                \n",
    "                print(\"imported features2\")\n",
    "                \n",
    "            Date2_intersect = np.intersect1d(np.append(training_period, prediction_period), Date2)\n",
    "                \n",
    "            if \"X_train_master\" in locals():\n",
    "                \n",
    "                X_train_master = X_train_master.append(features2.loc[Date2_intersect, unique_cols])\n",
    "                \n",
    "            else:\n",
    "                \n",
    "                X_train_master = features2.loc[Date2_intersect, unique_cols]\n",
    "                \n",
    "        else:\n",
    "\n",
    "            if \"features2\" in locals():\n",
    "                del features2\n",
    "                \n",
    "                print(\"deleted features2\")\n",
    "\n",
    "\n",
    "        if len(np.intersect1d(np.append(training_period, prediction_period), Date3)):\n",
    "\n",
    "            if \"features3\" not in locals():\n",
    "\n",
    "                features3 = pd.read_pickle(\"training_sets/features3\")\n",
    "                \n",
    "                print(\"imported features3\")\n",
    "                \n",
    "                \n",
    "            Date3_intersect = np.intersect1d(np.append(training_period, prediction_period), Date3)\n",
    "                \n",
    "            if \"X_train_master\" in locals():\n",
    "                \n",
    "                X_train_master = X_train_master.append(features3.loc[Date3_intersect, unique_cols])\n",
    "                \n",
    "            else:\n",
    "                \n",
    "                X_train_master = features3.loc[Date3_intersect, unique_cols]\n",
    "\n",
    "        else:\n",
    "\n",
    "            if \"features3\" in locals():\n",
    "                del features3\n",
    "                \n",
    "                print(\"deleted features3\")\n",
    "                \n",
    "                \n",
    "        print(\"df_create_time: \"+ str(time.perf_counter() - start_time_df_create))\n",
    "        \n",
    "        start_time_cols = time.perf_counter()\n",
    "        \n",
    "        for col_indx, cols in enumerate(cols_trials):\n",
    "\n",
    "        \n",
    "            results3 = []\n",
    "\n",
    "            X_train, X_test, Y_train, Y_return_40 = make_dataset_eval_with_extra_return_40_term_from_periods(X_train_master, training_period, prediction_period, cols, \"Class_binary_40_20\", \"return_40\")\n",
    "\n",
    "            train_weights = Y_train.map({0:19, 1:1})\n",
    "\n",
    "            xgtrain = xgboost.DMatrix(X_train.values, Y_train.values, feature_names = cols, weight = train_weights)\n",
    "\n",
    "            xgtest = xgboost.DMatrix(X_test.values, feature_names = cols)\n",
    "\n",
    "            data = []\n",
    "\n",
    "            mycallback = my_callback(xgtest, Y_return_40, data)\n",
    "\n",
    "            bst = xgboost.train(params3, xgtrain, num_boost_round = 200, verbose_eval = False, callbacks = [mycallback])\n",
    "            \n",
    "            \n",
    "            results3.append(str(count) + str(col_indx))\n",
    "            results3.append(prediction_date)\n",
    "            results3.append(cols)\n",
    "            results3.append(data)\n",
    "            results3.append(bst.get_score(importance_type='weight'))\n",
    "            results3.append(bst.get_score(importance_type='gain'))\n",
    "            results3.append(bst.get_score(importance_type='cover'))\n",
    "\n",
    "            results2.append(results3)\n",
    "            \n",
    "        results1.append(results2)\n",
    "        \n",
    "        print(\"10 cols time: \" + str(time.perf_counter() - start_time_cols))\n",
    "            \n",
    "            \n",
    "        del X_train_master\n",
    "        \n",
    "    results.append(results1)\n",
    "    \n",
    "    #with open(\"ColSearch2/results_binary3.pkl\", \"wb\") as f:\n",
    "    #    pickle.dump(results, f)\n",
    "        \n",
    "    \n",
    "    \n",
    "    \n",
    "    \n",
    "    \n",
    "    "
   ]
  },
  {
   "cell_type": "code",
   "execution_count": 278,
   "metadata": {},
   "outputs": [
    {
     "data": {
      "text/html": [
       "<div>\n",
       "<style scoped>\n",
       "    .dataframe tbody tr th:only-of-type {\n",
       "        vertical-align: middle;\n",
       "    }\n",
       "\n",
       "    .dataframe tbody tr th {\n",
       "        vertical-align: top;\n",
       "    }\n",
       "\n",
       "    .dataframe thead th {\n",
       "        text-align: right;\n",
       "    }\n",
       "</style>\n",
       "<table border=\"1\" class=\"dataframe\">\n",
       "  <thead>\n",
       "    <tr style=\"text-align: right;\">\n",
       "      <th></th>\n",
       "      <th></th>\n",
       "      <th>Class_binary_40_20</th>\n",
       "      <th>Class_binary_40_20</th>\n",
       "      <th>Class_binary_40_20</th>\n",
       "      <th>Class_binary_40_20</th>\n",
       "    </tr>\n",
       "    <tr>\n",
       "      <th>Date</th>\n",
       "      <th>Ticker</th>\n",
       "      <th></th>\n",
       "      <th></th>\n",
       "      <th></th>\n",
       "      <th></th>\n",
       "    </tr>\n",
       "  </thead>\n",
       "  <tbody>\n",
       "    <tr>\n",
       "      <th>2013-07-02</th>\n",
       "      <th>ARWR</th>\n",
       "      <td>0.0</td>\n",
       "      <td>0.0</td>\n",
       "      <td>0.0</td>\n",
       "      <td>0.0</td>\n",
       "    </tr>\n",
       "    <tr>\n",
       "      <th>2013-05-30</th>\n",
       "      <th>CTS</th>\n",
       "      <td>1.0</td>\n",
       "      <td>1.0</td>\n",
       "      <td>1.0</td>\n",
       "      <td>1.0</td>\n",
       "    </tr>\n",
       "    <tr>\n",
       "      <th>2013-07-12</th>\n",
       "      <th>SAFM</th>\n",
       "      <td>1.0</td>\n",
       "      <td>1.0</td>\n",
       "      <td>1.0</td>\n",
       "      <td>1.0</td>\n",
       "    </tr>\n",
       "    <tr>\n",
       "      <th>2013-12-05</th>\n",
       "      <th>ITW</th>\n",
       "      <td>1.0</td>\n",
       "      <td>1.0</td>\n",
       "      <td>1.0</td>\n",
       "      <td>1.0</td>\n",
       "    </tr>\n",
       "    <tr>\n",
       "      <th>2013-09-05</th>\n",
       "      <th>FTK</th>\n",
       "      <td>1.0</td>\n",
       "      <td>1.0</td>\n",
       "      <td>1.0</td>\n",
       "      <td>1.0</td>\n",
       "    </tr>\n",
       "    <tr>\n",
       "      <th>...</th>\n",
       "      <th>...</th>\n",
       "      <td>...</td>\n",
       "      <td>...</td>\n",
       "      <td>...</td>\n",
       "      <td>...</td>\n",
       "    </tr>\n",
       "    <tr>\n",
       "      <th>2013-08-23</th>\n",
       "      <th>ADUS</th>\n",
       "      <td>0.0</td>\n",
       "      <td>0.0</td>\n",
       "      <td>0.0</td>\n",
       "      <td>0.0</td>\n",
       "    </tr>\n",
       "    <tr>\n",
       "      <th>2014-01-29</th>\n",
       "      <th>JOE</th>\n",
       "      <td>1.0</td>\n",
       "      <td>1.0</td>\n",
       "      <td>1.0</td>\n",
       "      <td>1.0</td>\n",
       "    </tr>\n",
       "    <tr>\n",
       "      <th>2014-01-23</th>\n",
       "      <th>BG</th>\n",
       "      <td>1.0</td>\n",
       "      <td>1.0</td>\n",
       "      <td>1.0</td>\n",
       "      <td>1.0</td>\n",
       "    </tr>\n",
       "    <tr>\n",
       "      <th>2013-11-18</th>\n",
       "      <th>ACIW</th>\n",
       "      <td>1.0</td>\n",
       "      <td>1.0</td>\n",
       "      <td>1.0</td>\n",
       "      <td>1.0</td>\n",
       "    </tr>\n",
       "    <tr>\n",
       "      <th>2014-01-31</th>\n",
       "      <th>IRDM</th>\n",
       "      <td>1.0</td>\n",
       "      <td>1.0</td>\n",
       "      <td>1.0</td>\n",
       "      <td>1.0</td>\n",
       "    </tr>\n",
       "  </tbody>\n",
       "</table>\n",
       "<p>179472 rows × 4 columns</p>\n",
       "</div>"
      ],
      "text/plain": [
       "                   Class_binary_40_20  Class_binary_40_20  Class_binary_40_20  \\\n",
       "Date       Ticker                                                               \n",
       "2013-07-02 ARWR                   0.0                 0.0                 0.0   \n",
       "2013-05-30 CTS                    1.0                 1.0                 1.0   \n",
       "2013-07-12 SAFM                   1.0                 1.0                 1.0   \n",
       "2013-12-05 ITW                    1.0                 1.0                 1.0   \n",
       "2013-09-05 FTK                    1.0                 1.0                 1.0   \n",
       "...                               ...                 ...                 ...   \n",
       "2013-08-23 ADUS                   0.0                 0.0                 0.0   \n",
       "2014-01-29 JOE                    1.0                 1.0                 1.0   \n",
       "2014-01-23 BG                     1.0                 1.0                 1.0   \n",
       "2013-11-18 ACIW                   1.0                 1.0                 1.0   \n",
       "2014-01-31 IRDM                   1.0                 1.0                 1.0   \n",
       "\n",
       "                   Class_binary_40_20  \n",
       "Date       Ticker                      \n",
       "2013-07-02 ARWR                   0.0  \n",
       "2013-05-30 CTS                    1.0  \n",
       "2013-07-12 SAFM                   1.0  \n",
       "2013-12-05 ITW                    1.0  \n",
       "2013-09-05 FTK                    1.0  \n",
       "...                               ...  \n",
       "2013-08-23 ADUS                   0.0  \n",
       "2014-01-29 JOE                    1.0  \n",
       "2014-01-23 BG                     1.0  \n",
       "2013-11-18 ACIW                   1.0  \n",
       "2014-01-31 IRDM                   1.0  \n",
       "\n",
       "[179472 rows x 4 columns]"
      ]
     },
     "execution_count": 278,
     "metadata": {},
     "output_type": "execute_result"
    }
   ],
   "source": [
    "Y_train"
   ]
  },
  {
   "cell_type": "code",
   "execution_count": 5,
   "metadata": {},
   "outputs": [],
   "source": [
    "def make_dataset_eval_with_extra_return_40_term_from_periods_for_regression(df, training_period, prediction_period, cols, return_col):\n",
    "    \n",
    "    \n",
    "    X_train = shuffle(df.loc[training_period, np.append(cols, return_col)])\n",
    "    X_train = X_train.replace([np.inf, -np.inf], np.NaN)\n",
    "    X_train = X_train.dropna(axis = 0)\n",
    "\n",
    "    Y_train_return_40 = X_train.pop(return_col)\n",
    "    \n",
    "    \n",
    "    \n",
    "    X_test = shuffle(df.loc[prediction_period, np.append(cols, return_col)])\n",
    "    X_test = X_test.replace([np.inf, -np.inf], np.NaN)\n",
    "    X_test = X_test.dropna(axis = 0)\n",
    "    \n",
    "    Y_test_return_40 = X_test.pop(return_col)\n",
    "    \n",
    "    return X_train, X_test, Y_train_return_40, Y_test_return_40"
   ]
  },
  {
   "cell_type": "code",
   "execution_count": 6,
   "metadata": {},
   "outputs": [],
   "source": [
    "def return_40_metric_for_regression(pred, labels):\n",
    "\n",
    "\n",
    "    return np.mean(labels[np.argsort(pred)[-500:]]), np.sort(pred)[-500], np.mean(labels[np.argsort(pred)[-100:]]), np.sort(pred)[-100], np.mean(labels[np.argsort(pred)[-20:]]), np.sort(pred)[-20]"
   ]
  },
  {
   "cell_type": "code",
   "execution_count": 7,
   "metadata": {},
   "outputs": [],
   "source": [
    "class my_callback_regression(xgboost.callback.TrainingCallback):\n",
    "    \n",
    "    def __init__(self, xgeval, Y_eval_return_40, results_eval):\n",
    "        self.eval_mine = xgeval\n",
    "        self.eval_return_40 = Y_eval_return_40\n",
    "        self.results_eval_mine = results_eval\n",
    "        \n",
    "        \n",
    "    def after_iteration(self, model, epoch, evals_log):\n",
    "            \n",
    "\n",
    "        predictions_eval = model.predict(self.eval_mine)\n",
    "\n",
    "        self.results_eval_mine.append(return_40_metric_for_regression(model.predict(self.eval_mine), self.eval_return_40))    \n",
    "        \n",
    "                   \n",
    "        return False"
   ]
  },
  {
   "cell_type": "code",
   "execution_count": 8,
   "metadata": {},
   "outputs": [],
   "source": [
    "params2 = {\n",
    "  'colsample_bynode': 0.6,\n",
    "    'colsample_bytree' : 0.6,\n",
    "    'colsample_bylevel' : 0.5,\n",
    "  'learning_rate': 0.3,\n",
    "  'max_depth': 3,\n",
    "  'num_parallel_tree': 100,\n",
    "  'objective': 'reg:squarederror',\n",
    "  'subsample': 0.9,\n",
    "  'tree_method': 'gpu_hist',\n",
    "    \"verbosity\" : 0,\n",
    "    \"lambda\" : 1,\n",
    "    \"alpha\" : 0\n",
    "}"
   ]
  },
  {
   "cell_type": "code",
   "execution_count": 9,
   "metadata": {},
   "outputs": [],
   "source": [
    "with open(\"ColSearch/cols_metrics_reg.pkl\", \"rb\") as f:\n",
    "    metrics_reg = pickle.load(f)"
   ]
  },
  {
   "cell_type": "code",
   "execution_count": 10,
   "metadata": {},
   "outputs": [],
   "source": [
    "with open(\"ColSearch/cols_return_20_reg.pkl\", \"rb\") as f:\n",
    "    return_20_reg = pickle.load(f)"
   ]
  },
  {
   "cell_type": "code",
   "execution_count": 11,
   "metadata": {},
   "outputs": [],
   "source": [
    "with open(\"ColSearch/cols_return_500_reg.pkl\", \"rb\") as f:\n",
    "    return_500_reg = pickle.load(f)"
   ]
  },
  {
   "cell_type": "code",
   "execution_count": 12,
   "metadata": {},
   "outputs": [],
   "source": [
    "columns_to_choose_from = np.unique(np.array([metrics_reg[:30], return_20_reg[:30], return_500_reg[:30]]))"
   ]
  },
  {
   "cell_type": "code",
   "execution_count": 5,
   "metadata": {},
   "outputs": [],
   "source": [
    "prediction_dates = np.linspace(650, len(Dates) - 80, 20).astype(int)"
   ]
  },
  {
   "cell_type": "code",
   "execution_count": 13,
   "metadata": {},
   "outputs": [],
   "source": [
    "with open(\"ColSearch2/results_reg.pkl\", \"rb\") as f:\n",
    "    results = pickle.load(f)"
   ]
  },
  {
   "cell_type": "code",
   "execution_count": null,
   "metadata": {},
   "outputs": [],
   "source": []
  },
  {
   "cell_type": "code",
   "execution_count": 14,
   "metadata": {},
   "outputs": [
    {
     "name": "stdout",
     "output_type": "stream",
     "text": [
      "1\n",
      "imported features1\n",
      "df_create_time: 2.9115467999999964\n",
      "10 cols time: 136.405638\n",
      "df_create_time: 0.3300265999999965\n",
      "10 cols time: 136.06916040000002\n",
      "imported features2\n",
      "df_create_time: 6.336841500000048\n",
      "10 cols time: 139.35066389999997\n",
      "df_create_time: 0.4534290999999939\n",
      "10 cols time: 145.77292209999996\n",
      "df_create_time: 0.5057696000000078\n",
      "10 cols time: 150.70243719999996\n",
      "deleted features1\n",
      "df_create_time: 0.7247283999998899\n",
      "10 cols time: 148.08797270000002\n",
      "df_create_time: 0.3785676999999623\n",
      "10 cols time: 148.89614440000003\n",
      "df_create_time: 0.3887677000000167\n",
      "10 cols time: 151.6911338\n",
      "df_create_time: 0.3882082000000082\n",
      "10 cols time: 148.65818560000002\n",
      "df_create_time: 0.38405779999993683\n",
      "10 cols time: 151.64175809999983\n",
      "df_create_time: 0.40890680000006796\n",
      "10 cols time: 149.79889660000003\n",
      "imported features3\n",
      "df_create_time: 10.775800199999821\n",
      "10 cols time: 148.70571629999995\n",
      "df_create_time: 0.7477035000001706\n",
      "10 cols time: 145.7109114\n",
      "df_create_time: 0.5923703000000842\n",
      "10 cols time: 147.83296739999992\n",
      "deleted features2\n",
      "df_create_time: 0.6451606000000538\n",
      "10 cols time: 148.02118660000042\n",
      "df_create_time: 0.4634228999998413\n",
      "10 cols time: 148.5076736000001\n",
      "df_create_time: 0.4445456000003105\n",
      "10 cols time: 149.3673844\n",
      "df_create_time: 0.43741229999977804\n",
      "10 cols time: 150.13763229999995\n",
      "df_create_time: 0.43085999999993874\n",
      "10 cols time: 149.73017150000032\n",
      "df_create_time: 0.42722369999955845\n",
      "10 cols time: 146.84859490000008\n",
      "sleeping\n",
      "2\n",
      "imported features1\n",
      "deleted features3\n",
      "df_create_time: 4.099566300000333\n",
      "10 cols time: 145.21032220000006\n",
      "df_create_time: 0.3290274999999383\n",
      "10 cols time: 144.34935799999994\n",
      "imported features2\n",
      "df_create_time: 7.581734899999901\n",
      "10 cols time: 142.89541370000006\n",
      "df_create_time: 0.48859730000003765\n",
      "10 cols time: 143.5174444000004\n",
      "df_create_time: 0.46546649999982037\n",
      "10 cols time: 145.58078300000034\n",
      "deleted features1\n",
      "df_create_time: 0.6255211000006966\n",
      "10 cols time: 146.43999299999996\n",
      "df_create_time: 0.3626968000007764\n",
      "10 cols time: 147.25715560000026\n",
      "df_create_time: 0.37304429999949207\n",
      "10 cols time: 147.3650772000001\n",
      "df_create_time: 0.3624266999995598\n",
      "10 cols time: 147.96345930000007\n",
      "df_create_time: 0.36343719999968016\n",
      "10 cols time: 145.81251780000002\n",
      "df_create_time: 0.3727825000005396\n",
      "10 cols time: 149.4601692999995\n",
      "imported features3\n",
      "df_create_time: 6.912407499999972\n",
      "10 cols time: 149.274762\n",
      "df_create_time: 0.6306906999998318\n",
      "10 cols time: 151.00563129999955\n",
      "df_create_time: 0.5332720999995217\n",
      "10 cols time: 155.36400330000015\n",
      "deleted features2\n",
      "df_create_time: 0.823045699999966\n",
      "10 cols time: 154.66911530000016\n",
      "df_create_time: 0.4297700999995868\n",
      "10 cols time: 156.52257409999947\n",
      "df_create_time: 0.40340869999999995\n",
      "10 cols time: 155.6031696\n",
      "df_create_time: 0.38431149999996705\n",
      "10 cols time: 154.8577466000006\n",
      "df_create_time: 0.38105410000025586\n",
      "10 cols time: 152.75502289999986\n",
      "df_create_time: 0.3740890999997646\n",
      "10 cols time: 151.47404199999983\n",
      "sleeping\n",
      "3\n",
      "imported features1\n",
      "deleted features3\n",
      "df_create_time: 3.874796299999616\n",
      "10 cols time: 132.05237670000042\n",
      "df_create_time: 0.3035472999999911\n",
      "10 cols time: 133.3352229000002\n",
      "imported features2\n",
      "df_create_time: 4.246155300000282\n",
      "10 cols time: 134.76862570000048\n",
      "df_create_time: 0.4572392000000036\n",
      "10 cols time: 135.41496469999947\n",
      "df_create_time: 0.4397157999992487\n",
      "10 cols time: 136.96278340000026\n",
      "deleted features1\n",
      "df_create_time: 0.5478607999993983\n",
      "10 cols time: 138.05982210000002\n",
      "df_create_time: 0.337257099999988\n",
      "10 cols time: 139.27204220000021\n",
      "df_create_time: 0.35676450000028126\n",
      "10 cols time: 139.3921567999996\n",
      "df_create_time: 0.3661470000006375\n",
      "10 cols time: 140.0863156000014\n",
      "df_create_time: 0.35385630000018864\n",
      "10 cols time: 139.5461963000016\n",
      "df_create_time: 0.358503199999177\n",
      "10 cols time: 139.94820660000005\n",
      "imported features3\n",
      "df_create_time: 6.068028499999855\n",
      "10 cols time: 140.4163869999993\n",
      "df_create_time: 0.5639022000013938\n",
      "10 cols time: 140.4890775999993\n",
      "df_create_time: 0.48930570000084117\n",
      "10 cols time: 141.69166489999952\n",
      "deleted features2\n",
      "df_create_time: 0.6786693000012747\n",
      "10 cols time: 142.12297039999976\n",
      "df_create_time: 0.37625589999879594\n",
      "10 cols time: 142.5993299999991\n",
      "df_create_time: 0.3719524000007368\n",
      "10 cols time: 142.74075679999987\n",
      "df_create_time: 0.3616634999998496\n",
      "10 cols time: 143.30849680000028\n",
      "df_create_time: 0.3574848000007478\n",
      "10 cols time: 142.54017310000017\n",
      "df_create_time: 0.35205040000073495\n",
      "10 cols time: 141.58122770000045\n",
      "sleeping\n",
      "4\n",
      "imported features1\n",
      "deleted features3\n",
      "df_create_time: 4.056689700000788\n",
      "10 cols time: 132.4259398000013\n",
      "df_create_time: 0.3082235000001674\n",
      "10 cols time: 133.7524568000008\n",
      "imported features2\n",
      "df_create_time: 5.169780799998989\n",
      "10 cols time: 135.1049587999987\n",
      "df_create_time: 0.4547201999994286\n",
      "10 cols time: 135.3855825999999\n",
      "df_create_time: 0.462657300000501\n",
      "10 cols time: 136.94067970000106\n",
      "deleted features1\n",
      "df_create_time: 0.6067170000005717\n",
      "10 cols time: 138.03188480000063\n",
      "df_create_time: 0.34447720000025583\n",
      "10 cols time: 138.86080589999983\n",
      "df_create_time: 0.34554039999966335\n",
      "10 cols time: 139.1571600999996\n",
      "df_create_time: 0.3515745999993669\n",
      "10 cols time: 139.68900949999988\n",
      "df_create_time: 0.35958779999964463\n",
      "10 cols time: 139.48960479999914\n",
      "df_create_time: 0.3597833999992872\n",
      "10 cols time: 139.2816659\n",
      "imported features3\n",
      "df_create_time: 5.808412300000782\n",
      "10 cols time: 140.09442730000046\n",
      "df_create_time: 0.5232377000011184\n",
      "10 cols time: 140.377563\n",
      "df_create_time: 0.4749127999984921\n",
      "10 cols time: 141.44245070000034\n",
      "deleted features2\n",
      "df_create_time: 0.6572638000016013\n",
      "10 cols time: 142.1491618\n",
      "df_create_time: 0.35698969999975816\n",
      "10 cols time: 142.31178550000004\n",
      "df_create_time: 0.3579072000011365\n",
      "10 cols time: 142.7535568000003\n",
      "df_create_time: 0.3570017000001826\n",
      "10 cols time: 142.84326299999884\n",
      "df_create_time: 0.35346969999955036\n",
      "10 cols time: 142.27753929999926\n",
      "df_create_time: 0.3623639000015828\n",
      "10 cols time: 141.69897820000006\n",
      "sleeping\n",
      "5\n",
      "imported features1\n",
      "deleted features3\n",
      "df_create_time: 3.4368241999982274\n",
      "10 cols time: 132.87394660000064\n",
      "df_create_time: 0.3030415000011999\n",
      "10 cols time: 134.40408040000148\n",
      "imported features2\n",
      "df_create_time: 4.694027300000016\n",
      "10 cols time: 136.14384759999848\n",
      "df_create_time: 0.4489047999995819\n",
      "10 cols time: 136.47684710000067\n",
      "df_create_time: 0.4382216000012704\n",
      "10 cols time: 137.6848796000013\n",
      "deleted features1\n",
      "df_create_time: 0.5478112999990117\n",
      "10 cols time: 138.76837330000126\n",
      "df_create_time: 0.35203410000031\n",
      "10 cols time: 139.85439700000097\n",
      "df_create_time: 0.3563947000002372\n",
      "10 cols time: 140.22705089999909\n",
      "df_create_time: 0.3540196999983891\n",
      "10 cols time: 140.05897809999988\n",
      "df_create_time: 0.36957169999914186\n",
      "10 cols time: 140.26066329999958\n",
      "df_create_time: 0.36931899999945017\n",
      "10 cols time: 140.3271936000001\n",
      "imported features3\n",
      "df_create_time: 5.69883370000025\n",
      "10 cols time: 140.98252649999995\n",
      "df_create_time: 0.5410246999999799\n",
      "10 cols time: 141.02531369999997\n",
      "df_create_time: 0.47694290000072215\n",
      "10 cols time: 142.01442640000096\n",
      "deleted features2\n",
      "df_create_time: 0.663903599999685\n",
      "10 cols time: 142.84204820000014\n",
      "df_create_time: 0.3812460999997711\n",
      "10 cols time: 143.35998930000096\n",
      "df_create_time: 0.3620451000006142\n",
      "10 cols time: 143.70869779999884\n",
      "df_create_time: 0.36742600000070524\n",
      "10 cols time: 143.7096730000012\n",
      "df_create_time: 0.35352339999735705\n",
      "10 cols time: 143.1336979000007\n",
      "df_create_time: 0.34852130000217585\n",
      "10 cols time: 142.32585530000142\n",
      "sleeping\n",
      "6\n",
      "imported features1\n",
      "deleted features3\n",
      "df_create_time: 3.99633299999914\n",
      "10 cols time: 130.9325925000012\n",
      "df_create_time: 0.30541209999864805\n",
      "10 cols time: 132.23538230000122\n",
      "imported features2\n",
      "df_create_time: 6.7296668000017235\n",
      "10 cols time: 133.52302580000105\n",
      "df_create_time: 0.44355320000249776\n",
      "10 cols time: 133.98954669999875\n",
      "df_create_time: 0.4300474000010581\n",
      "10 cols time: 135.15405159999864\n",
      "deleted features1\n",
      "df_create_time: 0.56339890000163\n",
      "10 cols time: 136.31559860000198\n",
      "df_create_time: 0.33179500000187545\n",
      "10 cols time: 137.1840291999979\n",
      "df_create_time: 0.34758399999918765\n",
      "10 cols time: 137.59697979999692\n",
      "df_create_time: 0.35103589999926044\n",
      "10 cols time: 138.16759459999957\n",
      "df_create_time: 0.3692373000012594\n",
      "10 cols time: 138.06628450000062\n",
      "df_create_time: 0.3506416000018362\n",
      "10 cols time: 138.5133878000015\n",
      "imported features3\n",
      "df_create_time: 7.804294200002914\n",
      "10 cols time: 139.03199029999814\n",
      "df_create_time: 0.5658879000002344\n",
      "10 cols time: 139.0117950999993\n",
      "df_create_time: 0.5039711999997962\n",
      "10 cols time: 140.03891699999804\n",
      "deleted features2\n",
      "df_create_time: 0.7000299000028463\n",
      "10 cols time: 140.1862743999991\n",
      "df_create_time: 0.3621205000017653\n",
      "10 cols time: 140.30614720000085\n",
      "df_create_time: 0.371619900000951\n",
      "10 cols time: 140.85998969999855\n",
      "df_create_time: 0.3563094999990426\n",
      "10 cols time: 141.13728270000138\n",
      "df_create_time: 0.35016770000220276\n",
      "10 cols time: 140.48789009999746\n",
      "df_create_time: 0.35469379999995\n",
      "10 cols time: 140.18826059999992\n",
      "sleeping\n",
      "7\n",
      "imported features1\n",
      "deleted features3\n",
      "df_create_time: 3.5929324999997334\n",
      "10 cols time: 132.44475489999968\n",
      "df_create_time: 0.31876269999702345\n",
      "10 cols time: 133.85498440000083\n",
      "imported features2\n",
      "df_create_time: 6.759559800000716\n",
      "10 cols time: 135.52476690000185\n",
      "df_create_time: 0.44953520000126446\n",
      "10 cols time: 136.22956410000188\n",
      "df_create_time: 0.43786289999843575\n",
      "10 cols time: 137.6565627000018\n",
      "deleted features1\n",
      "df_create_time: 0.5442247999999381\n",
      "10 cols time: 139.13214139999764\n",
      "df_create_time: 0.34061060000021826\n",
      "10 cols time: 139.75504940000246\n",
      "df_create_time: 0.3436911000026157\n",
      "10 cols time: 139.9081784000009\n",
      "df_create_time: 0.34223410000049626\n",
      "10 cols time: 140.06893670000136\n",
      "df_create_time: 0.3603778999968199\n",
      "10 cols time: 140.1805091999995\n",
      "df_create_time: 0.3598017999975127\n",
      "10 cols time: 140.68532480000067\n",
      "imported features3\n",
      "df_create_time: 10.000412100001995\n",
      "10 cols time: 141.32043879999765\n",
      "df_create_time: 0.4984361999995599\n",
      "10 cols time: 141.6271643\n",
      "df_create_time: 0.46504020000065793\n",
      "10 cols time: 142.51277280000068\n",
      "deleted features2\n",
      "df_create_time: 0.6139332999991893\n",
      "10 cols time: 16380.050398399999\n",
      "df_create_time: 0.43449880000116536\n",
      "10 cols time: 142.8497509000008\n",
      "df_create_time: 0.44727700000657933\n",
      "10 cols time: 143.58270679999987\n",
      "df_create_time: 0.42887209999753395\n",
      "10 cols time: 144.241162600003\n",
      "df_create_time: 0.42024740000488237\n",
      "10 cols time: 143.6164665000033\n",
      "df_create_time: 0.41587210000579944\n",
      "10 cols time: 143.35279369999625\n",
      "sleeping\n",
      "8\n",
      "imported features1\n",
      "deleted features3\n",
      "df_create_time: 4.441018299999996\n",
      "10 cols time: 133.19330289999925\n",
      "df_create_time: 0.3114754999987781\n",
      "10 cols time: 133.99382960000366\n",
      "imported features2\n",
      "df_create_time: 5.407556800004386\n",
      "10 cols time: 135.7134984000004\n",
      "df_create_time: 0.4685361000010744\n",
      "10 cols time: 136.3187082999939\n",
      "df_create_time: 0.4595640999978059\n",
      "10 cols time: 137.56652939999913\n",
      "deleted features1\n",
      "df_create_time: 0.6075109000012162\n",
      "10 cols time: 138.9275634000005\n",
      "df_create_time: 0.34569870000268565\n",
      "10 cols time: 140.00449159999698\n",
      "df_create_time: 0.35113239999918733\n",
      "10 cols time: 140.44737290000194\n",
      "df_create_time: 0.3575937999994494\n",
      "10 cols time: 141.07182230000035\n",
      "df_create_time: 0.40488360000017565\n",
      "10 cols time: 140.365249399998\n",
      "df_create_time: 0.35512520000338554\n",
      "10 cols time: 140.49429959999543\n",
      "imported features3\n",
      "df_create_time: 6.332930099997611\n",
      "10 cols time: 141.634581899998\n",
      "df_create_time: 0.637528300001577\n",
      "10 cols time: 142.42447820000234\n",
      "df_create_time: 0.5268596000023535\n",
      "10 cols time: 143.52119440000388\n",
      "deleted features2\n",
      "df_create_time: 0.7462157999980263\n",
      "10 cols time: 143.3747569000043\n",
      "df_create_time: 0.3698696999999811\n",
      "10 cols time: 143.6492714000051\n",
      "df_create_time: 0.36602850000053877\n",
      "10 cols time: 143.9986216000034\n",
      "df_create_time: 0.3711994999976014\n",
      "10 cols time: 144.3380799000006\n",
      "df_create_time: 0.35681089999707183\n",
      "10 cols time: 144.00950000000012\n",
      "df_create_time: 0.3564055000024382\n",
      "10 cols time: 143.30608380000194\n",
      "sleeping\n",
      "9\n",
      "imported features1\n",
      "deleted features3\n",
      "df_create_time: 3.693695000001753\n",
      "10 cols time: 131.44886650000262\n",
      "df_create_time: 0.341594299999997\n",
      "10 cols time: 132.9713034000015\n",
      "imported features2\n",
      "df_create_time: 5.567120200001227\n",
      "10 cols time: 135.98514110000542\n",
      "df_create_time: 0.49837700000352925\n",
      "10 cols time: 136.1907627000037\n",
      "df_create_time: 0.504336300000432\n",
      "10 cols time: 138.67649019999953\n",
      "deleted features1\n",
      "df_create_time: 0.6889012999963597\n",
      "10 cols time: 139.97890810000536\n",
      "df_create_time: 0.3719095999986166\n",
      "10 cols time: 144.0494120999938\n",
      "df_create_time: 0.38313140000536805\n",
      "10 cols time: 148.27578599999833\n",
      "df_create_time: 0.38866470000357367\n",
      "10 cols time: 153.97757560000173\n",
      "df_create_time: 0.39876989999902435\n",
      "10 cols time: 152.30991289999656\n",
      "df_create_time: 0.44573310000123456\n",
      "10 cols time: 149.33493029999954\n",
      "imported features3\n",
      "df_create_time: 13.476917499996489\n",
      "10 cols time: 147.2413119999983\n",
      "df_create_time: 0.8603422999949544\n",
      "10 cols time: 150.1852155000015\n",
      "df_create_time: 0.6773635999998078\n",
      "10 cols time: 150.43623970000044\n",
      "deleted features2\n",
      "df_create_time: 0.7165335999961826\n",
      "10 cols time: 149.96215789999405\n",
      "df_create_time: 0.490557599994645\n",
      "10 cols time: 150.92414889999782\n",
      "df_create_time: 0.5003585999947973\n",
      "10 cols time: 145.89379850000114\n",
      "df_create_time: 0.5007261999999173\n",
      "10 cols time: 147.36069080000016\n",
      "df_create_time: 0.5201126000029035\n",
      "10 cols time: 150.16489560000628\n",
      "df_create_time: 0.5152407000059611\n",
      "10 cols time: 147.80094340000505\n",
      "sleeping\n",
      "10\n",
      "imported features1\n",
      "deleted features3\n",
      "df_create_time: 13.428043299994897\n",
      "10 cols time: 141.12416459999804\n",
      "df_create_time: 0.43231550000200514\n",
      "10 cols time: 139.40286950000154\n",
      "imported features2\n",
      "df_create_time: 9.118758300006448\n",
      "10 cols time: 145.2316604000007\n",
      "df_create_time: 0.6262526999998954\n",
      "10 cols time: 146.542681299994\n",
      "df_create_time: 0.5588445000030333\n",
      "10 cols time: 145.9423867000005\n",
      "deleted features1\n",
      "df_create_time: 0.6444742000021506\n",
      "10 cols time: 144.32376700000168\n",
      "df_create_time: 0.4982858000003034\n",
      "10 cols time: 149.46671380000043\n",
      "df_create_time: 0.4536166999969282\n",
      "10 cols time: 147.19664300000295\n",
      "df_create_time: 0.4897936999986996\n",
      "10 cols time: 146.0255851999973\n",
      "df_create_time: 0.4587535999962711\n",
      "10 cols time: 144.7683868000022\n",
      "df_create_time: 0.4719256999960635\n",
      "10 cols time: 148.65446579999843\n",
      "imported features3\n",
      "df_create_time: 7.122708499999135\n",
      "10 cols time: 148.67986960000417\n",
      "df_create_time: 0.8352193999962765\n",
      "10 cols time: 149.8823973000035\n",
      "df_create_time: 0.5909154999972088\n",
      "10 cols time: 149.78625959999772\n",
      "deleted features2\n",
      "df_create_time: 0.7451789999977336\n",
      "10 cols time: 150.7187191999983\n",
      "df_create_time: 0.44615170000179205\n",
      "10 cols time: 149.33842100000038\n",
      "df_create_time: 0.4369825999965542\n",
      "10 cols time: 148.89587390000088\n",
      "df_create_time: 0.4536878999933833\n",
      "10 cols time: 151.92466279999644\n",
      "df_create_time: 0.4609153999990667\n",
      "10 cols time: 151.21642649999558\n",
      "df_create_time: 0.4373328000001493\n",
      "10 cols time: 147.11878019999858\n",
      "sleeping\n",
      "11\n",
      "imported features1\n",
      "deleted features3\n",
      "df_create_time: 5.259465099996305\n",
      "10 cols time: 135.9847684999986\n",
      "df_create_time: 0.3713534999988042\n",
      "10 cols time: 140.00530110000545\n",
      "imported features2\n",
      "df_create_time: 8.198589500003436\n",
      "10 cols time: 139.0245161000057\n",
      "df_create_time: 0.5769593000004534\n",
      "10 cols time: 134.38733170000341\n",
      "df_create_time: 0.5258388000002014\n",
      "10 cols time: 132.6034443000026\n",
      "deleted features1\n",
      "df_create_time: 0.6509417999986908\n",
      "10 cols time: 132.74506640000618\n",
      "df_create_time: 0.42260019999957876\n",
      "10 cols time: 137.1935217000064\n",
      "df_create_time: 0.4439576999939163\n",
      "10 cols time: 134.3727093999987\n",
      "df_create_time: 0.4483357999997679\n",
      "10 cols time: 134.58402529999876\n",
      "df_create_time: 0.4419320000015432\n",
      "10 cols time: 132.89568410000356\n",
      "df_create_time: 0.4299765000032494\n",
      "10 cols time: 133.12688360000175\n",
      "imported features3\n",
      "df_create_time: 11.24159789999976\n",
      "10 cols time: 134.78181629999744\n",
      "df_create_time: 0.7474612000005436\n",
      "10 cols time: 135.80380710000463\n",
      "df_create_time: 0.620366399998602\n",
      "10 cols time: 138.13114309999946\n",
      "deleted features2\n",
      "df_create_time: 0.7187642999997479\n",
      "10 cols time: 136.5494316999975\n",
      "df_create_time: 0.49770990000251913\n",
      "10 cols time: 136.9371547999981\n",
      "df_create_time: 0.5050161999970442\n",
      "10 cols time: 137.79671919999964\n",
      "df_create_time: 0.5141419999999925\n",
      "10 cols time: 138.27513019999606\n",
      "df_create_time: 0.4869990999941365\n",
      "10 cols time: 136.93189780000102\n",
      "df_create_time: 0.4787713000041549\n",
      "10 cols time: 136.07417119999445\n",
      "sleeping\n",
      "12\n",
      "imported features1\n",
      "deleted features3\n",
      "df_create_time: 4.023573099999339\n",
      "10 cols time: 127.76924660000077\n",
      "df_create_time: 0.39105730000301264\n",
      "10 cols time: 128.80204210000375\n",
      "imported features2\n",
      "df_create_time: 6.900595699997211\n",
      "10 cols time: 130.60019759999705\n",
      "df_create_time: 0.5824403000005987\n",
      "10 cols time: 131.25381610000477\n",
      "df_create_time: 0.5132818999991287\n",
      "10 cols time: 133.1305177999966\n",
      "deleted features1\n",
      "df_create_time: 0.6642127000013716\n",
      "10 cols time: 134.02744080000411\n",
      "df_create_time: 0.4297694999986561\n",
      "10 cols time: 135.32841200000257\n",
      "df_create_time: 0.43412910000188276\n",
      "10 cols time: 134.51113590000023\n",
      "df_create_time: 0.45727910000277916\n",
      "10 cols time: 136.4525982999985\n",
      "df_create_time: 0.4424330999972881\n",
      "10 cols time: 135.5581233000048\n",
      "df_create_time: 0.42767049999383744\n",
      "10 cols time: 136.28670049999346\n",
      "imported features3\n",
      "df_create_time: 7.168174899998121\n",
      "10 cols time: 139.42606390000583\n",
      "df_create_time: 0.685932699998375\n",
      "10 cols time: 138.8106512000013\n",
      "df_create_time: 0.5624317999972845\n",
      "10 cols time: 139.38521860000037\n",
      "deleted features2\n",
      "df_create_time: 0.7610786999939592\n",
      "10 cols time: 140.01384630000393\n",
      "df_create_time: 0.4459749999950873\n",
      "10 cols time: 138.3098788999996\n",
      "df_create_time: 0.4331384000033722\n",
      "10 cols time: 137.6137407999995\n",
      "df_create_time: 0.4309609999982058\n",
      "10 cols time: 139.3027202999947\n",
      "df_create_time: 0.43287489999784157\n",
      "10 cols time: 136.82229409999854\n",
      "df_create_time: 0.42688020000059623\n",
      "10 cols time: 139.127333000004\n",
      "sleeping\n",
      "13\n",
      "imported features1\n",
      "deleted features3\n",
      "df_create_time: 4.431294199996046\n",
      "10 cols time: 126.126522999999\n",
      "df_create_time: 0.37437209999916377\n",
      "10 cols time: 127.97173670000484\n",
      "imported features2\n",
      "df_create_time: 6.74424519999593\n",
      "10 cols time: 128.69180580000102\n",
      "df_create_time: 0.53024419999565\n",
      "10 cols time: 128.88546110000607\n",
      "df_create_time: 0.5216376000025775\n",
      "10 cols time: 129.34796509999433\n",
      "deleted features1\n",
      "df_create_time: 0.606136599999445\n",
      "10 cols time: 130.50646389999747\n",
      "df_create_time: 0.4185058000002755\n",
      "10 cols time: 132.5809217999995\n",
      "df_create_time: 0.41938630000367993\n",
      "10 cols time: 132.34803900000406\n",
      "df_create_time: 0.4383949999973993\n",
      "10 cols time: 132.14261779999651\n",
      "df_create_time: 0.44441209999786224\n",
      "10 cols time: 131.07686329999706\n",
      "df_create_time: 0.4228046999996877\n",
      "10 cols time: 132.50524900000164\n",
      "imported features3\n",
      "df_create_time: 7.607692799996585\n",
      "10 cols time: 132.71146109999972\n",
      "df_create_time: 0.6071209000001545\n",
      "10 cols time: 133.50474759999634\n",
      "df_create_time: 0.5661316999976407\n",
      "10 cols time: 134.97054000000207\n",
      "deleted features2\n",
      "df_create_time: 0.7695548999981838\n",
      "10 cols time: 134.89321740000014\n",
      "df_create_time: 0.4338424000015948\n",
      "10 cols time: 135.36790969999856\n",
      "df_create_time: 0.43642999999428866\n",
      "10 cols time: 135.15483900000254\n",
      "df_create_time: 0.4206036999967182\n",
      "10 cols time: 136.63062559999526\n",
      "df_create_time: 0.4446081999994931\n",
      "10 cols time: 137.75967800000217\n",
      "df_create_time: 0.42272180000145454\n",
      "10 cols time: 135.32848260000173\n",
      "sleeping\n",
      "14\n",
      "imported features1\n",
      "deleted features3\n",
      "df_create_time: 4.511467600001197\n",
      "10 cols time: 134.13133450000169\n",
      "df_create_time: 0.3779013000021223\n",
      "10 cols time: 130.74413179999829\n",
      "imported features2\n",
      "df_create_time: 6.656120600004215\n",
      "10 cols time: 130.94605410000077\n",
      "df_create_time: 0.5293434999985038\n",
      "10 cols time: 131.7645732000019\n",
      "df_create_time: 0.5168570000023465\n",
      "10 cols time: 132.59796169999754\n",
      "deleted features1\n",
      "df_create_time: 0.6127617999954964\n",
      "10 cols time: 132.78145360000053\n",
      "df_create_time: 0.4164805999971577\n",
      "10 cols time: 135.0334604000018\n",
      "df_create_time: 0.4268974000005983\n",
      "10 cols time: 135.63661489999504\n",
      "df_create_time: 0.43261160000110976\n",
      "10 cols time: 135.69055169999774\n",
      "df_create_time: 0.4340239000011934\n",
      "10 cols time: 136.26452509999945\n",
      "df_create_time: 0.43262289999984205\n",
      "10 cols time: 138.57862239999668\n",
      "imported features3\n",
      "df_create_time: 12.519002900000487\n",
      "10 cols time: 137.65790990000096\n",
      "df_create_time: 0.7607886999976472\n",
      "10 cols time: 138.6794105000008\n",
      "df_create_time: 0.581050700006017\n",
      "10 cols time: 139.97346610000386\n",
      "deleted features2\n",
      "df_create_time: 0.5918598999996902\n",
      "10 cols time: 140.34831999999733\n",
      "df_create_time: 0.4553323000000091\n",
      "10 cols time: 138.21774460000597\n",
      "df_create_time: 0.4530098999966867\n",
      "10 cols time: 140.57113379999646\n",
      "df_create_time: 0.437392899999395\n",
      "10 cols time: 139.2536209999962\n",
      "df_create_time: 0.46074570000200765\n",
      "10 cols time: 138.5010414999997\n",
      "df_create_time: 0.44198209999740357\n",
      "10 cols time: 140.18567379999877\n",
      "sleeping\n",
      "15\n",
      "imported features1\n",
      "deleted features3\n",
      "df_create_time: 4.325057200003357\n",
      "10 cols time: 131.2797178000037\n",
      "df_create_time: 0.37920470000244677\n",
      "10 cols time: 129.3023777999988\n",
      "imported features2\n",
      "df_create_time: 6.839106100000208\n",
      "10 cols time: 134.87109919999784\n",
      "df_create_time: 0.606796400003077\n",
      "10 cols time: 130.63315119999606\n",
      "df_create_time: 0.5133301000023494\n",
      "10 cols time: 132.09640000000218\n",
      "deleted features1\n",
      "df_create_time: 0.6947718999945209\n",
      "10 cols time: 132.04014290000487\n",
      "df_create_time: 0.4047202000001562\n",
      "10 cols time: 133.6323518000063\n",
      "df_create_time: 0.3959764000028372\n",
      "10 cols time: 133.7973411999992\n",
      "df_create_time: 0.4130568999971729\n",
      "10 cols time: 134.96147639999253\n",
      "df_create_time: 0.39945199999783654\n",
      "10 cols time: 135.22500750000472\n",
      "df_create_time: 0.41352200000255834\n",
      "10 cols time: 135.01808529999107\n",
      "imported features3\n",
      "df_create_time: 13.340242199992645\n",
      "10 cols time: 135.64597300000605\n",
      "df_create_time: 0.7646195999986958\n",
      "10 cols time: 135.97099430000526\n",
      "df_create_time: 0.5677021000010427\n",
      "10 cols time: 137.3061669000017\n",
      "deleted features2\n",
      "df_create_time: 0.6896573999983957\n",
      "10 cols time: 137.7054402000067\n",
      "df_create_time: 0.45776249999471474\n",
      "10 cols time: 137.89207629999146\n",
      "df_create_time: 0.4839421000069706\n",
      "10 cols time: 138.48258239999996\n",
      "df_create_time: 0.47077770000032615\n",
      "10 cols time: 138.89055789999838\n",
      "df_create_time: 0.4489340000000084\n",
      "10 cols time: 138.0880904000078\n",
      "df_create_time: 0.47096969999256544\n",
      "10 cols time: 137.5711602000083\n",
      "sleeping\n",
      "16\n",
      "imported features1\n",
      "deleted features3\n",
      "df_create_time: 3.797987700003432\n",
      "10 cols time: 125.61163879999367\n",
      "df_create_time: 0.3731362000107765\n",
      "10 cols time: 126.49771889999101\n",
      "imported features2\n",
      "df_create_time: 5.815193499991437\n",
      "10 cols time: 127.52864679999766\n",
      "df_create_time: 0.5324403999984497\n",
      "10 cols time: 128.27653449999343\n",
      "df_create_time: 0.5013173000043025\n",
      "10 cols time: 129.44001619999472\n",
      "deleted features1\n",
      "df_create_time: 0.6868296000029659\n",
      "10 cols time: 130.84898979999707\n",
      "df_create_time: 0.40874579999945126\n",
      "10 cols time: 131.63871889999427\n",
      "df_create_time: 0.4131278000131715\n",
      "10 cols time: 133.19349140000122\n",
      "df_create_time: 0.4175093999947421\n",
      "10 cols time: 132.17729599999439\n",
      "df_create_time: 0.4232229000044754\n",
      "10 cols time: 131.6366732000024\n",
      "df_create_time: 0.43040250000194646\n",
      "10 cols time: 132.1657400999975\n",
      "imported features3\n",
      "df_create_time: 6.464588500006357\n",
      "10 cols time: 133.19564890000038\n",
      "df_create_time: 0.7384468000091147\n",
      "10 cols time: 133.45918040000834\n",
      "df_create_time: 0.5405387000064366\n",
      "10 cols time: 134.74799409999105\n",
      "deleted features2\n",
      "df_create_time: 0.7460886000044411\n",
      "10 cols time: 134.80011569999624\n",
      "df_create_time: 0.42491839999274816\n",
      "10 cols time: 134.74476950000098\n",
      "df_create_time: 0.42617649999738205\n",
      "10 cols time: 135.5123564000096\n",
      "df_create_time: 0.40767249999044\n",
      "10 cols time: 135.72470940000494\n",
      "df_create_time: 0.4151524999906542\n",
      "10 cols time: 135.3239401000028\n",
      "df_create_time: 0.44064970000181347\n",
      "10 cols time: 134.72525479999604\n",
      "sleeping\n",
      "17\n",
      "imported features1\n",
      "deleted features3\n",
      "df_create_time: 4.048835699999472\n",
      "10 cols time: 123.52734089999285\n",
      "df_create_time: 0.3699447999970289\n",
      "10 cols time: 2217.062692899999\n",
      "imported features2\n",
      "df_create_time: 8.91109849998611\n",
      "10 cols time: 125.73820900000283\n",
      "df_create_time: 0.5798341999907279\n",
      "10 cols time: 128.6078783999983\n",
      "df_create_time: 0.5193914999981644\n",
      "10 cols time: 127.8405586000008\n",
      "deleted features1\n",
      "df_create_time: 0.7062981000053696\n",
      "10 cols time: 129.64473129999533\n",
      "df_create_time: 0.40533000000868924\n",
      "10 cols time: 130.62613079999574\n",
      "df_create_time: 0.4240013000089675\n",
      "10 cols time: 130.84247650000907\n",
      "df_create_time: 0.4392268000083277\n",
      "10 cols time: 132.59507499999017\n",
      "df_create_time: 0.4238233000069158\n",
      "10 cols time: 133.102547100003\n",
      "df_create_time: 0.4440879000030691\n",
      "10 cols time: 132.51128239999525\n",
      "imported features3\n",
      "df_create_time: 9.524051799991867\n",
      "10 cols time: 131.02066350000678\n",
      "df_create_time: 0.7122825999977067\n",
      "10 cols time: 131.47624769998947\n",
      "df_create_time: 0.6011073999979999\n",
      "10 cols time: 132.4003542999999\n",
      "deleted features2\n",
      "df_create_time: 0.8070822000008775\n",
      "10 cols time: 132.80038780000177\n",
      "df_create_time: 0.4644776999921305\n",
      "10 cols time: 132.97165180000593\n",
      "df_create_time: 0.45762200000172015\n",
      "10 cols time: 133.5623870999989\n",
      "df_create_time: 0.45085569999355357\n",
      "10 cols time: 133.4213221999962\n",
      "df_create_time: 0.43493889999808744\n",
      "10 cols time: 132.4463284000085\n",
      "df_create_time: 0.4424769000033848\n",
      "10 cols time: 131.62727569999697\n",
      "sleeping\n",
      "18\n",
      "imported features1\n",
      "deleted features3\n",
      "df_create_time: 4.050362900001346\n",
      "10 cols time: 122.33853380000801\n",
      "df_create_time: 0.35869670000101905\n",
      "10 cols time: 123.12590250000358\n",
      "imported features2\n",
      "df_create_time: 5.527850999991642\n",
      "10 cols time: 125.08317850000458\n",
      "df_create_time: 0.5142675999959465\n",
      "10 cols time: 125.64325510000344\n",
      "df_create_time: 0.49604709999402985\n",
      "10 cols time: 126.29189759999281\n",
      "deleted features1\n",
      "df_create_time: 0.6686612000048626\n",
      "10 cols time: 127.26128320000134\n",
      "df_create_time: 0.42302360000030603\n",
      "10 cols time: 128.0974567999947\n",
      "df_create_time: 0.4077347000129521\n",
      "10 cols time: 128.39598080000724\n",
      "df_create_time: 0.41673029999947175\n",
      "10 cols time: 129.00927189999493\n",
      "df_create_time: 0.43011570000089705\n",
      "10 cols time: 128.48412850000022\n",
      "df_create_time: 0.4275874000013573\n",
      "10 cols time: 128.90804410001147\n",
      "imported features3\n",
      "df_create_time: 8.178692400004365\n",
      "10 cols time: 131.0558219999948\n",
      "df_create_time: 0.6856573999975808\n",
      "10 cols time: 131.11555760000192\n",
      "df_create_time: 0.5661479999980656\n",
      "10 cols time: 132.92588379999506\n",
      "deleted features2\n",
      "df_create_time: 0.7881942000094568\n",
      "10 cols time: 132.15803049999522\n",
      "df_create_time: 0.4444684000045527\n",
      "10 cols time: 132.96171750000212\n",
      "df_create_time: 0.43396080000093207\n",
      "10 cols time: 133.1921008000063\n",
      "df_create_time: 0.437293300012243\n",
      "10 cols time: 135.1738008000102\n",
      "df_create_time: 0.43322569999145344\n",
      "10 cols time: 133.61737709998852\n",
      "df_create_time: 0.4421716000069864\n",
      "10 cols time: 134.09797580000304\n",
      "sleeping\n",
      "19\n",
      "imported features1\n",
      "deleted features3\n",
      "df_create_time: 4.237401000005775\n",
      "10 cols time: 121.2302486999979\n",
      "df_create_time: 0.3800889999984065\n",
      "10 cols time: 123.44529119999788\n",
      "imported features2\n",
      "df_create_time: 10.11533519999648\n",
      "10 cols time: 124.1084977999999\n",
      "df_create_time: 0.5885836999950698\n",
      "10 cols time: 124.07092569999804\n",
      "df_create_time: 0.5122513999958755\n",
      "10 cols time: 125.11884129999089\n",
      "deleted features1\n",
      "df_create_time: 0.6774912999972003\n",
      "10 cols time: 126.49669580000045\n",
      "df_create_time: 0.454626200007624\n",
      "10 cols time: 126.22851820000506\n",
      "df_create_time: 0.46304559998679906\n",
      "10 cols time: 127.00859169999603\n",
      "df_create_time: 0.4647650999977486\n",
      "10 cols time: 126.73656229999324\n",
      "df_create_time: 0.46515739998721983\n",
      "10 cols time: 126.7030725999939\n",
      "df_create_time: 0.4769055000069784\n",
      "10 cols time: 127.35309140000027\n",
      "imported features3\n",
      "df_create_time: 8.82756390000577\n",
      "10 cols time: 127.07789599998796\n",
      "df_create_time: 0.704207500006305\n",
      "10 cols time: 129.36678419999953\n",
      "df_create_time: 0.5644725000020117\n",
      "10 cols time: 131.49944010000036\n",
      "deleted features2\n",
      "df_create_time: 0.7026796999998624\n",
      "10 cols time: 131.13033289999294\n",
      "df_create_time: 0.44979490000696387\n",
      "10 cols time: 131.18800989999727\n",
      "df_create_time: 0.4354765999887604\n",
      "10 cols time: 132.64368359999207\n",
      "df_create_time: 0.4432008000003407\n",
      "10 cols time: 132.07503200000792\n",
      "df_create_time: 0.4185460000007879\n",
      "10 cols time: 131.25064169999678\n",
      "df_create_time: 0.43052199999510776\n",
      "10 cols time: 130.19605309999315\n"
     ]
    }
   ],
   "source": [
    "count = 0\n",
    "results = []\n",
    "start_time = time.perf_counter()\n",
    "\n",
    "while True:\n",
    "    \n",
    "    if time.perf_counter() - start_time > 150:\n",
    "        for i in range(0, 3):\n",
    "            pyautogui.press('shift')\n",
    "        print(\"sleeping\")\n",
    "        time.sleep(600)\n",
    "        start_time = time.perf_counter()\n",
    "        \n",
    "    count+=1\n",
    "    print(str(count))\n",
    "\n",
    "    \n",
    "    cols_trials = []\n",
    "    for i in range(10):\n",
    "        cols_trials.append(np.random.choice(columns_to_choose_from, np.random.randint(6, 30), replace = False))\n",
    "        \n",
    "        \n",
    "    unique_cols = np.array([])\n",
    "    for i in cols_trials:\n",
    "        unique_cols = np.append(unique_cols, i)\n",
    "\n",
    "    unique_cols = np.unique(unique_cols)\n",
    "    \n",
    "    unique_cols = np.append(unique_cols, [\"return_40\"])\n",
    "    \n",
    "    results1 = []\n",
    "    \n",
    "    \n",
    "    for prediction_date in prediction_dates:\n",
    "        \n",
    "        \n",
    "        results2 = []\n",
    "        \n",
    "        start_time_df_create = time.perf_counter()\n",
    "        \n",
    "        \n",
    "        training_period = Dates[prediction_date - 200 - 40 + 1: prediction_date - 40 +1]\n",
    "\n",
    "        prediction_period = Dates[prediction_date :prediction_date + 20 + 1]\n",
    "        \n",
    "         \n",
    "        if len(np.intersect1d(np.append(training_period, prediction_period), Date1)):\n",
    "        \n",
    "            if \"features1\" not in locals():\n",
    "\n",
    "                features1 = pd.read_pickle(\"training_sets/features1\")   \n",
    "                \n",
    "                print(\"imported features1\")\n",
    "\n",
    "            Date1_intersect = np.intersect1d(np.append(training_period, prediction_period), Date1)\n",
    "\n",
    "            X_train_master = features1.loc[Date1_intersect, unique_cols]\n",
    "            \n",
    "\n",
    "        else:\n",
    "\n",
    "            if \"features1\" in locals():\n",
    "                del features1\n",
    "                \n",
    "                print(\"deleted features1\")\n",
    "\n",
    "\n",
    "        if len(np.intersect1d(np.append(training_period, prediction_period), Date2)):\n",
    "            \n",
    "            if \"features2\" not in locals():\n",
    "\n",
    "                features2 = pd.read_pickle(\"training_sets/features2\")\n",
    "                \n",
    "                print(\"imported features2\")\n",
    "                \n",
    "            Date2_intersect = np.intersect1d(np.append(training_period, prediction_period), Date2)\n",
    "                \n",
    "            if \"X_train_master\" in locals():\n",
    "                \n",
    "                X_train_master = X_train_master.append(features2.loc[Date2_intersect, unique_cols])\n",
    "                \n",
    "            else:\n",
    "                \n",
    "                X_train_master = features2.loc[Date2_intersect, unique_cols]\n",
    "                \n",
    "        else:\n",
    "\n",
    "            if \"features2\" in locals():\n",
    "                del features2\n",
    "                \n",
    "                print(\"deleted features2\")\n",
    "\n",
    "\n",
    "        if len(np.intersect1d(np.append(training_period, prediction_period), Date3)):\n",
    "\n",
    "            if \"features3\" not in locals():\n",
    "\n",
    "                features3 = pd.read_pickle(\"training_sets/features3\")\n",
    "                \n",
    "                print(\"imported features3\")\n",
    "                \n",
    "                \n",
    "            Date3_intersect = np.intersect1d(np.append(training_period, prediction_period), Date3)\n",
    "                \n",
    "            if \"X_train_master\" in locals():\n",
    "                \n",
    "                X_train_master = X_train_master.append(features3.loc[Date3_intersect, unique_cols])\n",
    "                \n",
    "            else:\n",
    "                \n",
    "                X_train_master = features3.loc[Date3_intersect, unique_cols]\n",
    "\n",
    "        else:\n",
    "\n",
    "            if \"features3\" in locals():\n",
    "                del features3\n",
    "                \n",
    "                print(\"deleted features3\")\n",
    "                \n",
    "                \n",
    "        print(\"df_create_time: \"+ str(time.perf_counter() - start_time_df_create))\n",
    "        \n",
    "        start_time_cols = time.perf_counter()\n",
    "        \n",
    "        for col_indx, cols in enumerate(cols_trials):\n",
    "\n",
    "        \n",
    "            results3 = []\n",
    "            \n",
    "            X_train, X_test, Y_train_return_40, Y_test_return_40 = make_dataset_eval_with_extra_return_40_term_from_periods_for_regression(X_train_master, training_period, prediction_period, cols, \"return_40\")\n",
    "\n",
    "            xgtrain = xgboost.DMatrix(X_train.values, Y_train_return_40.values, feature_names = cols)\n",
    "\n",
    "            xgtest = xgboost.DMatrix(X_test.values, feature_names = cols)\n",
    "\n",
    "            data = []\n",
    "\n",
    "            mycallback = my_callback_regression(xgtest, Y_test_return_40, data)\n",
    "\n",
    "            bst = xgboost.train(params2, xgtrain, num_boost_round = 60, verbose_eval = False, callbacks = [mycallback])\n",
    "            \n",
    "            \n",
    "            results3.append(str(count) + str(col_indx))\n",
    "            results3.append(prediction_date)\n",
    "            results3.append(cols)\n",
    "            results3.append(data)\n",
    "            results3.append(bst.get_score(importance_type='weight'))\n",
    "            results3.append(bst.get_score(importance_type='gain'))\n",
    "            results3.append(bst.get_score(importance_type='cover'))\n",
    "\n",
    "            results2.append(results3)\n",
    "            \n",
    "        results1.append(results2)\n",
    "        \n",
    "        print(\"10 cols time: \" + str(time.perf_counter() - start_time_cols))\n",
    "            \n",
    "            \n",
    "        del X_train_master\n",
    "        \n",
    "    results.append(results1)\n",
    "    \n",
    "    with open(\"ColSearch2/results_reg2.pkl\", \"wb\") as f:\n",
    "        pickle.dump(results, f)\n",
    "        \n",
    "    if count == 19:\n",
    "        break"
   ]
  },
  {
   "cell_type": "code",
   "execution_count": null,
   "metadata": {},
   "outputs": [],
   "source": []
  },
  {
   "cell_type": "code",
   "execution_count": 4,
   "metadata": {},
   "outputs": [],
   "source": [
    "sp500 = pd.read_pickle(\"External_data/sp500\")"
   ]
  },
  {
   "cell_type": "code",
   "execution_count": 6,
   "metadata": {},
   "outputs": [],
   "source": [
    "Dates_formatted = [Dates[prediction_dates[i]] for i in range(len(prediction_dates))] "
   ]
  },
  {
   "cell_type": "code",
   "execution_count": 77,
   "metadata": {},
   "outputs": [],
   "source": [
    "sp500_return = [sp500.loc[Dates_formatted[i]][\"return_40\"] for i in range(len(Dates_formatted))]"
   ]
  },
  {
   "cell_type": "code",
   "execution_count": 94,
   "metadata": {},
   "outputs": [],
   "source": [
    "with open(\"ColSearch2/results_binary.pkl\", \"rb\") as f:\n",
    "    results = pickle.load(f)"
   ]
  },
  {
   "cell_type": "code",
   "execution_count": 95,
   "metadata": {},
   "outputs": [],
   "source": [
    "with open(\"ColSearch2/results_reg2.pkl\", \"rb\") as f:\n",
    "    results_reg = pickle.load(f)"
   ]
  },
  {
   "cell_type": "code",
   "execution_count": 105,
   "metadata": {},
   "outputs": [],
   "source": [
    "dataset = results_reg.copy()\n"
   ]
  },
  {
   "cell_type": "code",
   "execution_count": 106,
   "metadata": {},
   "outputs": [
    {
     "data": {
      "text/plain": [
       "19"
      ]
     },
     "execution_count": 106,
     "metadata": {},
     "output_type": "execute_result"
    }
   ],
   "source": [
    "len(dataset)"
   ]
  },
  {
   "cell_type": "code",
   "execution_count": 107,
   "metadata": {},
   "outputs": [],
   "source": [
    "results_parsed = []\n",
    "for i in range(len(dataset)):\n",
    "    for pred_date in range(len(prediction_dates)):\n",
    "        for col_indx in range(10):\n",
    "            results_parsed.append(dataset[i][pred_date][col_indx])\n"
   ]
  },
  {
   "cell_type": "code",
   "execution_count": 108,
   "metadata": {},
   "outputs": [
    {
     "data": {
      "text/plain": [
       "3800"
      ]
     },
     "execution_count": 108,
     "metadata": {},
     "output_type": "execute_result"
    }
   ],
   "source": [
    "len(results_parsed)"
   ]
  },
  {
   "cell_type": "code",
   "execution_count": 109,
   "metadata": {},
   "outputs": [],
   "source": [
    "results_parsed_2 = []\n",
    "for i in range(19):\n",
    "    for col_indx in range(10):\n",
    "        results_parsed_2.append(results_parsed[i * 200:(i+1)*200][col_indx::10])"
   ]
  },
  {
   "cell_type": "code",
   "execution_count": 56,
   "metadata": {},
   "outputs": [
    {
     "data": {
      "text/plain": [
       "190"
      ]
     },
     "execution_count": 56,
     "metadata": {},
     "output_type": "execute_result"
    }
   ],
   "source": [
    "len(results_parsed_2)"
   ]
  },
  {
   "cell_type": "code",
   "execution_count": 104,
   "metadata": {},
   "outputs": [],
   "source": [
    "with open(\"ColSearch2/results_binary_parsed.pkl\", \"wb\") as f:\n",
    "    pickle.dump(results_parsed_2, f)"
   ]
  },
  {
   "cell_type": "code",
   "execution_count": 110,
   "metadata": {},
   "outputs": [],
   "source": [
    "with open(\"ColSearch2/results_reg2_parsed.pkl\", \"wb\") as f:\n",
    "    pickle.dump(results_parsed_2, f)"
   ]
  },
  {
   "cell_type": "code",
   "execution_count": 111,
   "metadata": {},
   "outputs": [],
   "source": [
    "results_reg = results_parsed_2.copy()"
   ]
  },
  {
   "cell_type": "code",
   "execution_count": 112,
   "metadata": {},
   "outputs": [],
   "source": [
    "with open(\"ColSearch2/results_binary_parsed.pkl\", \"rb\") as f:\n",
    "    results_binary = pickle.load(f)"
   ]
  },
  {
   "cell_type": "code",
   "execution_count": 136,
   "metadata": {},
   "outputs": [],
   "source": [
    "all_returns_binary = np.array([])\n",
    "all_returns_reg = np.array([])\n",
    "portfolio_indx = 0\n",
    "\n",
    "for i in range(len(results_binary)):\n",
    "    \n",
    "    for j in range(20):\n",
    "        \n",
    "        #if j != 8:\n",
    "        \n",
    "        all_returns_binary = np.append(all_returns_binary, np.array(results_binary[i][j][3])[:,portfolio_indx])\n",
    "        all_returns_reg = np.append(all_returns_reg, np.array(results_reg[i][j][3])[:,portfolio_indx])\n",
    "    "
   ]
  },
  {
   "cell_type": "code",
   "execution_count": 137,
   "metadata": {},
   "outputs": [
    {
     "data": {
      "text/plain": [
       "[<matplotlib.lines.Line2D at 0x142ad5ccb80>]"
      ]
     },
     "execution_count": 137,
     "metadata": {},
     "output_type": "execute_result"
    },
    {
     "data": {
      "image/png": "[encoded data removed]",
      "text/plain": [
       "<Figure size 1440x720 with 1 Axes>"
      ]
     },
     "metadata": {
      "needs_background": "light"
     },
     "output_type": "display_data"
    }
   ],
   "source": [
    "plt.figure(figsize = (20, 10))\n",
    "\n",
    "plt.plot(np.mean(np.reshape(all_returns_binary, (-1, 60)), axis = 0), \"blue\")\n",
    "plt.plot(np.mean(np.reshape(all_returns_reg, (-1, 60)), axis = 0), \"red\")\n",
    "\n",
    "\n"
   ]
  },
  {
   "cell_type": "code",
   "execution_count": null,
   "metadata": {},
   "outputs": [],
   "source": [
    "\"\"\"\n",
    "take the mean of the 40 - 50 boosting round portfolio\n",
    "\n",
    "\"\"\""
   ]
  },
  {
   "cell_type": "code",
   "execution_count": null,
   "metadata": {},
   "outputs": [],
   "source": [
    "all_returns_binary = np.array([])\n",
    "all_returns_reg = np.array([])\n",
    "portfolio_indx = 4\n",
    "\n",
    "for i in range(len(results_binary)):\n",
    "    \n",
    "    for j in range(20):\n",
    "        \n",
    "        #if j != 8:\n",
    "        \n",
    "        all_returns_binary = np.append(all_returns_binary, np.array(results_binary[i][j][3])[:,portfolio_indx])\n",
    "        all_returns_reg = np.append(all_returns_reg, np.array(results_reg[i][j][3])[:,portfolio_indx])"
   ]
  },
  {
   "cell_type": "code",
   "execution_count": null,
   "metadata": {},
   "outputs": [],
   "source": []
  },
  {
   "cell_type": "code",
   "execution_count": 152,
   "metadata": {},
   "outputs": [],
   "source": [
    "all_returns_binary = np.array([])\n",
    "all_returns_reg = np.array([])\n",
    "portfolio_indx = 0\n",
    "for i in range(len(results_binary)):\n",
    "    \n",
    "    for j in range(20):\n",
    "        \n",
    "        #if j ==8:\n",
    "         #   continue\n",
    "        \n",
    "        all_returns_binary = np.append(all_returns_binary, np.mean(np.array(results_binary[i][j][3])[50:,portfolio_indx]))\n",
    "        all_returns_reg = np.append(all_returns_reg, np.mean(np.array(results_reg[i][j][3])[50:,portfolio_indx]))\n",
    "        \n",
    "all_returns_binary = np.reshape(all_returns_binary, (-1, 20))\n",
    "all_returns_reg = np.reshape(all_returns_reg, (-1, 20))     "
   ]
  },
  {
   "cell_type": "code",
   "execution_count": null,
   "metadata": {},
   "outputs": [],
   "source": [
    "plt.figure(figsize = (20, 10))\n",
    "#plt.plot([np.mean(np.reshape(np.mean(np.array(all_returns_binary_500)[:,10:20], axis = 1), (-1, 10))[i::20]) for i in range(20)], \"b\")\n",
    "#plt.plot([np.mean(np.reshape(np.mean(np.array(all_returns_reg_500)[:,40:50], axis = 1), (-1, 10))[i::20]) for i in range(20)], \"r\")\n",
    "\n",
    "\n",
    "plt.plot(np.mean(all_returns_binary, axis = 0), \"b\")\n",
    "plt.plot(np.mean(all_returns_reg, axis = 0), \"red\")\n",
    "plt.plot(sp500_return, \"black\")\n",
    "#plt.plot(np.append(sp500_return[:8], sp500_return[9:]), \"black\")"
   ]
  },
  {
   "cell_type": "code",
   "execution_count": 154,
   "metadata": {},
   "outputs": [
    {
     "data": {
      "text/plain": [
       "(0.48107358804928463, 0.38449688504579094)"
      ]
     },
     "execution_count": 154,
     "metadata": {},
     "output_type": "execute_result"
    }
   ],
   "source": [
    "np.corrcoef(np.mean(all_returns_binary, axis = 0), sp500_return)[0][1], np.corrcoef(np.mean(all_returns_reg, axis = 0), sp500_return)[0][1]"
   ]
  },
  {
   "cell_type": "code",
   "execution_count": null,
   "metadata": {},
   "outputs": [],
   "source": [
    "\"\"\"\n",
    "want to see return vs threshold\n",
    "\"\"\""
   ]
  },
  {
   "cell_type": "code",
   "execution_count": null,
   "metadata": {},
   "outputs": [],
   "source": []
  },
  {
   "cell_type": "code",
   "execution_count": 175,
   "metadata": {},
   "outputs": [],
   "source": [
    "all_returns_binary = np.array([])\n",
    "all_returns_reg = np.array([])\n",
    "all_returns_binary_thresh = np.array([])\n",
    "all_returns_reg_thresh = np.array([])\n",
    "\n",
    "portfolio_indx = 4\n",
    "boosting_round_start = 50\n",
    "\n",
    "for i in range(len(results_binary)):\n",
    "    \n",
    "    for j in range(20):\n",
    "        \n",
    "        if j ==8:\n",
    "            continue\n",
    "        \n",
    "        all_returns_binary = np.append(all_returns_binary, np.array(results_binary[i][j][3])[boosting_round_start:,4])\n",
    "        all_returns_reg = np.append(all_returns_reg, np.array(results_reg[i][j][3])[boosting_round_start:,4])\n",
    "        \n",
    "        all_returns_binary_thresh = np.append(all_returns_binary_thresh, np.array(results_binary[i][j][3])[boosting_round_start:,(portfolio_indx + 1)])\n",
    "        all_returns_reg_thresh = np.append(all_returns_reg_thresh, np.array(results_reg[i][j][3])[boosting_round_start:,(portfolio_indx + 1)])\n",
    "        \n",
    "        \n",
    "        \n",
    "        "
   ]
  },
  {
   "cell_type": "code",
   "execution_count": 176,
   "metadata": {},
   "outputs": [
    {
     "name": "stdout",
     "output_type": "stream",
     "text": [
      "50\n"
     ]
    }
   ],
   "source": [
    "for num in range(50, 250):\n",
    "    try:\n",
    "        splitted_binary = np.split(np.argsort(all_returns_binary_thresh), num)\n",
    "        splitted_reg = np.split(np.argsort(all_returns_reg_thresh), num)\n",
    "        print(num)\n",
    "        break\n",
    "        \n",
    "    except:\n",
    "        continue"
   ]
  },
  {
   "cell_type": "code",
   "execution_count": 177,
   "metadata": {},
   "outputs": [
    {
     "data": {
      "text/plain": [
       "[<matplotlib.lines.Line2D at 0x142b51046d0>]"
      ]
     },
     "execution_count": 177,
     "metadata": {},
     "output_type": "execute_result"
    },
    {
     "data": {
      "image/png": "[encoded data removed]",
      "text/plain": [
       "<Figure size 1440x720 with 1 Axes>"
      ]
     },
     "metadata": {
      "needs_background": "light"
     },
     "output_type": "display_data"
    }
   ],
   "source": [
    "plt.figure(figsize = (20, 10))\n",
    "plt.plot([np.mean(all_returns_binary_thresh[splitted_binary[i]]) for i in range(num)], [np.mean(all_returns_binary[splitted_binary[i]]) for i in range(num)])\n",
    "#plt.plot([np.mean(all_returns_reg_thresh[splitted_reg[i]]) for i in range(num)], [np.mean(all_returns_reg[splitted_reg[i]]) for i in range(num)])"
   ]
  },
  {
   "cell_type": "code",
   "execution_count": 179,
   "metadata": {},
   "outputs": [
    {
     "data": {
      "text/plain": [
       "array(['Cash & Cash Equivalents_YC',\n",
       "       'Share Capital & Additional Paid-In Capital', 'BOL_indicator_10',\n",
       "       'Price to Earnings Ratio (quarterly)_YC', 'WillR_80', 'Market-Cap',\n",
       "       'close_320/Close_360', 'Payables & Accruals/Cost of Revenue_QC',\n",
       "       'close_10/Close_20', 'Total Equity_QC', 'ABAND_indicator_160',\n",
       "       'close_80/Close_320', 'MFI_160', 'Total Liabilities_QC',\n",
       "       'Property, Plant & Equipment, Net', 'close_10/Close_240', 'RSI_7',\n",
       "       'ABAND_signal_160', 'Close', 'Revenue'], dtype='<U62')"
      ]
     },
     "execution_count": 179,
     "metadata": {},
     "output_type": "execute_result"
    }
   ],
   "source": [
    "results_binary[0][0][2]"
   ]
  },
  {
   "cell_type": "code",
   "execution_count": 235,
   "metadata": {},
   "outputs": [],
   "source": [
    "col_size_dict_binary = {}\n",
    "col_size_dict_reg = {}\n",
    "\n",
    "portfolio_indx = 2\n",
    "boosting_round_start = 50\n",
    "\n",
    "for i in range(len(results_binary)):\n",
    "    \n",
    "    \n",
    "    for j in range(20):\n",
    "        \n",
    "        #if j == 8:\n",
    "        #    continue\n",
    "        \n",
    "        thing_to_append = np.mean(np.array(results_binary[i][j][3])[boosting_round_start:,portfolio_indx])\n",
    "        length = len(results_binary[i][j][2])\n",
    "        \n",
    "        try:\n",
    "\n",
    "            col_size_dict_binary[length].append(thing_to_append)\n",
    "        except:\n",
    "            col_size_dict_binary[length] = [thing_to_append]\n",
    "            \n",
    "            \n",
    "        thing_to_append = np.mean(np.array(results_reg[i][j][3])[boosting_round_start:,portfolio_indx])\n",
    "        length = len(results_reg[i][j][2])\n",
    "        \n",
    "        try:\n",
    "\n",
    "            col_size_dict_reg[length].append(thing_to_append)\n",
    "        except:\n",
    "            col_size_dict_reg[length] = [thing_to_append]\n",
    "            "
   ]
  },
  {
   "cell_type": "code",
   "execution_count": 236,
   "metadata": {},
   "outputs": [],
   "source": [
    "col_size_dict_binary_results = {}\n",
    "for key, data in col_size_dict_binary.items():\n",
    "    col_size_dict_binary_results[key] = [np.mean(data), np.std(data), len(data)]\n",
    "    \n",
    "col_size_dict_reg_results = {}\n",
    "for key, data in col_size_dict_reg.items():\n",
    "    col_size_dict_reg_results[key] = [np.mean(data), np.std(data), len(data)]"
   ]
  },
  {
   "cell_type": "code",
   "execution_count": 224,
   "metadata": {},
   "outputs": [],
   "source": [
    "range_std = (np.max(np.array(list(dict_name.values()))[:,1][indx]) - np.min(np.array(list(dict_name.values()))[:,1][indx]))\n",
    "\n",
    "range_data = (np.max(np.array(list(dict_name.values()))[:,0][indx]) - np.min(np.array(list(dict_name.values()))[:,0][indx]))"
   ]
  },
  {
   "cell_type": "code",
   "execution_count": null,
   "metadata": {},
   "outputs": [],
   "source": []
  },
  {
   "cell_type": "code",
   "execution_count": 239,
   "metadata": {},
   "outputs": [
    {
     "data": {
      "text/plain": [
       "[<matplotlib.lines.Line2D at 0x142c2cae550>]"
      ]
     },
     "execution_count": 239,
     "metadata": {},
     "output_type": "execute_result"
    },
    {
     "data": {
      "image/png": "[encoded data removed]",
      "text/plain": [
       "<Figure size 1440x720 with 1 Axes>"
      ]
     },
     "metadata": {
      "needs_background": "light"
     },
     "output_type": "display_data"
    }
   ],
   "source": [
    "plt.figure(figsize = (20, 10))\n",
    "\n",
    "dict_name = col_size_dict_binary_results\n",
    "indx = np.argsort(list(dict_name.keys()))\n",
    "plt.plot(np.array(list(dict_name.keys()))[indx], np.array(list(dict_name.values()))[:,0][indx], \"b\")\n",
    "range_std = (np.max(np.array(list(dict_name.values()))[:,1][indx]) - np.min(np.array(list(dict_name.values()))[:,1][indx]))\n",
    "\n",
    "range_data = (np.max(np.array(list(dict_name.values()))[:,0][indx]) - np.min(np.array(list(dict_name.values()))[:,0][indx]))\n",
    "\n",
    "mean_std = np.mean(np.array(list(dict_name.values()))[:,1][indx] * (range_data / range_std))\n",
    "\n",
    "mean_data = np.mean(np.array(list(dict_name.values()))[:,0][indx])\n",
    "\n",
    "\n",
    "\n",
    "plt.plot(np.array(list(dict_name.keys()))[indx], np.array(list(dict_name.values()))[:,1][indx] * (range_data / range_std) - (mean_std - mean_data), \"r\")\n"
   ]
  },
  {
   "cell_type": "code",
   "execution_count": null,
   "metadata": {},
   "outputs": [],
   "source": []
  },
  {
   "cell_type": "code",
   "execution_count": null,
   "metadata": {},
   "outputs": [],
   "source": [
    "\"\"\"\n",
    "we want to find cols that are and arent correlated (importantly not negative corr) with the spy500,\n",
    "\n",
    "\"\"\""
   ]
  },
  {
   "cell_type": "code",
   "execution_count": null,
   "metadata": {},
   "outputs": [],
   "source": []
  },
  {
   "cell_type": "code",
   "execution_count": 476,
   "metadata": {},
   "outputs": [],
   "source": [
    "all_mean_binary = np.array([])\n",
    "all_mean_reg = np.array([])\n",
    "\n",
    "portfolio_indx = 2\n",
    "\n",
    "for i in range(len(results_binary)):\n",
    "    for pred_indx in range(20):\n",
    "        \n",
    "        if pred_indx == 8:\n",
    "            continue\n",
    "        \n",
    "        all_mean_binary = np.append(all_mean_binary, np.mean(np.array(results_binary[i][pred_indx][3])[50:,portfolio_indx]))\n",
    "        all_mean_reg = np.append(all_mean_reg, np.mean(np.array(results_reg[i][pred_indx][3])[50:,portfolio_indx]))\n",
    "        "
   ]
  },
  {
   "cell_type": "code",
   "execution_count": 477,
   "metadata": {},
   "outputs": [],
   "source": [
    "all_mean_binary = np.reshape(all_mean_binary, (-1, 19))\n",
    "all_mean_reg = np.reshape(all_mean_reg, (-1, 19))"
   ]
  },
  {
   "cell_type": "code",
   "execution_count": 478,
   "metadata": {},
   "outputs": [],
   "source": [
    "sp500_return_without_8 = np.append(sp500_return[:8], sp500_return[9:])"
   ]
  },
  {
   "cell_type": "code",
   "execution_count": null,
   "metadata": {},
   "outputs": [],
   "source": []
  },
  {
   "cell_type": "code",
   "execution_count": 479,
   "metadata": {},
   "outputs": [
    {
     "data": {
      "text/plain": [
       "(190, 19)"
      ]
     },
     "execution_count": 479,
     "metadata": {},
     "output_type": "execute_result"
    }
   ],
   "source": [
    "np.shape(all_mean_binary)"
   ]
  },
  {
   "cell_type": "code",
   "execution_count": 480,
   "metadata": {},
   "outputs": [],
   "source": [
    "corr_binary = np.array([])\n",
    "corr_reg = np.array([])\n",
    "for i in range(len(all_mean_binary)):\n",
    "        \n",
    "        corr_binary = np.append(corr_binary, np.corrcoef(all_mean_binary[i], sp500_return_without_8)[0][1])\n",
    "        corr_reg = np.append(corr_reg, np.corrcoef(all_mean_reg[i], sp500_return_without_8)[0][1])"
   ]
  },
  {
   "cell_type": "code",
   "execution_count": null,
   "metadata": {},
   "outputs": [],
   "source": []
  },
  {
   "cell_type": "code",
   "execution_count": 372,
   "metadata": {},
   "outputs": [],
   "source": [
    "where_not_corr_binary = np.where((corr_binary > -0.2) & (corr_binary < 0.2))[0]"
   ]
  },
  {
   "cell_type": "code",
   "execution_count": 452,
   "metadata": {},
   "outputs": [],
   "source": [
    "where_not_corr_reg = np.where((corr_reg > -0.2) & (corr_reg < 0.2))[0]"
   ]
  },
  {
   "cell_type": "code",
   "execution_count": 398,
   "metadata": {},
   "outputs": [],
   "source": [
    "where_lowest_corr_binary = np.argsort(corr_binary)[:30]"
   ]
  },
  {
   "cell_type": "code",
   "execution_count": 456,
   "metadata": {},
   "outputs": [],
   "source": [
    "where_lowest_corr_reg = np.argsort(corr_reg)[:30]"
   ]
  },
  {
   "cell_type": "code",
   "execution_count": 421,
   "metadata": {},
   "outputs": [],
   "source": [
    "where_highest_corr_binary = np.argsort(corr_binary)[::-1][:30]"
   ]
  },
  {
   "cell_type": "code",
   "execution_count": 460,
   "metadata": {},
   "outputs": [],
   "source": [
    "where_highest_corr_reg = np.argsort(corr_reg)[::-1][:30]"
   ]
  },
  {
   "cell_type": "code",
   "execution_count": 369,
   "metadata": {},
   "outputs": [],
   "source": [
    "indx_where_not_corr_binary_highest_return = where_not_corr_binary[np.argsort(np.mean(all_mean_binary[where_not_corr_binary], 1))[::-1][:10]]"
   ]
  },
  {
   "cell_type": "code",
   "execution_count": 453,
   "metadata": {},
   "outputs": [],
   "source": [
    "indx_where_not_corr_reg_highest_return = where_not_corr_reg[np.argsort(np.mean(all_mean_reg[where_not_corr_reg], 1))[::-1][:10]]"
   ]
  },
  {
   "cell_type": "code",
   "execution_count": 437,
   "metadata": {},
   "outputs": [],
   "source": [
    "indx_where_lowest_corr_binary_highest_return = where_lowest_corr_binary[np.argsort(np.mean(all_mean_binary[where_lowest_corr_binary], 1))[::-1][:10]]"
   ]
  },
  {
   "cell_type": "code",
   "execution_count": 457,
   "metadata": {},
   "outputs": [],
   "source": [
    "indx_where_lowest_corr_reg_highest_return = where_lowest_corr_reg[np.argsort(np.mean(all_mean_reg[where_lowest_corr_reg], 1))[::-1][:10]]"
   ]
  },
  {
   "cell_type": "code",
   "execution_count": 422,
   "metadata": {},
   "outputs": [],
   "source": [
    "indx_where_highest_corr_binary_highest_return = where_highest_corr_binary[np.argsort(np.mean(all_mean_binary[where_highest_corr_binary], 1))[::-1][:10]]"
   ]
  },
  {
   "cell_type": "code",
   "execution_count": 461,
   "metadata": {},
   "outputs": [],
   "source": [
    "indx_where_highest_corr_reg_highest_return = where_highest_corr_reg[np.argsort(np.mean(all_mean_reg[where_highest_corr_reg], 1))[::-1][:10]]"
   ]
  },
  {
   "cell_type": "code",
   "execution_count": 481,
   "metadata": {},
   "outputs": [],
   "source": [
    "indx_where_highest_return_binary = np.argsort(np.mean(all_mean_binary,axis = 1))[::-1][:10]"
   ]
  },
  {
   "cell_type": "code",
   "execution_count": 482,
   "metadata": {},
   "outputs": [],
   "source": [
    "indx_where_highest_return_reg = np.argsort(np.mean(all_mean_reg,axis = 1))[::-1][:10]"
   ]
  },
  {
   "cell_type": "code",
   "execution_count": 483,
   "metadata": {},
   "outputs": [
    {
     "data": {
      "text/plain": [
       "array([158,  78,  64,  70,  39, 137, 120,  37, 127,  31], dtype=int64)"
      ]
     },
     "execution_count": 483,
     "metadata": {},
     "output_type": "execute_result"
    }
   ],
   "source": [
    "indx_where_highest_corr_reg_highest_return"
   ]
  },
  {
   "cell_type": "code",
   "execution_count": 424,
   "metadata": {},
   "outputs": [
    {
     "data": {
      "text/plain": [
       "6.281998043148734"
      ]
     },
     "execution_count": 424,
     "metadata": {},
     "output_type": "execute_result"
    }
   ],
   "source": [
    "np.mean(np.sort(np.mean(all_mean_binary[where_highest_corr_binary], 1))[::-1][:10])"
   ]
  },
  {
   "cell_type": "code",
   "execution_count": 391,
   "metadata": {},
   "outputs": [
    {
     "data": {
      "text/plain": [
       "array([], dtype=int64)"
      ]
     },
     "execution_count": 391,
     "metadata": {},
     "output_type": "execute_result"
    }
   ],
   "source": [
    "indx_where_not_corr_binary_highest_return"
   ]
  },
  {
   "cell_type": "code",
   "execution_count": 359,
   "metadata": {},
   "outputs": [
    {
     "data": {
      "text/plain": [
       "4.896831061926086"
      ]
     },
     "execution_count": 359,
     "metadata": {},
     "output_type": "execute_result"
    }
   ],
   "source": [
    "np.mean(np.sort(np.mean(all_mean_binary[where_not_corr_binary], 1))[::-1][:10])"
   ]
  },
  {
   "cell_type": "code",
   "execution_count": 486,
   "metadata": {},
   "outputs": [
    {
     "name": "stdout",
     "output_type": "stream",
     "text": [
      "187\n",
      "67\n"
     ]
    }
   ],
   "source": [
    "indx = indx_where_highest_return_binary\n",
    "cols = [results_reg[i][0][2] for i in indx]\n",
    "unique_cols = np.array([])\n",
    "for i in cols:\n",
    "    unique_cols = np.append(unique_cols, i)\n",
    "    \n",
    "print(len(unique_cols))\n",
    "unique_cols = np.unique(unique_cols)\n",
    "print(len(unique_cols))"
   ]
  },
  {
   "cell_type": "code",
   "execution_count": 487,
   "metadata": {},
   "outputs": [],
   "source": [
    "with open(\"ColSearch2/where_highest_return_binary_cols_100\", \"wb\") as f:\n",
    "    pickle.dump(cols, f)"
   ]
  },
  {
   "cell_type": "code",
   "execution_count": 362,
   "metadata": {},
   "outputs": [],
   "source": [
    "cols_100 = cols.copy()\n",
    "unique_cols_100 = unique_cols.copy()"
   ]
  },
  {
   "cell_type": "code",
   "execution_count": 349,
   "metadata": {},
   "outputs": [],
   "source": [
    "cols_20 = cols.copy()\n",
    "unique_cols_20 = unique_cols.copy()"
   ]
  },
  {
   "cell_type": "code",
   "execution_count": 330,
   "metadata": {},
   "outputs": [],
   "source": [
    "cols_20 = cols.copy()"
   ]
  },
  {
   "cell_type": "code",
   "execution_count": 334,
   "metadata": {},
   "outputs": [],
   "source": [
    "unique_cols_100 = unique_cols.copy()"
   ]
  },
  {
   "cell_type": "code",
   "execution_count": 375,
   "metadata": {},
   "outputs": [
    {
     "data": {
      "text/plain": [
       "66"
      ]
     },
     "execution_count": 375,
     "metadata": {},
     "output_type": "execute_result"
    }
   ],
   "source": [
    "len(np.intersect1d(unique_cols_20, unique_cols_100))"
   ]
  },
  {
   "cell_type": "code",
   "execution_count": 376,
   "metadata": {},
   "outputs": [
    {
     "data": {
      "text/plain": [
       "70"
      ]
     },
     "execution_count": 376,
     "metadata": {},
     "output_type": "execute_result"
    }
   ],
   "source": [
    "len(unique_cols_100)"
   ]
  },
  {
   "cell_type": "code",
   "execution_count": 335,
   "metadata": {},
   "outputs": [],
   "source": [
    "cols = cols_20.copy()"
   ]
  },
  {
   "cell_type": "code",
   "execution_count": 303,
   "metadata": {},
   "outputs": [
    {
     "data": {
      "text/plain": [
       "array([103,  22,  37, 188,  92,  40,  97,  15,   7, 158], dtype=int64)"
      ]
     },
     "execution_count": 303,
     "metadata": {},
     "output_type": "execute_result"
    }
   ],
   "source": [
    "indx_where_not_corr_binary_highest_return"
   ]
  },
  {
   "cell_type": "code",
   "execution_count": 304,
   "metadata": {},
   "outputs": [],
   "source": [
    "thing2 = []\n",
    "for i in indx_where_not_corr_binary_highest_return:\n",
    "    for j in range(20):\n",
    "        if j == 8:\n",
    "            continue\n",
    "            \n",
    "        thing2.append(np.mean(np.array(results_binary[i][j][3])[50:,4]))"
   ]
  },
  {
   "cell_type": "code",
   "execution_count": 317,
   "metadata": {},
   "outputs": [],
   "source": [
    "thing = []\n",
    "for indx, i in enumerate(results[0]):\n",
    "    if indx == 8:\n",
    "        continue\n",
    "    \n",
    "    thing.append(np.mean(np.array(i[0][3])[160:,2]))"
   ]
  },
  {
   "cell_type": "code",
   "execution_count": 315,
   "metadata": {},
   "outputs": [
    {
     "data": {
      "text/plain": [
       "19"
      ]
     },
     "execution_count": 315,
     "metadata": {},
     "output_type": "execute_result"
    }
   ],
   "source": [
    "len(thing)"
   ]
  },
  {
   "cell_type": "code",
   "execution_count": 308,
   "metadata": {},
   "outputs": [
    {
     "name": "stderr",
     "output_type": "stream",
     "text": [
      "C:\\Users\\Chirag\\anaconda3\\lib\\site-packages\\numpy\\core\\_asarray.py:83: VisibleDeprecationWarning: Creating an ndarray from ragged nested sequences (which is a list-or-tuple of lists-or-tuples-or ndarrays with different lengths or shapes) is deprecated. If you meant to do this, you must specify 'dtype=object' when creating the ndarray\n",
      "  return array(a, dtype, copy=False, order=order)\n"
     ]
    },
    {
     "data": {
      "text/plain": [
       "(20, 7)"
      ]
     },
     "execution_count": 308,
     "metadata": {},
     "output_type": "execute_result"
    }
   ],
   "source": [
    "np.shape(results_binary[0])"
   ]
  },
  {
   "cell_type": "code",
   "execution_count": null,
   "metadata": {},
   "outputs": [],
   "source": [
    "plt.figure(figsize = (20, 10))\n",
    "plt.plot(np.mean(np.reshape(thing2, (-1, 19)), axis = 0))\n",
    "plt.plot(thing, \"green\")\n",
    "plt.plot(sp500_return_without_8, \"black\")"
   ]
  },
  {
   "cell_type": "code",
   "execution_count": 281,
   "metadata": {},
   "outputs": [
    {
     "data": {
      "text/plain": [
       "array(['ABAND_indicator_160', 'ABAND_signal_160', 'ADX_4_23', 'APO_10_20',\n",
       "       'APO_10_40', 'ATR_160', 'BOL_indicator_10', 'CMO_10',\n",
       "       'Cash & Cash Equivalents',\n",
       "       'Cash & Cash Equivalents/Total Liabilities_QC',\n",
       "       'Cash & Cash Equivalents_YC',\n",
       "       'Cash from (Repayment of) Debt/Total Liabilities',\n",
       "       'Cash from (Repayment of) Debt/Total Liabilities_QC', 'Close',\n",
       "       'DEMA_20', 'Enterprise Value', 'MFI_160', 'Market-Cap',\n",
       "       'Net Cash from Operating Activities/Cash & Cash Equivalents_YC',\n",
       "       'Net Income', 'Net Income/Enterprise Value', 'Net Profit Margin',\n",
       "       'Net Profit Margin_YC', 'OBV_40',\n",
       "       'Payables & Accruals/Cost of Revenue_QC',\n",
       "       'Price to Earnings Ratio (quarterly)',\n",
       "       'Price to Earnings Ratio (quarterly)_YC',\n",
       "       'Price to Sales Ratio (quarterly)',\n",
       "       'Price to Sales Ratio (quarterly)_QC',\n",
       "       'Property, Plant & Equipment, Net', 'RSI_28', 'RSI_7',\n",
       "       'Retained Earnings/Total Liabilities',\n",
       "       'Retained Earnings/Total Liabilities_QC', 'Revenue',\n",
       "       'Revenue/Market-Cap_YC',\n",
       "       'Share Capital & Additional Paid-In Capital',\n",
       "       'Shares (Diluted)/Shares (Basic)_QC', 'Total Assets',\n",
       "       'Total Assets/Share Capital & Additional Paid-In Capital',\n",
       "       'Total Assets/Share Capital & Additional Paid-In Capital_QC',\n",
       "       'Total Equity', 'Total Equity_QC', 'Total Liabilities',\n",
       "       'Total Liabilities_QC', 'WillR_80', 'Working Capital',\n",
       "       'close_0/Close_20', 'close_0/Close_200', 'close_0/Close_240',\n",
       "       'close_0/Close_360', 'close_0/Close_40', 'close_0/Close_70',\n",
       "       'close_10/Close_240', 'close_120/Close_240', 'close_160/Close_320',\n",
       "       'close_20/Close_120', 'close_20/Close_360', 'close_320/Close_360',\n",
       "       'close_80/Close_160', 'close_80/Close_320', 'volatility_10',\n",
       "       'volatility_120', 'volatility_160', 'volatility_240',\n",
       "       'volatility_320', 'volatility_360', 'volatility_40',\n",
       "       'volatility_80'], dtype='<U62')"
      ]
     },
     "execution_count": 281,
     "metadata": {},
     "output_type": "execute_result"
    }
   ],
   "source": [
    "unique_cols"
   ]
  },
  {
   "cell_type": "code",
   "execution_count": null,
   "metadata": {},
   "outputs": [],
   "source": []
  },
  {
   "cell_type": "code",
   "execution_count": 458,
   "metadata": {},
   "outputs": [],
   "source": [
    "all_mean_low = []\n",
    "for i in all_mean:\n",
    "    all_mean_low.append(np.mean(np.sort(i)[:14]))"
   ]
  },
  {
   "cell_type": "code",
   "execution_count": 459,
   "metadata": {},
   "outputs": [
    {
     "data": {
      "text/plain": [
       "(190,)"
      ]
     },
     "execution_count": 459,
     "metadata": {},
     "output_type": "execute_result"
    }
   ],
   "source": [
    "np.shape(all_mean_low)"
   ]
  },
  {
   "cell_type": "code",
   "execution_count": 444,
   "metadata": {},
   "outputs": [
    {
     "data": {
      "text/plain": [
       "array([ 8,  2, 13,  6,  1,  7,  3,  0, 11,  9,  4, 10, 12,  5],\n",
       "      dtype=int64)"
      ]
     },
     "execution_count": 444,
     "metadata": {},
     "output_type": "execute_result"
    }
   ],
   "source": [
    "np.argsort(np.mean(all_mean, axis = 1)[np.where((corr > -0.2) & (corr < 0.2))[0]])[::-1]"
   ]
  },
  {
   "cell_type": "code",
   "execution_count": 448,
   "metadata": {},
   "outputs": [
    {
     "data": {
      "text/plain": [
       "array([  7,  15,  22,  40,  49,  80,  92,  97, 103, 135, 145, 158, 174,\n",
       "       188], dtype=int64)"
      ]
     },
     "execution_count": 448,
     "metadata": {},
     "output_type": "execute_result"
    }
   ],
   "source": [
    "np.where((corr > -0.2) & (corr < 0.2))[0]"
   ]
  },
  {
   "cell_type": "code",
   "execution_count": 452,
   "metadata": {},
   "outputs": [
    {
     "data": {
      "text/plain": [
       "array([12,  9,  4,  0, 13,  6,  1,  8,  3,  2], dtype=int64)"
      ]
     },
     "execution_count": 452,
     "metadata": {},
     "output_type": "execute_result"
    }
   ],
   "source": [
    "np.argsort(np.array(all_mean_low)[np.where((corr > -0.2) & (corr < 0.2))[0]])[-7:]"
   ]
  },
  {
   "cell_type": "code",
   "execution_count": 460,
   "metadata": {},
   "outputs": [
    {
     "data": {
      "text/plain": [
       "array([-14.527288  , -12.13641226, -11.42540163, -11.41884108,\n",
       "       -10.38682344,  -9.4711065 ,  -9.45686125,  -8.41981178,\n",
       "        -7.10982433,  -5.48311224,  -3.77675395,  -2.56921281,\n",
       "        -2.35108231,  -0.66248794])"
      ]
     },
     "execution_count": 460,
     "metadata": {},
     "output_type": "execute_result"
    }
   ],
   "source": [
    "np.sort(np.array(all_mean_low)[np.where((corr > -0.2) & (corr < 0.2))[0]])"
   ]
  },
  {
   "cell_type": "code",
   "execution_count": 461,
   "metadata": {},
   "outputs": [],
   "source": [
    "indx = np.where((corr > -0.2) & (corr < 0.2))[0][np.argsort(np.array(all_mean_low)[np.where((corr > -0.2) & (corr < 0.2))[0]])[-7:]]"
   ]
  },
  {
   "cell_type": "code",
   "execution_count": 469,
   "metadata": {},
   "outputs": [
    {
     "data": {
      "text/plain": [
       "7"
      ]
     },
     "execution_count": 469,
     "metadata": {},
     "output_type": "execute_result"
    }
   ],
   "source": [
    "indx[0]"
   ]
  },
  {
   "cell_type": "code",
   "execution_count": 471,
   "metadata": {},
   "outputs": [
    {
     "data": {
      "text/plain": [
       "[array(['Net Income/Enterprise Value',\n",
       "        'Total Assets/Share Capital & Additional Paid-In Capital_QC',\n",
       "        'volatility_120', 'DEMA_20', 'APO_10_40', 'RSI_28',\n",
       "        'Share Capital & Additional Paid-In Capital', 'APO_10_20',\n",
       "        'close_0/Close_70', 'Revenue',\n",
       "        'Payables & Accruals/Cost of Revenue_QC', 'close_20/Close_120',\n",
       "        'WillR_80', 'Total Equity_QC', 'close_0/Close_240',\n",
       "        'Net Cash from Operating Activities/Cash & Cash Equivalents_YC',\n",
       "        'Total Liabilities', 'ATR_160', 'Net Income', 'volatility_160'],\n",
       "       dtype='<U62'),\n",
       " array(['Price to Sales Ratio (quarterly)_QC', 'CMO_10', 'volatility_10',\n",
       "        'WillR_80', 'close_320/Close_360', 'close_80/Close_320',\n",
       "        'Total Liabilities_QC', 'Cash & Cash Equivalents',\n",
       "        'Net Profit Margin', 'close_80/Close_160', 'volatility_360',\n",
       "        'RSI_28', 'Cash & Cash Equivalents/Total Liabilities_QC',\n",
       "        'close_0/Close_360', 'Enterprise Value', 'Total Equity_QC',\n",
       "        'OBV_40', 'Revenue', 'volatility_80', 'Cash & Cash Equivalents_YC',\n",
       "        'close_160/Close_320', 'volatility_160',\n",
       "        'Property, Plant & Equipment, Net', 'DEMA_20',\n",
       "        'Cash from (Repayment of) Debt/Total Liabilities',\n",
       "        'Net Profit Margin_YC', 'close_10/Close_240'], dtype='<U62'),\n",
       " array(['APO_10_40', 'close_0/Close_20', 'OBV_40',\n",
       "        'Share Capital & Additional Paid-In Capital',\n",
       "        'Cash & Cash Equivalents/Total Liabilities_QC', 'ADX_4_23',\n",
       "        'RSI_7', 'Price to Sales Ratio (quarterly)',\n",
       "        'Payables & Accruals/Cost of Revenue_QC', 'Market-Cap',\n",
       "        'Working Capital',\n",
       "        'Net Cash from Operating Activities/Cash & Cash Equivalents_YC',\n",
       "        'volatility_80', 'Retained Earnings/Total Liabilities_QC',\n",
       "        'Total Equity_QC', 'close_80/Close_320',\n",
       "        'Total Assets/Share Capital & Additional Paid-In Capital_QC',\n",
       "        'close_80/Close_160', 'Net Profit Margin_YC', 'volatility_160',\n",
       "        'Cash from (Repayment of) Debt/Total Liabilities_QC',\n",
       "        'volatility_10', 'MFI_160', 'volatility_120',\n",
       "        'Retained Earnings/Total Liabilities'], dtype='<U62'),\n",
       " array(['Cash & Cash Equivalents', 'Shares (Diluted)/Shares (Basic)_QC',\n",
       "        'Net Profit Margin_YC', 'ABAND_signal_160',\n",
       "        'Retained Earnings/Total Liabilities', 'close_120/Close_240',\n",
       "        'CMO_10', 'Total Equity', 'close_80/Close_160',\n",
       "        'close_0/Close_240', 'close_160/Close_320', 'close_0/Close_200',\n",
       "        'Revenue/Market-Cap_YC'], dtype='<U62'),\n",
       " array(['ABAND_signal_160', 'Price to Sales Ratio (quarterly)', 'MFI_160',\n",
       "        'volatility_40', 'close_160/Close_320', 'Close', 'Working Capital',\n",
       "        'Total Assets', 'CMO_10', 'Net Profit Margin', 'Total Liabilities',\n",
       "        'close_0/Close_40', 'close_0/Close_20',\n",
       "        'Price to Earnings Ratio (quarterly)',\n",
       "        'Net Cash from Operating Activities/Cash & Cash Equivalents_YC'],\n",
       "       dtype='<U62'),\n",
       " array(['ABAND_indicator_160', 'Market-Cap', 'close_0/Close_360',\n",
       "        'APO_10_40', 'RSI_7',\n",
       "        'Cash from (Repayment of) Debt/Total Liabilities_QC',\n",
       "        'Total Assets/Share Capital & Additional Paid-In Capital',\n",
       "        'volatility_160', 'close_120/Close_240',\n",
       "        'Price to Earnings Ratio (quarterly)',\n",
       "        'Retained Earnings/Total Liabilities_QC', 'Total Liabilities',\n",
       "        'Revenue/Market-Cap_YC', 'Cash & Cash Equivalents_YC',\n",
       "        'volatility_360', 'Total Equity_QC', 'Total Equity',\n",
       "        'Net Profit Margin', 'volatility_320', 'close_20/Close_120',\n",
       "        'volatility_240', 'Price to Earnings Ratio (quarterly)_YC',\n",
       "        'APO_10_20'], dtype='<U62'),\n",
       " array(['Total Liabilities', 'ABAND_signal_160',\n",
       "        'Cash from (Repayment of) Debt/Total Liabilities',\n",
       "        'Retained Earnings/Total Liabilities_QC',\n",
       "        'Retained Earnings/Total Liabilities', 'close_0/Close_20',\n",
       "        'Cash from (Repayment of) Debt/Total Liabilities_QC',\n",
       "        'Net Profit Margin', 'Property, Plant & Equipment, Net',\n",
       "        'volatility_10', 'Net Income/Enterprise Value',\n",
       "        'Payables & Accruals/Cost of Revenue_QC', 'ABAND_indicator_160',\n",
       "        'close_0/Close_360',\n",
       "        'Cash & Cash Equivalents/Total Liabilities_QC',\n",
       "        'close_120/Close_240', 'close_80/Close_160',\n",
       "        'Price to Earnings Ratio (quarterly)', 'DEMA_20', 'ATR_160',\n",
       "        'Net Income', 'APO_10_20'], dtype='<U62')]"
      ]
     },
     "execution_count": 471,
     "metadata": {},
     "output_type": "execute_result"
    }
   ],
   "source": [
    "[results_parsed_2[j][0][2] for j in indx]"
   ]
  },
  {
   "cell_type": "code",
   "execution_count": null,
   "metadata": {},
   "outputs": [],
   "source": [
    "results_dict_55 = {}\n",
    "dataset = results_parsed_2.copy()\n",
    "for i in indx:\n",
    "    for pred_date in range(19):\n",
    "        \n",
    "        if pred_date != 8:\n",
    "\n",
    "            thing_to_append = np.mean(np.array(dataset[i][pred_date][3])[55:,4])\n",
    "    "
   ]
  },
  {
   "cell_type": "code",
   "execution_count": 340,
   "metadata": {},
   "outputs": [],
   "source": [
    "results_dict_0 = {}\n",
    "results_dict_20 = {}\n",
    "results_dict_mean = {}\n",
    "results_dict_growth = {}\n",
    "\n",
    "dataset = results_reg.copy()\n",
    "portfolio_indx = 4\n",
    "\n",
    "for i in range(len(results)):\n",
    "    for col_indx in range(1, 5):\n",
    "        \n",
    "        thing_to_append = dataset[i][col_indx][3][0][portfolio_indx]\n",
    "        \n",
    "        for col_name in dataset[i][col_indx][0]:\n",
    "            try:\n",
    "                results_dict_0[col_name].append(thing_to_append)\n",
    "                \n",
    "            except:\n",
    "                results_dict_0[col_name] = [thing_to_append]\n",
    "        \n",
    "        thing_to_append = dataset[i][col_indx][3][-1][portfolio_indx]\n",
    "        \n",
    "        for col_name in dataset[i][col_indx][0]:\n",
    "            try:\n",
    "                results_dict_20[col_name].append(thing_to_append)\n",
    "                \n",
    "            except:\n",
    "                results_dict_20[col_name] = [thing_to_append]\n",
    "                \n",
    "                \n",
    "        thing_to_append = np.mean(np.array(dataset[i][col_indx][3])[:,portfolio_indx])\n",
    "        \n",
    "        for col_name in dataset[i][col_indx][0]:\n",
    "            try:\n",
    "                results_dict_mean[col_name].append(thing_to_append)\n",
    "                \n",
    "            except:\n",
    "                results_dict_mean[col_name] = [thing_to_append]\n",
    "                \n",
    "                \n",
    "        temp = np.array(dataset[i][col_indx][3])[:,portfolio_indx]\n",
    "                     \n",
    "        thing_to_append = np.mean([temp[i] - temp[i-1] for i in range(1, len(temp))])\n",
    "        \n",
    "        for col_name in dataset[i][col_indx][0]:\n",
    "            try:\n",
    "                results_dict_growth[col_name].append(thing_to_append)\n",
    "                \n",
    "            except:\n",
    "                results_dict_growth[col_name] = [thing_to_append]\n",
    "        \n",
    "       "
   ]
  },
  {
   "cell_type": "code",
   "execution_count": 341,
   "metadata": {},
   "outputs": [],
   "source": [
    "results_dict_0_data = {}\n",
    "results_dict_20_data = {}\n",
    "results_dict_mean_data = {}\n",
    "results_dict_growth_data = {}\n",
    "\n",
    "\n",
    "for col_name, data in results_dict_0.items():\n",
    "    results_dict_0_data[col_name] = [np.mean(data), np.std(data), len(data)]\n",
    "\n",
    "for col_name, data in results_dict_20.items():\n",
    "    results_dict_20_data[col_name] = [np.mean(data), np.std(data), len(data)]\n",
    "    \n",
    "\n",
    "for col_name, data in results_dict_mean.items():\n",
    "    results_dict_mean_data[col_name] = [np.mean(data), np.std(data), len(data)]\n",
    "    \n",
    "for col_name, data in results_dict_growth.items():\n",
    "    results_dict_growth_data[col_name] = [np.mean(data), np.std(data), len(data)]\n"
   ]
  },
  {
   "cell_type": "code",
   "execution_count": 463,
   "metadata": {},
   "outputs": [],
   "source": [
    "to_plot = np.mean(np.reshape([np.mean(np.array(results_parsed_2[j][i][3])[10:20,4]) for j in indx for i in range(20) if i != 8], (-1, 19)), axis = 0)"
   ]
  },
  {
   "cell_type": "code",
   "execution_count": null,
   "metadata": {},
   "outputs": [],
   "source": [
    "plt.figure(figsize = (20, 10))\n",
    "#plt.plot([np.mean(np.array(results_parsed_2[112][i][3])[10:20,4]) for i in range(20) if i != 8])\n",
    "plt.plot(to_plot)\n",
    "plt.plot(sp500_return_without_8)"
   ]
  },
  {
   "cell_type": "code",
   "execution_count": 364,
   "metadata": {},
   "outputs": [],
   "source": [
    "all_returns_without_8_reg = []\n",
    "\n",
    "for i in range(len(results_parsed_2_reg)):\n",
    "    for pred_date in range(20):\n",
    "        if pred_date != 8:\n",
    "            \n",
    "            all_returns_without_8_reg.append(np.array(results_parsed_2_reg[i][pred_date][3])[:,0])\n"
   ]
  },
  {
   "cell_type": "code",
   "execution_count": 365,
   "metadata": {},
   "outputs": [],
   "source": [
    "all_returns_without_8 = []\n",
    "\n",
    "for i in range(len(results_parsed_2)):\n",
    "    for pred_date in range(20):\n",
    "        if pred_date != 8:\n",
    "            \n",
    "            all_returns_without_8.append(np.array(results_parsed_2[i][pred_date][3])[:,0])"
   ]
  },
  {
   "cell_type": "code",
   "execution_count": 352,
   "metadata": {},
   "outputs": [
    {
     "data": {
      "text/plain": [
       "(3610, 60)"
      ]
     },
     "execution_count": 352,
     "metadata": {},
     "output_type": "execute_result"
    }
   ],
   "source": [
    "np.shape(all_returns_without_8)"
   ]
  },
  {
   "cell_type": "code",
   "execution_count": 360,
   "metadata": {},
   "outputs": [],
   "source": [
    "results_parsed_2_reg = results_parsed_2.copy()"
   ]
  },
  {
   "cell_type": "code",
   "execution_count": 366,
   "metadata": {},
   "outputs": [
    {
     "data": {
      "text/plain": [
       "[<matplotlib.lines.Line2D at 0x1d7bcf34910>]"
      ]
     },
     "execution_count": 366,
     "metadata": {},
     "output_type": "execute_result"
    },
    {
     "data": {
      "image/png": "[encoded data removed]",
      "text/plain": [
       "<Figure size 1440x720 with 1 Axes>"
      ]
     },
     "metadata": {
      "needs_background": "light"
     },
     "output_type": "display_data"
    }
   ],
   "source": [
    "plt.figure(figsize = (20, 10))\n",
    "plt.plot(np.mean(all_returns_without_8, axis = 0), \"b\")\n",
    "plt.plot(np.mean(all_returns_without_8_reg, axis = 0), \"r\")"
   ]
  },
  {
   "cell_type": "code",
   "execution_count": null,
   "metadata": {},
   "outputs": [],
   "source": []
  },
  {
   "cell_type": "code",
   "execution_count": 387,
   "metadata": {},
   "outputs": [],
   "source": [
    "results_return = []\n",
    "results_threshold = []\n",
    "dataset = results_parsed_2.copy()\n",
    "            \n",
    "            \n",
    "for j in range(len(dataset)):\n",
    "    for pred_indx in range(20):\n",
    "        if pred_indx != 8:\n",
    "            \n",
    "\n",
    "            results_return.append(np.array(dataset[j][pred_indx][3])[:,0])\n",
    "            results_threshold.append(np.array(dataset[j][pred_indx][3])[:,1])"
   ]
  },
  {
   "cell_type": "code",
   "execution_count": 388,
   "metadata": {},
   "outputs": [],
   "source": [
    "results_return = np.reshape(results_return, (-1))"
   ]
  },
  {
   "cell_type": "code",
   "execution_count": 389,
   "metadata": {},
   "outputs": [],
   "source": [
    "results_threshold = np.reshape(results_threshold, (-1))"
   ]
  },
  {
   "cell_type": "code",
   "execution_count": 390,
   "metadata": {},
   "outputs": [
    {
     "name": "stdout",
     "output_type": "stream",
     "text": [
      "50\n"
     ]
    }
   ],
   "source": [
    "for num in range(50, 250):\n",
    "    try:\n",
    "        splitted = np.split(np.argsort(results_threshold), num)\n",
    "        print(num)\n",
    "        break\n",
    "        \n",
    "    except:\n",
    "        continue"
   ]
  },
  {
   "cell_type": "code",
   "execution_count": 391,
   "metadata": {},
   "outputs": [
    {
     "data": {
      "text/plain": [
       "[<matplotlib.lines.Line2D at 0x1d7b8a89b80>]"
      ]
     },
     "execution_count": 391,
     "metadata": {},
     "output_type": "execute_result"
    },
    {
     "data": {
      "image/png": "[encoded data removed]",
      "text/plain": [
       "<Figure size 1440x720 with 1 Axes>"
      ]
     },
     "metadata": {
      "needs_background": "light"
     },
     "output_type": "display_data"
    }
   ],
   "source": [
    "plt.figure(figsize = (20, 10))\n",
    "plt.plot([np.mean(results_threshold[splitted[i]]) for i in range(num)], [np.mean(results_return[splitted[i]]) for i in range(num)])"
   ]
  },
  {
   "cell_type": "code",
   "execution_count": null,
   "metadata": {},
   "outputs": [],
   "source": []
  }
 ],
 "metadata": {
  "kernelspec": {
   "display_name": "Python 3 (ipykernel)",
   "language": "python",
   "name": "python3"
  },
  "language_info": {
   "codemirror_mode": {
    "name": "ipython",
    "version": 3
   },
   "file_extension": ".py",
   "mimetype": "text/x-python",
   "name": "python",
   "nbconvert_exporter": "python",
   "pygments_lexer": "ipython3",
   "version": "3.8.12"
  }
 },
 "nbformat": 4,
 "nbformat_minor": 4
}
