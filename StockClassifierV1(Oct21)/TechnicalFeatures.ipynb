{
 "cells": [
  {
   "cell_type": "code",
   "execution_count": 1,
   "metadata": {},
   "outputs": [],
   "source": [
    "import numpy as np\n",
    "import pandas as pd"
   ]
  },
  {
   "cell_type": "code",
   "execution_count": 2,
   "metadata": {},
   "outputs": [],
   "source": [
    "import matplotlib.pyplot as plt"
   ]
  },
  {
   "cell_type": "code",
   "execution_count": 3,
   "metadata": {},
   "outputs": [],
   "source": [
    "import time"
   ]
  },
  {
   "cell_type": "code",
   "execution_count": 4,
   "metadata": {},
   "outputs": [],
   "source": [
    "import importlib"
   ]
  },
  {
   "cell_type": "code",
   "execution_count": 35,
   "metadata": {},
   "outputs": [],
   "source": [
    "try:\n",
    "    importlib.reload(functions)\n",
    "except:\n",
    "    import functions"
   ]
  },
  {
   "cell_type": "code",
   "execution_count": 36,
   "metadata": {},
   "outputs": [],
   "source": [
    "try:\n",
    "    importlib.reload(multiprocessing)\n",
    "except:\n",
    "    import multiprocessing"
   ]
  },
  {
   "cell_type": "code",
   "execution_count": 37,
   "metadata": {},
   "outputs": [],
   "source": [
    "p= multiprocessing.Pool(processes = 8)"
   ]
  },
  {
   "cell_type": "code",
   "execution_count": 8,
   "metadata": {},
   "outputs": [],
   "source": [
    "prices = pd.read_pickle(\"parsed_data/prices\")"
   ]
  },
  {
   "cell_type": "code",
   "execution_count": 9,
   "metadata": {},
   "outputs": [],
   "source": [
    "derived_shareprices = pd.read_pickle(\"parsed_data/derived_shareprices\")"
   ]
  },
  {
   "cell_type": "code",
   "execution_count": 10,
   "metadata": {},
   "outputs": [],
   "source": [
    "Tickers = np.unique(prices.index)"
   ]
  },
  {
   "cell_type": "code",
   "execution_count": 11,
   "metadata": {},
   "outputs": [],
   "source": [
    "Date = prices.loc[\"A\"]['Date']"
   ]
  },
  {
   "cell_type": "code",
   "execution_count": null,
   "metadata": {},
   "outputs": [],
   "source": []
  },
  {
   "cell_type": "code",
   "execution_count": 12,
   "metadata": {},
   "outputs": [],
   "source": [
    "technical_features = pd.read_pickle(\"parsed_data/technical_features\")"
   ]
  },
  {
   "cell_type": "code",
   "execution_count": null,
   "metadata": {},
   "outputs": [],
   "source": []
  },
  {
   "cell_type": "code",
   "execution_count": 9,
   "metadata": {},
   "outputs": [],
   "source": [
    "technical_features = pd.DataFrame(prices[\"Date\"], prices.index)"
   ]
  },
  {
   "cell_type": "code",
   "execution_count": 10,
   "metadata": {},
   "outputs": [],
   "source": [
    "technical_features[\"Close\"] = prices[\"Close\"]"
   ]
  },
  {
   "cell_type": "code",
   "execution_count": 248,
   "metadata": {},
   "outputs": [],
   "source": [
    "technical_features[\"ABAND_high\"] = prices[\"High\"] * (1 + 4 * (prices[\"High\"] - prices['Low']) / (prices[\"High\"] + prices[\"Low\"]))"
   ]
  },
  {
   "cell_type": "code",
   "execution_count": 249,
   "metadata": {},
   "outputs": [],
   "source": [
    "technical_features[\"ABAND_low\"] = prices[\"Low\"] * (1 - 4 * (prices[\"High\"] - prices['Low']) / (prices[\"High\"] + prices[\"Low\"]))"
   ]
  },
  {
   "cell_type": "code",
   "execution_count": 250,
   "metadata": {},
   "outputs": [
    {
     "name": "stdout",
     "output_type": "stream",
     "text": [
      "11.77737545967102\n",
      "11.775643348693848\n",
      "11.610604286193848\n",
      "11.669618606567383\n",
      "11.67561936378479\n"
     ]
    }
   ],
   "source": [
    "\"\"\"\n",
    "for indicator\n",
    "\"\"\"\n",
    "\n",
    "for window in [10, 20, 40, 80, 160]:\n",
    "    start_time = time.time()\n",
    "    to_append3 = np.array([])\n",
    "    for i in Tickers:\n",
    "        to_append =  technical_features.loc[i][\"ABAND_high\"].rolling(window).mean()\n",
    "        to_append2 = technical_features.loc[i][\"ABAND_low\"].rolling(window).mean()\n",
    "\n",
    "        to_append3 = np.append(to_append3, ( prices.loc[i]['Close'] - ((to_append + to_append2) / 2 ) ) / (to_append - to_append2) )\n",
    "\n",
    "\n",
    "    technical_features[\"ABAND_indicator_\"+str(window)] = to_append3 \n",
    "\n",
    "    print(time.time() - start_time)"
   ]
  },
  {
   "cell_type": "code",
   "execution_count": 251,
   "metadata": {},
   "outputs": [
    {
     "name": "stdout",
     "output_type": "stream",
     "text": [
      "12.737514972686768\n",
      "12.547815322875977\n",
      "12.366773843765259\n",
      "12.325765609741211\n",
      "12.430789947509766\n"
     ]
    }
   ],
   "source": [
    "\"\"\"\n",
    "for signal\n",
    "\"\"\"\n",
    "for window in [10, 20, 40, 80, 160]:\n",
    "    \n",
    "    to_append3 = np.array([])\n",
    "    start_time = time.time()\n",
    "    for i in Tickers:\n",
    "        to_append =  technical_features.loc[i][\"ABAND_high\"].rolling(window).mean()\n",
    "        to_append2 = technical_features.loc[i][\"ABAND_low\"].rolling(window).mean()\n",
    "\n",
    "        distance = 0.1 * np.abs(to_append - to_append2)\n",
    "\n",
    "        array = np.zeros(len(to_append))\n",
    "\n",
    "        where  = np.where(prices.loc[i][\"Close\"] > (to_append - distance))[0]\n",
    "\n",
    "        array[where] = 1\n",
    "\n",
    "        where = np.where(prices.loc[i][\"Close\"] < to_append2 + distance  )[0]\n",
    "\n",
    "        array[where] = -1\n",
    "\n",
    "\n",
    "\n",
    "        to_append3 = np.append(to_append3, array)\n",
    "\n",
    "    technical_features[\"ABAND_signal_\"+str(window)] = to_append3\n",
    "    print(time.time() - start_time)"
   ]
  },
  {
   "cell_type": "code",
   "execution_count": 252,
   "metadata": {},
   "outputs": [],
   "source": [
    "technical_features = technical_features.drop(['ABAND_high', 'ABAND_low' ], axis = 1)"
   ]
  },
  {
   "cell_type": "code",
   "execution_count": null,
   "metadata": {},
   "outputs": [],
   "source": []
  },
  {
   "cell_type": "code",
   "execution_count": 19,
   "metadata": {},
   "outputs": [
    {
     "name": "stdout",
     "output_type": "stream",
     "text": [
      "55.437429428100586\n"
     ]
    }
   ],
   "source": [
    "start_time = time.time()\n",
    "window = 40\n",
    "shift_val = 10\n",
    "\n",
    "to_append = np.array([])\n",
    "\n",
    "for i in Tickers:\n",
    "    thing = ( ( (prices.loc[i][\"Close\"] - (prices.loc[i][\"Low\"].rolling(window).min())  ) - ( (prices.loc[i]['High'].rolling(window).max()) - prices.loc[i]['Close']) ) / ( (prices.loc[i]['High'].rolling(window).max()) - (prices.loc[i][\"Low\"].rolling(window).min()) ) ) * (prices.loc[i]['Volume'].rolling(window).sum())\n",
    "    to_append = np.append(to_append, thing)\n",
    "    \n",
    "technical_features[\"MFV_\"+str(window)] = to_append\n",
    "\n",
    "\n",
    "\n",
    "to_append = np.array([])\n",
    "for i in Tickers:\n",
    "    first_notna = technical_features.loc[i][\"MFV_\"+str(window)][np.where(technical_features.loc[i][\"MFV_\"+str(window)].notna())[0][0]]\n",
    "    thing = technical_features.loc[i][\"MFV_\"+str(window)].cumsum() - first_notna\n",
    "    to_append = np.append(to_append, thing )\n",
    "    \n",
    "technical_features[\"MFV_cumulative_\"+str(window)]  = to_append\n",
    "\n",
    "to_append = np.array([])\n",
    "\n",
    "for i in Tickers:\n",
    "    thing = ( technical_features.loc[i][\"MFV_cumulative_\"+str(window)]  -  technical_features.loc[i][\"MFV_cumulative_\"+str(window)].shift(shift_val) ) / shift_val\n",
    "    to_append = np.append(to_append, thing)\n",
    "    \n",
    "technical_features[\"MFV_\"+str(window) +\"_\" + str(shift_val) + \"_indicator\"] = to_append\n",
    "\n",
    "to_append = np.array([])\n",
    "for i in Tickers:\n",
    "    where = np.where(technical_features.loc[i][\"MFV_\"+str(window)+\"_\" + str(shift_val) + \"_indicator\"].apply(np.sign).rolling(2).mean() == 0)[0]\n",
    "    thing = np.zeros(len(technical_features.loc[i][\"MFV_\"+str(window)+\"_\" + str(shift_val) + \"_indicator\"]))\n",
    "    for j in where:\n",
    "        if np.sign(technical_features.loc[i][\"MFV_\"+str(window)+\"_\" + str(shift_val) + \"_indicator\"].iloc[j]) == 1:\n",
    "            thing[j] = 1\n",
    "        elif np.sign(technical_features.loc[i][\"MFV_\"+str(window)+\"_\" + str(shift_val) + \"_indicator\"].iloc[j]) == -1:\n",
    "            thing[j] = -1\n",
    "    to_append = np.append(to_append, thing)\n",
    "    \n",
    "\n",
    "technical_features[\"MFV_\" + str(window) + \"_\" + str(shift_val) + \"_indicator_sign_change\"] = to_append\n",
    "\n",
    "print(time.time() - start_time)\n",
    "\n",
    "\n",
    "technical_features = technical_features.drop([\"MFV_\"+str(window), \"MFV_cumulative_\"+str(window), \"MFV_\"+str(window) +\"_\" + str(shift_val) + \"_indicator\"], axis = 1 )\n",
    "\n"
   ]
  },
  {
   "cell_type": "code",
   "execution_count": null,
   "metadata": {},
   "outputs": [],
   "source": [
    "\"\"\"\n",
    "notes on MFV:\n",
    "MFV 40 seems to be sweet spot but have not tried any higher, because the higher it is the more time lag\n",
    "The indicator is just the derivative and period of 10 seems to be best\n",
    "\n",
    "Could we have longer windows: 80? using exponential weughted means?\n",
    "\n",
    "\"\"\""
   ]
  },
  {
   "cell_type": "code",
   "execution_count": null,
   "metadata": {},
   "outputs": [],
   "source": []
  },
  {
   "cell_type": "code",
   "execution_count": 20,
   "metadata": {},
   "outputs": [
    {
     "name": "stdout",
     "output_type": "stream",
     "text": [
      "8.277857303619385\n",
      "8.656941890716553\n"
     ]
    }
   ],
   "source": [
    "for span_short, span_long in [[10,20],[10, 40]]:\n",
    "    \n",
    "    start_time = time.time()\n",
    "\n",
    "\n",
    "    to_append = np.array([])\n",
    "\n",
    "    for i in Tickers:\n",
    "        thing = (prices.loc[i][\"Close\"].ewm(span = span_short).mean() - prices.loc[i][\"Close\"].ewm(span = span_long).mean() ) / prices.loc[i][\"Close\"].ewm(span = span_long).mean()\n",
    "        to_append = np.append(to_append, thing)\n",
    "\n",
    "    technical_features[\"APO_\"+str(span_short) + \"_\"+ str(span_long)] = to_append\n",
    "    \n",
    "    print(time.time() - start_time)\n",
    "    \n"
   ]
  },
  {
   "cell_type": "code",
   "execution_count": null,
   "metadata": {},
   "outputs": [],
   "source": []
  },
  {
   "cell_type": "code",
   "execution_count": 250,
   "metadata": {},
   "outputs": [
    {
     "name": "stdout",
     "output_type": "stream",
     "text": [
      "96.48182034492493\n",
      "94.96630811691284\n",
      "95.63245820999146\n",
      "92.83883142471313\n",
      "90.90139651298523\n",
      "89.5450918674469\n"
     ]
    }
   ],
   "source": [
    "Tickers_split = np.array_split(Tickers, 10)\n",
    "\n",
    "for window in [10, 20, 40, 80, 120, 160]:\n",
    "    \n",
    "    start_time = time.time()\n",
    "    \n",
    "    tasks = zip([window] * 10, Tickers_split)\n",
    "    \n",
    "    output = p.starmap(functions.aroon_indicator, tasks)\n",
    "    \n",
    "    to_append = np.array([])\n",
    "\n",
    "    for i in output:\n",
    "        to_append = np.append(to_append, i)\n",
    "        \n",
    "    technical_features[\"AROON_\"+str(window)] = to_append\n",
    "    \n",
    "    print(time.time() - start_time)\n",
    "        \n",
    "    \n",
    "        \n",
    "    \n",
    "    \n",
    "    "
   ]
  },
  {
   "cell_type": "code",
   "execution_count": 263,
   "metadata": {},
   "outputs": [],
   "source": [
    "technical_features.to_pickle(\"parsed_data/technical_features\")"
   ]
  },
  {
   "cell_type": "code",
   "execution_count": null,
   "metadata": {},
   "outputs": [],
   "source": []
  },
  {
   "cell_type": "code",
   "execution_count": 15,
   "metadata": {},
   "outputs": [
    {
     "name": "stdout",
     "output_type": "stream",
     "text": [
      "9.765192031860352\n",
      "9.827205657958984\n",
      "9.827204704284668\n",
      "9.77519416809082\n",
      "9.726194620132446\n"
     ]
    }
   ],
   "source": [
    "for window in [10, 20, 40, 80, 120, 160]:\n",
    "    \n",
    "    start_time = time.time()\n",
    "    \n",
    "    to_append = np.array([])\n",
    "\n",
    "    for i in Tickers:\n",
    "        moving_average = prices.loc[i][\"Close\"].ewm(span = window).mean()\n",
    "\n",
    "        BOL_indicator =  ( prices.loc[i]['Close'] - moving_average ) / (4 * prices.loc[i][\"Close\"].rolling(window).std() )\n",
    "\n",
    "        to_append = np.append(to_append, BOL_indicator)\n",
    "        \n",
    "    technical_features[\"BOL_indicator_\"+str(window)] = to_append\n",
    "    \n",
    "    print(time.time() - start_time)"
   ]
  },
  {
   "cell_type": "code",
   "execution_count": null,
   "metadata": {},
   "outputs": [],
   "source": []
  },
  {
   "cell_type": "code",
   "execution_count": 17,
   "metadata": {},
   "outputs": [
    {
     "name": "stdout",
     "output_type": "stream",
     "text": [
      "10.604379415512085\n",
      "10.781419038772583\n",
      "11.817651510238647\n",
      "10.972461700439453\n",
      "10.727407455444336\n"
     ]
    }
   ],
   "source": [
    "for window in [10, 20, 40, 80, 120, 160]: \n",
    "    to_append = np.array([])\n",
    "    \n",
    "    start_time = time.time()\n",
    "    \n",
    "    for i in Tickers:\n",
    "        test = prices.loc[i][\"Close\"] - prices.loc[i]['Close'].shift(1) \n",
    "        testpos = test * (test > 0)\n",
    "        testneg = test * (test < 0)\n",
    "\n",
    "        possum = testpos.rolling(window).sum()\n",
    "        negsum = testneg.rolling(window).sum().abs()\n",
    "\n",
    "        to_append = np.append(to_append,  ( (possum - negsum) / (possum + negsum) ) * 100 )\n",
    "        \n",
    "    technical_features[\"CMO_\"+str(window)] = to_append\n",
    "    \n",
    "    \n",
    "    print(time.time() - start_time)\n",
    "    "
   ]
  },
  {
   "cell_type": "code",
   "execution_count": null,
   "metadata": {},
   "outputs": [],
   "source": []
  },
  {
   "cell_type": "code",
   "execution_count": 120,
   "metadata": {},
   "outputs": [
    {
     "name": "stdout",
     "output_type": "stream",
     "text": [
      "53.710922956466675\n",
      "53.68004512786865\n",
      "57.15839600563049\n"
     ]
    }
   ],
   "source": [
    "\"\"\"\n",
    "average directional index\n",
    "\n",
    "\"\"\"\n",
    "for window in [1, 4, 16]:\n",
    "    start_time = time.time()\n",
    "    \n",
    "    ADX_5_array = np.array([])\n",
    "    ADX_11_array = np.array([])\n",
    "    ADX_23_array = np.array([])\n",
    "    \n",
    "    \n",
    "    for i in Tickers:\n",
    "        \n",
    "        plusDMinit = prices.loc[i][\"High\"].rolling(window).max() - prices.loc[i][\"High\"].shift(window).rolling(window).max()\n",
    "        minusDMinit = prices.loc[i][\"Low\"].shift(window).rolling(window).min() - prices.loc[i][\"Low\"].rolling(window).min()\n",
    "        \n",
    "        plusDM = plusDMinit.copy()\n",
    "        minusDM = minusDMinit.copy()\n",
    "        \n",
    "        plusDM[np.where(plusDMinit < minusDMinit)[0]] = 0\n",
    "        minusDM[np.where(plusDMinit > minusDMinit)[0]] = 0\n",
    "        \n",
    "        plusDM[np.where((np.sign(plusDMinit) + np.sign(minusDMinit)) == -2)[0]] = 0\n",
    "        minusDM[np.where((np.sign(plusDMinit) + np.sign(minusDMinit)) == -2)[0]] = 0\n",
    "        \n",
    "        \n",
    "        a = prices.loc[i][\"High\"].rolling(window).max() - prices.loc[i][\"Low\"].rolling(window).min()\n",
    "        b = prices.loc[i][\"High\"].rolling(window).max() - prices.loc[i][\"Close\"].shift(window)\n",
    "        c = prices.loc[i][\"Close\"].shift(window) - prices.loc[i][\"Low\"].rolling(window).min()\n",
    "        \n",
    "        TR = np.amax([a,b,c], axis = 0)\n",
    "        \n",
    "        for window2 in [3*2 - 1, 6 * 2 -1, 12 * 2 -1]:\n",
    "            plusDM_smoothed = pd.DataFrame(plusDM).ewm(span = window2).mean().values\n",
    "            minusDM_smoothed = pd.DataFrame(minusDM).ewm(span = window2).mean().values\n",
    "            TR_smoothed = pd.DataFrame(TR).ewm(span = window2).mean().values\n",
    "            \n",
    "            plusDI = (plusDM_smoothed / TR_smoothed) * 100\n",
    "            minusDI = (minusDM_smoothed  / TR_smoothed) * 100\n",
    "            \n",
    "            DiAbsDiff = np.abs(plusDI - minusDI)\n",
    "            \n",
    "            DiSum = plusDI + minusDI\n",
    "            \n",
    "            DX =  (DiAbsDiff / DiSum) * 100\n",
    "            \n",
    "            if window2 == 3*2 - 1:\n",
    "                            \n",
    "                ADX_5 = pd.DataFrame(DX).ewm(span = window2).mean().values\n",
    "                \n",
    "            elif window2 == 6 * 2 -1:\n",
    "                \n",
    "                ADX_11 = pd.DataFrame(DX).ewm(span = window2).mean().values\n",
    "                \n",
    "            else:\n",
    "                \n",
    "                ADX_23 = pd.DataFrame(DX).ewm(span = window2).mean().values\n",
    "                \n",
    "        \n",
    "        ADX_5_array = np.append(ADX_5_array, ADX_5)  \n",
    "        ADX_11_array = np.append(ADX_11_array, ADX_11)\n",
    "        ADX_23_array = np.append(ADX_23_array, ADX_23)\n",
    "        \n",
    "        \n",
    "    technical_features[\"ADX_\" + str(window) + \"_5\"] = ADX_5_array\n",
    "    technical_features[\"ADX_\" + str(window) + \"_11\"] = ADX_11_array\n",
    "    technical_features[\"ADX_\" + str(window) + \"_23\"] = ADX_23_array\n",
    "    \n",
    "    print(time.time() - start_time)\n",
    "            \n",
    "\n",
    "    "
   ]
  },
  {
   "cell_type": "code",
   "execution_count": null,
   "metadata": {},
   "outputs": [],
   "source": []
  },
  {
   "cell_type": "code",
   "execution_count": 122,
   "metadata": {},
   "outputs": [],
   "source": [
    "for window in [10, 20, 40, 80, 120, 160]:\n",
    "    to_append = np.array([])\n",
    "    for i in Tickers:\n",
    "        average = prices.loc[i][\"Close\"].ewm(span = window).mean()\n",
    "        thing =  ( 2 * average ) - ( average.ewm(span = window).mean() ) \n",
    "        to_append = np.append(to_append, (prices.loc[i]['Close'].rolling(3).mean() - thing) / thing )\n",
    "        \n",
    "    technical_features[\"DEMA_\"+str(window)] = to_append"
   ]
  },
  {
   "cell_type": "code",
   "execution_count": null,
   "metadata": {},
   "outputs": [],
   "source": []
  },
  {
   "cell_type": "code",
   "execution_count": 124,
   "metadata": {},
   "outputs": [],
   "source": [
    "technical_features.to_pickle(\"parsed_data/technical_features\")"
   ]
  },
  {
   "cell_type": "code",
   "execution_count": 13,
   "metadata": {},
   "outputs": [
    {
     "data": {
      "text/plain": [
       "Index(['Date', 'Close', 'ABAND_indicator_10', 'ABAND_indicator_20',\n",
       "       'ABAND_indicator_40', 'ABAND_signal_10', 'ABAND_signal_20',\n",
       "       'ABAND_signal_40', 'MFV_40_10_indicator_sign_change', 'APO_10_20',\n",
       "       'APO_10_40', 'AROON_10', 'AROON_20', 'AROON_40', 'AROON_80',\n",
       "       'AROON_120', 'AROON_160', 'BOL_indicator_10', 'BOL_indicator_20',\n",
       "       'BOL_indicator_40', 'BOL_indicator_80', 'BOL_indicator_120',\n",
       "       'BOL_indicator_160', 'CMO_10', 'CMO_20', 'CMO_40', 'CMO_80', 'CMO_120',\n",
       "       'CMO_160', 'ADX_1_5', 'ADX_1_11', 'ADX_1_23', 'ADX_4_5', 'ADX_4_11',\n",
       "       'ADX_4_23', 'ADX_16_5', 'ADX_16_11', 'ADX_16_23', 'DEMA_10', 'DEMA_20',\n",
       "       'DEMA_40', 'DEMA_80', 'DEMA_120', 'DEMA_160'],\n",
       "      dtype='object')"
      ]
     },
     "execution_count": 13,
     "metadata": {},
     "output_type": "execute_result"
    }
   ],
   "source": [
    "technical_features.columns"
   ]
  },
  {
   "cell_type": "code",
   "execution_count": 14,
   "metadata": {},
   "outputs": [
    {
     "name": "stdout",
     "output_type": "stream",
     "text": [
      "11.317264556884766\n",
      "11.089000225067139\n",
      "11.091889142990112\n",
      "11.286532402038574\n",
      "11.055382013320923\n"
     ]
    }
   ],
   "source": [
    "for window in [10, 20, 40, 80, 160]:\n",
    "    to_append = np.array([])\n",
    "    start_time = time.time()\n",
    "    for i in Tickers:\n",
    "        ATR = ( prices.loc[i]['Close'] + prices.loc[i][\"Low\"] + prices.loc[i][\"High\"] ) /3\n",
    "        thing = ( ( ATR.rolling(window).mean() - ATR.shift(window).rolling(window).mean() ) / ATR.shift(window).rolling(window).mean() ) * 100\n",
    "        to_append = np.append(to_append, thing)\n",
    "        \n",
    "    technical_features[\"ATR_\" + str(window)] = to_append\n",
    "    \n",
    "    print(time.time() - start_time)"
   ]
  },
  {
   "cell_type": "code",
   "execution_count": null,
   "metadata": {},
   "outputs": [],
   "source": []
  },
  {
   "cell_type": "code",
   "execution_count": 15,
   "metadata": {},
   "outputs": [
    {
     "name": "stdout",
     "output_type": "stream",
     "text": [
      "14.048151969909668\n",
      "13.968206882476807\n",
      "14.200185537338257\n",
      "14.358992576599121\n",
      "14.158177614212036\n"
     ]
    }
   ],
   "source": [
    "for window in [10, 20, 40, 80, 160]:\n",
    "    to_append = np.array([])\n",
    "    start_time = time.time()\n",
    "    for i in Tickers:\n",
    "        ATR = ( prices.loc[i]['Close'] + prices.loc[i][\"Low\"] + prices.loc[i][\"High\"] ) /3\n",
    "        ATR_signed = np.sign( ATR - ATR.shift(1) )\n",
    "\n",
    "        Money_flow = ( ( prices.loc[i]['Close'] + prices.loc[i][\"Low\"] + prices.loc[i][\"High\"] ) /3 ) * prices.loc[i]['Volume']\n",
    "        Money_flow_pos = Money_flow.copy()\n",
    "        Money_flow_neg = Money_flow.copy()\n",
    "\n",
    "        Money_flow_pos.iloc[np.where(ATR_signed == -1)[0] ] = 0\n",
    "        Money_flow_neg.iloc[np.where(ATR_signed == 1)[0] ] = 0\n",
    "\n",
    "        pos_sum = Money_flow_pos.rolling(window).sum()\n",
    "        neg_sum = Money_flow_neg.rolling(window).sum()\n",
    "\n",
    "        thing = 100 - (100 / (1 + (pos_sum / neg_sum )))\n",
    "        to_append = np.append(to_append, thing)\n",
    "\n",
    "    \n",
    "    technical_features[\"MFI_\"+str(window)] = to_append\n",
    "    \n",
    "    print(time.time() - start_time)\n",
    "\n",
    "\n",
    "\n"
   ]
  },
  {
   "cell_type": "code",
   "execution_count": null,
   "metadata": {},
   "outputs": [],
   "source": []
  },
  {
   "cell_type": "code",
   "execution_count": 16,
   "metadata": {},
   "outputs": [
    {
     "name": "stdout",
     "output_type": "stream",
     "text": [
      "10.822017669677734\n",
      "10.745412111282349\n",
      "10.648865938186646\n",
      "10.597341775894165\n",
      "11.081487655639648\n"
     ]
    }
   ],
   "source": [
    "for window in [10, 20, 40, 80, 160]:\n",
    "    to_append = np.array([])\n",
    "    start_time = time.time()\n",
    "    for i in Tickers:\n",
    "        thing = np.sign(prices.loc[i]['Close'] - prices.loc[i][\"Close\"].shift(1) )\n",
    "        thing2 = thing * prices.loc[i]['Volume']\n",
    "        thing3 = thing2.cumsum()\n",
    "\n",
    "        thing4 = thing3.ewm(span = 3).mean()\n",
    "        thing5 = (thing4 - thing4.shift(window) )/ thing4.shift(window) * 100\n",
    "        to_append = np.append(to_append, thing5)\n",
    "     \n",
    "    technical_features[\"OBV_\"+str(window)] = to_append\n",
    "    \n",
    "    print(time.time() - start_time)\n",
    "    "
   ]
  },
  {
   "cell_type": "code",
   "execution_count": null,
   "metadata": {},
   "outputs": [],
   "source": []
  },
  {
   "cell_type": "code",
   "execution_count": 17,
   "metadata": {},
   "outputs": [],
   "source": [
    "for k in [10, 20, 40, 70, 100, 130, 160, 200, 240, 280, 320, 360]:\n",
    "    to_append = np.array([])\n",
    "    for i in Tickers:\n",
    "        thing = ( prices.loc[i]['Close'] - prices.loc[i]['Close'].shift(k) ) /  prices.loc[i]['Close'].shift(k) * 100\n",
    "        to_append = np.append(to_append, thing)\n",
    "\n",
    "    technical_features[\"close_0/Close_\"+str(k)] = to_append"
   ]
  },
  {
   "cell_type": "code",
   "execution_count": 18,
   "metadata": {},
   "outputs": [
    {
     "name": "stdout",
     "output_type": "stream",
     "text": [
      "84.98471188545227\n",
      "73.91354894638062\n",
      "65.96795916557312\n",
      "55.25373148918152\n",
      "42.82905387878418\n",
      "32.077064514160156\n",
      "21.756408214569092\n",
      "11.019472599029541\n"
     ]
    }
   ],
   "source": [
    "for q in [10, 20, 40, 80, 120, 160, 240, 320]:\n",
    "    \n",
    "    start_time = time.time()\n",
    "    for j in [20, 40, 80, 120, 160, 240, 320, 360]:\n",
    "        \n",
    "        to_append = np.array([])\n",
    "        if q < j:\n",
    "            for i in Tickers:\n",
    "                thing = ( prices.loc[i]['Close'].shift(q) - prices.loc[i]['Close'].shift(j) ) /  prices.loc[i]['Close'].shift(j) * 100\n",
    "                to_append = np.append(to_append, thing)\n",
    "\n",
    "            technical_features[\"close_\" + str(q) + \"/Close_\" + str(j)] = to_append\n",
    "            \n",
    "    print(time.time() - start_time)"
   ]
  },
  {
   "cell_type": "code",
   "execution_count": null,
   "metadata": {},
   "outputs": [],
   "source": []
  },
  {
   "cell_type": "code",
   "execution_count": 160,
   "metadata": {},
   "outputs": [
    {
     "name": "stdout",
     "output_type": "stream",
     "text": [
      "3182.436245918274\n"
     ]
    }
   ],
   "source": [
    "\n",
    "to_append = np.array([])\n",
    "for i in Tickers:\n",
    "    start_time - time.time()\n",
    "    to_append = np.append(to_append, ( prices.loc[i]['Close'] - prices.loc[i]['Close'].shift(1) ) /   prices.loc[i]['Close'].shift(1) * 100 )\n",
    "    \n",
    "prices[\"daily_return\"] = to_append\n",
    "print(time.time() - start_time)"
   ]
  },
  {
   "cell_type": "code",
   "execution_count": 20,
   "metadata": {},
   "outputs": [
    {
     "name": "stdout",
     "output_type": "stream",
     "text": [
      "9.704909801483154\n",
      "7.31364107131958\n",
      "9.248795509338379\n",
      "9.382172584533691\n",
      "9.726182460784912\n",
      "8.387778997421265\n",
      "7.261355400085449\n",
      "8.23927903175354\n",
      "9.197063207626343\n"
     ]
    }
   ],
   "source": [
    "for k in [10, 20, 40, 80, 120, 160, 240, 320, 360]:\n",
    "    to_append = np.array([])\n",
    "    start_time = time.time()\n",
    "    for i in Tickers:\n",
    "        thing = prices[\"daily_return\"].loc[i].rolling(k).std()\n",
    "        to_append = np.append(to_append, thing)\n",
    "        \n",
    "    print(time.time() - start_time)\n",
    "\n",
    "    technical_features[\"volatility_\" + str(k)] = to_append"
   ]
  },
  {
   "cell_type": "code",
   "execution_count": null,
   "metadata": {},
   "outputs": [],
   "source": []
  },
  {
   "cell_type": "code",
   "execution_count": 21,
   "metadata": {},
   "outputs": [
    {
     "name": "stdout",
     "output_type": "stream",
     "text": [
      "8.912506103515625\n",
      "9.090039730072021\n",
      "8.448895931243896\n",
      "9.023053884506226\n",
      "8.224845170974731\n",
      "8.400355100631714\n",
      "8.025557279586792\n",
      "8.058807611465454\n",
      "9.058649063110352\n"
     ]
    }
   ],
   "source": [
    "for k in [10, 20, 40, 80, 120, 160, 240, 320, 360]:\n",
    "    start_time = time.time()\n",
    "    to_append = np.array([])\n",
    "    for i in Tickers:\n",
    "        thing = prices[\"Volume\"].loc[i].rolling(k).std()\n",
    "        to_append = np.append(to_append, thing)\n",
    "    print(time.time() - start_time)\n",
    "    technical_features[\"volstd_\" + str(k)] = to_append"
   ]
  },
  {
   "cell_type": "code",
   "execution_count": null,
   "metadata": {},
   "outputs": [],
   "source": []
  },
  {
   "cell_type": "code",
   "execution_count": 22,
   "metadata": {},
   "outputs": [
    {
     "name": "stdout",
     "output_type": "stream",
     "text": [
      "11.569207906723022\n",
      "10.66939401626587\n",
      "10.611380338668823\n",
      "10.401333808898926\n",
      "10.448344230651855\n"
     ]
    }
   ],
   "source": [
    "for k in [10, 20, 40, 80, 160]:\n",
    "    to_append = np.array([])\n",
    "    start_time = time.time()\n",
    "    for i in Tickers:\n",
    "        thing = -100 * ( (prices[\"High\"].loc[i].rolling(k).max() - prices.loc[i][\"Close\"]) / (prices[\"High\"].loc[i].rolling(k).max()  - prices[\"Low\"].loc[i].rolling(k).min()  ) )\n",
    "        to_append = np.append(to_append, thing)\n",
    "        \n",
    "    technical_features[\"WillR_\" + str(k)] = to_append\n",
    "    print(time.time() - start_time)"
   ]
  },
  {
   "cell_type": "code",
   "execution_count": 23,
   "metadata": {},
   "outputs": [],
   "source": [
    "technical_features.to_pickle(\"parsed_data/technical_features\")"
   ]
  },
  {
   "cell_type": "code",
   "execution_count": null,
   "metadata": {},
   "outputs": [],
   "source": []
  },
  {
   "cell_type": "code",
   "execution_count": 41,
   "metadata": {},
   "outputs": [],
   "source": [
    "BP = np.array([])\n",
    "TR = np.array([])\n",
    "for i in Tickers:\n",
    "        \n",
    "    BP = np.append(BP, (prices.loc[i][\"Close\"] - np.minimum(prices.loc[i][\"Low\"].values, prices.loc[i][\"Close\"].shift(1).values)))\n",
    "    TR = np.append(TR, (np.maximum(prices.loc[i][\"High\"].values, prices.loc[i][\"Close\"].shift(1).values) - np.minimum(prices.loc[i][\"Low\"].values, prices.loc[i][\"Close\"].shift(1).values)))"
   ]
  },
  {
   "cell_type": "code",
   "execution_count": 44,
   "metadata": {},
   "outputs": [],
   "source": [
    "technical_features[\"BP\"] = BP\n",
    "technical_features[\"TR\"] = TR"
   ]
  },
  {
   "cell_type": "code",
   "execution_count": 154,
   "metadata": {},
   "outputs": [
    {
     "data": {
      "text/plain": [
       "{'divide': 'ignore', 'over': 'warn', 'under': 'ignore', 'invalid': 'ignore'}"
      ]
     },
     "execution_count": 154,
     "metadata": {},
     "output_type": "execute_result"
    }
   ],
   "source": [
    "np.geterr()"
   ]
  },
  {
   "cell_type": "code",
   "execution_count": 153,
   "metadata": {},
   "outputs": [
    {
     "data": {
      "text/plain": [
       "{'divide': 'warn', 'over': 'warn', 'under': 'ignore', 'invalid': 'warn'}"
      ]
     },
     "execution_count": 153,
     "metadata": {},
     "output_type": "execute_result"
    }
   ],
   "source": [
    "np.seterr(divide = \"ignore\", invalid = \"ignore\")"
   ]
  },
  {
   "cell_type": "code",
   "execution_count": 155,
   "metadata": {},
   "outputs": [
    {
     "name": "stdout",
     "output_type": "stream",
     "text": [
      "9.97123670578003\n",
      "10.000244140625\n",
      "10.116268634796143\n",
      "10.29530930519104\n"
     ]
    }
   ],
   "source": [
    "\"\"\"\n",
    "first bit of ultimate oscillator\n",
    "\n",
    "\"\"\"\n",
    "start_time = time.time()\n",
    "current_time = start_time\n",
    "for window in [28, 56, 112, 224]:\n",
    "    \n",
    "    start_time = time.time()\n",
    "    to_append = np.array([])\n",
    "    \n",
    "    for i in Tickers:\n",
    "            \n",
    "        BP = technical_features.loc[i][\"BP\"]\n",
    "        TR = technical_features.loc[i][\"TR\"]\n",
    "              \n",
    "        average_short = BP.rolling(int(window/4)).sum().values / TR.rolling(int(window/4)).sum().values\n",
    "        average_mid = BP.rolling(int(window/2)).sum().values / TR.rolling(int(window/2)).sum().values\n",
    "        average_long = BP.rolling(int(window)).sum().values / TR.rolling(int(window)).sum().values\n",
    "        \n",
    "        ULTOSC = 100 *( (4 * average_short) + (2 * average_mid) + average_long) / 7\n",
    "              \n",
    "        to_append = np.append(to_append, ULTOSC)\n",
    "        \n",
    "    technical_features[\"ULTOSC_\"+str(window)] = to_append\n",
    "        \n",
    "    print(time.time() - start_time)\n",
    "    "
   ]
  },
  {
   "cell_type": "code",
   "execution_count": 157,
   "metadata": {},
   "outputs": [],
   "source": [
    "technical_features = technical_features.drop([\"BP\", \"TR\"], axis = 1)"
   ]
  },
  {
   "cell_type": "code",
   "execution_count": 245,
   "metadata": {},
   "outputs": [
    {
     "name": "stdout",
     "output_type": "stream",
     "text": [
      "10.283307790756226\n",
      "10.16628122329712\n",
      "10.051255226135254\n",
      "9.929227590560913\n",
      "9.912223815917969\n"
     ]
    }
   ],
   "source": [
    "gains = prices[\"daily_return\"].copy()\n",
    "losses = prices[\"daily_return\"].copy()\n",
    "\n",
    "gains.iloc[np.where(prices[\"daily_return\"] <= 0)[0]] = 0\n",
    "losses.iloc[np.where(prices[\"daily_return\"] >= 0)[0]] = 0\n",
    "losses = np.abs(losses)\n",
    "for window in [7, 14, 28, 56, 112]:\n",
    "    start_time = time.time()\n",
    "    to_append = np.array([])\n",
    "    \n",
    "    for i in Tickers:\n",
    "        \n",
    "        RS = gains.loc[i].ewm(span = window).mean() / losses.loc[i].ewm(span = window).mean()\n",
    "        RSI = 100 - (100 / (1+RS))\n",
    "        \n",
    "        to_append = np.append(to_append, RSI)\n",
    "        \n",
    "    technical_features[\"RSI_\" + str(window)] = to_append\n",
    "        \n",
    "    print(time.time() - start_time)"
   ]
  },
  {
   "cell_type": "code",
   "execution_count": null,
   "metadata": {},
   "outputs": [],
   "source": []
  },
  {
   "cell_type": "code",
   "execution_count": 256,
   "metadata": {},
   "outputs": [
    {
     "data": {
      "text/plain": [
       "array(['Date', 'Close', 'ABAND_indicator_10', 'ABAND_indicator_20',\n",
       "       'ABAND_indicator_40', 'ABAND_signal_10', 'ABAND_signal_20',\n",
       "       'ABAND_signal_40', 'MFV_40_10_indicator_sign_change', 'APO_10_20',\n",
       "       'APO_10_40', 'AROON_10', 'AROON_20', 'AROON_40', 'AROON_80',\n",
       "       'AROON_120', 'AROON_160', 'BOL_indicator_10', 'BOL_indicator_20',\n",
       "       'BOL_indicator_40', 'BOL_indicator_80', 'BOL_indicator_120',\n",
       "       'BOL_indicator_160', 'CMO_10', 'CMO_20', 'CMO_40', 'CMO_80',\n",
       "       'CMO_120', 'CMO_160', 'ADX_1_5', 'ADX_1_11', 'ADX_1_23', 'ADX_4_5',\n",
       "       'ADX_4_11', 'ADX_4_23', 'ADX_16_5', 'ADX_16_11', 'ADX_16_23',\n",
       "       'DEMA_10', 'DEMA_20', 'DEMA_40', 'DEMA_80', 'DEMA_120', 'DEMA_160',\n",
       "       'ATR_10', 'ATR_20', 'ATR_40', 'ATR_80', 'ATR_160', 'MFI_10',\n",
       "       'MFI_20', 'MFI_40', 'MFI_80', 'MFI_160', 'OBV_10', 'OBV_20',\n",
       "       'OBV_40', 'OBV_80', 'OBV_160', 'close_0/Close_10',\n",
       "       'close_0/Close_20', 'close_0/Close_40', 'close_0/Close_70',\n",
       "       'close_0/Close_100', 'close_0/Close_130', 'close_0/Close_160',\n",
       "       'close_0/Close_200', 'close_0/Close_240', 'close_0/Close_280',\n",
       "       'close_0/Close_320', 'close_0/Close_360', 'close_10/Close_20',\n",
       "       'close_10/Close_40', 'close_10/Close_80', 'close_10/Close_120',\n",
       "       'close_10/Close_160', 'close_10/Close_240', 'close_10/Close_320',\n",
       "       'close_10/Close_360', 'close_20/Close_40', 'close_20/Close_80',\n",
       "       'close_20/Close_120', 'close_20/Close_160', 'close_20/Close_240',\n",
       "       'close_20/Close_320', 'close_20/Close_360', 'close_40/Close_80',\n",
       "       'close_40/Close_120', 'close_40/Close_160', 'close_40/Close_240',\n",
       "       'close_40/Close_320', 'close_40/Close_360', 'close_80/Close_120',\n",
       "       'close_80/Close_160', 'close_80/Close_240', 'close_80/Close_320',\n",
       "       'close_80/Close_360', 'close_120/Close_160', 'close_120/Close_240',\n",
       "       'close_120/Close_320', 'close_120/Close_360',\n",
       "       'close_160/Close_240', 'close_160/Close_320',\n",
       "       'close_160/Close_360', 'close_240/Close_320',\n",
       "       'close_240/Close_360', 'close_320/Close_360', 'volatility_10',\n",
       "       'volatility_20', 'volatility_40', 'volatility_80',\n",
       "       'volatility_120', 'volatility_160', 'volatility_240',\n",
       "       'volatility_320', 'volatility_360', 'volstd_10', 'volstd_20',\n",
       "       'volstd_40', 'volstd_80', 'volstd_120', 'volstd_160', 'volstd_240',\n",
       "       'volstd_320', 'volstd_360', 'WillR_10', 'WillR_20', 'WillR_40',\n",
       "       'WillR_80', 'WillR_160', 'ULTOSC_28', 'ULTOSC_56', 'ULTOSC_112',\n",
       "       'ULTOSC_224', 'RSI_7', 'RSI_14', 'RSI_28', 'RSI_56', 'RSI_112',\n",
       "       'ABAND_indicator_80', 'ABAND_indicator_160', 'ABAND_signal_80',\n",
       "       'ABAND_signal_160'], dtype=object)"
      ]
     },
     "execution_count": 256,
     "metadata": {},
     "output_type": "execute_result"
    }
   ],
   "source": [
    "technical_features.columns.values"
   ]
  },
  {
   "cell_type": "code",
   "execution_count": null,
   "metadata": {},
   "outputs": [],
   "source": []
  }
 ],
 "metadata": {
  "kernelspec": {
   "display_name": "Python 3 (ipykernel)",
   "language": "python",
   "name": "python3"
  },
  "language_info": {
   "codemirror_mode": {
    "name": "ipython",
    "version": 3
   },
   "file_extension": ".py",
   "mimetype": "text/x-python",
   "name": "python",
   "nbconvert_exporter": "python",
   "pygments_lexer": "ipython3",
   "version": "3.8.12"
  }
 },
 "nbformat": 4,
 "nbformat_minor": 4
}
