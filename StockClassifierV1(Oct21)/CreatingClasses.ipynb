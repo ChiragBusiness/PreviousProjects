{
 "cells": [
  {
   "cell_type": "code",
   "execution_count": 1,
   "metadata": {},
   "outputs": [],
   "source": [
    "import numpy as np\n",
    "import pandas as pd"
   ]
  },
  {
   "cell_type": "code",
   "execution_count": null,
   "metadata": {},
   "outputs": [],
   "source": []
  },
  {
   "cell_type": "code",
   "execution_count": 2,
   "metadata": {},
   "outputs": [],
   "source": [
    "prices = pd.read_pickle(\"parsed_data/prices\")"
   ]
  },
  {
   "cell_type": "code",
   "execution_count": 3,
   "metadata": {},
   "outputs": [],
   "source": [
    "Tickers = prices.reset_index().set_index([\"Ticker\"]).index"
   ]
  },
  {
   "cell_type": "code",
   "execution_count": 4,
   "metadata": {},
   "outputs": [],
   "source": [
    "Tickers = np.unique(Tickers)"
   ]
  },
  {
   "cell_type": "code",
   "execution_count": 6,
   "metadata": {},
   "outputs": [],
   "source": [
    "Date = np.unique(prices.reset_index().set_index([\"Date\"]).index)"
   ]
  },
  {
   "cell_type": "code",
   "execution_count": 7,
   "metadata": {},
   "outputs": [],
   "source": [
    "prices = prices.reset_index().set_index([\"Ticker\", \"Date\"])"
   ]
  },
  {
   "cell_type": "code",
   "execution_count": 9,
   "metadata": {},
   "outputs": [],
   "source": [
    "to_append = np.array([])\n",
    "for i in Tickers:\n",
    "    thing = ( ( prices.loc[i][\"Close\"].shift(-40) - prices.loc[i]['Close'] ) /  prices.loc[i]['Close'] ) * 100\n",
    "    to_append = np.append(to_append, thing)\n"
   ]
  },
  {
   "cell_type": "code",
   "execution_count": 10,
   "metadata": {},
   "outputs": [],
   "source": [
    "prices[\"return_40\"] = to_append"
   ]
  },
  {
   "cell_type": "code",
   "execution_count": 28,
   "metadata": {},
   "outputs": [],
   "source": [
    "to_append = np.array([])\n",
    "for i in Tickers:\n",
    "    thing = ( ( prices.loc[i][\"Close\"].shift(-20) - prices.loc[i]['Close'] ) /  prices.loc[i]['Close'] ) * 100\n",
    "    to_append = np.append(to_append, thing)\n"
   ]
  },
  {
   "cell_type": "code",
   "execution_count": 29,
   "metadata": {},
   "outputs": [],
   "source": [
    "prices[\"return_20\"] = to_append"
   ]
  },
  {
   "cell_type": "code",
   "execution_count": 30,
   "metadata": {},
   "outputs": [],
   "source": [
    "to_append = np.array([])\n",
    "for i in Tickers:\n",
    "    thing = ( ( prices.loc[i][\"Close\"].shift(-10) - prices.loc[i]['Close'] ) /  prices.loc[i]['Close'] ) * 100\n",
    "    to_append = np.append(to_append, thing)"
   ]
  },
  {
   "cell_type": "code",
   "execution_count": 31,
   "metadata": {},
   "outputs": [],
   "source": [
    "prices[\"return_10\"] = to_append"
   ]
  },
  {
   "cell_type": "code",
   "execution_count": 32,
   "metadata": {},
   "outputs": [],
   "source": [
    "to_append = np.array([])\n",
    "for i in Tickers:\n",
    "    thing = ( ( prices.loc[i][\"Close\"].shift(-5) - prices.loc[i]['Close'] ) /  prices.loc[i]['Close'] ) * 100\n",
    "    to_append = np.append(to_append, thing)"
   ]
  },
  {
   "cell_type": "code",
   "execution_count": 33,
   "metadata": {},
   "outputs": [],
   "source": [
    "prices[\"return_5\"] = to_append"
   ]
  },
  {
   "cell_type": "code",
   "execution_count": 34,
   "metadata": {},
   "outputs": [],
   "source": [
    "to_append = np.array([])\n",
    "for i in Tickers:\n",
    "    thing = ( ( prices.loc[i][\"Close\"].shift(-80) - prices.loc[i]['Close'] ) /  prices.loc[i]['Close'] ) * 100\n",
    "    to_append = np.append(to_append, thing)"
   ]
  },
  {
   "cell_type": "code",
   "execution_count": 35,
   "metadata": {},
   "outputs": [],
   "source": [
    "prices[\"return_80\"] = to_append"
   ]
  },
  {
   "cell_type": "code",
   "execution_count": 14,
   "metadata": {},
   "outputs": [
    {
     "data": {
      "text/html": [
       "<div>\n",
       "<style scoped>\n",
       "    .dataframe tbody tr th:only-of-type {\n",
       "        vertical-align: middle;\n",
       "    }\n",
       "\n",
       "    .dataframe tbody tr th {\n",
       "        vertical-align: top;\n",
       "    }\n",
       "\n",
       "    .dataframe thead th {\n",
       "        text-align: right;\n",
       "    }\n",
       "</style>\n",
       "<table border=\"1\" class=\"dataframe\">\n",
       "  <thead>\n",
       "    <tr style=\"text-align: right;\">\n",
       "      <th></th>\n",
       "      <th></th>\n",
       "      <th>SimFinId</th>\n",
       "      <th>Open</th>\n",
       "      <th>Low</th>\n",
       "      <th>High</th>\n",
       "      <th>Close</th>\n",
       "      <th>Adj. Close</th>\n",
       "      <th>Dividend</th>\n",
       "      <th>Volume</th>\n",
       "      <th>Shares Outstanding</th>\n",
       "      <th>daily_return</th>\n",
       "      <th>return_40</th>\n",
       "    </tr>\n",
       "    <tr>\n",
       "      <th>Ticker</th>\n",
       "      <th>Date</th>\n",
       "      <th></th>\n",
       "      <th></th>\n",
       "      <th></th>\n",
       "      <th></th>\n",
       "      <th></th>\n",
       "      <th></th>\n",
       "      <th></th>\n",
       "      <th></th>\n",
       "      <th></th>\n",
       "      <th></th>\n",
       "      <th></th>\n",
       "    </tr>\n",
       "  </thead>\n",
       "  <tbody>\n",
       "    <tr>\n",
       "      <th rowspan=\"5\" valign=\"top\">A</th>\n",
       "      <th>2011-05-20</th>\n",
       "      <td>45846</td>\n",
       "      <td>51.15</td>\n",
       "      <td>50.43</td>\n",
       "      <td>51.21</td>\n",
       "      <td>50.70</td>\n",
       "      <td>33.50</td>\n",
       "      <td>NaN</td>\n",
       "      <td>3350800</td>\n",
       "      <td>348045143.0</td>\n",
       "      <td>NaN</td>\n",
       "      <td>-7.416174</td>\n",
       "    </tr>\n",
       "    <tr>\n",
       "      <th>2011-05-23</th>\n",
       "      <td>45846</td>\n",
       "      <td>49.81</td>\n",
       "      <td>48.50</td>\n",
       "      <td>49.81</td>\n",
       "      <td>49.10</td>\n",
       "      <td>32.44</td>\n",
       "      <td>NaN</td>\n",
       "      <td>4265800</td>\n",
       "      <td>348045143.0</td>\n",
       "      <td>-3.155819</td>\n",
       "      <td>-4.439919</td>\n",
       "    </tr>\n",
       "    <tr>\n",
       "      <th>2011-05-24</th>\n",
       "      <td>45846</td>\n",
       "      <td>49.24</td>\n",
       "      <td>48.39</td>\n",
       "      <td>49.24</td>\n",
       "      <td>48.69</td>\n",
       "      <td>32.17</td>\n",
       "      <td>NaN</td>\n",
       "      <td>3437200</td>\n",
       "      <td>348045143.0</td>\n",
       "      <td>-0.835031</td>\n",
       "      <td>-3.635243</td>\n",
       "    </tr>\n",
       "    <tr>\n",
       "      <th>2011-05-25</th>\n",
       "      <td>45846</td>\n",
       "      <td>48.26</td>\n",
       "      <td>48.13</td>\n",
       "      <td>49.32</td>\n",
       "      <td>49.02</td>\n",
       "      <td>32.39</td>\n",
       "      <td>NaN</td>\n",
       "      <td>3736200</td>\n",
       "      <td>348045143.0</td>\n",
       "      <td>0.677757</td>\n",
       "      <td>-4.345165</td>\n",
       "    </tr>\n",
       "    <tr>\n",
       "      <th>2011-05-26</th>\n",
       "      <td>45846</td>\n",
       "      <td>48.72</td>\n",
       "      <td>48.62</td>\n",
       "      <td>49.60</td>\n",
       "      <td>49.39</td>\n",
       "      <td>32.63</td>\n",
       "      <td>NaN</td>\n",
       "      <td>3268500</td>\n",
       "      <td>348045143.0</td>\n",
       "      <td>0.754794</td>\n",
       "      <td>-6.053857</td>\n",
       "    </tr>\n",
       "    <tr>\n",
       "      <th>...</th>\n",
       "      <th>...</th>\n",
       "      <td>...</td>\n",
       "      <td>...</td>\n",
       "      <td>...</td>\n",
       "      <td>...</td>\n",
       "      <td>...</td>\n",
       "      <td>...</td>\n",
       "      <td>...</td>\n",
       "      <td>...</td>\n",
       "      <td>...</td>\n",
       "      <td>...</td>\n",
       "      <td>...</td>\n",
       "    </tr>\n",
       "    <tr>\n",
       "      <th rowspan=\"5\" valign=\"top\">ZYNE</th>\n",
       "      <th>2021-09-13</th>\n",
       "      <td>901704</td>\n",
       "      <td>4.47</td>\n",
       "      <td>4.29</td>\n",
       "      <td>4.55</td>\n",
       "      <td>4.45</td>\n",
       "      <td>4.45</td>\n",
       "      <td>NaN</td>\n",
       "      <td>1638339</td>\n",
       "      <td>41251537.0</td>\n",
       "      <td>-0.447427</td>\n",
       "      <td>NaN</td>\n",
       "    </tr>\n",
       "    <tr>\n",
       "      <th>2021-09-14</th>\n",
       "      <td>901704</td>\n",
       "      <td>4.45</td>\n",
       "      <td>4.27</td>\n",
       "      <td>4.47</td>\n",
       "      <td>4.31</td>\n",
       "      <td>4.31</td>\n",
       "      <td>NaN</td>\n",
       "      <td>423426</td>\n",
       "      <td>41251537.0</td>\n",
       "      <td>-3.146067</td>\n",
       "      <td>NaN</td>\n",
       "    </tr>\n",
       "    <tr>\n",
       "      <th>2021-09-15</th>\n",
       "      <td>901704</td>\n",
       "      <td>4.34</td>\n",
       "      <td>4.29</td>\n",
       "      <td>4.40</td>\n",
       "      <td>4.35</td>\n",
       "      <td>4.35</td>\n",
       "      <td>NaN</td>\n",
       "      <td>254110</td>\n",
       "      <td>41251537.0</td>\n",
       "      <td>0.928074</td>\n",
       "      <td>NaN</td>\n",
       "    </tr>\n",
       "    <tr>\n",
       "      <th>2021-09-16</th>\n",
       "      <td>901704</td>\n",
       "      <td>4.34</td>\n",
       "      <td>4.25</td>\n",
       "      <td>4.35</td>\n",
       "      <td>4.32</td>\n",
       "      <td>4.32</td>\n",
       "      <td>NaN</td>\n",
       "      <td>317393</td>\n",
       "      <td>41251537.0</td>\n",
       "      <td>-0.689655</td>\n",
       "      <td>NaN</td>\n",
       "    </tr>\n",
       "    <tr>\n",
       "      <th>2021-09-17</th>\n",
       "      <td>901704</td>\n",
       "      <td>4.29</td>\n",
       "      <td>4.07</td>\n",
       "      <td>4.38</td>\n",
       "      <td>4.23</td>\n",
       "      <td>4.23</td>\n",
       "      <td>NaN</td>\n",
       "      <td>2906024</td>\n",
       "      <td>41251537.0</td>\n",
       "      <td>-2.083333</td>\n",
       "      <td>NaN</td>\n",
       "    </tr>\n",
       "  </tbody>\n",
       "</table>\n",
       "<p>4576018 rows × 11 columns</p>\n",
       "</div>"
      ],
      "text/plain": [
       "                   SimFinId   Open    Low   High  Close  Adj. Close  Dividend  \\\n",
       "Ticker Date                                                                     \n",
       "A      2011-05-20     45846  51.15  50.43  51.21  50.70       33.50       NaN   \n",
       "       2011-05-23     45846  49.81  48.50  49.81  49.10       32.44       NaN   \n",
       "       2011-05-24     45846  49.24  48.39  49.24  48.69       32.17       NaN   \n",
       "       2011-05-25     45846  48.26  48.13  49.32  49.02       32.39       NaN   \n",
       "       2011-05-26     45846  48.72  48.62  49.60  49.39       32.63       NaN   \n",
       "...                     ...    ...    ...    ...    ...         ...       ...   \n",
       "ZYNE   2021-09-13    901704   4.47   4.29   4.55   4.45        4.45       NaN   \n",
       "       2021-09-14    901704   4.45   4.27   4.47   4.31        4.31       NaN   \n",
       "       2021-09-15    901704   4.34   4.29   4.40   4.35        4.35       NaN   \n",
       "       2021-09-16    901704   4.34   4.25   4.35   4.32        4.32       NaN   \n",
       "       2021-09-17    901704   4.29   4.07   4.38   4.23        4.23       NaN   \n",
       "\n",
       "                    Volume  Shares Outstanding  daily_return  return_40  \n",
       "Ticker Date                                                              \n",
       "A      2011-05-20  3350800         348045143.0           NaN  -7.416174  \n",
       "       2011-05-23  4265800         348045143.0     -3.155819  -4.439919  \n",
       "       2011-05-24  3437200         348045143.0     -0.835031  -3.635243  \n",
       "       2011-05-25  3736200         348045143.0      0.677757  -4.345165  \n",
       "       2011-05-26  3268500         348045143.0      0.754794  -6.053857  \n",
       "...                    ...                 ...           ...        ...  \n",
       "ZYNE   2021-09-13  1638339          41251537.0     -0.447427        NaN  \n",
       "       2021-09-14   423426          41251537.0     -3.146067        NaN  \n",
       "       2021-09-15   254110          41251537.0      0.928074        NaN  \n",
       "       2021-09-16   317393          41251537.0     -0.689655        NaN  \n",
       "       2021-09-17  2906024          41251537.0     -2.083333        NaN  \n",
       "\n",
       "[4576018 rows x 11 columns]"
      ]
     },
     "execution_count": 14,
     "metadata": {},
     "output_type": "execute_result"
    }
   ],
   "source": [
    "prices"
   ]
  },
  {
   "cell_type": "code",
   "execution_count": 18,
   "metadata": {},
   "outputs": [
    {
     "data": {
      "text/plain": [
       "array(['A', 'AA', 'AAL', ..., 'ZUO', 'ZVO', 'ZYNE'], dtype=object)"
      ]
     },
     "execution_count": 18,
     "metadata": {},
     "output_type": "execute_result"
    }
   ],
   "source": [
    "Tickers[]"
   ]
  },
  {
   "cell_type": "code",
   "execution_count": 22,
   "metadata": {},
   "outputs": [
    {
     "name": "stdout",
     "output_type": "stream",
     "text": [
      "15.088757396449711\n",
      "15.088757396449711\n"
     ]
    },
    {
     "data": {
      "text/plain": [
       "(None, None)"
      ]
     },
     "execution_count": 22,
     "metadata": {},
     "output_type": "execute_result"
    }
   ],
   "source": [
    "num = 637\n",
    "ticker_test = Tickers[35]\n",
    "print((prices.loc[ticker_test, \"Close\"].iloc[num + 40] - prices.loc[ticker_test, \"Close\"].iloc[num])/ prices.loc[ticker_test, \"Close\"].iloc[num]* 100), print(prices.loc[ticker_test, \"return_40\"].iloc[num])"
   ]
  },
  {
   "cell_type": "code",
   "execution_count": 23,
   "metadata": {},
   "outputs": [],
   "source": [
    "prices.to_pickle(\"parsed_data/prices\")"
   ]
  },
  {
   "cell_type": "code",
   "execution_count": 84,
   "metadata": {},
   "outputs": [
    {
     "data": {
      "text/plain": [
       "4576018"
      ]
     },
     "execution_count": 84,
     "metadata": {},
     "output_type": "execute_result"
    }
   ],
   "source": [
    "len(to_append)"
   ]
  },
  {
   "cell_type": "code",
   "execution_count": 24,
   "metadata": {},
   "outputs": [],
   "source": [
    "prices = prices.reset_index().set_index([\"Date\", \"Ticker\"]).loc[Date]"
   ]
  },
  {
   "cell_type": "code",
   "execution_count": 25,
   "metadata": {},
   "outputs": [],
   "source": [
    "def make_class_binary(col_name, features_date_indexed, Date_array, percentage_cutoff):\n",
    "    \n",
    "    to_append = np.array([])\n",
    "    \n",
    "    for Date1 in Date_array:\n",
    "        \n",
    "        the_column = features_date_indexed.loc[Date1, col_name].copy()\n",
    "        \n",
    "        if np.sum(the_column.isna()) / len(the_column) > 0.4:\n",
    "            \n",
    "            to_append = np.append(to_append, [np.nan] * len(the_column))\n",
    "            \n",
    "        else:\n",
    "        \n",
    "            cutoff = np.nanpercentile(the_column, percentage_cutoff)\n",
    "\n",
    "            def map_func(x):\n",
    "                if x >= cutoff:\n",
    "                    return 0\n",
    "                elif x < cutoff:\n",
    "                    return 1\n",
    "                else:\n",
    "                    return np.nan\n",
    "                \n",
    "            binaries = the_column.map(map_func, na_action = \"ignore\")\n",
    "            \n",
    "            to_append = np.append(to_append, binaries)\n",
    "            \n",
    "    return to_append\n",
    "  "
   ]
  },
  {
   "cell_type": "code",
   "execution_count": 26,
   "metadata": {},
   "outputs": [],
   "source": [
    "result = make_class_binary(\"return_40\", prices, Date, 95)\n",
    "prices[\"Class_binary_40_20\"] = result\n"
   ]
  },
  {
   "cell_type": "code",
   "execution_count": null,
   "metadata": {},
   "outputs": [],
   "source": [
    "result = make_class_binary(\"return_20\", prices, Date, 95)\n",
    "prices[\"Class_binary_20_20\"] = result\n",
    "\n",
    "result = make_class_binary(\"return_10\", prices, Date, 95)\n",
    "prices[\"Class_binary_10_20\"] = result\n",
    "\n",
    "result = make_class_binary(\"return_5\", prices, Date, 95)\n",
    "prices[\"Class_binary_5_20\"] = result\n",
    "\n",
    "result = make_class_binary(\"return_80\", prices, Date, 95)\n",
    "prices[\"Class_binary_80_20\"] = result\n"
   ]
  },
  {
   "cell_type": "code",
   "execution_count": 36,
   "metadata": {},
   "outputs": [
    {
     "data": {
      "text/plain": [
       "5.010548523206751"
      ]
     },
     "execution_count": 36,
     "metadata": {},
     "output_type": "execute_result"
    }
   ],
   "source": [
    "test_date = 1567\n",
    "np.sum(prices.loc[Date[test_date],\"Class_binary_40_20\"] == 0) / len(prices.loc[Date[test_date],\"Class_binary_40_20\"]) * 100"
   ]
  },
  {
   "cell_type": "code",
   "execution_count": 37,
   "metadata": {},
   "outputs": [],
   "source": [
    "features1 = pd.read_pickle(\"training_sets/features1\")\n",
    "\n",
    "features1 = features1.reset_index().set_index([\"Date\"])\n",
    "\n",
    "features1 = features1.loc[np.unique(features1.index)].reset_index().set_index([\"Date\", \"Ticker\"])\n",
    "\n",
    "Date1 = np.load(\"training_sets/Date1.npy\", allow_pickle = True)\n",
    "print(np.sum(Date1 != np.unique(features1.reset_index().set_index([\"Date\"]).index)))\n"
   ]
  },
  {
   "cell_type": "code",
   "execution_count": null,
   "metadata": {},
   "outputs": [],
   "source": [
    "features1[\"Class_binary_40_20\"] = prices[\"Class_binary_40_20\"]\n",
    "\n",
    "features1[\"return_40\"] = prices[\"return_40\"]\n",
    "\n",
    "features1[\"Class_binary_20_20\"] = prices[\"Class_binary_20_20\"]\n",
    "\n",
    "features1[\"return_20\"] = prices[\"return_20\"]\n",
    "\n",
    "features1[\"Class_binary_10_20\"] = prices[\"Class_binary_10_20\"]\n",
    "\n",
    "features1[\"return_10\"] = prices[\"return_10\"]\n",
    "\n",
    "features1[\"Class_binary_5_20\"] = prices[\"Class_binary_5_20\"]\n",
    "\n",
    "features1[\"return_5\"] = prices[\"return_5\"]\n",
    "\n",
    "features1[\"Class_binary_80_20\"] = prices[\"Class_binary_80_20\"]\n",
    "\n",
    "features1[\"return_80\"] = prices[\"return_80\"]\n"
   ]
  },
  {
   "cell_type": "code",
   "execution_count": 39,
   "metadata": {},
   "outputs": [],
   "source": [
    "features1.to_pickle(\"training_sets/features1\")"
   ]
  },
  {
   "cell_type": "code",
   "execution_count": 40,
   "metadata": {},
   "outputs": [],
   "source": [
    "del features1"
   ]
  },
  {
   "cell_type": "code",
   "execution_count": 43,
   "metadata": {},
   "outputs": [],
   "source": [
    "Date2 = np.load(\"training_sets/Date2.npy\", allow_pickle = True)"
   ]
  },
  {
   "cell_type": "code",
   "execution_count": 44,
   "metadata": {},
   "outputs": [],
   "source": [
    "features2 = pd.read_pickle(\"training_sets/features2\")\n",
    "\n",
    "features2 = features2.reset_index().set_index([\"Date\"])\n",
    "\n",
    "print(np.sum(Date2 != np.unique(features2.index)))\n",
    "\n",
    "features2 = features2.loc[np.unique(features2.index)].reset_index().set_index([\"Date\", \"Ticker\"])\n"
   ]
  },
  {
   "cell_type": "code",
   "execution_count": null,
   "metadata": {},
   "outputs": [],
   "source": [
    "features2[\"Class_binary_40_20\"] = prices[\"Class_binary_40_20\"]\n",
    "\n",
    "features2[\"return_40\"] = prices[\"return_40\"]\n",
    "\n",
    "features2[\"Class_binary_20_20\"] = prices[\"Class_binary_20_20\"]\n",
    "\n",
    "features2[\"return_20\"] = prices[\"return_20\"]\n",
    "\n",
    "features2[\"Class_binary_10_20\"] = prices[\"Class_binary_10_20\"]\n",
    "\n",
    "features2[\"return_10\"] = prices[\"return_10\"]\n",
    "\n",
    "features2[\"Class_binary_5_20\"] = prices[\"Class_binary_5_20\"]\n",
    "\n",
    "features2[\"return_5\"] = prices[\"return_5\"]\n",
    "\n",
    "features2[\"Class_binary_80_20\"] = prices[\"Class_binary_80_20\"]\n",
    "\n",
    "features2[\"return_80\"] = prices[\"return_80\"]"
   ]
  },
  {
   "cell_type": "code",
   "execution_count": 46,
   "metadata": {},
   "outputs": [],
   "source": [
    "features2.to_pickle(\"training_sets/features2\")"
   ]
  },
  {
   "cell_type": "code",
   "execution_count": 47,
   "metadata": {},
   "outputs": [],
   "source": [
    "del features2"
   ]
  },
  {
   "cell_type": "code",
   "execution_count": null,
   "metadata": {},
   "outputs": [],
   "source": []
  },
  {
   "cell_type": "code",
   "execution_count": 48,
   "metadata": {},
   "outputs": [],
   "source": [
    "Date3 = np.load(\"training_sets/Date3.npy\", allow_pickle = True)"
   ]
  },
  {
   "cell_type": "code",
   "execution_count": 49,
   "metadata": {},
   "outputs": [
    {
     "name": "stdout",
     "output_type": "stream",
     "text": [
      "0\n"
     ]
    }
   ],
   "source": [
    "features3 = pd.read_pickle(\"training_sets/features3\")\n",
    "\n",
    "features3 = features3.reset_index().set_index([\"Date\"])\n",
    "\n",
    "print(np.sum(Date3 != np.unique(features3.index)))\n",
    "\n",
    "features3 = features3.loc[np.unique(features3.index)].reset_index().set_index([\"Date\", \"Ticker\"])\n",
    "\n"
   ]
  },
  {
   "cell_type": "code",
   "execution_count": null,
   "metadata": {},
   "outputs": [],
   "source": [
    "features3[\"Class_binary_40_20\"] = prices[\"Class_binary_40_20\"]\n",
    "\n",
    "features3[\"return_40\"] = prices[\"return_40\"]\n",
    "\n",
    "features3[\"Class_binary_20_20\"] = prices[\"Class_binary_20_20\"]\n",
    "\n",
    "features3[\"return_20\"] = prices[\"return_20\"]\n",
    "\n",
    "features3[\"Class_binary_10_20\"] = prices[\"Class_binary_10_20\"]\n",
    "\n",
    "features3[\"return_10\"] = prices[\"return_10\"]\n",
    "\n",
    "features3[\"Class_binary_5_20\"] = prices[\"Class_binary_5_20\"]\n",
    "\n",
    "features3[\"return_5\"] = prices[\"return_5\"]\n",
    "\n",
    "features3[\"Class_binary_80_20\"] = prices[\"Class_binary_80_20\"]\n",
    "\n",
    "features3[\"return_80\"] = prices[\"return_80\"]"
   ]
  },
  {
   "cell_type": "code",
   "execution_count": 50,
   "metadata": {},
   "outputs": [],
   "source": [
    "features3.to_pickle(\"training_sets/features3\")"
   ]
  },
  {
   "cell_type": "code",
   "execution_count": 51,
   "metadata": {},
   "outputs": [],
   "source": [
    "del features3"
   ]
  },
  {
   "cell_type": "code",
   "execution_count": null,
   "metadata": {},
   "outputs": [],
   "source": []
  },
  {
   "cell_type": "code",
   "execution_count": 52,
   "metadata": {},
   "outputs": [],
   "source": [
    "val1 = pd.read_pickle(\"validation_sets/val1\")\n",
    "val2 = pd.read_pickle(\"validation_sets/val2\")\n",
    "val3 = pd.read_pickle(\"validation_sets/val3\")"
   ]
  },
  {
   "cell_type": "code",
   "execution_count": 57,
   "metadata": {},
   "outputs": [
    {
     "data": {
      "text/plain": [
       "0"
      ]
     },
     "execution_count": 57,
     "metadata": {},
     "output_type": "execute_result"
    }
   ],
   "source": [
    "Date1 = np.load(\"validation_sets/Date1.npy\", allow_pickle = True)\n",
    "np.sum(Date1 != np.unique(val1.reset_index().set_index([\"Date\"]).index))"
   ]
  },
  {
   "cell_type": "code",
   "execution_count": 58,
   "metadata": {},
   "outputs": [
    {
     "data": {
      "text/plain": [
       "0"
      ]
     },
     "execution_count": 58,
     "metadata": {},
     "output_type": "execute_result"
    }
   ],
   "source": [
    "Date2 = np.load(\"validation_sets/Date2.npy\", allow_pickle = True)\n",
    "np.sum(Date2 != np.unique(val2.reset_index().set_index([\"Date\"]).index))"
   ]
  },
  {
   "cell_type": "code",
   "execution_count": 59,
   "metadata": {},
   "outputs": [
    {
     "data": {
      "text/plain": [
       "0"
      ]
     },
     "execution_count": 59,
     "metadata": {},
     "output_type": "execute_result"
    }
   ],
   "source": [
    "Date3 = np.load(\"validation_sets/Date3.npy\", allow_pickle = True)\n",
    "np.sum(Date3 != np.unique(val3.reset_index().set_index([\"Date\"]).index))"
   ]
  },
  {
   "cell_type": "code",
   "execution_count": 60,
   "metadata": {},
   "outputs": [],
   "source": [
    "val1[\"Class_binary_40_20\"] = prices[\"Class_binary_40_20\"]\n",
    "val1[\"return_40\"] = prices[\"return_40\"]\n",
    "\n",
    "val1[\"Class_binary_20_20\"] = prices[\"Class_binary_20_20\"]\n",
    "\n",
    "val1[\"return_20\"] = prices[\"return_20\"]\n",
    "\n",
    "val1[\"Class_binary_10_20\"] = prices[\"Class_binary_10_20\"]\n",
    "\n",
    "val1[\"return_10\"] = prices[\"return_10\"]\n",
    "\n",
    "val1[\"Class_binary_5_20\"] = prices[\"Class_binary_5_20\"]\n",
    "\n",
    "val1[\"return_5\"] = prices[\"return_5\"]\n",
    "\n",
    "val1[\"Class_binary_80_20\"] = prices[\"Class_binary_80_20\"]\n",
    "\n",
    "val1[\"return_80\"] = prices[\"return_80\"]"
   ]
  },
  {
   "cell_type": "code",
   "execution_count": null,
   "metadata": {},
   "outputs": [],
   "source": []
  },
  {
   "cell_type": "code",
   "execution_count": 61,
   "metadata": {},
   "outputs": [],
   "source": [
    "val2[\"Class_binary_40_20\"] = prices[\"Class_binary_40_20\"]\n",
    "val2[\"return_40\"] = prices[\"return_40\"]\n",
    "\n",
    "val2[\"Class_binary_20_20\"] = prices[\"Class_binary_20_20\"]\n",
    "\n",
    "val2[\"return_20\"] = prices[\"return_20\"]\n",
    "\n",
    "val2[\"Class_binary_10_20\"] = prices[\"Class_binary_10_20\"]\n",
    "\n",
    "val2[\"return_10\"] = prices[\"return_10\"]\n",
    "\n",
    "val2[\"Class_binary_5_20\"] = prices[\"Class_binary_5_20\"]\n",
    "\n",
    "val2[\"return_5\"] = prices[\"return_5\"]\n",
    "\n",
    "val2[\"Class_binary_80_20\"] = prices[\"Class_binary_80_20\"]\n",
    "\n",
    "val2[\"return_80\"] = prices[\"return_80\"]"
   ]
  },
  {
   "cell_type": "code",
   "execution_count": 62,
   "metadata": {},
   "outputs": [],
   "source": [
    "val3[\"Class_binary_40_20\"] = prices[\"Class_binary_40_20\"]\n",
    "val3[\"return_40\"] = prices[\"return_40\"]\n",
    "\n",
    "val3[\"Class_binary_20_20\"] = prices[\"Class_binary_20_20\"]\n",
    "\n",
    "val3[\"return_20\"] = prices[\"return_20\"]\n",
    "\n",
    "val3[\"Class_binary_10_20\"] = prices[\"Class_binary_10_20\"]\n",
    "\n",
    "val3[\"return_10\"] = prices[\"return_10\"]\n",
    "\n",
    "val3[\"Class_binary_5_20\"] = prices[\"Class_binary_5_20\"]\n",
    "\n",
    "val3[\"return_5\"] = prices[\"return_5\"]\n",
    "\n",
    "val3[\"Class_binary_80_20\"] = prices[\"Class_binary_80_20\"]\n",
    "\n",
    "val3[\"return_80\"] = prices[\"return_80\"]"
   ]
  },
  {
   "cell_type": "code",
   "execution_count": 63,
   "metadata": {},
   "outputs": [],
   "source": [
    "val1.to_pickle(\"validation_sets/val1\")\n",
    "val2.to_pickle(\"validation_sets/val2\")\n",
    "val3.to_pickle(\"validation_sets/val3\")"
   ]
  }
 ],
 "metadata": {
  "kernelspec": {
   "display_name": "Python 3",
   "language": "python",
   "name": "python3"
  },
  "language_info": {
   "codemirror_mode": {
    "name": "ipython",
    "version": 3
   },
   "file_extension": ".py",
   "mimetype": "text/x-python",
   "name": "python",
   "nbconvert_exporter": "python",
   "pygments_lexer": "ipython3",
   "version": "3.8.5"
  }
 },
 "nbformat": 4,
 "nbformat_minor": 4
}
