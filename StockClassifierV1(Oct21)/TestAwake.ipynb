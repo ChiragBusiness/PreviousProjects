{
 "cells": [
  {
   "cell_type": "code",
   "execution_count": 1,
   "metadata": {},
   "outputs": [],
   "source": [
    "import pyautogui\n",
    "import time"
   ]
  },
  {
   "cell_type": "code",
   "execution_count": null,
   "metadata": {},
   "outputs": [],
   "source": [
    "# FAILSAFE to FALSE feature is enabled by default \n",
    "# so that you can easily stop execution of \n",
    "# your pyautogui program by manually moving the \n",
    "# mouse to the upper left corner of the screen. \n",
    "# Once the mouse is in this location,\n",
    "# pyautogui will throw an exception and exit.\n",
    "pyautogui.FAILSAFE = False\n",
    "  \n",
    "# We want to run this code for infinite \n",
    "# time till we stop it so we use infinite loop now\n",
    "while True:\n",
    "    \n",
    "    # time.sleep(t) is used to give a break of \n",
    "    # specified time t seconds so that its not \n",
    "    # too frequent\n",
    "    time.sleep(150)\n",
    "  \n",
    "\n",
    "          \n",
    "    # This for loop is used to press keyboard keys,\n",
    "    # in this case the harmless key shift key is \n",
    "    # used. You can change it according to your \n",
    "    # requirement. This works with all keys.\n",
    "    for i in range(0, 3):\n",
    "        pyautogui.press('shift')"
   ]
  },
  {
   "cell_type": "code",
   "execution_count": null,
   "metadata": {},
   "outputs": [],
   "source": []
  }
 ],
 "metadata": {
  "kernelspec": {
   "display_name": "Python 3",
   "language": "python",
   "name": "python3"
  },
  "language_info": {
   "codemirror_mode": {
    "name": "ipython",
    "version": 3
   },
   "file_extension": ".py",
   "mimetype": "text/x-python",
   "name": "python",
   "nbconvert_exporter": "python",
   "pygments_lexer": "ipython3",
   "version": "3.8.5"
  }
 },
 "nbformat": 4,
 "nbformat_minor": 4
}
