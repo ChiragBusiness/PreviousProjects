{
 "cells": [
  {
   "cell_type": "code",
   "execution_count": 38,
   "metadata": {},
   "outputs": [],
   "source": [
    "import pandas as pd\n",
    "import numpy as np\n",
    "\n",
    "import matplotlib.pyplot as plt\n",
    "\n",
    "import xgboost\n",
    "\n",
    "from functions import make_dataset\n",
    "\n",
    "from functions import make_portfolio\n",
    "\n",
    "from sklearn.utils import shuffle\n",
    "\n",
    "import time\n",
    "\n",
    "import pickle"
   ]
  },
  {
   "cell_type": "code",
   "execution_count": null,
   "metadata": {},
   "outputs": [],
   "source": [
    "\"\"\"\n",
    "want the tickers and dates of stocks that are screened out by the rf\n",
    "500 portfilio from eval size of 20, and see the number of unique dates aswell\n",
    "\"\"\""
   ]
  },
  {
   "cell_type": "code",
   "execution_count": 39,
   "metadata": {},
   "outputs": [],
   "source": [
    "Date1 = np.load(\"training_sets/Date1.npy\", allow_pickle = True)\n",
    "Date2 = np.load(\"training_sets/Date2.npy\", allow_pickle = True)\n",
    "Date3 = np.load(\"training_sets/Date3.npy\", allow_pickle = True)"
   ]
  },
  {
   "cell_type": "code",
   "execution_count": 40,
   "metadata": {},
   "outputs": [],
   "source": [
    "Dates = np.append(Date1, np.append(Date2, Date3))"
   ]
  },
  {
   "cell_type": "code",
   "execution_count": null,
   "metadata": {},
   "outputs": [],
   "source": []
  },
  {
   "cell_type": "code",
   "execution_count": 41,
   "metadata": {},
   "outputs": [],
   "source": [
    "def make_dataset_eval_with_extra_return_40_term_from_periods(df, training_period, prediction_period, cols, pred_col, return_col):\n",
    "    \n",
    "    \n",
    "    X_train = shuffle(df.loc[training_period, np.append(cols, pred_col)])\n",
    "    X_train = X_train.replace([np.inf, -np.inf], np.NaN)\n",
    "    X_train = X_train.dropna(axis = 0)\n",
    "\n",
    "    Y_train = X_train.pop(pred_col)\n",
    "    \n",
    "    \n",
    "    \n",
    "    X_test = shuffle(df.loc[prediction_period, np.append(cols, return_col)])\n",
    "    X_test = X_test.replace([np.inf, -np.inf], np.NaN)\n",
    "    X_test = X_test.dropna(axis = 0)\n",
    "    \n",
    "    Y_return_40 = X_test.pop(return_col)\n",
    "    \n",
    "    return X_train, X_test, Y_train, Y_return_40"
   ]
  },
  {
   "cell_type": "code",
   "execution_count": 42,
   "metadata": {},
   "outputs": [],
   "source": [
    "def return_40_metric(pred, labels):\n",
    "    \n",
    "\n",
    "    return labels[np.argsort(pred)[:750]]"
   ]
  },
  {
   "cell_type": "code",
   "execution_count": 43,
   "metadata": {},
   "outputs": [],
   "source": [
    "class my_callback(xgboost.callback.TrainingCallback):\n",
    "    \n",
    "    def __init__(self, xgeval, Y_eval_return_40, results_eval):\n",
    "        self.eval_mine = xgeval\n",
    "        self.eval_return_40 = Y_eval_return_40\n",
    "        self.results_eval_mine = results_eval\n",
    "        \n",
    "        \n",
    "    def after_iteration(self, model, epoch, evals_log):\n",
    "        \n",
    "        \n",
    "        if epoch % 10 == 0 or epoch == 69:\n",
    "            \n",
    "\n",
    "            self.results_eval_mine.append(return_40_metric(model.predict(self.eval_mine), self.eval_return_40))    \n",
    "        \n",
    "\n",
    "            \n",
    "        return False"
   ]
  },
  {
   "cell_type": "code",
   "execution_count": 44,
   "metadata": {},
   "outputs": [],
   "source": [
    "params1 = {\n",
    "  'colsample_bynode': 0.6,\n",
    "    'colsample_bytree' : 0.6,\n",
    "    'colsample_bylevel' : 0.5,\n",
    "  'learning_rate': 0.3,\n",
    "  'max_depth': 3,\n",
    "  'num_parallel_tree': 100,\n",
    "  'objective': 'binary:logistic',\n",
    "  'subsample': 0.9,\n",
    "  'tree_method': 'gpu_hist',\n",
    "    \"verbosity\" : 0,\n",
    "    \"lambda\" : 1,\n",
    "    \"alpha\" : 0\n",
    "}"
   ]
  },
  {
   "cell_type": "code",
   "execution_count": 45,
   "metadata": {},
   "outputs": [],
   "source": [
    "with open(\"ColSearch2/where_highest_return_binary_cols_20\", \"rb\") as f:\n",
    "    highest_return_binary_20 = pickle.load(f)"
   ]
  },
  {
   "cell_type": "code",
   "execution_count": 9,
   "metadata": {},
   "outputs": [],
   "source": [
    "features1 = pd.read_pickle(\"training_sets/features1\")"
   ]
  },
  {
   "cell_type": "code",
   "execution_count": 10,
   "metadata": {},
   "outputs": [
    {
     "data": {
      "text/plain": [
       "'2014-04-28'"
      ]
     },
     "execution_count": 10,
     "metadata": {},
     "output_type": "execute_result"
    }
   ],
   "source": [
    "Dates[400:650]"
   ]
  },
  {
   "cell_type": "code",
   "execution_count": 21,
   "metadata": {},
   "outputs": [],
   "source": [
    "test = features1.reset_index().set_index([\"Ticker\", \"Date\"]).loc[\"A\"].loc[Dates[:650]]"
   ]
  },
  {
   "cell_type": "code",
   "execution_count": 23,
   "metadata": {},
   "outputs": [],
   "source": [
    "test.to_csv(\"test.csv\")"
   ]
  },
  {
   "cell_type": "code",
   "execution_count": 28,
   "metadata": {},
   "outputs": [
    {
     "data": {
      "text/plain": [
       "'2013-12-16'"
      ]
     },
     "execution_count": 28,
     "metadata": {},
     "output_type": "execute_result"
    }
   ],
   "source": [
    "Dates[360 + 200]"
   ]
  },
  {
   "cell_type": "code",
   "execution_count": null,
   "metadata": {},
   "outputs": [],
   "source": [
    "prediction_date - 120 - 40 + 1 "
   ]
  },
  {
   "cell_type": "code",
   "execution_count": 31,
   "metadata": {},
   "outputs": [
    {
     "data": {
      "text/plain": [
       "'2013-10-17'"
      ]
     },
     "execution_count": 31,
     "metadata": {},
     "output_type": "execute_result"
    }
   ],
   "source": [
    "Dates[519]"
   ]
  },
  {
   "cell_type": "code",
   "execution_count": 30,
   "metadata": {},
   "outputs": [
    {
     "data": {
      "text/plain": [
       "519"
      ]
     },
     "execution_count": 30,
     "metadata": {},
     "output_type": "execute_result"
    }
   ],
   "source": [
    "360 + 160 -1"
   ]
  },
  {
   "cell_type": "code",
   "execution_count": 30,
   "metadata": {},
   "outputs": [],
   "source": [
    "prediction_dates = np.linspace(650, len(Dates) - 80, 20).astype(int)"
   ]
  },
  {
   "cell_type": "code",
   "execution_count": 31,
   "metadata": {},
   "outputs": [
    {
     "data": {
      "text/plain": [
       "array([ 650,  734,  819,  903,  988, 1072, 1157, 1242, 1326, 1411, 1495,\n",
       "       1580, 1664, 1749, 1834, 1918, 2003, 2087, 2172, 2257])"
      ]
     },
     "execution_count": 31,
     "metadata": {},
     "output_type": "execute_result"
    }
   ],
   "source": [
    "prediction_dates"
   ]
  },
  {
   "cell_type": "code",
   "execution_count": 32,
   "metadata": {},
   "outputs": [
    {
     "data": {
      "text/plain": [
       "[84, 85, 84, 85, 84, 85, 85, 84, 85, 84, 85, 84, 85, 85, 84, 85, 84, 85, 85]"
      ]
     },
     "execution_count": 32,
     "metadata": {},
     "output_type": "execute_result"
    }
   ],
   "source": [
    "[prediction_dates[i+1] - prediction_dates[i] for i in range(19)]"
   ]
  },
  {
   "cell_type": "code",
   "execution_count": 32,
   "metadata": {},
   "outputs": [],
   "source": [
    "prediction_dates = (prediction_dates + 21)[:-1]"
   ]
  },
  {
   "cell_type": "code",
   "execution_count": 33,
   "metadata": {},
   "outputs": [],
   "source": [
    "prediction_dates = np.append(prediction_dates, prediction_dates + 21)"
   ]
  },
  {
   "cell_type": "code",
   "execution_count": 34,
   "metadata": {},
   "outputs": [],
   "source": [
    "prediction_dates = np.sort(prediction_dates)"
   ]
  },
  {
   "cell_type": "code",
   "execution_count": 35,
   "metadata": {},
   "outputs": [
    {
     "data": {
      "text/plain": [
       "array([ 671,  692,  755,  776,  840,  861,  924,  945, 1009, 1030, 1093,\n",
       "       1114, 1178, 1199, 1263, 1284, 1347, 1368, 1432, 1453, 1516, 1537,\n",
       "       1601, 1622, 1685, 1706, 1770, 1791, 1855, 1876, 1939, 1960, 2024,\n",
       "       2045, 2108, 2129, 2193, 2214])"
      ]
     },
     "execution_count": 35,
     "metadata": {},
     "output_type": "execute_result"
    }
   ],
   "source": [
    "prediction_dates"
   ]
  },
  {
   "cell_type": "code",
   "execution_count": 38,
   "metadata": {},
   "outputs": [
    {
     "data": {
      "text/plain": [
       "38"
      ]
     },
     "execution_count": 38,
     "metadata": {},
     "output_type": "execute_result"
    }
   ],
   "source": [
    "len(prediction_dates)"
   ]
  },
  {
   "cell_type": "code",
   "execution_count": 33,
   "metadata": {},
   "outputs": [],
   "source": [
    "prediction_dates = (prediction_dates + 63)[:-1]"
   ]
  },
  {
   "cell_type": "code",
   "execution_count": 35,
   "metadata": {},
   "outputs": [
    {
     "data": {
      "text/plain": [
       "array([ 713,  797,  882,  966, 1051, 1135, 1220, 1305, 1389, 1474, 1558,\n",
       "       1643, 1727, 1812, 1897, 1981, 2066, 2150, 2235])"
      ]
     },
     "execution_count": 35,
     "metadata": {},
     "output_type": "execute_result"
    }
   ],
   "source": [
    "prediction_dates"
   ]
  },
  {
   "cell_type": "code",
   "execution_count": 34,
   "metadata": {},
   "outputs": [
    {
     "data": {
      "text/plain": [
       "19"
      ]
     },
     "execution_count": 34,
     "metadata": {},
     "output_type": "execute_result"
    }
   ],
   "source": [
    "len(prediction_dates)"
   ]
  },
  {
   "cell_type": "code",
   "execution_count": 46,
   "metadata": {},
   "outputs": [],
   "source": [
    "prediction_dates = np.linspace(520, 630, 7).astype(int)"
   ]
  },
  {
   "cell_type": "code",
   "execution_count": 47,
   "metadata": {},
   "outputs": [
    {
     "data": {
      "text/plain": [
       "array([520, 538, 556, 575, 593, 611, 630])"
      ]
     },
     "execution_count": 47,
     "metadata": {},
     "output_type": "execute_result"
    }
   ],
   "source": [
    "prediction_dates"
   ]
  },
  {
   "cell_type": "code",
   "execution_count": 13,
   "metadata": {},
   "outputs": [],
   "source": [
    "#prediction_dates = (prediction_dates + 40)[:-1]"
   ]
  },
  {
   "cell_type": "code",
   "execution_count": 14,
   "metadata": {},
   "outputs": [],
   "source": [
    "#prediction_dates = (prediction_dates -20)"
   ]
  },
  {
   "cell_type": "code",
   "execution_count": 48,
   "metadata": {},
   "outputs": [
    {
     "name": "stdout",
     "output_type": "stream",
     "text": [
      "1\n",
      "df_create_time: 0.1727355999998963\n",
      "10 cols time: 131.05371969999987\n",
      "df_create_time: 0.1755111999998462\n",
      "10 cols time: 130.97712479999996\n",
      "df_create_time: 0.1541657000000214\n",
      "10 cols time: 131.1884473\n",
      "df_create_time: 0.17224529999998595\n",
      "10 cols time: 131.34630199999992\n",
      "df_create_time: 0.1611101000000872\n",
      "10 cols time: 132.67847949999987\n",
      "df_create_time: 0.16815870000004907\n",
      "10 cols time: 132.21981430000005\n",
      "df_create_time: 0.1725679000001037\n",
      "10 cols time: 132.52769520000015\n"
     ]
    }
   ],
   "source": [
    "count = 0\n",
    "\n",
    "results_binary = []\n",
    "\n",
    "\n",
    "start_time = time.perf_counter()\n",
    "\n",
    "#while True:\n",
    "    \n",
    "#for cols_trials in [highest_corr_binary_20, highest_corr_binary_100, lowest_corr_binary_20, lowest_corr_binary_100, not_corr_binary_20, not_corr_binary_100, highest_return_binary_20, highest_return_binary_100]:\n",
    "for cols_trials in [highest_return_binary_20]:  \n",
    "    count +=1\n",
    "    print(str(count))\n",
    "\n",
    "    if time.perf_counter() - start_time > 3600:\n",
    "        print(\"sleeping\")\n",
    "        time.sleep(600)\n",
    "        start_time = time.perf_counter()\n",
    "\n",
    "        \n",
    "        \n",
    "    unique_cols = np.array([])\n",
    "    for i in cols_trials:\n",
    "        unique_cols = np.append(unique_cols, i)\n",
    "\n",
    "    unique_cols = np.unique(unique_cols)\n",
    "    \n",
    "    unique_cols = np.append(unique_cols, [\"Class_binary_40_20\", \"return_40\"])\n",
    "    #unique_cols = np.append(unique_cols, [\"return_40\"])\n",
    "    \n",
    "    \n",
    "    results1 = []\n",
    "    \n",
    "    #results1_reg = []\n",
    "    #results1_pruned = []\n",
    "    \n",
    "    \n",
    "    for prediction_date in prediction_dates:\n",
    "        \n",
    "        \n",
    "        #results2_reg = []\n",
    "        #results2_pruned = []\n",
    "        \n",
    "        results2 = []\n",
    "        \n",
    "        start_time_df_create = time.perf_counter()\n",
    "        \n",
    "        \n",
    "        training_period = Dates[prediction_date - 120 - 40 + 1: prediction_date - 40 +1]\n",
    "\n",
    "        prediction_period = Dates[prediction_date :prediction_date + 20 + 1]\n",
    "        \n",
    "         \n",
    "        if len(np.intersect1d(np.append(training_period, prediction_period), Date1)):\n",
    "        \n",
    "            if \"features1\" not in locals():\n",
    "\n",
    "                features1 = pd.read_pickle(\"training_sets/features1\")   \n",
    "                \n",
    "                print(\"imported features1\")\n",
    "\n",
    "            Date1_intersect = np.intersect1d(np.append(training_period, prediction_period), Date1)\n",
    "\n",
    "            X_train_master = features1.loc[Date1_intersect, unique_cols]\n",
    "            \n",
    "\n",
    "        else:\n",
    "\n",
    "            if \"features1\" in locals():\n",
    "                del features1\n",
    "                \n",
    "                print(\"deleted features1\")\n",
    "\n",
    "\n",
    "        if len(np.intersect1d(np.append(training_period, prediction_period), Date2)):\n",
    "            \n",
    "            if \"features2\" not in locals():\n",
    "\n",
    "                features2 = pd.read_pickle(\"training_sets/features2\")\n",
    "                \n",
    "                print(\"imported features2\")\n",
    "                \n",
    "            Date2_intersect = np.intersect1d(np.append(training_period, prediction_period), Date2)\n",
    "                \n",
    "            if \"X_train_master\" in locals():\n",
    "                \n",
    "                X_train_master = X_train_master.append(features2.loc[Date2_intersect, unique_cols])\n",
    "                \n",
    "            else:\n",
    "                \n",
    "                X_train_master = features2.loc[Date2_intersect, unique_cols]\n",
    "                \n",
    "        else:\n",
    "\n",
    "            if \"features2\" in locals():\n",
    "                del features2\n",
    "                \n",
    "                print(\"deleted features2\")\n",
    "\n",
    "\n",
    "        if len(np.intersect1d(np.append(training_period, prediction_period), Date3)):\n",
    "\n",
    "            if \"features3\" not in locals():\n",
    "\n",
    "                features3 = pd.read_pickle(\"training_sets/features3\")\n",
    "                \n",
    "                print(\"imported features3\")\n",
    "                \n",
    "                \n",
    "            Date3_intersect = np.intersect1d(np.append(training_period, prediction_period), Date3)\n",
    "                \n",
    "            if \"X_train_master\" in locals():\n",
    "                \n",
    "                X_train_master = X_train_master.append(features3.loc[Date3_intersect, unique_cols])\n",
    "                \n",
    "            else:\n",
    "                \n",
    "                X_train_master = features3.loc[Date3_intersect, unique_cols]\n",
    "\n",
    "        else:\n",
    "\n",
    "            if \"features3\" in locals():\n",
    "                del features3\n",
    "                \n",
    "                print(\"deleted features3\")\n",
    "                \n",
    "                \n",
    "        print(\"df_create_time: \"+ str(time.perf_counter() - start_time_df_create))\n",
    "        \n",
    "        start_time_cols = time.perf_counter()\n",
    "        \n",
    "        for col_indx, cols in enumerate(cols_trials):\n",
    "\n",
    "        \n",
    "            results3 = []\n",
    "            \n",
    "\n",
    "            X_train, X_test, Y_train, Y_return_40 = make_dataset_eval_with_extra_return_40_term_from_periods(X_train_master, training_period, prediction_period, cols, \"Class_binary_40_20\", \"return_40\")\n",
    "\n",
    "            train_weights = Y_train.map({0:19, 1:1})\n",
    "\n",
    "            xgtrain = xgboost.DMatrix(X_train.values, Y_train.values, feature_names = cols, weight = train_weights)\n",
    "\n",
    "            xgtest = xgboost.DMatrix(X_test.values, feature_names = cols)\n",
    "\n",
    "            data = []\n",
    "\n",
    "            mycallback = my_callback(xgtest, Y_return_40, data)\n",
    "\n",
    "            bst = xgboost.train(params1, xgtrain, num_boost_round = 70, verbose_eval = False, callbacks = [mycallback])\n",
    "            \n",
    "            \n",
    "            results3.append(prediction_date)\n",
    "            results3.append(cols)\n",
    "            results3.append(data)\n",
    "\n",
    "            results2.append(results3)\n",
    "            \n",
    "\n",
    "            \n",
    "        #results1_reg.append(results2_reg)\n",
    "        results1.append(results2)\n",
    "        \n",
    "        print(\"10 cols time: \" + str(time.perf_counter() - start_time_cols))\n",
    "            \n",
    "            \n",
    "        del X_train_master\n",
    "        \n",
    "    #results_reg.append(results1_reg)\n",
    "    results_binary.append(results1)\n",
    "    \n",
    "    #with open(\"ColSearch3/results_regVsPruned_reg.pkl\", \"wb\") as f:\n",
    "    #    pickle.dump(results_reg, f)\n",
    "        \n",
    "    with open(\"CreatingSecondDataset/binary_highest_return_20_4\", \"wb\") as f:\n",
    "        pickle.dump(results_binary, f)\n",
    "        \n"
   ]
  },
  {
   "cell_type": "code",
   "execution_count": 8,
   "metadata": {},
   "outputs": [],
   "source": [
    "with open(\"CreatingSecondDataset/binary_highest_return_20\", \"rb\") as f:\n",
    "    results_binary_test = pickle.load(f)"
   ]
  },
  {
   "cell_type": "code",
   "execution_count": 4,
   "metadata": {},
   "outputs": [],
   "source": [
    "with open(\"CreatingSecondDataset/binary_highest_return_20_3\", \"rb\") as f:\n",
    "    results_binary = pickle.load(f)"
   ]
  },
  {
   "cell_type": "code",
   "execution_count": 9,
   "metadata": {},
   "outputs": [
    {
     "name": "stdout",
     "output_type": "stream",
     "text": [
      "5.9399999997822306e-05\n"
     ]
    }
   ],
   "source": [
    "start_time = time.perf_counter()\n",
    "results_binary[0][0][0]\n",
    "print(time.perf_counter() - start_time)"
   ]
  },
  {
   "cell_type": "code",
   "execution_count": 48,
   "metadata": {},
   "outputs": [
    {
     "data": {
      "text/plain": [
       "(1, 19, 10, 3)"
      ]
     },
     "execution_count": 48,
     "metadata": {},
     "output_type": "execute_result"
    }
   ],
   "source": [
    "np.shape(results_binary)"
   ]
  },
  {
   "cell_type": "code",
   "execution_count": 49,
   "metadata": {},
   "outputs": [],
   "source": [
    "features3 = pd.read_pickle(\"training_sets/features3\")"
   ]
  },
  {
   "cell_type": "code",
   "execution_count": 12,
   "metadata": {},
   "outputs": [],
   "source": [
    "features2 = pd.read_pickle(\"training_sets/features2\")\n",
    "features3 = features2.append(features3)"
   ]
  },
  {
   "cell_type": "code",
   "execution_count": 13,
   "metadata": {},
   "outputs": [],
   "source": [
    "del features2"
   ]
  },
  {
   "cell_type": "code",
   "execution_count": 14,
   "metadata": {},
   "outputs": [],
   "source": [
    "del results_binary_test"
   ]
  },
  {
   "cell_type": "code",
   "execution_count": 15,
   "metadata": {},
   "outputs": [],
   "source": [
    "features1 = pd.read_pickle(\"training_sets/features1\")\n",
    "features3 = features1.append(features3)\n",
    "del features1"
   ]
  },
  {
   "cell_type": "code",
   "execution_count": 18,
   "metadata": {},
   "outputs": [
    {
     "data": {
      "text/plain": [
       "8"
      ]
     },
     "execution_count": 18,
     "metadata": {},
     "output_type": "execute_result"
    }
   ],
   "source": [
    "len(results_binary[0][0][0][2])"
   ]
  },
  {
   "cell_type": "code",
   "execution_count": 43,
   "metadata": {},
   "outputs": [],
   "source": [
    "thing2 = []\n",
    "for i in range(8):\n",
    "    thing2.append(np.array([]))\n",
    "\n",
    "#for i in range(20):\n",
    "    \n",
    "for i in range(19):\n",
    "    for j in range(10):\n",
    "\n",
    "        \n",
    "        for k in range(8):\n",
    "            \n",
    "            thing2[k] = np.append(thing2[k], features3.loc[results_binary[0][i][j][2][k].index, \"return_40\"].values)\n",
    "            \n"
   ]
  },
  {
   "cell_type": "code",
   "execution_count": 28,
   "metadata": {},
   "outputs": [
    {
     "data": {
      "text/plain": [
       "200.0"
      ]
     },
     "execution_count": 28,
     "metadata": {},
     "output_type": "execute_result"
    }
   ],
   "source": [
    "len(thing2[2]) / 750"
   ]
  },
  {
   "cell_type": "code",
   "execution_count": 31,
   "metadata": {},
   "outputs": [
    {
     "data": {
      "text/plain": [
       "(11, 150000)"
      ]
     },
     "execution_count": 31,
     "metadata": {},
     "output_type": "execute_result"
    }
   ],
   "source": [
    "np.shape(thing2)"
   ]
  },
  {
   "cell_type": "code",
   "execution_count": 33,
   "metadata": {},
   "outputs": [
    {
     "data": {
      "text/plain": [
       "[10.6683,\n",
       " 10.3893,\n",
       " 10.352125,\n",
       " 10.376575,\n",
       " 10.399625,\n",
       " 10.4119,\n",
       " 10.439275,\n",
       " 10.4445,\n",
       " 10.418375,\n",
       " 10.39965,\n",
       " 10.395125]"
      ]
     },
     "execution_count": 33,
     "metadata": {},
     "output_type": "execute_result"
    }
   ],
   "source": [
    "[np.mean((np.reshape(thing2[j], (-1, 750)))[:,:portfolio_size]) for j in range(11)]"
   ]
  },
  {
   "cell_type": "code",
   "execution_count": 34,
   "metadata": {},
   "outputs": [
    {
     "data": {
      "text/plain": [
       "[<matplotlib.lines.Line2D at 0x21e33519ca0>]"
      ]
     },
     "execution_count": 34,
     "metadata": {},
     "output_type": "execute_result"
    },
    {
     "data": {
      "image/png": "[encoded data removed]",
      "text/plain": [
       "<Figure size 1440x720 with 1 Axes>"
      ]
     },
     "metadata": {
      "needs_background": "light"
     },
     "output_type": "display_data"
    }
   ],
   "source": [
    "portfolio_size = 200\n",
    "plt.figure(figsize = (20, 10))\n",
    "\n",
    "\n",
    "plt.plot([np.mean((np.reshape(thing2[j], (-1, 750)))[:,:]) for j in range(11)], \"b\")\n",
    "plt.plot([np.mean((np.reshape(thing2[j], (-1, 750)))[:,:200]) for j in range(11)], \"r\")\n",
    "plt.plot([np.mean((np.reshape(thing2[j], (-1, 750)))[:,:100]) for j in range(11)], \"g\")\n",
    "plt.plot([np.mean((np.reshape(thing2[j], (-1, 750)))[:,:20]) for j in range(11)], \"black\")"
   ]
  },
  {
   "cell_type": "code",
   "execution_count": 44,
   "metadata": {},
   "outputs": [
    {
     "data": {
      "text/plain": [
       "[<matplotlib.lines.Line2D at 0x1ee6800dc40>]"
      ]
     },
     "execution_count": 44,
     "metadata": {},
     "output_type": "execute_result"
    },
    {
     "data": {
      "image/png": "[encoded data removed]",
      "text/plain": [
       "<Figure size 1440x720 with 1 Axes>"
      ]
     },
     "metadata": {
      "needs_background": "light"
     },
     "output_type": "display_data"
    }
   ],
   "source": [
    "portfolio_size = 200\n",
    "plt.figure(figsize = (20, 10))\n",
    "\n",
    "\n",
    "plt.plot([np.mean((np.reshape(thing2[j], (-1, 750)))[:,:]) for j in range(11)], \"b\")\n",
    "plt.plot([np.mean((np.reshape(thing2[j], (-1, 750)))[:,:200]) for j in range(11)], \"r\")\n",
    "plt.plot([np.mean((np.reshape(thing2[j], (-1, 750)))[:,:100]) for j in range(11)], \"g\")\n",
    "plt.plot([np.mean((np.reshape(thing2[j], (-1, 750)))[:,:20]) for j in range(11)], \"black\")"
   ]
  },
  {
   "cell_type": "code",
   "execution_count": null,
   "metadata": {},
   "outputs": [],
   "source": [
    "portfolio_size = 200\n",
    "plt.figure(figsize = (20, 10))\n",
    "\n",
    "\n",
    "plt.plot([np.mean((np.reshape(thing2[j], (-1, 750)))[:,:]) for j in range(8)], \"b\")\n",
    "plt.plot([np.mean((np.reshape(thing2[j], (-1, 750)))[:,:200]) for j in range(8)], \"r\")\n",
    "plt.plot([np.mean((np.reshape(thing2[j], (-1, 750)))[:,:100]) for j in range(8)], \"g\")\n",
    "plt.plot([np.mean((np.reshape(thing2[j], (-1, 750)))[:,:20]) for j in range(8)], \"black\")"
   ]
  },
  {
   "cell_type": "code",
   "execution_count": null,
   "metadata": {},
   "outputs": [],
   "source": []
  },
  {
   "cell_type": "code",
   "execution_count": 43,
   "metadata": {},
   "outputs": [
    {
     "data": {
      "text/plain": [
       "[17.432666666666666,\n",
       " 17.154,\n",
       " 16.798,\n",
       " 16.580000000000002,\n",
       " 16.343333333333334,\n",
       " 16.084666666666667,\n",
       " 15.902666666666669,\n",
       " 15.699333333333335,\n",
       " 15.571333333333333,\n",
       " 15.462666666666665,\n",
       " 15.353333333333333]"
      ]
     },
     "execution_count": 43,
     "metadata": {},
     "output_type": "execute_result"
    }
   ],
   "source": [
    "[(((np.reshape(thing2[j], (-1, 750)))[:,:]) == 0).sum() / (200 * 750) * 100 for j in range(11)]"
   ]
  },
  {
   "cell_type": "code",
   "execution_count": 40,
   "metadata": {},
   "outputs": [
    {
     "data": {
      "text/plain": [
       "(200, 750)"
      ]
     },
     "execution_count": 40,
     "metadata": {},
     "output_type": "execute_result"
    }
   ],
   "source": [
    "np.shape(((np.reshape(thing2[j], (-1, 750)))[:,:]) == 0)"
   ]
  },
  {
   "cell_type": "code",
   "execution_count": null,
   "metadata": {},
   "outputs": [],
   "source": [
    "[((np.reshape(thing2[j], (-1, 750)))[:,:]) for j in range(11)]"
   ]
  },
  {
   "cell_type": "code",
   "execution_count": 16,
   "metadata": {},
   "outputs": [],
   "source": [
    "percent_0s = [(thing2[i] == 0).sum() / len(thing2[i]) * 100 for i in range(11)]"
   ]
  },
  {
   "cell_type": "code",
   "execution_count": null,
   "metadata": {},
   "outputs": [],
   "source": [
    "plt.figure(figsize = (20, 10))\n",
    "plt.plot([(((np.reshape(thing2[j], (-1, 750)))[:,:]) == 0).sum() / (200 * 750) * 100 for j in range(11)], \"b\")\n",
    "plt.plot([(((np.reshape(thing2[j], (-1, 750)))[:,:200]) == 0).sum() / (200 * 200) * 100 for j in range(11)], \"r\")\n",
    "plt.plot([(((np.reshape(thing2[j], (-1, 750)))[:,:100]) == 0).sum() / (200 * 100) * 100 for j in range(11)], \"g\")\n",
    "plt.plot([(((np.reshape(thing2[j], (-1, 750)))[:,:20]) == 0).sum() / (200 * 20) * 100 for j in range(11)], \"black\")\n"
   ]
  },
  {
   "cell_type": "code",
   "execution_count": null,
   "metadata": {},
   "outputs": [],
   "source": [
    "plt.figure(figsize = (20, 10))\n",
    "plt.plot([(((np.reshape(thing2[j], (-1, 750)))[:,:]) == 0).sum() / (200 * 750) * 100 for j in range(11)], \"b\")\n",
    "plt.plot([(((np.reshape(thing2[j], (-1, 750)))[:,:200]) == 0).sum() / (200 * 200) * 100 for j in range(11)], \"r\")\n",
    "plt.plot([(((np.reshape(thing2[j], (-1, 750)))[:,:100]) == 0).sum() / (200 * 100) * 100 for j in range(11)], \"g\")\n",
    "plt.plot([(((np.reshape(thing2[j], (-1, 750)))[:,:20]) == 0).sum() / (200 * 20) * 100 for j in range(11)], \"black\")"
   ]
  },
  {
   "cell_type": "code",
   "execution_count": 50,
   "metadata": {},
   "outputs": [],
   "source": [
    "thing3 = []\n",
    "for i in range(8):\n",
    "    thing3.append(np.array([]))\n",
    "\n",
    "for i in range(7):\n",
    "    for j in range(10):\n",
    "\n",
    "        \n",
    "        for k in range(8):\n",
    "            \n",
    "            thing3[k] = np.append(thing3[k], features3.loc[results_binary[0][i][j][2][k].index, \"return_40\"].values)"
   ]
  },
  {
   "cell_type": "code",
   "execution_count": null,
   "metadata": {},
   "outputs": [],
   "source": []
  },
  {
   "cell_type": "code",
   "execution_count": 51,
   "metadata": {},
   "outputs": [
    {
     "data": {
      "text/plain": [
       "[<matplotlib.lines.Line2D at 0x26e26d1c3d0>]"
      ]
     },
     "execution_count": 51,
     "metadata": {},
     "output_type": "execute_result"
    },
    {
     "data": {
      "image/png": "[encoded data removed]",
      "text/plain": [
       "<Figure size 1440x720 with 1 Axes>"
      ]
     },
     "metadata": {
      "needs_background": "light"
     },
     "output_type": "display_data"
    }
   ],
   "source": [
    "plt.figure(figsize = (20, 10))\n",
    "plt.plot([np.mean((np.reshape(thing3[j], (-1, 750)))[:,:]) for j in range(8)], \"b\")\n",
    "plt.plot([np.mean((np.reshape(thing3[j], (-1, 750)))[:,:200]) for j in range(8)], \"r\")\n",
    "plt.plot([np.mean((np.reshape(thing3[j], (-1, 750)))[:,:100]) for j in range(8)], \"g\")\n",
    "plt.plot([np.mean((np.reshape(thing3[j], (-1, 750)))[:,:20]) for j in range(8)], \"black\")"
   ]
  },
  {
   "cell_type": "code",
   "execution_count": 48,
   "metadata": {},
   "outputs": [
    {
     "data": {
      "text/plain": [
       "0"
      ]
     },
     "execution_count": 48,
     "metadata": {},
     "output_type": "execute_result"
    }
   ],
   "source": [
    "k"
   ]
  },
  {
   "cell_type": "code",
   "execution_count": 52,
   "metadata": {},
   "outputs": [],
   "source": [
    "thing4 = []\n",
    "for i in range(7):\n",
    "    thing4.append(np.array([]))\n",
    "\n",
    "for i in range(7):\n",
    "    for j in range(10):\n",
    "\n",
    "        \n",
    "        for k in range(8):\n",
    "            \n",
    "            thing4[i] = np.append(thing4[i], features3.loc[results_binary[0][i][j][2][k].index, \"return_40\"].values)"
   ]
  },
  {
   "cell_type": "code",
   "execution_count": 51,
   "metadata": {},
   "outputs": [
    {
     "data": {
      "text/plain": [
       "110.0"
      ]
     },
     "execution_count": 51,
     "metadata": {},
     "output_type": "execute_result"
    }
   ],
   "source": [
    "len(thing4[0]) / 750"
   ]
  },
  {
   "cell_type": "code",
   "execution_count": 54,
   "metadata": {},
   "outputs": [
    {
     "data": {
      "text/plain": [
       "[<matplotlib.lines.Line2D at 0x26e26d5fc10>]"
      ]
     },
     "execution_count": 54,
     "metadata": {},
     "output_type": "execute_result"
    },
    {
     "data": {
      "image/png": "[encoded data removed]",
      "text/plain": [
       "<Figure size 1440x720 with 1 Axes>"
      ]
     },
     "metadata": {
      "needs_background": "light"
     },
     "output_type": "display_data"
    }
   ],
   "source": [
    "plt.figure(figsize = (20, 10))\n",
    "plt.plot([np.mean((np.reshape(thing4[j], (-1, 750)))[:,:]) for j in range(7)], \"b\")\n",
    "plt.plot([np.mean((np.reshape(thing4[j], (-1, 750)))[:,:200]) for j in range(7)], \"r\")\n",
    "plt.plot([np.mean((np.reshape(thing4[j], (-1, 750)))[:,:100]) for j in range(7)], \"g\")\n",
    "plt.plot([np.mean((np.reshape(thing4[j], (-1, 750)))[:,:20]) for j in range(7)], \"black\")\n"
   ]
  },
  {
   "cell_type": "code",
   "execution_count": null,
   "metadata": {},
   "outputs": [],
   "source": [
    "plt.figure(figsize = (20, 10))\n",
    "plt.plot([np.mean((np.reshape(thing4[j], (-1, 750)))[:,:]) for j in range(38)], \"b\")\n",
    "plt.plot([np.mean((np.reshape(thing4[j], (-1, 750)))[:,:200]) for j in range(38)], \"r\")\n",
    "plt.plot([np.mean((np.reshape(thing4[j], (-1, 750)))[:,:100]) for j in range(38)], \"g\")\n",
    "plt.plot([np.mean((np.reshape(thing4[j], (-1, 750)))[:,:20]) for j in range(38)], \"black\")"
   ]
  },
  {
   "cell_type": "code",
   "execution_count": 53,
   "metadata": {},
   "outputs": [
    {
     "data": {
      "text/plain": [
       "Date        Ticker\n",
       "2016-07-01  MRTX      -6.630824\n",
       "2016-06-24  MRTX      -9.364548\n",
       "2016-06-27  MRTX      -1.621622\n",
       "2016-06-23  MRTX     -20.743034\n",
       "2016-06-22  MRTX     -17.295597\n",
       "                        ...    \n",
       "2016-06-06  TTPH     -10.491071\n",
       "2016-07-01  REED      27.450980\n",
       "2016-06-14  ZGNX       2.693603\n",
       "2016-06-07  TTPH      -6.192661\n",
       "2016-06-20  SMSI     -17.808219\n",
       "Name: return_40, Length: 750, dtype: float64"
      ]
     },
     "execution_count": 53,
     "metadata": {},
     "output_type": "execute_result"
    }
   ],
   "source": [
    "results_binary[0][10][9][2][6]"
   ]
  },
  {
   "cell_type": "code",
   "execution_count": 55,
   "metadata": {},
   "outputs": [],
   "source": [
    "df = pd.DataFrame()\n",
    "\n",
    "#for i in range(20):\n",
    "    \n",
    "for i in range(7):\n",
    "\n",
    "    for j in range(10):\n",
    "\n",
    "            \n",
    "            \n",
    "        df = df.append(features3.loc[results_binary[0][i][j][2][2][:500].index])\n",
    "        \n"
   ]
  },
  {
   "cell_type": "code",
   "execution_count": 56,
   "metadata": {},
   "outputs": [
    {
     "data": {
      "text/plain": [
       "35000"
      ]
     },
     "execution_count": 56,
     "metadata": {},
     "output_type": "execute_result"
    }
   ],
   "source": [
    "len(df)"
   ]
  },
  {
   "cell_type": "code",
   "execution_count": 57,
   "metadata": {},
   "outputs": [],
   "source": [
    "df = df.drop_duplicates(keep = \"first\")"
   ]
  },
  {
   "cell_type": "code",
   "execution_count": 58,
   "metadata": {},
   "outputs": [
    {
     "data": {
      "text/plain": [
       "13799"
      ]
     },
     "execution_count": 58,
     "metadata": {},
     "output_type": "execute_result"
    }
   ],
   "source": [
    "len(df)"
   ]
  },
  {
   "cell_type": "code",
   "execution_count": 59,
   "metadata": {},
   "outputs": [],
   "source": [
    "dates_df = df.reset_index().set_index([\"Date\"]).index"
   ]
  },
  {
   "cell_type": "code",
   "execution_count": 60,
   "metadata": {},
   "outputs": [],
   "source": [
    "dates_df = np.unique(dates_df)"
   ]
  },
  {
   "cell_type": "code",
   "execution_count": 61,
   "metadata": {},
   "outputs": [],
   "source": [
    "dates_df = np.sort(dates_df)"
   ]
  },
  {
   "cell_type": "code",
   "execution_count": 63,
   "metadata": {},
   "outputs": [
    {
     "data": {
      "text/plain": [
       "'2014-04-28'"
      ]
     },
     "execution_count": 63,
     "metadata": {},
     "output_type": "execute_result"
    }
   ],
   "source": [
    "Dates[650]"
   ]
  },
  {
   "cell_type": "code",
   "execution_count": 64,
   "metadata": {},
   "outputs": [],
   "source": [
    "df = df.reset_index().set_index([\"Date\"]).loc[dates_df].reset_index().set_index([\"Date\", \"Ticker\"])"
   ]
  },
  {
   "cell_type": "code",
   "execution_count": 65,
   "metadata": {},
   "outputs": [],
   "source": [
    "df.to_pickle(\"CreatingSecondDataset/train_df_4\")"
   ]
  },
  {
   "cell_type": "code",
   "execution_count": 66,
   "metadata": {},
   "outputs": [
    {
     "data": {
      "text/html": [
       "<div>\n",
       "<style scoped>\n",
       "    .dataframe tbody tr th:only-of-type {\n",
       "        vertical-align: middle;\n",
       "    }\n",
       "\n",
       "    .dataframe tbody tr th {\n",
       "        vertical-align: top;\n",
       "    }\n",
       "\n",
       "    .dataframe thead th {\n",
       "        text-align: right;\n",
       "    }\n",
       "</style>\n",
       "<table border=\"1\" class=\"dataframe\">\n",
       "  <thead>\n",
       "    <tr style=\"text-align: right;\">\n",
       "      <th></th>\n",
       "      <th></th>\n",
       "      <th>Close</th>\n",
       "      <th>ABAND_indicator_10</th>\n",
       "      <th>ABAND_indicator_20</th>\n",
       "      <th>ABAND_indicator_40</th>\n",
       "      <th>ABAND_signal_10</th>\n",
       "      <th>ABAND_signal_20</th>\n",
       "      <th>ABAND_signal_40</th>\n",
       "      <th>MFV_40_10_indicator_sign_change</th>\n",
       "      <th>APO_10_20</th>\n",
       "      <th>APO_10_40</th>\n",
       "      <th>...</th>\n",
       "      <th>return_40</th>\n",
       "      <th>Class_multi_40_20</th>\n",
       "      <th>Class_binary_20_20</th>\n",
       "      <th>return_20</th>\n",
       "      <th>Class_binary_10_20</th>\n",
       "      <th>return_10</th>\n",
       "      <th>Class_binary_5_20</th>\n",
       "      <th>return_5</th>\n",
       "      <th>Class_binary_80_20</th>\n",
       "      <th>return_80</th>\n",
       "    </tr>\n",
       "    <tr>\n",
       "      <th>Date</th>\n",
       "      <th>Ticker</th>\n",
       "      <th></th>\n",
       "      <th></th>\n",
       "      <th></th>\n",
       "      <th></th>\n",
       "      <th></th>\n",
       "      <th></th>\n",
       "      <th></th>\n",
       "      <th></th>\n",
       "      <th></th>\n",
       "      <th></th>\n",
       "      <th></th>\n",
       "      <th></th>\n",
       "      <th></th>\n",
       "      <th></th>\n",
       "      <th></th>\n",
       "      <th></th>\n",
       "      <th></th>\n",
       "      <th></th>\n",
       "      <th></th>\n",
       "      <th></th>\n",
       "      <th></th>\n",
       "    </tr>\n",
       "  </thead>\n",
       "  <tbody>\n",
       "    <tr>\n",
       "      <th rowspan=\"5\" valign=\"top\">2013-10-18</th>\n",
       "      <th>FB</th>\n",
       "      <td>54.22</td>\n",
       "      <td>0.484652</td>\n",
       "      <td>0.550506</td>\n",
       "      <td>1.039703</td>\n",
       "      <td>1.0</td>\n",
       "      <td>1.0</td>\n",
       "      <td>1.0</td>\n",
       "      <td>0.0</td>\n",
       "      <td>0.028345</td>\n",
       "      <td>0.095207</td>\n",
       "      <td>...</td>\n",
       "      <td>-0.756179</td>\n",
       "      <td>11.0</td>\n",
       "      <td>1.0</td>\n",
       "      <td>-9.609000</td>\n",
       "      <td>1.0</td>\n",
       "      <td>-8.244190</td>\n",
       "      <td>1.0</td>\n",
       "      <td>-4.186647</td>\n",
       "      <td>1.0</td>\n",
       "      <td>24.179270</td>\n",
       "    </tr>\n",
       "    <tr>\n",
       "      <th>CTIC</th>\n",
       "      <td>18.30</td>\n",
       "      <td>0.000211</td>\n",
       "      <td>0.137419</td>\n",
       "      <td>0.736472</td>\n",
       "      <td>0.0</td>\n",
       "      <td>0.0</td>\n",
       "      <td>1.0</td>\n",
       "      <td>0.0</td>\n",
       "      <td>0.054526</td>\n",
       "      <td>0.164538</td>\n",
       "      <td>...</td>\n",
       "      <td>-5.464481</td>\n",
       "      <td>14.0</td>\n",
       "      <td>1.0</td>\n",
       "      <td>2.185792</td>\n",
       "      <td>1.0</td>\n",
       "      <td>-10.928962</td>\n",
       "      <td>1.0</td>\n",
       "      <td>4.371585</td>\n",
       "      <td>0.0</td>\n",
       "      <td>85.792350</td>\n",
       "    </tr>\n",
       "    <tr>\n",
       "      <th>JCP</th>\n",
       "      <td>7.00</td>\n",
       "      <td>-0.395402</td>\n",
       "      <td>-0.629436</td>\n",
       "      <td>-1.514585</td>\n",
       "      <td>0.0</td>\n",
       "      <td>-1.0</td>\n",
       "      <td>-1.0</td>\n",
       "      <td>0.0</td>\n",
       "      <td>-0.115650</td>\n",
       "      <td>-0.254717</td>\n",
       "      <td>...</td>\n",
       "      <td>21.142857</td>\n",
       "      <td>1.0</td>\n",
       "      <td>0.0</td>\n",
       "      <td>29.000000</td>\n",
       "      <td>0.0</td>\n",
       "      <td>16.285714</td>\n",
       "      <td>1.0</td>\n",
       "      <td>-3.000000</td>\n",
       "      <td>1.0</td>\n",
       "      <td>-14.428571</td>\n",
       "    </tr>\n",
       "    <tr>\n",
       "      <th>RIOT</th>\n",
       "      <td>15.68</td>\n",
       "      <td>0.156463</td>\n",
       "      <td>0.033211</td>\n",
       "      <td>0.319196</td>\n",
       "      <td>0.0</td>\n",
       "      <td>0.0</td>\n",
       "      <td>0.0</td>\n",
       "      <td>0.0</td>\n",
       "      <td>0.013740</td>\n",
       "      <td>0.061664</td>\n",
       "      <td>...</td>\n",
       "      <td>-6.122449</td>\n",
       "      <td>15.0</td>\n",
       "      <td>1.0</td>\n",
       "      <td>-15.306122</td>\n",
       "      <td>1.0</td>\n",
       "      <td>-7.142857</td>\n",
       "      <td>1.0</td>\n",
       "      <td>-8.163265</td>\n",
       "      <td>1.0</td>\n",
       "      <td>25.000000</td>\n",
       "    </tr>\n",
       "    <tr>\n",
       "      <th>ALNY</th>\n",
       "      <td>59.75</td>\n",
       "      <td>0.027169</td>\n",
       "      <td>-0.129353</td>\n",
       "      <td>0.125483</td>\n",
       "      <td>0.0</td>\n",
       "      <td>0.0</td>\n",
       "      <td>0.0</td>\n",
       "      <td>0.0</td>\n",
       "      <td>0.004384</td>\n",
       "      <td>0.046746</td>\n",
       "      <td>...</td>\n",
       "      <td>1.958159</td>\n",
       "      <td>9.0</td>\n",
       "      <td>1.0</td>\n",
       "      <td>-9.707113</td>\n",
       "      <td>1.0</td>\n",
       "      <td>-4.502092</td>\n",
       "      <td>1.0</td>\n",
       "      <td>1.656904</td>\n",
       "      <td>1.0</td>\n",
       "      <td>36.502092</td>\n",
       "    </tr>\n",
       "    <tr>\n",
       "      <th>...</th>\n",
       "      <th>...</th>\n",
       "      <td>...</td>\n",
       "      <td>...</td>\n",
       "      <td>...</td>\n",
       "      <td>...</td>\n",
       "      <td>...</td>\n",
       "      <td>...</td>\n",
       "      <td>...</td>\n",
       "      <td>...</td>\n",
       "      <td>...</td>\n",
       "      <td>...</td>\n",
       "      <td>...</td>\n",
       "      <td>...</td>\n",
       "      <td>...</td>\n",
       "      <td>...</td>\n",
       "      <td>...</td>\n",
       "      <td>...</td>\n",
       "      <td>...</td>\n",
       "      <td>...</td>\n",
       "      <td>...</td>\n",
       "      <td>...</td>\n",
       "      <td>...</td>\n",
       "    </tr>\n",
       "    <tr>\n",
       "      <th rowspan=\"5\" valign=\"top\">2014-04-28</th>\n",
       "      <th>ANIK</th>\n",
       "      <td>39.69</td>\n",
       "      <td>-0.010362</td>\n",
       "      <td>-0.030540</td>\n",
       "      <td>-0.123010</td>\n",
       "      <td>0.0</td>\n",
       "      <td>0.0</td>\n",
       "      <td>0.0</td>\n",
       "      <td>0.0</td>\n",
       "      <td>-0.000141</td>\n",
       "      <td>0.010089</td>\n",
       "      <td>...</td>\n",
       "      <td>17.535903</td>\n",
       "      <td>2.0</td>\n",
       "      <td>0.0</td>\n",
       "      <td>18.165785</td>\n",
       "      <td>0.0</td>\n",
       "      <td>18.720081</td>\n",
       "      <td>0.0</td>\n",
       "      <td>19.576720</td>\n",
       "      <td>1.0</td>\n",
       "      <td>3.829680</td>\n",
       "    </tr>\n",
       "    <tr>\n",
       "      <th>ABIO</th>\n",
       "      <td>199.08</td>\n",
       "      <td>-0.099154</td>\n",
       "      <td>-0.306025</td>\n",
       "      <td>-0.498544</td>\n",
       "      <td>0.0</td>\n",
       "      <td>0.0</td>\n",
       "      <td>-1.0</td>\n",
       "      <td>0.0</td>\n",
       "      <td>-0.038071</td>\n",
       "      <td>-0.074612</td>\n",
       "      <td>...</td>\n",
       "      <td>-8.860759</td>\n",
       "      <td>18.0</td>\n",
       "      <td>1.0</td>\n",
       "      <td>-9.493671</td>\n",
       "      <td>1.0</td>\n",
       "      <td>-9.493671</td>\n",
       "      <td>1.0</td>\n",
       "      <td>-1.265823</td>\n",
       "      <td>1.0</td>\n",
       "      <td>-13.924051</td>\n",
       "    </tr>\n",
       "    <tr>\n",
       "      <th>CTIC</th>\n",
       "      <td>30.20</td>\n",
       "      <td>-0.103832</td>\n",
       "      <td>-0.244884</td>\n",
       "      <td>-0.480647</td>\n",
       "      <td>0.0</td>\n",
       "      <td>0.0</td>\n",
       "      <td>-1.0</td>\n",
       "      <td>0.0</td>\n",
       "      <td>-0.029940</td>\n",
       "      <td>-0.055078</td>\n",
       "      <td>...</td>\n",
       "      <td>-4.635762</td>\n",
       "      <td>16.0</td>\n",
       "      <td>1.0</td>\n",
       "      <td>3.973510</td>\n",
       "      <td>1.0</td>\n",
       "      <td>-4.635762</td>\n",
       "      <td>1.0</td>\n",
       "      <td>0.331126</td>\n",
       "      <td>1.0</td>\n",
       "      <td>-15.562914</td>\n",
       "    </tr>\n",
       "    <tr>\n",
       "      <th>ADXS</th>\n",
       "      <td>38.25</td>\n",
       "      <td>-0.175173</td>\n",
       "      <td>-0.456156</td>\n",
       "      <td>-1.118971</td>\n",
       "      <td>0.0</td>\n",
       "      <td>-1.0</td>\n",
       "      <td>-1.0</td>\n",
       "      <td>0.0</td>\n",
       "      <td>-0.088355</td>\n",
       "      <td>-0.214856</td>\n",
       "      <td>...</td>\n",
       "      <td>28.627451</td>\n",
       "      <td>0.0</td>\n",
       "      <td>1.0</td>\n",
       "      <td>2.352941</td>\n",
       "      <td>1.0</td>\n",
       "      <td>6.274510</td>\n",
       "      <td>0.0</td>\n",
       "      <td>20.392157</td>\n",
       "      <td>1.0</td>\n",
       "      <td>9.019608</td>\n",
       "    </tr>\n",
       "    <tr>\n",
       "      <th>JAKK</th>\n",
       "      <td>89.10</td>\n",
       "      <td>0.058093</td>\n",
       "      <td>0.435682</td>\n",
       "      <td>0.852571</td>\n",
       "      <td>0.0</td>\n",
       "      <td>1.0</td>\n",
       "      <td>1.0</td>\n",
       "      <td>0.0</td>\n",
       "      <td>0.048051</td>\n",
       "      <td>0.118402</td>\n",
       "      <td>...</td>\n",
       "      <td>-10.774411</td>\n",
       "      <td>18.0</td>\n",
       "      <td>1.0</td>\n",
       "      <td>-4.264871</td>\n",
       "      <td>1.0</td>\n",
       "      <td>-1.122334</td>\n",
       "      <td>1.0</td>\n",
       "      <td>-0.448934</td>\n",
       "      <td>1.0</td>\n",
       "      <td>-23.793490</td>\n",
       "    </tr>\n",
       "  </tbody>\n",
       "</table>\n",
       "<p>13799 rows × 301 columns</p>\n",
       "</div>"
      ],
      "text/plain": [
       "                    Close  ABAND_indicator_10  ABAND_indicator_20  \\\n",
       "Date       Ticker                                                   \n",
       "2013-10-18 FB       54.22            0.484652            0.550506   \n",
       "           CTIC     18.30            0.000211            0.137419   \n",
       "           JCP       7.00           -0.395402           -0.629436   \n",
       "           RIOT     15.68            0.156463            0.033211   \n",
       "           ALNY     59.75            0.027169           -0.129353   \n",
       "...                   ...                 ...                 ...   \n",
       "2014-04-28 ANIK     39.69           -0.010362           -0.030540   \n",
       "           ABIO    199.08           -0.099154           -0.306025   \n",
       "           CTIC     30.20           -0.103832           -0.244884   \n",
       "           ADXS     38.25           -0.175173           -0.456156   \n",
       "           JAKK     89.10            0.058093            0.435682   \n",
       "\n",
       "                   ABAND_indicator_40  ABAND_signal_10  ABAND_signal_20  \\\n",
       "Date       Ticker                                                         \n",
       "2013-10-18 FB                1.039703              1.0              1.0   \n",
       "           CTIC              0.736472              0.0              0.0   \n",
       "           JCP              -1.514585              0.0             -1.0   \n",
       "           RIOT              0.319196              0.0              0.0   \n",
       "           ALNY              0.125483              0.0              0.0   \n",
       "...                               ...              ...              ...   \n",
       "2014-04-28 ANIK             -0.123010              0.0              0.0   \n",
       "           ABIO             -0.498544              0.0              0.0   \n",
       "           CTIC             -0.480647              0.0              0.0   \n",
       "           ADXS             -1.118971              0.0             -1.0   \n",
       "           JAKK              0.852571              0.0              1.0   \n",
       "\n",
       "                   ABAND_signal_40  MFV_40_10_indicator_sign_change  \\\n",
       "Date       Ticker                                                     \n",
       "2013-10-18 FB                  1.0                              0.0   \n",
       "           CTIC                1.0                              0.0   \n",
       "           JCP                -1.0                              0.0   \n",
       "           RIOT                0.0                              0.0   \n",
       "           ALNY                0.0                              0.0   \n",
       "...                            ...                              ...   \n",
       "2014-04-28 ANIK                0.0                              0.0   \n",
       "           ABIO               -1.0                              0.0   \n",
       "           CTIC               -1.0                              0.0   \n",
       "           ADXS               -1.0                              0.0   \n",
       "           JAKK                1.0                              0.0   \n",
       "\n",
       "                   APO_10_20  APO_10_40  ...  return_40  Class_multi_40_20  \\\n",
       "Date       Ticker                        ...                                 \n",
       "2013-10-18 FB       0.028345   0.095207  ...  -0.756179               11.0   \n",
       "           CTIC     0.054526   0.164538  ...  -5.464481               14.0   \n",
       "           JCP     -0.115650  -0.254717  ...  21.142857                1.0   \n",
       "           RIOT     0.013740   0.061664  ...  -6.122449               15.0   \n",
       "           ALNY     0.004384   0.046746  ...   1.958159                9.0   \n",
       "...                      ...        ...  ...        ...                ...   \n",
       "2014-04-28 ANIK    -0.000141   0.010089  ...  17.535903                2.0   \n",
       "           ABIO    -0.038071  -0.074612  ...  -8.860759               18.0   \n",
       "           CTIC    -0.029940  -0.055078  ...  -4.635762               16.0   \n",
       "           ADXS    -0.088355  -0.214856  ...  28.627451                0.0   \n",
       "           JAKK     0.048051   0.118402  ... -10.774411               18.0   \n",
       "\n",
       "                   Class_binary_20_20  return_20  Class_binary_10_20  \\\n",
       "Date       Ticker                                                      \n",
       "2013-10-18 FB                     1.0  -9.609000                 1.0   \n",
       "           CTIC                   1.0   2.185792                 1.0   \n",
       "           JCP                    0.0  29.000000                 0.0   \n",
       "           RIOT                   1.0 -15.306122                 1.0   \n",
       "           ALNY                   1.0  -9.707113                 1.0   \n",
       "...                               ...        ...                 ...   \n",
       "2014-04-28 ANIK                   0.0  18.165785                 0.0   \n",
       "           ABIO                   1.0  -9.493671                 1.0   \n",
       "           CTIC                   1.0   3.973510                 1.0   \n",
       "           ADXS                   1.0   2.352941                 1.0   \n",
       "           JAKK                   1.0  -4.264871                 1.0   \n",
       "\n",
       "                   return_10  Class_binary_5_20   return_5  \\\n",
       "Date       Ticker                                            \n",
       "2013-10-18 FB      -8.244190                1.0  -4.186647   \n",
       "           CTIC   -10.928962                1.0   4.371585   \n",
       "           JCP     16.285714                1.0  -3.000000   \n",
       "           RIOT    -7.142857                1.0  -8.163265   \n",
       "           ALNY    -4.502092                1.0   1.656904   \n",
       "...                      ...                ...        ...   \n",
       "2014-04-28 ANIK    18.720081                0.0  19.576720   \n",
       "           ABIO    -9.493671                1.0  -1.265823   \n",
       "           CTIC    -4.635762                1.0   0.331126   \n",
       "           ADXS     6.274510                0.0  20.392157   \n",
       "           JAKK    -1.122334                1.0  -0.448934   \n",
       "\n",
       "                   Class_binary_80_20  return_80  \n",
       "Date       Ticker                                 \n",
       "2013-10-18 FB                     1.0  24.179270  \n",
       "           CTIC                   0.0  85.792350  \n",
       "           JCP                    1.0 -14.428571  \n",
       "           RIOT                   1.0  25.000000  \n",
       "           ALNY                   1.0  36.502092  \n",
       "...                               ...        ...  \n",
       "2014-04-28 ANIK                   1.0   3.829680  \n",
       "           ABIO                   1.0 -13.924051  \n",
       "           CTIC                   1.0 -15.562914  \n",
       "           ADXS                   1.0   9.019608  \n",
       "           JAKK                   1.0 -23.793490  \n",
       "\n",
       "[13799 rows x 301 columns]"
      ]
     },
     "execution_count": 66,
     "metadata": {},
     "output_type": "execute_result"
    }
   ],
   "source": [
    "df"
   ]
  },
  {
   "cell_type": "code",
   "execution_count": null,
   "metadata": {},
   "outputs": [],
   "source": [
    "\"\"\"\n",
    "goes from 5500 to 915\n",
    "unqiue tickers are 96\n",
    "\n",
    "for 500 unique tickers are 76\n",
    "\n",
    "\"\"\""
   ]
  },
  {
   "cell_type": "code",
   "execution_count": 134,
   "metadata": {},
   "outputs": [
    {
     "data": {
      "text/plain": [
       "17918"
      ]
     },
     "execution_count": 134,
     "metadata": {},
     "output_type": "execute_result"
    }
   ],
   "source": [
    "np.sum(thing[0] == 0)"
   ]
  },
  {
   "cell_type": "code",
   "execution_count": 135,
   "metadata": {},
   "outputs": [
    {
     "data": {
      "text/plain": [
       "10.78813"
      ]
     },
     "execution_count": 135,
     "metadata": {},
     "output_type": "execute_result"
    }
   ],
   "source": [
    "np.mean(thing[0])"
   ]
  },
  {
   "cell_type": "code",
   "execution_count": 63,
   "metadata": {},
   "outputs": [
    {
     "data": {
      "text/plain": [
       "Date        Ticker\n",
       "2014-05-23  OPTT      19.0\n",
       "2014-05-27  OPTT      19.0\n",
       "2014-05-16  ISR        1.0\n",
       "2014-05-01  CTIC      16.0\n",
       "2014-05-15  ISR        1.0\n",
       "                      ... \n",
       "2021-06-14  LPTH      18.0\n",
       "2021-06-23  LPTH      18.0\n",
       "2021-06-18  APVO      19.0\n",
       "2021-06-09  LPTH      19.0\n",
       "2021-06-22  SINT      16.0\n",
       "Name: Class_multi_40_20, Length: 45781, dtype: float64"
      ]
     },
     "execution_count": 63,
     "metadata": {},
     "output_type": "execute_result"
    }
   ],
   "source": [
    "df[\"Class_multi_40_20\"]"
   ]
  },
  {
   "cell_type": "code",
   "execution_count": 64,
   "metadata": {},
   "outputs": [
    {
     "data": {
      "text/plain": [
       "(array([7074., 3117., 1873., 1567., 1269., 1182., 1061.,  971.,  965.,\n",
       "         989., 1059., 1153., 1155., 1305., 1502., 1776., 2248., 3034.,\n",
       "        4443., 8038.]),\n",
       " array([ 0.  ,  0.95,  1.9 ,  2.85,  3.8 ,  4.75,  5.7 ,  6.65,  7.6 ,\n",
       "         8.55,  9.5 , 10.45, 11.4 , 12.35, 13.3 , 14.25, 15.2 , 16.15,\n",
       "        17.1 , 18.05, 19.  ]),\n",
       " <BarContainer object of 20 artists>)"
      ]
     },
     "execution_count": 64,
     "metadata": {},
     "output_type": "execute_result"
    },
    {
     "data": {
      "image/png": "[encoded data removed]",
      "text/plain": [
       "<Figure size 1440x720 with 1 Axes>"
      ]
     },
     "metadata": {
      "needs_background": "light"
     },
     "output_type": "display_data"
    }
   ],
   "source": [
    "plt.figure(figsize = (20, 10))\n",
    "plt.hist(df[\"Class_multi_40_20\"], rwidth = 0.5, bins = 20)"
   ]
  },
  {
   "cell_type": "code",
   "execution_count": 66,
   "metadata": {},
   "outputs": [
    {
     "data": {
      "text/plain": [
       "(array([14210.,  6146.,  4224.,  3180.,  2618.,  2353.,  2143.,  1997.,\n",
       "         1994.,  1933.,  1963.,  2052.,  2182.,  2500.,  2841.,  3360.,\n",
       "         4211.,  5551.,  8039., 14902.]),\n",
       " array([ 0.  ,  0.95,  1.9 ,  2.85,  3.8 ,  4.75,  5.7 ,  6.65,  7.6 ,\n",
       "         8.55,  9.5 , 10.45, 11.4 , 12.35, 13.3 , 14.25, 15.2 , 16.15,\n",
       "        17.1 , 18.05, 19.  ]),\n",
       " <BarContainer object of 20 artists>)"
      ]
     },
     "execution_count": 66,
     "metadata": {},
     "output_type": "execute_result"
    },
    {
     "data": {
      "image/png": "[encoded data removed]",
      "text/plain": [
       "<Figure size 1440x720 with 1 Axes>"
      ]
     },
     "metadata": {
      "needs_background": "light"
     },
     "output_type": "display_data"
    }
   ],
   "source": [
    "plt.figure(figsize = (20, 10))\n",
    "plt.hist(df[\"Class_multi_40_20\"], rwidth = 0.5, bins = 20)"
   ]
  },
  {
   "cell_type": "code",
   "execution_count": null,
   "metadata": {},
   "outputs": [],
   "source": []
  }
 ],
 "metadata": {
  "kernelspec": {
   "display_name": "Python 3 (ipykernel)",
   "language": "python",
   "name": "python3"
  },
  "language_info": {
   "codemirror_mode": {
    "name": "ipython",
    "version": 3
   },
   "file_extension": ".py",
   "mimetype": "text/x-python",
   "name": "python",
   "nbconvert_exporter": "python",
   "pygments_lexer": "ipython3",
   "version": "3.8.12"
  }
 },
 "nbformat": 4,
 "nbformat_minor": 4
}
