{
 "cells": [
  {
   "cell_type": "code",
   "execution_count": 341,
   "metadata": {},
   "outputs": [],
   "source": [
    "import Functions as fn"
   ]
  },
  {
   "cell_type": "code",
   "execution_count": 2,
   "metadata": {},
   "outputs": [],
   "source": [
    "import importlib"
   ]
  },
  {
   "cell_type": "code",
   "execution_count": 1,
   "metadata": {},
   "outputs": [],
   "source": [
    "import pandas as pd\n",
    "import numpy as np"
   ]
  },
  {
   "cell_type": "code",
   "execution_count": 2,
   "metadata": {},
   "outputs": [],
   "source": [
    "import time"
   ]
  },
  {
   "cell_type": "code",
   "execution_count": 3,
   "metadata": {},
   "outputs": [
    {
     "data": {
      "text/plain": [
       "<module 'functionsv1' from 'C:\\\\Users\\\\Chirag\\\\Machine learning\\\\Version1(oct2021)\\\\functionsv1.py'>"
      ]
     },
     "execution_count": 3,
     "metadata": {},
     "output_type": "execute_result"
    }
   ],
   "source": [
    "try:\n",
    "    importlib.reload(fn)\n",
    "except:\n",
    "    import function as fn"
   ]
  },
  {
   "cell_type": "code",
   "execution_count": null,
   "metadata": {},
   "outputs": [],
   "source": []
  },
  {
   "cell_type": "code",
   "execution_count": 124,
   "metadata": {},
   "outputs": [],
   "source": [
    "prices = pd.read_csv(\"simfin_data/us-shareprices-daily.csv\", sep = \";\")\n",
    "prices = prices.set_index([\"Ticker\"])"
   ]
  },
  {
   "cell_type": "code",
   "execution_count": 66,
   "metadata": {},
   "outputs": [],
   "source": [
    "income = pd.read_csv(\"simfin_data/us-income-quarterly-full-asreported.csv\", sep = \";\")\n",
    "income = income.set_index([\"Ticker\"])"
   ]
  },
  {
   "cell_type": "code",
   "execution_count": 67,
   "metadata": {},
   "outputs": [],
   "source": [
    "balance = pd.read_csv(\"simfin_data/us-balance-quarterly-full-asreported.csv\", sep = \";\")\n",
    "balance = balance.set_index([\"Ticker\"])"
   ]
  },
  {
   "cell_type": "code",
   "execution_count": 70,
   "metadata": {},
   "outputs": [],
   "source": [
    "cashflow = pd.read_csv(\"simfin_data/us-cashflow-quarterly-full-asreported.csv\", sep = \";\")\n",
    "cashflow = cashflow.set_index([\"Ticker\"])"
   ]
  },
  {
   "cell_type": "code",
   "execution_count": 68,
   "metadata": {},
   "outputs": [],
   "source": [
    "derived_figures = pd.read_csv(\"simfin_data/us-derived-quarterly-asreported.csv\", sep = \";\")\n",
    "derived_figures = derived_figures.set_index([\"Ticker\"])"
   ]
  },
  {
   "cell_type": "code",
   "execution_count": 69,
   "metadata": {},
   "outputs": [],
   "source": [
    "derived_shareprices = pd.read_csv(\"simfin_data/us-derived-shareprices-daily-asreported.csv\", sep = \";\")\n",
    "derived_shareprices = derived_shareprices.set_index([\"Ticker\"])"
   ]
  },
  {
   "cell_type": "code",
   "execution_count": null,
   "metadata": {},
   "outputs": [],
   "source": []
  },
  {
   "cell_type": "code",
   "execution_count": 71,
   "metadata": {},
   "outputs": [
    {
     "data": {
      "text/plain": [
       "(79417, 79417, 79417, 79417)"
      ]
     },
     "execution_count": 71,
     "metadata": {},
     "output_type": "execute_result"
    }
   ],
   "source": [
    "len(income), len(balance), len(derived_figures), len(cashflow)"
   ]
  },
  {
   "cell_type": "code",
   "execution_count": 109,
   "metadata": {},
   "outputs": [
    {
     "data": {
      "text/plain": [
       "(7693639, 7693639)"
      ]
     },
     "execution_count": 109,
     "metadata": {},
     "output_type": "execute_result"
    }
   ],
   "source": [
    "len(prices), len(derived_shareprices)"
   ]
  },
  {
   "cell_type": "code",
   "execution_count": 125,
   "metadata": {},
   "outputs": [],
   "source": [
    "Tickers_income = np.unique(income.index)\n",
    "Tickers_balance = np.unique(balance.index)\n",
    "Tickers_cashflow = np.unique(cashflow.index)\n",
    "Tickers_derived_figures = np.unique(derived_figures.index)\n",
    "Tickers_prices = np.unique(prices.index)\n",
    "Tickers_derived_shareprices = np.unique(derived_shareprices.index)"
   ]
  },
  {
   "cell_type": "code",
   "execution_count": 74,
   "metadata": {},
   "outputs": [
    {
     "data": {
      "text/plain": [
       "(2367, 2367, 2367, 2367)"
      ]
     },
     "execution_count": 74,
     "metadata": {},
     "output_type": "execute_result"
    }
   ],
   "source": [
    "len(Tickers_income), len(Tickers_balance), len(Tickers_cashflow), len(Tickers_derived_figures)"
   ]
  },
  {
   "cell_type": "code",
   "execution_count": 126,
   "metadata": {},
   "outputs": [
    {
     "data": {
      "text/plain": [
       "(2711, 2711)"
      ]
     },
     "execution_count": 126,
     "metadata": {},
     "output_type": "execute_result"
    }
   ],
   "source": [
    "len(Tickers_prices), len(Tickers_derived_shareprices)"
   ]
  },
  {
   "cell_type": "code",
   "execution_count": 181,
   "metadata": {},
   "outputs": [],
   "source": [
    "Tickers_intersect = np.intersect1d(Tickers_prices, Tickers_income)"
   ]
  },
  {
   "cell_type": "code",
   "execution_count": 182,
   "metadata": {},
   "outputs": [
    {
     "data": {
      "text/plain": [
       "2317"
      ]
     },
     "execution_count": 182,
     "metadata": {},
     "output_type": "execute_result"
    }
   ],
   "source": [
    "len(Tickers_intersect)"
   ]
  },
  {
   "cell_type": "code",
   "execution_count": 183,
   "metadata": {},
   "outputs": [
    {
     "data": {
      "text/plain": [
       "True"
      ]
     },
     "execution_count": 183,
     "metadata": {},
     "output_type": "execute_result"
    }
   ],
   "source": [
    "\"A\" in Tickers_intersect"
   ]
  },
  {
   "cell_type": "code",
   "execution_count": 184,
   "metadata": {},
   "outputs": [
    {
     "name": "stdout",
     "output_type": "stream",
     "text": [
      "2600\n",
      "2011-05-20\n",
      "2021-09-17\n"
     ]
    }
   ],
   "source": [
    "\"\"\"\n",
    "get the list of dates by Dates columns for a well known stock\n",
    "\"\"\"\n",
    "Dates = prices.loc[\"A\"][\"Date\"].values\n",
    "print(len(Dates))\n",
    "print(Dates[0])\n",
    "print(Dates[-1])\n"
   ]
  },
  {
   "cell_type": "code",
   "execution_count": 185,
   "metadata": {},
   "outputs": [],
   "source": [
    "\"\"\"\n",
    "we want last 10 years of data for modelling, it cant hurt, and I want to see if the models hold up in a completley different environment\n",
    "\"\"\"\n",
    "Date = Dates[-2600:]"
   ]
  },
  {
   "cell_type": "code",
   "execution_count": 186,
   "metadata": {},
   "outputs": [
    {
     "data": {
      "text/plain": [
       "('2011-05-20', '2021-09-17')"
      ]
     },
     "execution_count": 186,
     "metadata": {},
     "output_type": "execute_result"
    }
   ],
   "source": [
    "first_date = Date[0]\n",
    "last_date = Date[-1]\n",
    "first_date, last_date"
   ]
  },
  {
   "cell_type": "code",
   "execution_count": 129,
   "metadata": {},
   "outputs": [],
   "source": [
    "prices = prices.reset_index().set_index([\"Date\"]).loc[Date]"
   ]
  },
  {
   "cell_type": "code",
   "execution_count": 130,
   "metadata": {},
   "outputs": [],
   "source": [
    "prices  = prices.reset_index().set_index(['Ticker']).loc[Tickers_intersect]"
   ]
  },
  {
   "cell_type": "code",
   "execution_count": 187,
   "metadata": {},
   "outputs": [
    {
     "name": "stdout",
     "output_type": "stream",
     "text": [
      "ACET_delis\n",
      "ADPT_delis\n",
      "AGN_old\n",
      "ARMK_old\n",
      "AVGO_old\n",
      "ENDP_old\n",
      "ESI_delist\n",
      "ES_old\n",
      "FOX_old\n",
      "FTI_old\n",
      "GGP_old\n",
      "LDOS_old\n",
      "LSI_old\n",
      "MYL_old\n",
      "WFT_old\n",
      "WMGI_delis\n",
      "16\n"
     ]
    }
   ],
   "source": [
    "\"\"\"\n",
    "removing tickers that have an underscore in the name, a naming convention by the data provider to identify stocks that are no monger trading or something\n",
    "\"\"\"\n",
    "Tickers_test = []\n",
    "for i in Tickers_intersect:\n",
    "    if len(i.split(\"_\")) ==1:\n",
    "        Tickers_test.append(i)\n",
    "    else:\n",
    "        print(i)\n",
    "        \n",
    "print(len(Tickers_intersect) - len(Tickers_test) )\n",
    "Tickers_intersect = Tickers_test"
   ]
  },
  {
   "cell_type": "code",
   "execution_count": 190,
   "metadata": {},
   "outputs": [],
   "source": [
    "del start_end_index"
   ]
  },
  {
   "cell_type": "code",
   "execution_count": 193,
   "metadata": {},
   "outputs": [
    {
     "name": "stdout",
     "output_type": "stream",
     "text": [
      "1.513340711593628\n"
     ]
    }
   ],
   "source": [
    "Tickers_continuity = []\n",
    "Tickers_bad = []\n",
    "Tickers_error = []\n",
    "start_end_list = []\n",
    "start_time = time.time()\n",
    "for i in Tickers_intersect:\n",
    "    try:\n",
    "        if np.sum(prices.loc[i][\"Close\"].isna()) > 0:\n",
    "            Tickers_bad.append(i)\n",
    "            \n",
    "        else:\n",
    "            start = prices.loc[i].iloc[0][\"Date\"]\n",
    "            end = prices.loc[i].iloc[-1][\"Date\"]\n",
    "            length_acc = int(len(prices.loc[i][\"Close\"]))\n",
    "            start_indx = np.where(Date == start)[0][0]\n",
    "            end_indx = np.where(Date == end)[0][0]\n",
    "            length_proper = int(end_indx - start_indx + 1)\n",
    "            if length_acc == length_proper:\n",
    "                Tickers_continuity.append(i)\n",
    "                start_end_list.append(start)\n",
    "                start_end_list.append(end)\n",
    "            else:\n",
    "                Tickers_bad.append(i)\n",
    "    except:\n",
    "        Tickers_error.append(i)\n",
    "        \n",
    "\n",
    "        \n",
    "print(time.time() - start_time)"
   ]
  },
  {
   "cell_type": "code",
   "execution_count": null,
   "metadata": {},
   "outputs": [],
   "source": []
  },
  {
   "cell_type": "code",
   "execution_count": 194,
   "metadata": {},
   "outputs": [
    {
     "data": {
      "text/plain": [
       "2156"
      ]
     },
     "execution_count": 194,
     "metadata": {},
     "output_type": "execute_result"
    }
   ],
   "source": [
    "\n",
    "\"\"\"\n",
    "so there were over 100 stocks that didnt have any nan data but were missing data points entirely\n",
    "the only stock that had an error was \"WIN\", because it only has one data point lmao\n",
    "\n",
    "\"\"\"\n",
    "len(Tickers_continuity)"
   ]
  },
  {
   "cell_type": "code",
   "execution_count": 195,
   "metadata": {},
   "outputs": [],
   "source": [
    "Tickers_intersect = Tickers_continuity"
   ]
  },
  {
   "cell_type": "code",
   "execution_count": 196,
   "metadata": {},
   "outputs": [],
   "source": [
    "start_end_list= np.reshape(start_end_list, (-1, 2))"
   ]
  },
  {
   "cell_type": "code",
   "execution_count": null,
   "metadata": {},
   "outputs": [],
   "source": [
    "\"\"\"\n",
    "just need to make sure that the income and balance and other sheets are consistent in that there are no missing data points between the stock start date and end date for close prices\n",
    "\n",
    "\n",
    "\"\"\""
   ]
  },
  {
   "cell_type": "code",
   "execution_count": 199,
   "metadata": {},
   "outputs": [],
   "source": [
    "income = income.loc[Tickers_intersect]\n",
    "balance = balance.loc[Tickers_intersect]\n",
    "cashflow = cashflow.loc[Tickers_intersect]\n",
    "derived_figures = derived_figures.loc[Tickers_intersect]\n"
   ]
  },
  {
   "cell_type": "code",
   "execution_count": 344,
   "metadata": {},
   "outputs": [],
   "source": [
    "def check(x):\n",
    "    \n",
    "    for i in range(len(x)):\n",
    "        \n",
    "        \n",
    "        if i == len(x)-1:\n",
    "            return 1\n",
    "        elif x[i] == \"Q1\" and x[i+1] != \"Q2\":\n",
    "            return 0\n",
    "        elif x[i] == \"Q2\" and x[i+1] != \"Q3\":\n",
    "            return 0\n",
    "        elif x[i] == \"Q3\" and x[i+1] != \"Q4\":\n",
    "            return 0\n",
    "        elif x[i] == \"Q4\" and x[i+1] !=\"Q1\":\n",
    "            return 0\n",
    "        else:\n",
    "            continue"
   ]
  },
  {
   "cell_type": "code",
   "execution_count": 346,
   "metadata": {},
   "outputs": [],
   "source": [
    "Tickers_good = []\n",
    "Tickers_bad = []\n",
    "Tickers_error = []\n",
    "for i in Tickers_intersect:\n",
    "    \n",
    "    try:\n",
    "        if len(income.loc[i]) >= 5:\n",
    "            if check(income.loc[i, \"Fiscal Period\"].values):\n",
    "                Tickers_good.append(i)\n",
    "            else:\n",
    "                Tickers_bad.append(i)\n",
    "        else:\n",
    "            Tickers_bad.append(i)\n",
    "        \n",
    "        \n",
    "    except:\n",
    "        Tickers_error.append(i)"
   ]
  },
  {
   "cell_type": "code",
   "execution_count": 350,
   "metadata": {},
   "outputs": [
    {
     "data": {
      "text/plain": [
       "2077"
      ]
     },
     "execution_count": 350,
     "metadata": {},
     "output_type": "execute_result"
    }
   ],
   "source": [
    "len(Tickers_good)"
   ]
  },
  {
   "cell_type": "code",
   "execution_count": null,
   "metadata": {},
   "outputs": [],
   "source": [
    "\"\"\"\n",
    "21 stocks had errors because they only had one entry\n",
    "58 stocks did not fit the criteria\n",
    "96% of stocks met the criteria\n",
    "\"\"\""
   ]
  },
  {
   "cell_type": "code",
   "execution_count": 352,
   "metadata": {},
   "outputs": [],
   "source": [
    "Tickers_intersect = Tickers_good"
   ]
  },
  {
   "cell_type": "code",
   "execution_count": 358,
   "metadata": {},
   "outputs": [],
   "source": [
    "prices = prices.loc[Tickers_intersect]"
   ]
  },
  {
   "cell_type": "code",
   "execution_count": 23,
   "metadata": {},
   "outputs": [],
   "source": [
    "Tickers_good = []\n",
    "Tickers_bad = []\n",
    "for i in Tickers_intersect:\n",
    "    if len(prices.loc[i]) <100:\n",
    "        Tickers_bad.append(i)\n",
    "    else:\n",
    "        Tickers_good.append(i)\n",
    "        \n",
    "Tickers_intersect = Tickers_good\n",
    "\n",
    "\"\"\"\n",
    "there were only like 10 stocks that had less than 100 data points\n",
    "\"\"\""
   ]
  },
  {
   "cell_type": "code",
   "execution_count": 361,
   "metadata": {},
   "outputs": [],
   "source": [
    "derived_shareprices = derived_shareprices.reset_index().set_index([\"Date\"]).loc[Date]\n",
    "derived_shareprices  = derived_shareprices.reset_index().set_index(['Ticker']).loc[Tickers_intersect]"
   ]
  },
  {
   "cell_type": "code",
   "execution_count": 354,
   "metadata": {},
   "outputs": [],
   "source": [
    "income = income.loc[Tickers_intersect]\n",
    "balance = balance.loc[Tickers_intersect]\n",
    "cashflow = cashflow.loc[Tickers_intersect]\n",
    "derived_figures = derived_figures.loc[Tickers_intersect]"
   ]
  },
  {
   "cell_type": "code",
   "execution_count": null,
   "metadata": {},
   "outputs": [],
   "source": []
  },
  {
   "cell_type": "code",
   "execution_count": null,
   "metadata": {},
   "outputs": [],
   "source": [
    "balance[\"Working Capital\"] = balance[\"Total Current Assets\"] - balance[\"Total Current Liabilities\"]"
   ]
  },
  {
   "cell_type": "code",
   "execution_count": null,
   "metadata": {},
   "outputs": [],
   "source": []
  },
  {
   "cell_type": "code",
   "execution_count": 46,
   "metadata": {},
   "outputs": [],
   "source": [
    "income.to_pickle(\"parsed_data/income\")\n",
    "balance.to_pickle(\"parsed_data/balance\")\n",
    "cashflow.to_pickle(\"parsed_data/cashflow\")\n",
    "derived_figures.to_pickle(\"parsed_data/derived_figures\")"
   ]
  },
  {
   "cell_type": "code",
   "execution_count": 48,
   "metadata": {},
   "outputs": [],
   "source": [
    "prices.to_pickle(\"parsed_data/prices\")\n",
    "derived_shareprices.to_pickle(\"parsed_data/derived_shareprices\")"
   ]
  },
  {
   "cell_type": "code",
   "execution_count": 393,
   "metadata": {},
   "outputs": [
    {
     "data": {
      "text/plain": [
       "17.642726304240412"
      ]
     },
     "execution_count": 393,
     "metadata": {},
     "output_type": "execute_result"
    }
   ],
   "source": [
    "\"\"\"pickle speed to read data is 17% of csv\"\"\""
   ]
  }
 ],
 "metadata": {
  "kernelspec": {
   "display_name": "Python 3",
   "language": "python",
   "name": "python3"
  },
  "language_info": {
   "codemirror_mode": {
    "name": "ipython",
    "version": 3
   },
   "file_extension": ".py",
   "mimetype": "text/x-python",
   "name": "python",
   "nbconvert_exporter": "python",
   "pygments_lexer": "ipython3",
   "version": "3.8.5"
  }
 },
 "nbformat": 4,
 "nbformat_minor": 4
}
