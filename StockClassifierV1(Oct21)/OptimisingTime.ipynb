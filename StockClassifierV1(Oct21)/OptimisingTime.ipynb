{
 "cells": [
  {
   "cell_type": "code",
   "execution_count": 1,
   "metadata": {},
   "outputs": [],
   "source": [
    "import pandas as pd\n",
    "import numpy as np\n",
    "\n",
    "import matplotlib.pyplot as plt\n",
    "\n",
    "import xgboost\n",
    "\n",
    "from functions import make_dataset\n",
    "\n",
    "from functions import make_portfolio\n",
    "\n",
    "from sklearn.utils import shuffle\n",
    "\n",
    "import time\n",
    "\n",
    "import pickle"
   ]
  },
  {
   "cell_type": "code",
   "execution_count": 2,
   "metadata": {},
   "outputs": [],
   "source": [
    "features2 = pd.read_pickle(\"training_sets/features2\")\n",
    "Date2 = np.load(\"training_sets/Date2.npy\", allow_pickle = True)\n"
   ]
  },
  {
   "cell_type": "code",
   "execution_count": 3,
   "metadata": {},
   "outputs": [],
   "source": [
    "cols = np.random.choice(features2.columns[:-3], 15)"
   ]
  },
  {
   "cell_type": "code",
   "execution_count": 4,
   "metadata": {},
   "outputs": [
    {
     "data": {
      "text/plain": [
       "array(['ABAND_indicator_20',\n",
       "       'Total Current Liabilities/Total Liabilities_YC',\n",
       "       'Net Income/Enterprise Value', 'AROON_80', 'close_10/Close_320',\n",
       "       'Share Capital & Additional Paid-In Capital_YC',\n",
       "       'Enterprise Value/Share Capital & Additional Paid-In Capital',\n",
       "       'Net Income_QC', 'Cash & Cash Equivalents', 'close_160/Close_240',\n",
       "       'Net Income', 'Book to Market Value', 'Return on Equity',\n",
       "       'Total Assets_QC', 'volstd_80'], dtype=object)"
      ]
     },
     "execution_count": 4,
     "metadata": {},
     "output_type": "execute_result"
    }
   ],
   "source": [
    "cols"
   ]
  },
  {
   "cell_type": "code",
   "execution_count": 5,
   "metadata": {},
   "outputs": [],
   "source": [
    "def make_dataset_eval_with_extra_return_40_term_from_periods(df, training_period, prediction_period, cols, pred_col):\n",
    "    \n",
    "    \n",
    "    X_train = shuffle(df.loc[training_period, np.append(cols, pred_col)])\n",
    "    X_train = X_train.replace([np.inf, -np.inf], np.NaN)\n",
    "    X_train = X_train.dropna(axis = 0)\n",
    "\n",
    "    Y_train = X_train.pop(pred_col)\n",
    "\n",
    "    \n",
    "    X_test = shuffle(df.loc[prediction_period, np.append(np.append(cols, pred_col), \"return_40\")])\n",
    "    X_test = X_test.replace([np.inf, -np.inf], np.NaN)\n",
    "    X_test = X_test.dropna(axis = 0)\n",
    "    \n",
    "    Y_test = X_test.pop(pred_col)\n",
    "    Y_return_40 = X_test.pop(\"return_40\")\n",
    "    \n",
    "    return X_train, X_test, Y_train, Y_test, Y_return_40"
   ]
  },
  {
   "cell_type": "code",
   "execution_count": 55,
   "metadata": {},
   "outputs": [],
   "source": [
    "def return_40_metric(pred, labels):\n",
    "\n",
    "\n",
    "    return np.mean(labels[np.argsort(pred[:,0])[::-1][:500]]), np.sort(pred[:,0])[::-1][499], np.mean(labels[np.argsort(pred[:,0])[::-1][:100]]), np.sort(pred[:,0])[::-1][99], np.mean(labels[np.argsort(pred[:,0])[::-1][:20]]), np.sort(pred[:,0])[::-1][19]"
   ]
  },
  {
   "cell_type": "code",
   "execution_count": 34,
   "metadata": {},
   "outputs": [
    {
     "data": {
      "text/plain": [
       "array([15749, 16052,  7520, ..., 10375, 15711, 31798], dtype=int64)"
      ]
     },
     "execution_count": 34,
     "metadata": {},
     "output_type": "execute_result"
    }
   ],
   "source": [
    "np.argsort(predt)"
   ]
  },
  {
   "cell_type": "code",
   "execution_count": 54,
   "metadata": {},
   "outputs": [],
   "source": [
    "def return_40_metric2(pred, labels):\n",
    "\n",
    "\n",
    "    return np.mean(labels[np.argsort(pred)[:500]]), (1-np.sort(pred)[499]), np.mean(labels[np.argsort(pred)[:100]]), (1-np.sort(pred)[99]), np.mean(labels[np.argsort(pred)[:20]]), (1-np.sort(pred)[19])"
   ]
  },
  {
   "cell_type": "code",
   "execution_count": 62,
   "metadata": {},
   "outputs": [],
   "source": [
    "class my_callback(xgboost.callback.TrainingCallback):\n",
    "    \n",
    "    def __init__(self, xgeval, Y_eval_return_40, results_eval):\n",
    "        self.eval_mine = xgeval\n",
    "        self.eval_return_40 = Y_eval_return_40\n",
    "        self.results_eval_mine = results_eval\n",
    "        \n",
    "        \n",
    "    def after_iteration(self, model, epoch, evals_log):\n",
    "            \n",
    "            \n",
    "       # if not epoch %10:\n",
    "\n",
    "          #  print(epoch)\n",
    "\n",
    "        predictions_eval = model.predict(self.eval_mine)\n",
    "\n",
    "        self.results_eval_mine.append(return_40_metric(model.predict(self.eval_mine), self.eval_return_40))    \n",
    "        \n",
    "                 \n",
    "            \n",
    "        return False"
   ]
  },
  {
   "cell_type": "code",
   "execution_count": 63,
   "metadata": {},
   "outputs": [],
   "source": [
    "class my_callback2(xgboost.callback.TrainingCallback):\n",
    "    \n",
    "    def __init__(self, xgeval, Y_eval_return_40, results_eval):\n",
    "        self.eval_mine = xgeval\n",
    "        self.eval_return_40 = Y_eval_return_40\n",
    "        self.results_eval_mine = results_eval\n",
    "        \n",
    "        \n",
    "    def after_iteration(self, model, epoch, evals_log):\n",
    "            \n",
    "            \n",
    "        #if not epoch %10:\n",
    "\n",
    "          #  print(epoch)\n",
    "\n",
    "        predictions_eval = model.predict(self.eval_mine)\n",
    "\n",
    "        self.results_eval_mine.append(return_40_metric2(model.predict(self.eval_mine), self.eval_return_40))    \n",
    "        \n",
    "                 \n",
    "            \n",
    "        return False"
   ]
  },
  {
   "cell_type": "code",
   "execution_count": 58,
   "metadata": {},
   "outputs": [],
   "source": [
    "params1 = {\n",
    "  'colsample_bynode': 0.6,\n",
    "    'colsample_bytree' : 0.6,\n",
    "    'colsample_bylevel' : 0.5,\n",
    "  'learning_rate': 0.3,\n",
    "  'max_depth': 3,\n",
    "  'num_parallel_tree': 100,\n",
    "  'objective': 'multi:softprob',\n",
    "  'subsample': 0.9,\n",
    "'num_class' : 2,\n",
    "  'tree_method': 'gpu_hist',\n",
    "    \"verbosity\" : 0,\n",
    "    \"lambda\" : 1,\n",
    "    \"alpha\" : 0\n",
    "}"
   ]
  },
  {
   "cell_type": "code",
   "execution_count": 59,
   "metadata": {},
   "outputs": [],
   "source": [
    "params2 = {\n",
    "  'colsample_bynode': 0.6,\n",
    "    'colsample_bytree' : 0.6,\n",
    "    'colsample_bylevel' : 0.5,\n",
    "  'learning_rate': 0.3,\n",
    "  'max_depth': 3,\n",
    "  'num_parallel_tree': 100,\n",
    "  'objective': 'binary:logistic',\n",
    "  'subsample': 0.9,\n",
    "  'tree_method': 'gpu_hist',\n",
    "    \"verbosity\" : 0,\n",
    "    \"lambda\" : 1,\n",
    "    \"alpha\" : 0\n",
    "}"
   ]
  },
  {
   "cell_type": "code",
   "execution_count": 9,
   "metadata": {},
   "outputs": [],
   "source": [
    "prediction_date_number = 500"
   ]
  },
  {
   "cell_type": "code",
   "execution_count": 11,
   "metadata": {},
   "outputs": [],
   "source": [
    "training_period = Date2[prediction_date_number - 200 - 40 + 1: prediction_date_number - 40 +1]\n",
    "\n",
    "prediction_period = Date2[prediction_date_number :prediction_date_number + 20 + 1]"
   ]
  },
  {
   "cell_type": "code",
   "execution_count": 12,
   "metadata": {},
   "outputs": [],
   "source": [
    "X_train, X_test, Y_train, Y_test, Y_return_40 = make_dataset_eval_with_extra_return_40_term_from_periods(features2, training_period, prediction_period, cols, \"Class_binary_40_20\")"
   ]
  },
  {
   "cell_type": "code",
   "execution_count": 28,
   "metadata": {},
   "outputs": [],
   "source": [
    "train_weights = Y_train.map({0:19, 1:1})\n",
    "xgtrain = xgboost.DMatrix(X_train.values, Y_train, feature_names = cols)\n",
    "xgtest = xgboost.DMatrix(X_test.values, Y_test.values, feature_names = cols)"
   ]
  },
  {
   "cell_type": "code",
   "execution_count": 49,
   "metadata": {},
   "outputs": [
    {
     "data": {
      "text/plain": [
       "786"
      ]
     },
     "execution_count": 49,
     "metadata": {},
     "output_type": "execute_result"
    }
   ],
   "source": [
    "len(Date2)"
   ]
  },
  {
   "cell_type": "code",
   "execution_count": 60,
   "metadata": {},
   "outputs": [],
   "source": [
    "cols_trials = []\n",
    "for i in range(20):\n",
    "    cols_trials.append(np.random.choice(features2.columns[:-3], 18, replace = False))"
   ]
  },
  {
   "cell_type": "code",
   "execution_count": 113,
   "metadata": {},
   "outputs": [
    {
     "data": {
      "text/plain": [
       "[array(['Net Cash from Operating Activities/Cash & Cash Equivalents_QC',\n",
       "        'RSI_28', 'close_10/Close_320', 'ATR_10', 'Revenue_QC',\n",
       "        'ULTOSC_28', 'close_40/Close_240', 'volatility_320', 'OBV_40',\n",
       "        'EV/Sales', 'volatility_80', 'Price to Book Value',\n",
       "        'Operating Income (Loss)/Interest Expense, Net_YC', 'OBV_160',\n",
       "        'ABAND_indicator_40', 'volstd_360', 'APO_10_40', 'EBITDA_QC'],\n",
       "       dtype=object),\n",
       " array(['ABAND_indicator_80', 'Shares (Diluted)/Shares (Basic)_YC',\n",
       "        'WillR_10', 'Share Capital & Additional Paid-In Capital',\n",
       "        'ULTOSC_28', 'ATR_160', 'close_0/Close_40',\n",
       "        'Property, Plant & Equipment, Net_QC', 'volatility_160',\n",
       "        'Cost of Revenue', 'Net Income/Enterprise Value',\n",
       "        'Net Profit Margin_QC', 'Payables & Accruals/Cost of Revenue_QC',\n",
       "        'volstd_360', 'Net Income/Enterprise Value_QC', 'ADX_1_5', 'RSI_7',\n",
       "        'ADX_1_11'], dtype=object),\n",
       " array(['volstd_20', 'ABAND_indicator_20',\n",
       "        'Property, Plant & Equipment, Net/Total Cost',\n",
       "        'Enterprise Value_YC', 'Retained Earnings/Total Liabilities_QC',\n",
       "        'ADX_4_11', 'OBV_80', 'Net Income/Enterprise Value_YC',\n",
       "        'BOL_indicator_40', 'close_80/Close_240', 'ADX_4_23', 'volstd_40',\n",
       "        'Net Cash from Investing Activities/Cash & Cash Equivalents',\n",
       "        'Operating Income (Loss)_YC',\n",
       "        'Retained Earnings/Total Liabilities_YC',\n",
       "        'Share Capital & Additional Paid-In Capital_QC',\n",
       "        'close_20/Close_40', 'AROON_20'], dtype=object),\n",
       " array(['Total Noncurrent Liabilities/Total Liabilities_QC',\n",
       "        'Total Assets',\n",
       "        'Cash from (Repayment of) Debt/Total Liabilities_YC',\n",
       "        'close_80/Close_320', 'close_0/Close_320', 'CMO_120',\n",
       "        'Total Noncurrent Liabilities/Total Liabilities', 'volstd_80',\n",
       "        'Accounts & Notes Receivable/Revenue_YC',\n",
       "        'Total Assets/Share Capital & Additional Paid-In Capital_YC',\n",
       "        'volatility_120', 'close_240/Close_360', 'Total Liabilities_QC',\n",
       "        'close_10/Close_40', 'Cash & Cash Equivalents/Total Liabilities',\n",
       "        'Equity Before Minority Interest/Total Equity_YC',\n",
       "        'BOL_indicator_120', 'WillR_20'], dtype=object),\n",
       " array(['RSI_14',\n",
       "        'Net Cash from Operating Activities/Cash & Cash Equivalents_YC',\n",
       "        'ADX_16_5', 'volstd_120',\n",
       "        'Total Assets/Share Capital & Additional Paid-In Capital_YC',\n",
       "        'close_160/Close_320', 'Net Income_YC',\n",
       "        'Price to Free Cash Flow (quarterly)_QC', 'Revenue/Market-Cap',\n",
       "        'ULTOSC_112', 'Operating Income (Loss)/Interest Expense, Net_YC',\n",
       "        'Total Equity_YC', 'Market-Cap', 'volstd_360',\n",
       "        'Total Noncurrent Liabilities/Total Liabilities_YC',\n",
       "        'Enterprise Value/EBITDA_QC', 'volatility_10', 'Gross Profit_QC'],\n",
       "       dtype=object),\n",
       " array(['volatility_160', 'EV/FCF', 'close_20/Close_120', 'volatility_80',\n",
       "        'Working Capital', 'Total Assets_QC', 'EV/Sales_QC', 'EV/FCF_YC',\n",
       "        'ULTOSC_224', 'Cash from (Repayment of) Debt/Total Liabilities_QC',\n",
       "        'Price to Sales Ratio (quarterly)', 'close_10/Close_320', 'OBV_80',\n",
       "        'Enterprise Value/EBITDA_YC', 'close_120/Close_360',\n",
       "        'close_10/Close_40', 'close_0/Close_100',\n",
       "        'Total Assets/Total Liabilities_QC'], dtype=object),\n",
       " array(['close_40/Close_120', 'close_0/Close_40', 'close_0/Close_360',\n",
       "        'ABAND_indicator_160', 'Cost of Revenue_YC', 'Current Ratio',\n",
       "        'CMO_10', 'Total Noncurrent Liabilities/Total Liabilities',\n",
       "        'Current Ratio_QC', 'AROON_120', 'BOL_indicator_120',\n",
       "        'Return on Assets', 'close_120/Close_360',\n",
       "        'Total Assets/Share Capital & Additional Paid-In Capital_YC',\n",
       "        'EV/Sales_QC', 'close_0/Close_240', 'WillR_40',\n",
       "        'close_160/Close_240'], dtype=object),\n",
       " array(['Shares (Diluted)/Shares (Basic)',\n",
       "        'Cash from (Repurchase of) Equity/Market-Cap_YC',\n",
       "        'Cash & Cash Equivalents', 'CMO_120',\n",
       "        'Operating Income (Loss)/Interest Expense, Net_QC',\n",
       "        'Current Ratio_QC', 'CMO_40', 'close_80/Close_160', 'ULTOSC_28',\n",
       "        'ATR_10', 'close_160/Close_320',\n",
       "        'Total Current Assets/Total Assets', 'Net Income', 'RSI_56',\n",
       "        'Cash from (Repayment of) Debt/Total Liabilities_QC',\n",
       "        'Total Liabilities_YC', 'Price to Book Value', 'Close'],\n",
       "       dtype=object),\n",
       " array(['close_20/Close_240', 'Total Current Assets/Total Assets',\n",
       "        'ABAND_signal_10', 'Total Equity', 'volatility_320',\n",
       "        'Share Capital & Additional Paid-In Capital_QC',\n",
       "        'Total Noncurrent Liabilities/Total Liabilities_QC',\n",
       "        'Net Income/Enterprise Value', 'EBITDA_QC', 'close_10/Close_240',\n",
       "        'Net Income_YC', 'Total Assets/Total Liabilities_YC', 'DEMA_40',\n",
       "        'Total Assets/Share Capital & Additional Paid-In Capital_QC',\n",
       "        'Property, Plant & Equipment, Net_QC', 'Book to Market Value_YC',\n",
       "        'OBV_80', 'close_240/Close_360'], dtype=object),\n",
       " array(['close_20/Close_160', 'close_240/Close_360', 'close_10/Close_320',\n",
       "        'OBV_160', 'ULTOSC_28', 'Total Current Assets/Total Assets_YC',\n",
       "        'Property, Plant & Equipment, Net',\n",
       "        'Price to Free Cash Flow (quarterly)_QC',\n",
       "        'Operating Income (Loss)/Interest Expense, Net_YC',\n",
       "        'close_0/Close_360', 'APO_10_20',\n",
       "        'Share Capital & Additional Paid-In Capital_YC',\n",
       "        'ABAND_indicator_160', 'close_0/Close_240',\n",
       "        'Operating Income (Loss)/Interest Expense, Net',\n",
       "        'Price to Sales Ratio (quarterly)', 'ABAND_indicator_40',\n",
       "        'close_10/Close_240'], dtype=object),\n",
       " array(['Operating Expenses/Revenue_YC', 'Close',\n",
       "        'Net Cash from Financing Activities/Cash & Cash Equivalents',\n",
       "        'ATR_10', 'Net Income', 'close_0/Close_280',\n",
       "        'Free Cash Flow/Revenue_QC', 'Return on Equity', 'RSI_14',\n",
       "        'close_20/Close_120', 'Total Assets/Total Liabilities_YC',\n",
       "        'Total Assets', 'Total Noncurrent Assets/Total Assets_QC',\n",
       "        'Operating Income (Loss)/Interest Expense, Net',\n",
       "        'Net Cash from Financing Activities/Cash & Cash Equivalents_YC',\n",
       "        'Total Liabilities_QC', 'OBV_10', 'ABAND_signal_20'], dtype=object),\n",
       " array(['close_240/Close_320', 'BOL_indicator_160',\n",
       "        'Operating Income (Loss)/Interest Expense, Net_YC', 'AROON_160',\n",
       "        'ADX_4_11', 'close_20/Close_80',\n",
       "        'Cash & Cash Equivalents/Total Liabilities', 'ULTOSC_224',\n",
       "        'ABAND_signal_160', 'Book to Market Value',\n",
       "        'Payables & Accruals/Cost of Revenue_YC',\n",
       "        'Total Assets/Share Capital & Additional Paid-In Capital_YC',\n",
       "        'Accounts & Notes Receivable/Revenue', 'EBITDA_QC', 'CMO_10',\n",
       "        'ADX_16_11', 'Free Cash Flow/Revenue_QC',\n",
       "        'Cash from (Repayment of) Debt/Total Liabilities_QC'], dtype=object),\n",
       " array(['Price to Sales Ratio (quarterly)_YC',\n",
       "        'Shares (Diluted)/Shares (Basic)_YC',\n",
       "        'Net Income/Enterprise Value_YC', 'close_20/Close_120',\n",
       "        'volatility_10',\n",
       "        'Net Cash from Investing Activities/Cash & Cash Equivalents_YC',\n",
       "        'OBV_80', 'Total Equity_YC', 'AROON_10',\n",
       "        'Cash & Cash Equivalents/Total Liabilities_QC', 'MFI_10',\n",
       "        'Property, Plant & Equipment, Net', 'close_120/Close_160',\n",
       "        'DEMA_80', 'ADX_4_5', 'close_80/Close_160',\n",
       "        'Equity Before Minority Interest/Total Equity_YC',\n",
       "        'close_20/Close_240'], dtype=object),\n",
       " array(['Return on Equity_YC', 'BOL_indicator_40', 'Price to Book Value',\n",
       "        'APO_10_20', 'Accounts & Notes Receivable/Revenue_QC',\n",
       "        'Net Cash from Investing Activities/Cash & Cash Equivalents_QC',\n",
       "        'close_0/Close_20', 'close_40/Close_320',\n",
       "        'Retained Earnings/Total Liabilities',\n",
       "        'Enterprise Value/Share Capital & Additional Paid-In Capital',\n",
       "        'Current Ratio', 'close_320/Close_360',\n",
       "        'Cash & Cash Equivalents_QC',\n",
       "        'Equity Before Minority Interest/Total Equity_YC',\n",
       "        'Cash from (Repurchase of) Equity/Market-Cap', 'volatility_160',\n",
       "        'close_20/Close_40', 'CMO_120'], dtype=object),\n",
       " array(['Cash & Cash Equivalents/Total Liabilities_YC', 'WillR_160',\n",
       "        'Working Capital',\n",
       "        'Net Cash from Operating Activities/Cash & Cash Equivalents_YC',\n",
       "        'BOL_indicator_80', 'Free Cash Flow/Revenue',\n",
       "        'Cash from (Repurchase of) Equity/Market-Cap_YC',\n",
       "        'Price to Free Cash Flow (quarterly)_YC', 'Total Equity_QC',\n",
       "        'Cash from (Repayment of) Debt/Total Liabilities',\n",
       "        'Revenue/Market-Cap', 'APO_10_40', 'Net Profit Margin_YC',\n",
       "        'Cash from (Repurchase of) Equity/Market-Cap_QC', 'ADX_1_5',\n",
       "        'Price to Earnings Ratio (quarterly)', 'volstd_360',\n",
       "        'Return on Equity_QC'], dtype=object),\n",
       " array(['Total Noncurrent Assets/Total Assets_QC',\n",
       "        'Cash from (Repayment of) Debt/Total Liabilities',\n",
       "        'Cash from (Repurchase of) Equity/Market-Cap_QC', 'CMO_80',\n",
       "        'close_10/Close_20', 'Cost of Revenue_QC',\n",
       "        'Total Noncurrent Assets/Total Assets',\n",
       "        'Price to Earnings Ratio (quarterly)_YC', 'DEMA_10', 'Close',\n",
       "        'close_0/Close_200', 'Total Assets/Total Liabilities_YC',\n",
       "        'AROON_20', 'Property, Plant & Equipment, Net/Total Cost',\n",
       "        'Payables & Accruals/Cost of Revenue', 'close_0/Close_320',\n",
       "        'Enterprise Value/Share Capital & Additional Paid-In Capital',\n",
       "        'Net Income'], dtype=object),\n",
       " array(['Cost of Revenue_QC', 'Book to Market Value_YC',\n",
       "        'Price to Earnings Ratio (quarterly)', 'ATR_20', 'ADX_1_5',\n",
       "        'Cash & Cash Equivalents_QC', 'Cost of Revenue_YC', 'ULTOSC_112',\n",
       "        'RSI_112', 'Payables & Accruals/Cost of Revenue_QC',\n",
       "        'Property, Plant & Equipment, Net_YC',\n",
       "        'Accounts & Notes Receivable/Revenue', 'volatility_360',\n",
       "        'Revenue/Market-Cap_QC', 'APO_10_40', 'Revenue_QC', 'MFI_10',\n",
       "        'close_20/Close_320'], dtype=object),\n",
       " array(['Cash from (Repurchase of) Equity/Market-Cap', 'Net Income_YC',\n",
       "        'ABAND_indicator_160', 'ABAND_indicator_80',\n",
       "        'Property, Plant & Equipment, Net', 'volstd_40',\n",
       "        'close_20/Close_160', 'Current Ratio_QC', 'BOL_indicator_20',\n",
       "        'Cash from (Repayment of) Debt/Total Liabilities_YC',\n",
       "        'Payables & Accruals/Cost of Revenue_QC', 'close_10/Close_360',\n",
       "        'Total Equity_YC', 'DEMA_120', 'AROON_120', 'volstd_360',\n",
       "        'WillR_40', 'AROON_10'], dtype=object),\n",
       " array(['Total Current Assets/Total Assets_QC', 'volatility_360',\n",
       "        'Revenue/Market-Cap_YC', 'volatility_160', 'ULTOSC_56',\n",
       "        'close_20/Close_360',\n",
       "        'Operating Income (Loss)/Interest Expense, Net',\n",
       "        'Price to Free Cash Flow (quarterly)',\n",
       "        'Total Current Assets/Total Assets', 'close_120/Close_320',\n",
       "        'close_120/Close_160',\n",
       "        'Cash & Cash Equivalents/Total Liabilities_QC', 'Total Equity_QC',\n",
       "        'EV/FCF_QC', 'Shares (Diluted)/Shares (Basic)_QC',\n",
       "        'close_10/Close_20', 'ULTOSC_28',\n",
       "        'Enterprise Value/Share Capital & Additional Paid-In Capital_YC'],\n",
       "       dtype=object),\n",
       " array(['MFI_10', 'RSI_28', 'Enterprise Value_QC',\n",
       "        'Total Current Assets/Total Assets_QC',\n",
       "        'Cash & Cash Equivalents/Total Liabilities', 'BOL_indicator_20',\n",
       "        'Total Noncurrent Assets/Total Assets_QC',\n",
       "        'Net Income/Enterprise Value',\n",
       "        'Price to Earnings Ratio (quarterly)_YC',\n",
       "        'Total Current Assets/Total Assets_YC',\n",
       "        'Share Capital & Additional Paid-In Capital',\n",
       "        'Retained Earnings/Total Liabilities_QC',\n",
       "        'Operating Expenses/Revenue_YC', 'close_80/Close_240', 'volstd_20',\n",
       "        'ADX_4_5', 'Cash & Cash Equivalents/Total Liabilities_YC',\n",
       "        'Gross Profit_QC'], dtype=object)]"
      ]
     },
     "execution_count": 113,
     "metadata": {},
     "output_type": "execute_result"
    }
   ],
   "source": [
    "cols_trials"
   ]
  },
  {
   "cell_type": "code",
   "execution_count": 61,
   "metadata": {},
   "outputs": [],
   "source": [
    "prediction_dates = np.linspace(220, 700, 15).astype(int)"
   ]
  },
  {
   "cell_type": "code",
   "execution_count": 114,
   "metadata": {},
   "outputs": [
    {
     "data": {
      "text/plain": [
       "array([220, 254, 288, 322, 357, 391, 425, 460, 494, 528, 562, 597, 631,\n",
       "       665, 700])"
      ]
     },
     "execution_count": 114,
     "metadata": {},
     "output_type": "execute_result"
    }
   ],
   "source": [
    "prediction_dates"
   ]
  },
  {
   "cell_type": "code",
   "execution_count": 64,
   "metadata": {},
   "outputs": [
    {
     "name": "stdout",
     "output_type": "stream",
     "text": [
      "2.2580800999999155\n",
      "1.1352337000000716\n",
      "2.2232369999999264\n",
      "1.150142599999981\n",
      "2.2146101000000726\n",
      "1.1473711000001003\n",
      "2.2460095999999794\n",
      "1.1396826000000146\n",
      "2.20369299999993\n",
      "1.1462337999998908\n",
      "2.212801200000058\n",
      "1.1407976999998937\n",
      "2.2148096000000805\n",
      "1.1437190999999984\n",
      "2.1932283999999527\n",
      "1.144960699999956\n",
      "2.211246200000005\n",
      "1.1593617999999424\n",
      "2.2343773000000056\n",
      "1.1352638000000752\n",
      "2.2075130999999146\n",
      "1.1421116999999867\n",
      "2.186713499999996\n",
      "1.131315500000028\n",
      "2.205332100000078\n",
      "1.1474854999999025\n",
      "2.2063806999999542\n",
      "1.1483843000000888\n",
      "2.2002202999999554\n",
      "1.1309697999997752\n",
      "2.209441000000197\n",
      "1.1325539999998\n",
      "2.2019476000000395\n",
      "1.1563727999998719\n",
      "2.199609200000168\n",
      "1.1314013999999588\n",
      "2.2047162999999728\n",
      "1.1426490999999714\n",
      "2.2126433000000816\n",
      "1.1452503000000434\n",
      "8.07740549999994\n",
      "4.14257879999991\n",
      "8.347794499999964\n",
      "4.238627500000121\n",
      "8.485280299999886\n",
      "4.395897600000126\n",
      "7.972932700000001\n",
      "4.11697960000015\n",
      "7.797829699999966\n",
      "3.999757000000045\n",
      "7.965491499999871\n",
      "4.047989900000175\n",
      "8.198590200000126\n",
      "4.195490699999937\n",
      "7.163247100000035\n",
      "3.645615899999939\n",
      "8.513681200000065\n",
      "4.342442399999982\n",
      "7.876563799999985\n",
      "4.020831000000044\n",
      "8.119392800000014\n",
      "4.133363700000018\n",
      "7.393697999999858\n",
      "3.7587685000000874\n",
      "8.52846599999998\n",
      "4.376236999999946\n",
      "7.977811799999927\n",
      "4.065271899999971\n",
      "7.5690211000001\n",
      "3.859899499999983\n",
      "7.5293623999998545\n",
      "3.8405659999998534\n",
      "8.156574699999965\n",
      "4.163451399999985\n",
      "7.5984582999999475\n",
      "3.87222040000006\n",
      "7.949760100000049\n",
      "4.062748600000077\n",
      "8.187290300000086\n",
      "4.189685599999848\n",
      "8.05229670000017\n",
      "4.112248799999861\n",
      "8.306189600000152\n",
      "4.249449499999855\n",
      "8.386435399999982\n",
      "4.2888242999999875\n",
      "7.877550500000098\n",
      "4.0136691999998675\n",
      "7.698087399999849\n",
      "3.98179540000001\n",
      "7.918122000000039\n",
      "4.039025000000038\n",
      "8.246303399999988\n",
      "4.209184499999992\n",
      "7.116494299999886\n",
      "3.7146798999999646\n",
      "8.59769110000002\n",
      "4.379387699999825\n",
      "7.995828600000095\n",
      "4.034834000000046\n",
      "8.097197800000004\n",
      "4.27493370000002\n",
      "7.651431900000034\n",
      "3.792690499999935\n",
      "8.549699600000167\n",
      "4.3719134000000395\n",
      "7.969051499999978\n",
      "4.067950800000062\n",
      "7.5163328000001\n",
      "3.8230579000000944\n",
      "7.552601500000037\n",
      "3.839347699999962\n",
      "8.22428190000005\n",
      "4.21131309999987\n",
      "7.600359699999899\n",
      "3.870395599999938\n",
      "7.952130699999998\n",
      "4.20345599999996\n",
      "8.274233099999947\n",
      "4.197973499999989\n",
      "8.322092899999916\n",
      "4.164744100000007\n",
      "8.4051872\n",
      "4.283332199999904\n",
      "8.484742900000128\n",
      "4.354491899999857\n",
      "7.929244599999947\n",
      "4.040118099999972\n",
      "7.7876531000001705\n",
      "3.969782299999906\n",
      "7.923987500000067\n",
      "4.086137500000177\n",
      "8.34539299999983\n",
      "4.258346599999868\n",
      "7.172845399999915\n",
      "3.652114800000163\n",
      "8.702145700000074\n",
      "4.410385399999996\n",
      "7.961060400000179\n",
      "4.089811399999917\n",
      "9.288066899999876\n",
      "4.704846899999893\n",
      "8.038667199999963\n",
      "4.281972700000097\n",
      "9.080591400000003\n",
      "4.514458300000115\n",
      "8.286439299999984\n",
      "4.206305100000009\n",
      "7.821896200000083\n",
      "3.9823483999998643\n",
      "7.793257600000288\n",
      "3.969472400000086\n",
      "8.493398600000091\n",
      "4.329670399999941\n",
      "7.938721199999691\n",
      "4.280481899999813\n",
      "8.764906299999893\n",
      "4.761030299999675\n",
      "9.107111000000259\n",
      "4.475172999999813\n",
      "8.631812399999944\n",
      "4.425811700000395\n",
      "8.86954999999989\n",
      "4.548413199999686\n",
      "8.953469399999904\n",
      "4.5827039999999215\n",
      "8.426348299999972\n",
      "4.2979944999997315\n",
      "8.258110700000088\n",
      "4.195016500000293\n",
      "8.394486900000175\n",
      "4.267817299999933\n",
      "8.805925599999682\n",
      "4.486975600000278\n",
      "7.567363699999987\n",
      "3.847554399999808\n",
      "9.038637800000288\n",
      "4.619410400000106\n",
      "8.314604300000155\n",
      "4.266599000000042\n",
      "8.641810500000247\n",
      "4.401121900000362\n",
      "7.961321700000099\n",
      "4.030066100000113\n",
      "9.046080999999958\n",
      "4.620714600000156\n",
      "8.507827599999928\n",
      "4.371570799999972\n",
      "7.986109299999953\n",
      "4.092243000000053\n",
      "7.977503099999922\n",
      "4.064704100000199\n",
      "8.761965700000019\n",
      "4.45370980000007\n",
      "8.415671400000065\n",
      "4.582465399999819\n",
      "8.404087999999774\n",
      "4.241060199999993\n",
      "9.50308989999985\n",
      "4.492626199999904\n",
      "8.665493200000128\n",
      "4.427739400000064\n",
      "8.85713910000004\n",
      "4.721582299999682\n",
      "9.930672100000265\n",
      "4.607478600000377\n",
      "8.456194100000175\n",
      "4.300890399999844\n",
      "8.233611199999814\n",
      "4.190366600000289\n",
      "8.366348400000334\n",
      "4.260174000000006\n",
      "8.775189999999839\n",
      "4.490992000000006\n",
      "7.5626775000000634\n",
      "3.8508318999997755\n",
      "9.728868000000148\n",
      "5.718082800000047\n",
      "9.046806199999992\n",
      "4.420276199999989\n",
      "8.669615499999964\n",
      "4.437277100000301\n",
      "7.971353599999929\n",
      "4.032534599999963\n",
      "9.1386593000002\n",
      "4.6777892000000065\n",
      "8.559742400000232\n",
      "4.363652699999875\n",
      "8.022531199999776\n",
      "4.104765699999916\n",
      "8.054275800000141\n",
      "4.0909513999999945\n",
      "8.790960399999676\n",
      "4.50759859999971\n",
      "8.126787900000181\n",
      "4.12780470000007\n",
      "8.560336900000038\n",
      "4.352335999999923\n",
      "8.75018050000017\n",
      "4.474886700000297\n",
      "8.70839819999992\n",
      "4.472330399999919\n",
      "8.931803800000125\n",
      "4.559646000000157\n",
      "9.019432699999925\n",
      "4.625518700000157\n",
      "8.458651500000087\n",
      "4.323772600000211\n",
      "8.235395499999868\n",
      "4.205766799999765\n",
      "8.658940299999813\n",
      "4.4237543000003825\n",
      "9.002679700000044\n",
      "5.013974200000121\n",
      "8.51688329999979\n",
      "4.243921599999794\n",
      "9.707531000000017\n",
      "5.180246200000056\n",
      "8.788810999999896\n",
      "4.388827499999934\n",
      "9.142607899999803\n",
      "4.46968489999972\n",
      "8.921372799999972\n",
      "4.081189999999879\n",
      "9.158171199999742\n",
      "4.488593500000206\n",
      "10.143943900000068\n",
      "4.764115400000264\n",
      "8.085172900000089\n",
      "4.416215500000362\n",
      "8.675947899999755\n",
      "4.320154300000013\n",
      "8.640981199999715\n",
      "4.370859999999993\n",
      "8.116792199999963\n",
      "4.295681799999784\n",
      "8.767050200000085\n",
      "4.3296820999999\n",
      "8.726461599999766\n",
      "4.663580599999932\n",
      "8.74599360000002\n",
      "4.607481200000166\n",
      "9.05226790000006\n",
      "4.441509400000086\n",
      "8.966629500000181\n",
      "4.423309900000277\n",
      "8.08356079999976\n",
      "4.294371999999839\n",
      "8.084384799999953\n",
      "4.109886199999892\n",
      "8.12407949999988\n",
      "4.143842999999833\n",
      "8.44100440000011\n",
      "4.31787149999991\n",
      "7.246042000000216\n",
      "3.6784137999998165\n",
      "8.73590729999978\n",
      "4.467347999999674\n",
      "8.03628529999969\n",
      "4.115681700000096\n",
      "8.295925199999601\n",
      "4.227978399999756\n",
      "7.563806999999997\n",
      "3.8533402999996724\n",
      "8.663725600000362\n",
      "4.439557700000023\n",
      "8.122520099999747\n",
      "4.1414967999999135\n",
      "7.599787900000138\n",
      "3.8777576000002227\n",
      "7.72851589999982\n",
      "3.9345932000001085\n",
      "8.386277399999926\n",
      "4.292087400000128\n",
      "7.846247200000107\n",
      "3.9272702000002937\n",
      "8.152596699999776\n",
      "4.14822200000026\n",
      "8.335222599999724\n",
      "4.286200500000177\n",
      "8.368369100000109\n",
      "4.2816469999997935\n",
      "8.527846699999827\n",
      "4.350144300000011\n",
      "8.59940110000025\n",
      "4.422681999999895\n",
      "8.086452799999734\n",
      "4.145555699999932\n",
      "8.073097800000141\n",
      "4.088922300000377\n",
      "8.143346999999721\n",
      "4.162232000000131\n",
      "8.45856509999976\n",
      "4.322269400000096\n",
      "7.24419349999971\n",
      "3.6754760999997416\n",
      "8.82526609999968\n",
      "4.510491400000319\n",
      "8.080788400000074\n",
      "4.118437300000096\n",
      "8.327908399999615\n",
      "4.26106800000025\n",
      "7.630787800000235\n",
      "3.8797191000003295\n",
      "8.741138100000171\n",
      "4.48428019999983\n",
      "8.201011899999685\n",
      "4.162122299999737\n",
      "7.629728299999897\n",
      "3.8881280999999035\n",
      "7.762629299999844\n",
      "3.9567407999998068\n",
      "8.411950600000182\n",
      "4.308405899999798\n",
      "7.740994700000101\n",
      "3.9338227000002917\n",
      "8.187357599999814\n",
      "4.180707200000143\n",
      "8.33807620000016\n",
      "4.272164999999859\n",
      "8.32718879999993\n",
      "4.2694854000001214\n",
      "8.514905499999713\n",
      "4.368042299999615\n",
      "8.623066799999833\n",
      "4.412541499999861\n",
      "8.112488299999768\n",
      "4.149481099999775\n",
      "8.043844400000125\n",
      "4.091182500000286\n",
      "8.118762899999638\n",
      "4.14490319999959\n",
      "8.433798200000183\n",
      "4.330520399999841\n",
      "7.243622899999991\n",
      "3.6781504999999015\n",
      "8.857532900000024\n",
      "4.515030500000194\n",
      "8.068735199999992\n",
      "4.109549400000105\n",
      "8.293469600000208\n",
      "4.251832599999943\n",
      "7.631227800000033\n",
      "3.8753038999998353\n",
      "8.761405000000195\n",
      "4.502928499999598\n",
      "8.164388300000155\n",
      "4.160657899999933\n",
      "7.57378400000016\n",
      "3.85973150000018\n",
      "7.744522700000289\n",
      "3.9430921000002854\n",
      "8.378431600000113\n",
      "4.303890600000159\n",
      "7.74688470000001\n",
      "3.9432222000000365\n",
      "8.22271929999988\n",
      "4.191403300000275\n",
      "8.338326299999608\n",
      "4.269107800000256\n",
      "8.395877200000086\n",
      "4.29729049999969\n",
      "8.587822899999992\n",
      "4.3850227999996605\n",
      "8.641833099999985\n",
      "4.4314791000001605\n",
      "8.141655599999922\n",
      "4.154021700000158\n",
      "8.011655000000246\n",
      "4.077033800000208\n",
      "8.134296699999595\n",
      "4.158660099999906\n",
      "8.422714299999825\n",
      "4.317598099999941\n",
      "7.2215604999996685\n",
      "3.6652908000000934\n",
      "8.839704600000005\n",
      "4.525277499999902\n",
      "8.079380899999705\n",
      "4.131182800000261\n",
      "8.352172500000052\n",
      "4.2637142999997195\n",
      "7.6901505000000725\n",
      "3.891049899999871\n",
      "8.816430800000035\n",
      "4.521561600000041\n",
      "8.174270699999852\n",
      "4.187367599999561\n",
      "7.569439999999759\n",
      "3.8914208000001054\n",
      "7.720153600000231\n",
      "3.91477470000018\n",
      "8.363216499999908\n",
      "4.2896326000000045\n",
      "7.7225030999998125\n",
      "3.9474362999999357\n",
      "8.176998500000082\n",
      "4.169178699999975\n",
      "8.3309205999999\n",
      "4.269592199999806\n",
      "8.336806899999829\n",
      "4.265514900000198\n",
      "8.546222500000113\n",
      "4.3707783999998355\n",
      "8.566760000000158\n",
      "4.387606499999947\n",
      "8.135101100000156\n",
      "4.151280399999905\n",
      "7.93992389999994\n",
      "4.047262599999613\n",
      "8.073012500000004\n",
      "4.14306600000009\n",
      "8.442659800000001\n",
      "4.315363300000172\n",
      "7.200197399999979\n",
      "3.6475479000000632\n",
      "8.826706999999715\n",
      "4.517083400000047\n",
      "8.043872299999748\n",
      "4.110496999999668\n",
      "8.319846200000029\n",
      "4.250574800000322\n",
      "7.595868200000041\n",
      "3.855127299999367\n",
      "8.772160600000461\n",
      "4.49352639999961\n",
      "8.164359099999274\n",
      "4.176429199999802\n",
      "7.592518899999959\n",
      "3.8452069000004485\n",
      "7.778526299999612\n",
      "3.946136999999908\n",
      "8.384222399999999\n",
      "4.291938900000787\n",
      "7.756861200000458\n",
      "4.209267299999738\n",
      "8.180181799999446\n",
      "4.180243699999664\n",
      "8.334840399999848\n",
      "4.276012700000138\n",
      "8.330437300000085\n",
      "4.258319599999595\n",
      "8.53407419999985\n",
      "4.354370299999573\n",
      "8.56667759999982\n",
      "4.392113899999458\n",
      "8.133997500000078\n",
      "4.146513700000469\n",
      "7.971951900000022\n",
      "4.069422499999746\n",
      "8.117774899999858\n",
      "4.130180699999983\n",
      "8.413641000000098\n",
      "4.305855700000393\n",
      "7.192374899999777\n",
      "3.6435252999999648\n",
      "8.805582500000128\n",
      "4.499824999999873\n",
      "8.09283830000004\n",
      "4.124340200000006\n",
      "8.331052399999862\n",
      "4.259614300000067\n",
      "7.579697500000293\n",
      "3.856688099999701\n",
      "8.794681299999866\n",
      "4.511659200000395\n",
      "8.196691199999805\n",
      "4.182131499999741\n",
      "7.575048899999274\n",
      "3.857895699999972\n",
      "7.736746599999606\n",
      "3.9251940999993167\n",
      "8.381331700000374\n",
      "4.282731899999817\n",
      "7.731790299999375\n",
      "3.9258947999996963\n",
      "8.165261199999804\n",
      "4.165975400000207\n",
      "8.336107500000253\n",
      "4.2765785000001415\n",
      "8.298981099999764\n",
      "4.241182300000219\n",
      "8.563500199999908\n",
      "4.384185500000058\n",
      "8.620589500000278\n",
      "4.421440099999927\n",
      "8.123361299999488\n",
      "4.130920600000536\n",
      "7.956238599999779\n",
      "4.068217900000491\n",
      "8.107590800000253\n",
      "4.138482199999999\n",
      "8.434367199999542\n",
      "4.306077100000039\n",
      "7.155294899999717\n",
      "3.6486349000006157\n",
      "8.820325600000615\n",
      "4.51372850000007\n",
      "8.086902299999565\n",
      "4.108801200000016\n",
      "8.357180299999527\n",
      "4.275623600000472\n",
      "7.574271800000133\n",
      "3.8498067999998966\n",
      "8.83745220000037\n",
      "4.5305945999998585\n",
      "8.169542399999955\n",
      "4.159678300000451\n",
      "7.595617199999651\n",
      "3.856090000000222\n",
      "7.733342600000469\n",
      "3.9358070999996926\n",
      "8.407286799999383\n",
      "4.3084124999995765\n",
      "7.7062324999997145\n",
      "3.927631399999882\n",
      "8.168637599999784\n",
      "4.161548199999743\n",
      "8.37104460000046\n",
      "4.272662900000796\n",
      "8.313488900000266\n",
      "4.25921659999949\n",
      "8.605671100000109\n",
      "4.408393900000192\n",
      "8.621623500000169\n",
      "4.415814199999659\n",
      "8.103301600000123\n",
      "4.142758100000719\n",
      "7.98661439999978\n",
      "4.063353399999869\n",
      "8.087975599999481\n",
      "4.125074899999163\n",
      "8.450385400000414\n",
      "4.323923600000853\n",
      "7.173507599999539\n",
      "3.6497588000001997\n",
      "8.845874900000126\n",
      "4.512306000000535\n",
      "8.077120299999478\n",
      "4.128024399999958\n",
      "8.361994300000333\n",
      "4.276952100000017\n",
      "7.573015299999497\n",
      "3.85408550000011\n",
      "8.861649999999827\n",
      "4.5475400999994235\n",
      "8.142221399999471\n",
      "4.146468400000231\n",
      "7.6045389999999315\n",
      "3.8720071999996435\n",
      "7.7462467000004835\n",
      "3.9333464999999705\n",
      "8.38361040000018\n",
      "4.293845099999999\n",
      "7.747188400000596\n",
      "3.9507654999997612\n",
      "8.180599100000109\n",
      "4.1687035999993896\n",
      "8.405545200000233\n",
      "4.299007700000402\n"
     ]
    }
   ],
   "source": [
    "results = []\n",
    "for prediction_date_number in prediction_dates:\n",
    "    for cols in cols_trials:\n",
    "        \n",
    "        training_period = Date2[prediction_date_number - 200 - 40 + 1: prediction_date_number - 40 +1]\n",
    "\n",
    "        prediction_period = Date2[prediction_date_number :prediction_date_number + 20 + 1]\n",
    "        \n",
    "        X_train, X_test, Y_train, Y_test, Y_return_40 = make_dataset_eval_with_extra_return_40_term_from_periods(features2, training_period, prediction_period, cols, \"Class_binary_40_20\")\n",
    "        \n",
    "        train_weights = Y_train.map({0:19, 1:1})\n",
    "        xgtrain = xgboost.DMatrix(X_train.values, Y_train, feature_names = cols)\n",
    "        xgtest = xgboost.DMatrix(X_test.values, Y_test.values, feature_names = cols)\n",
    "        \n",
    "        data = []\n",
    "        \n",
    "        mycallback = my_callback(xgtest, Y_return_40, data)\n",
    "\n",
    "        start_time = time.perf_counter()\n",
    "        bst = xgboost.train(params1, xgtrain, num_boost_round = 20, verbose_eval = False, callbacks = [mycallback])\n",
    "        print(time.perf_counter() - start_time)\n",
    "        \n",
    "        \n",
    "        data2 = []\n",
    "        \n",
    "        mycallback2 = my_callback2(xgtest, Y_return_40, data2)\n",
    "\n",
    "        start_time = time.perf_counter()\n",
    "        bst = xgboost.train(params2, xgtrain, num_boost_round = 20, verbose_eval = False, callbacks = [mycallback2])\n",
    "        print(time.perf_counter() - start_time)\n",
    "        \n",
    "        \n",
    "        results.append(data)\n",
    "        results.append(data2)\n",
    "        \n",
    "   \n",
    "        "
   ]
  },
  {
   "cell_type": "code",
   "execution_count": 65,
   "metadata": {},
   "outputs": [],
   "source": [
    "reshaped = np.reshape(results, (-1, 2))"
   ]
  },
  {
   "cell_type": "code",
   "execution_count": 72,
   "metadata": {},
   "outputs": [
    {
     "data": {
      "text/plain": [
       "600"
      ]
     },
     "execution_count": 72,
     "metadata": {},
     "output_type": "execute_result"
    }
   ],
   "source": [
    "len(results)"
   ]
  },
  {
   "cell_type": "code",
   "execution_count": 98,
   "metadata": {},
   "outputs": [
    {
     "data": {
      "text/plain": [
       "array([14.46451302, 14.46451302, 14.46451302, 14.46451302, 14.46451302,\n",
       "       14.46451302, 14.46451302, 14.46451302, 14.46451302, 14.46451302,\n",
       "       14.46451302, 14.46451302, 14.46451302, 14.46451302, 14.46451302,\n",
       "       14.46451302, 14.46451302, 14.46451302, 14.46451302, 14.46451302])"
      ]
     },
     "execution_count": 98,
     "metadata": {},
     "output_type": "execute_result"
    }
   ],
   "source": [
    "np.array(results[0])[:,4]"
   ]
  },
  {
   "cell_type": "code",
   "execution_count": 90,
   "metadata": {},
   "outputs": [],
   "source": [
    "count = 0\n",
    "for i in range(300):\n",
    "    if np.mean(results[i*2], axis = 0)[-2] > np.mean(results[i*2 + 1], axis = 0)[-2]:\n",
    "        count += 1\n",
    "    "
   ]
  },
  {
   "cell_type": "code",
   "execution_count": 112,
   "metadata": {},
   "outputs": [
    {
     "data": {
      "text/plain": [
       "144"
      ]
     },
     "execution_count": 112,
     "metadata": {},
     "output_type": "execute_result"
    }
   ],
   "source": [
    "count\n",
    "\"\"\"\n",
    "this means that binary log edged softprob by 156 vs 144\n",
    "\n",
    "\"\"\""
   ]
  },
  {
   "cell_type": "code",
   "execution_count": 109,
   "metadata": {},
   "outputs": [],
   "source": [
    "data_1 = []\n",
    "for g in results[::2]:\n",
    "    data_1.append(np.array(g)[:,0])\n",
    "    "
   ]
  },
  {
   "cell_type": "code",
   "execution_count": 110,
   "metadata": {},
   "outputs": [],
   "source": [
    "data_2 = []\n",
    "for g in results[1::2]:\n",
    "    data_2.append(np.array(g)[:,0])"
   ]
  },
  {
   "cell_type": "code",
   "execution_count": 111,
   "metadata": {},
   "outputs": [
    {
     "data": {
      "text/plain": [
       "[<matplotlib.lines.Line2D at 0x2b2a090df40>]"
      ]
     },
     "execution_count": 111,
     "metadata": {},
     "output_type": "execute_result"
    },
    {
     "data": {
      "image/png": "[encoded data removed]",
      "text/plain": [
       "<Figure size 1440x720 with 1 Axes>"
      ]
     },
     "metadata": {
      "needs_background": "light"
     },
     "output_type": "display_data"
    }
   ],
   "source": [
    "plt.figure(figsize = (20, 10))\n",
    "plt.plot(np.mean(data_1, axis = 0), \"b\")\n",
    "plt.plot(np.mean(data_2, axis = 0), \"r\")"
   ]
  },
  {
   "cell_type": "code",
   "execution_count": null,
   "metadata": {},
   "outputs": [],
   "source": [
    "\"\"\"\n",
    "which column performed the best?\n",
    "\"\"\""
   ]
  },
  {
   "cell_type": "code",
   "execution_count": 118,
   "metadata": {},
   "outputs": [
    {
     "data": {
      "text/plain": [
       "20"
      ]
     },
     "execution_count": 118,
     "metadata": {},
     "output_type": "execute_result"
    }
   ],
   "source": [
    "len(cols_trials)"
   ]
  },
  {
   "cell_type": "code",
   "execution_count": 122,
   "metadata": {},
   "outputs": [],
   "source": [
    "if 0:\n",
    "    print(\"ye\")"
   ]
  },
  {
   "cell_type": "code",
   "execution_count": 115,
   "metadata": {},
   "outputs": [
    {
     "data": {
      "text/plain": [
       "600"
      ]
     },
     "execution_count": 115,
     "metadata": {},
     "output_type": "execute_result"
    }
   ],
   "source": [
    "len(results)"
   ]
  },
  {
   "cell_type": "code",
   "execution_count": null,
   "metadata": {},
   "outputs": [],
   "source": [
    "results[]"
   ]
  },
  {
   "cell_type": "code",
   "execution_count": 123,
   "metadata": {},
   "outputs": [
    {
     "data": {
      "text/plain": [
       "[(12.174507732138485, 0.5, 11.272439934735488, 0.5, 14.46451302398196, 0.5),\n",
       " (12.174507732138485, 0.5, 11.272439934735488, 0.5, 14.46451302398196, 0.5),\n",
       " (12.174507732138485, 0.5, 11.272439934735488, 0.5, 14.46451302398196, 0.5),\n",
       " (12.174507732138485, 0.5, 11.272439934735488, 0.5, 14.46451302398196, 0.5),\n",
       " (12.174507732138485, 0.5, 11.272439934735488, 0.5, 14.46451302398196, 0.5),\n",
       " (12.174507732138485, 0.5, 11.272439934735488, 0.5, 14.46451302398196, 0.5),\n",
       " (12.174507732138485, 0.5, 11.272439934735488, 0.5, 14.46451302398196, 0.5),\n",
       " (12.174507732138485, 0.5, 11.272439934735488, 0.5, 14.46451302398196, 0.5),\n",
       " (12.174507732138485, 0.5, 11.272439934735488, 0.5, 14.46451302398196, 0.5),\n",
       " (12.174507732138485, 0.5, 11.272439934735488, 0.5, 14.46451302398196, 0.5),\n",
       " (12.174507732138485, 0.5, 11.272439934735488, 0.5, 14.46451302398196, 0.5),\n",
       " (12.174507732138485, 0.5, 11.272439934735488, 0.5, 14.46451302398196, 0.5),\n",
       " (12.174507732138485, 0.5, 11.272439934735488, 0.5, 14.46451302398196, 0.5),\n",
       " (12.174507732138485, 0.5, 11.272439934735488, 0.5, 14.46451302398196, 0.5),\n",
       " (12.174507732138485, 0.5, 11.272439934735488, 0.5, 14.46451302398196, 0.5),\n",
       " (12.174507732138485, 0.5, 11.272439934735488, 0.5, 14.46451302398196, 0.5),\n",
       " (12.174507732138485, 0.5, 11.272439934735488, 0.5, 14.46451302398196, 0.5),\n",
       " (12.174507732138485, 0.5, 11.272439934735488, 0.5, 14.46451302398196, 0.5),\n",
       " (12.174507732138485, 0.5, 11.272439934735488, 0.5, 14.46451302398196, 0.5),\n",
       " (12.174507732138485, 0.5, 11.272439934735488, 0.5, 14.46451302398196, 0.5)]"
      ]
     },
     "execution_count": 123,
     "metadata": {},
     "output_type": "execute_result"
    }
   ],
   "source": [
    "results"
   ]
  },
  {
   "cell_type": "code",
   "execution_count": null,
   "metadata": {},
   "outputs": [],
   "source": []
  },
  {
   "cell_type": "code",
   "execution_count": 124,
   "metadata": {},
   "outputs": [
    {
     "data": {
      "text/plain": [
       "31.473684210526315"
      ]
     },
     "execution_count": 124,
     "metadata": {},
     "output_type": "execute_result"
    }
   ],
   "source": [
    "598 / 19"
   ]
  },
  {
   "cell_type": "code",
   "execution_count": 138,
   "metadata": {},
   "outputs": [],
   "source": [
    "col_indx= 0"
   ]
  },
  {
   "cell_type": "code",
   "execution_count": 139,
   "metadata": {},
   "outputs": [
    {
     "data": {
      "text/plain": [
       "14.731701207534172"
      ]
     },
     "execution_count": 139,
     "metadata": {},
     "output_type": "execute_result"
    }
   ],
   "source": [
    "(np.mean(results[col_indx], axis = 0)[-2] + np.mean(results[col_indx+1], axis = 0)[-2] )/ 2"
   ]
  },
  {
   "cell_type": "code",
   "execution_count": 148,
   "metadata": {},
   "outputs": [],
   "source": [
    "parsed = {}\n",
    "for _ in range(20):\n",
    "    parsed[_] = 0\n",
    "\n",
    "\n",
    "for num in range(15):\n",
    "    \n",
    "    for col_indx in range(0,40, 2):\n",
    "        \n",
    "\n",
    "         parsed[int(col_indx / 2)] += (np.mean(results[col_indx + (num * 40)], axis = 0)[-2] + np.mean(results[(col_indx) + (num * 40) + 1], axis = 0)[-2] )/ 2\n",
    "        \n",
    "    "
   ]
  },
  {
   "cell_type": "code",
   "execution_count": 162,
   "metadata": {},
   "outputs": [],
   "source": [
    "with open(\"OptimisingTime/BinarylogVsSoftprob.pkl\", \"wb\") as f:\n",
    "    pickle.dump(results, f)"
   ]
  },
  {
   "cell_type": "code",
   "execution_count": 155,
   "metadata": {},
   "outputs": [],
   "source": [
    "for i in parsed.keys():\n",
    "    parsed[i] = parsed[i] / 15"
   ]
  },
  {
   "cell_type": "code",
   "execution_count": 157,
   "metadata": {},
   "outputs": [
    {
     "data": {
      "text/plain": [
       "array(['Total Noncurrent Liabilities/Total Liabilities_QC',\n",
       "       'Total Assets',\n",
       "       'Cash from (Repayment of) Debt/Total Liabilities_YC',\n",
       "       'close_80/Close_320', 'close_0/Close_320', 'CMO_120',\n",
       "       'Total Noncurrent Liabilities/Total Liabilities', 'volstd_80',\n",
       "       'Accounts & Notes Receivable/Revenue_YC',\n",
       "       'Total Assets/Share Capital & Additional Paid-In Capital_YC',\n",
       "       'volatility_120', 'close_240/Close_360', 'Total Liabilities_QC',\n",
       "       'close_10/Close_40', 'Cash & Cash Equivalents/Total Liabilities',\n",
       "       'Equity Before Minority Interest/Total Equity_YC',\n",
       "       'BOL_indicator_120', 'WillR_20'], dtype=object)"
      ]
     },
     "execution_count": 157,
     "metadata": {},
     "output_type": "execute_result"
    }
   ],
   "source": [
    "cols_trials[3]"
   ]
  },
  {
   "cell_type": "code",
   "execution_count": 158,
   "metadata": {},
   "outputs": [
    {
     "data": {
      "text/plain": [
       "array(['close_40/Close_120', 'close_0/Close_40', 'close_0/Close_360',\n",
       "       'ABAND_indicator_160', 'Cost of Revenue_YC', 'Current Ratio',\n",
       "       'CMO_10', 'Total Noncurrent Liabilities/Total Liabilities',\n",
       "       'Current Ratio_QC', 'AROON_120', 'BOL_indicator_120',\n",
       "       'Return on Assets', 'close_120/Close_360',\n",
       "       'Total Assets/Share Capital & Additional Paid-In Capital_YC',\n",
       "       'EV/Sales_QC', 'close_0/Close_240', 'WillR_40',\n",
       "       'close_160/Close_240'], dtype=object)"
      ]
     },
     "execution_count": 158,
     "metadata": {},
     "output_type": "execute_result"
    }
   ],
   "source": [
    "cols_trials[6]"
   ]
  },
  {
   "cell_type": "code",
   "execution_count": 156,
   "metadata": {},
   "outputs": [
    {
     "data": {
      "text/plain": [
       "{0: 20.17442215404399,\n",
       " 1: 25.597423189601304,\n",
       " 2: 5.996437974958703,\n",
       " 3: 107.41661235585859,\n",
       " 4: 5.184349490936753,\n",
       " 5: 12.906342676650564,\n",
       " 6: 107.20175803893143,\n",
       " 7: -1.7074113361461989,\n",
       " 8: -3.8337881241527603,\n",
       " 9: 12.463727861305241,\n",
       " 10: 10.316916919412355,\n",
       " 11: 20.11665666896953,\n",
       " 12: 11.053606777892782,\n",
       " 13: 12.980887901720624,\n",
       " 14: 18.45565512344474,\n",
       " 15: 19.12419635128246,\n",
       " 16: 34.90264559768426,\n",
       " 17: 30.17461727640889,\n",
       " 18: 2.8433628502787553,\n",
       " 19: 8.58949754808927}"
      ]
     },
     "execution_count": 156,
     "metadata": {},
     "output_type": "execute_result"
    }
   ],
   "source": [
    "parsed"
   ]
  },
  {
   "cell_type": "code",
   "execution_count": 149,
   "metadata": {},
   "outputs": [
    {
     "data": {
      "text/plain": [
       "38"
      ]
     },
     "execution_count": 149,
     "metadata": {},
     "output_type": "execute_result"
    }
   ],
   "source": [
    "col_indx"
   ]
  },
  {
   "cell_type": "code",
   "execution_count": 150,
   "metadata": {},
   "outputs": [
    {
     "data": {
      "text/plain": [
       "14"
      ]
     },
     "execution_count": 150,
     "metadata": {},
     "output_type": "execute_result"
    }
   ],
   "source": [
    "num"
   ]
  },
  {
   "cell_type": "code",
   "execution_count": 151,
   "metadata": {},
   "outputs": [
    {
     "data": {
      "text/plain": [
       "599"
      ]
     },
     "execution_count": 151,
     "metadata": {},
     "output_type": "execute_result"
    }
   ],
   "source": [
    "col_indx + 14*40 + 1"
   ]
  },
  {
   "cell_type": "code",
   "execution_count": 143,
   "metadata": {},
   "outputs": [
    {
     "data": {
      "text/plain": [
       "38"
      ]
     },
     "execution_count": 143,
     "metadata": {},
     "output_type": "execute_result"
    }
   ],
   "source": [
    "col_indx"
   ]
  },
  {
   "cell_type": "code",
   "execution_count": null,
   "metadata": {},
   "outputs": [],
   "source": []
  }
 ],
 "metadata": {
  "kernelspec": {
   "display_name": "Python 3 (ipykernel)",
   "language": "python",
   "name": "python3"
  },
  "language_info": {
   "codemirror_mode": {
    "name": "ipython",
    "version": 3
   },
   "file_extension": ".py",
   "mimetype": "text/x-python",
   "name": "python",
   "nbconvert_exporter": "python",
   "pygments_lexer": "ipython3",
   "version": "3.8.12"
  }
 },
 "nbformat": 4,
 "nbformat_minor": 4
}
